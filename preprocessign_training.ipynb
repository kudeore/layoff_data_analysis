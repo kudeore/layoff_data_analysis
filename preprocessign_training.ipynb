{
 "cells": [
  {
   "cell_type": "code",
   "execution_count": 1,
   "id": "48665b30",
   "metadata": {
    "collapsed": true
   },
   "outputs": [],
   "source": [
    "# importing libraries for EDA and preprocessing\n",
    "\n",
    "import numpy as np\n",
    "import pandas as pd\n",
    "#from collections import Counter\n",
    "import matplotlib.pyplot as plt\n",
    "import seaborn as sns\n",
    "import plotly.express as px\n",
    "import os\n",
    "from sklearn.preprocessing import StandardScaler\n",
    "from sklearn.decomposition import PCA\n",
    "import transformers\n",
    "from transformers import BertTokenizer, BertForMaskedLM, AutoModelForMaskedLM\n",
    "import torch\n",
    "from sklearn.ensemble import RandomForestRegressor\n",
    "from sklearn.model_selection import cross_val_score\n",
    "from sklearn.preprocessing import StandardScaler \n",
    "from hyperopt import tpe, hp, fmin, STATUS_OK,Trials\n",
    "from hyperopt.pyll.base import scope\n",
    "from sklearn.model_selection import RepeatedKFold\n",
    "from sklearn.model_selection import cross_validate\n",
    "from sklearn.model_selection import KFold, RepeatedKFold\n",
    "from sklearn.metrics import mean_absolute_percentage_error\n",
    "from sklearn.model_selection import train_test_split\n",
    "from sklearn.ensemble import GradientBoostingRegressor, RandomForestRegressor\n",
    "from xgboost import XGBRegressor\n",
    "from sklearn.linear_model import LinearRegression\n",
    "from sklearn.metrics import mean_squared_error\n",
    "import seaborn as sn\n",
    "\n",
    "from encoder import CATENCODE, PIPELINE\n",
    "import fet_sel\n",
    "from hp_tune import hyperparameter_tuning\n",
    "\n",
    "import warnings\n",
    "warnings.filterwarnings(\"ignore\")\n",
    "%matplotlib inline"
   ]
  },
  {
   "cell_type": "code",
   "execution_count": 21,
   "id": "abfdad10",
   "metadata": {
    "collapsed": true
   },
   "outputs": [
    {
     "data": {
      "text/html": [
       "<div>\n",
       "<style scoped>\n",
       "    .dataframe tbody tr th:only-of-type {\n",
       "        vertical-align: middle;\n",
       "    }\n",
       "\n",
       "    .dataframe tbody tr th {\n",
       "        vertical-align: top;\n",
       "    }\n",
       "\n",
       "    .dataframe thead th {\n",
       "        text-align: right;\n",
       "    }\n",
       "</style>\n",
       "<table border=\"1\" class=\"dataframe\">\n",
       "  <thead>\n",
       "    <tr style=\"text-align: right;\">\n",
       "      <th></th>\n",
       "      <th>Company</th>\n",
       "      <th>Location</th>\n",
       "      <th>Industry</th>\n",
       "      <th>Date</th>\n",
       "      <th>Source</th>\n",
       "      <th>Funds_Raised</th>\n",
       "      <th>Stage</th>\n",
       "      <th>Date_Added</th>\n",
       "      <th>Country</th>\n",
       "      <th>Laid_Off_Count</th>\n",
       "      <th>Percentage</th>\n",
       "      <th>List_of_Employees_Laid_Off</th>\n",
       "    </tr>\n",
       "  </thead>\n",
       "  <tbody>\n",
       "    <tr>\n",
       "      <th>0</th>\n",
       "      <td>Xiaomi</td>\n",
       "      <td>Beijing</td>\n",
       "      <td>Consumer</td>\n",
       "      <td>2022-12-19</td>\n",
       "      <td>https://technode.com/2022/12/19/chinese-phone-...</td>\n",
       "      <td>7400.0</td>\n",
       "      <td>IPO</td>\n",
       "      <td>2022-12-19 16:46:32</td>\n",
       "      <td>United States</td>\n",
       "      <td>NaN</td>\n",
       "      <td>NaN</td>\n",
       "      <td>Unknown</td>\n",
       "    </tr>\n",
       "    <tr>\n",
       "      <th>1</th>\n",
       "      <td>TuSimple</td>\n",
       "      <td>San Diego</td>\n",
       "      <td>Transportation</td>\n",
       "      <td>2022-12-16</td>\n",
       "      <td>https://www.wsj.com/articles/tusimple-plans-la...</td>\n",
       "      <td>648.0</td>\n",
       "      <td>IPO</td>\n",
       "      <td>2022-12-18 04:12:29</td>\n",
       "      <td>United States</td>\n",
       "      <td>700.0</td>\n",
       "      <td>0.50</td>\n",
       "      <td>Unknown</td>\n",
       "    </tr>\n",
       "    <tr>\n",
       "      <th>2</th>\n",
       "      <td>Tomorrow</td>\n",
       "      <td>Hamburg</td>\n",
       "      <td>Finance</td>\n",
       "      <td>2022-12-16</td>\n",
       "      <td>https://www.businessinsider.de/gruenderszene/f...</td>\n",
       "      <td>29.0</td>\n",
       "      <td>Unknown</td>\n",
       "      <td>2022-12-18 04:15:07</td>\n",
       "      <td>Germany</td>\n",
       "      <td>30.0</td>\n",
       "      <td>0.25</td>\n",
       "      <td>Unknown</td>\n",
       "    </tr>\n",
       "    <tr>\n",
       "      <th>3</th>\n",
       "      <td>Revelate</td>\n",
       "      <td>Montreal</td>\n",
       "      <td>Data</td>\n",
       "      <td>2022-12-16</td>\n",
       "      <td>https://betakit.com/layoffs-persist-at-canadia...</td>\n",
       "      <td>26.0</td>\n",
       "      <td>Series A</td>\n",
       "      <td>2022-12-19 17:17:13</td>\n",
       "      <td>Canada</td>\n",
       "      <td>24.0</td>\n",
       "      <td>0.30</td>\n",
       "      <td>Unknown</td>\n",
       "    </tr>\n",
       "    <tr>\n",
       "      <th>4</th>\n",
       "      <td>E Inc.</td>\n",
       "      <td>Toronto</td>\n",
       "      <td>Transportation</td>\n",
       "      <td>2022-12-16</td>\n",
       "      <td>https://betakit.com/layoffs-persist-at-canadia...</td>\n",
       "      <td>NaN</td>\n",
       "      <td>IPO</td>\n",
       "      <td>2022-12-19 17:19:15</td>\n",
       "      <td>Canada</td>\n",
       "      <td>NaN</td>\n",
       "      <td>NaN</td>\n",
       "      <td>Unknown</td>\n",
       "    </tr>\n",
       "  </tbody>\n",
       "</table>\n",
       "</div>"
      ],
      "text/plain": [
       "    Company   Location        Industry        Date  \\\n",
       "0    Xiaomi    Beijing        Consumer  2022-12-19   \n",
       "1  TuSimple  San Diego  Transportation  2022-12-16   \n",
       "2  Tomorrow    Hamburg         Finance  2022-12-16   \n",
       "3  Revelate   Montreal            Data  2022-12-16   \n",
       "4    E Inc.    Toronto  Transportation  2022-12-16   \n",
       "\n",
       "                                              Source  Funds_Raised     Stage  \\\n",
       "0  https://technode.com/2022/12/19/chinese-phone-...        7400.0       IPO   \n",
       "1  https://www.wsj.com/articles/tusimple-plans-la...         648.0       IPO   \n",
       "2  https://www.businessinsider.de/gruenderszene/f...          29.0   Unknown   \n",
       "3  https://betakit.com/layoffs-persist-at-canadia...          26.0  Series A   \n",
       "4  https://betakit.com/layoffs-persist-at-canadia...           NaN       IPO   \n",
       "\n",
       "            Date_Added        Country  Laid_Off_Count  Percentage  \\\n",
       "0  2022-12-19 16:46:32  United States             NaN         NaN   \n",
       "1  2022-12-18 04:12:29  United States           700.0        0.50   \n",
       "2  2022-12-18 04:15:07        Germany            30.0        0.25   \n",
       "3  2022-12-19 17:17:13         Canada            24.0        0.30   \n",
       "4  2022-12-19 17:19:15         Canada             NaN         NaN   \n",
       "\n",
       "  List_of_Employees_Laid_Off  \n",
       "0                    Unknown  \n",
       "1                    Unknown  \n",
       "2                    Unknown  \n",
       "3                    Unknown  \n",
       "4                    Unknown  "
      ]
     },
     "execution_count": 21,
     "metadata": {},
     "output_type": "execute_result"
    }
   ],
   "source": [
    "df=pd.read_csv('./layoffs_data.csv')\n",
    "df.head()"
   ]
  },
  {
   "cell_type": "markdown",
   "id": "36417dfe",
   "metadata": {},
   "source": [
    "### check missing values "
   ]
  },
  {
   "cell_type": "code",
   "execution_count": 22,
   "id": "9df2edcb",
   "metadata": {
    "collapsed": true
   },
   "outputs": [
    {
     "data": {
      "text/plain": [
       "Company                        0.000000\n",
       "Location                       0.000000\n",
       "Industry                       0.000000\n",
       "Date                           0.054645\n",
       "Source                         0.000000\n",
       "Funds_Raised                   7.377049\n",
       "Stage                          0.000000\n",
       "Date_Added                     0.000000\n",
       "Country                        0.000000\n",
       "Laid_Off_Count                30.163934\n",
       "Percentage                    32.622951\n",
       "List_of_Employees_Laid_Off     0.000000\n",
       "dtype: float64"
      ]
     },
     "execution_count": 22,
     "metadata": {},
     "output_type": "execute_result"
    }
   ],
   "source": [
    "(df.isnull().sum()/len(df))*100"
   ]
  },
  {
   "cell_type": "code",
   "execution_count": 23,
   "id": "49e146fc",
   "metadata": {
    "collapsed": true
   },
   "outputs": [
    {
     "data": {
      "text/plain": [
       "Company                         0\n",
       "Location                        0\n",
       "Industry                        0\n",
       "Date                            1\n",
       "Source                          0\n",
       "Funds_Raised                  135\n",
       "Stage                           0\n",
       "Date_Added                      0\n",
       "Country                         0\n",
       "Laid_Off_Count                552\n",
       "Percentage                    597\n",
       "List_of_Employees_Laid_Off      0\n",
       "dtype: int64"
      ]
     },
     "execution_count": 23,
     "metadata": {},
     "output_type": "execute_result"
    }
   ],
   "source": [
    "(df.isnull().sum())"
   ]
  },
  {
   "cell_type": "code",
   "execution_count": 18,
   "id": "0388a04b",
   "metadata": {
    "collapsed": true
   },
   "outputs": [
    {
     "data": {
      "text/plain": [
       "130"
      ]
     },
     "execution_count": 18,
     "metadata": {},
     "output_type": "execute_result"
    }
   ],
   "source": [
    "(*135//10)"
   ]
  },
  {
   "cell_type": "markdown",
   "id": "34e86ba6",
   "metadata": {},
   "source": [
    "### check cardinality of categorical features "
   ]
  },
  {
   "cell_type": "code",
   "execution_count": 24,
   "id": "3860f301",
   "metadata": {
    "collapsed": true
   },
   "outputs": [
    {
     "name": "stdout",
     "output_type": "stream",
     "text": [
      "unique values of Company :- 1521\n",
      "unique values of Location :- 163\n",
      "unique values of Industry :- 28\n",
      "unique values of Date :- 417\n",
      "unique values of Source :- 1648\n",
      "unique values of Stage :- 15\n",
      "unique values of Date_Added :- 1791\n",
      "unique values of Country :- 55\n",
      "unique values of List_of_Employees_Laid_Off :- 91\n"
     ]
    }
   ],
   "source": [
    "cat_features = df.select_dtypes(exclude=[\"number\",\"bool_\"]).columns\n",
    "for i in cat_features:\n",
    "    print(f'unique values of {str(i)} :- {len(df[str(i)].unique())}')"
   ]
  },
  {
   "cell_type": "markdown",
   "id": "2f67b8a7",
   "metadata": {},
   "source": [
    "#### dropping few columns from analysis, intution is that it wont effect the analysis "
   ]
  },
  {
   "cell_type": "code",
   "execution_count": 25,
   "id": "d3bcbb3a",
   "metadata": {
    "collapsed": true
   },
   "outputs": [
    {
     "data": {
      "text/html": [
       "<div>\n",
       "<style scoped>\n",
       "    .dataframe tbody tr th:only-of-type {\n",
       "        vertical-align: middle;\n",
       "    }\n",
       "\n",
       "    .dataframe tbody tr th {\n",
       "        vertical-align: top;\n",
       "    }\n",
       "\n",
       "    .dataframe thead th {\n",
       "        text-align: right;\n",
       "    }\n",
       "</style>\n",
       "<table border=\"1\" class=\"dataframe\">\n",
       "  <thead>\n",
       "    <tr style=\"text-align: right;\">\n",
       "      <th></th>\n",
       "      <th>Location</th>\n",
       "      <th>Industry</th>\n",
       "      <th>Funds_Raised</th>\n",
       "      <th>Stage</th>\n",
       "      <th>Country</th>\n",
       "      <th>Laid_Off_Count</th>\n",
       "      <th>Percentage</th>\n",
       "    </tr>\n",
       "  </thead>\n",
       "  <tbody>\n",
       "    <tr>\n",
       "      <th>0</th>\n",
       "      <td>Beijing</td>\n",
       "      <td>Consumer</td>\n",
       "      <td>7400.0</td>\n",
       "      <td>IPO</td>\n",
       "      <td>United States</td>\n",
       "      <td>NaN</td>\n",
       "      <td>NaN</td>\n",
       "    </tr>\n",
       "    <tr>\n",
       "      <th>1</th>\n",
       "      <td>San Diego</td>\n",
       "      <td>Transportation</td>\n",
       "      <td>648.0</td>\n",
       "      <td>IPO</td>\n",
       "      <td>United States</td>\n",
       "      <td>700.0</td>\n",
       "      <td>0.50</td>\n",
       "    </tr>\n",
       "    <tr>\n",
       "      <th>2</th>\n",
       "      <td>Hamburg</td>\n",
       "      <td>Finance</td>\n",
       "      <td>29.0</td>\n",
       "      <td>Unknown</td>\n",
       "      <td>Germany</td>\n",
       "      <td>30.0</td>\n",
       "      <td>0.25</td>\n",
       "    </tr>\n",
       "    <tr>\n",
       "      <th>3</th>\n",
       "      <td>Montreal</td>\n",
       "      <td>Data</td>\n",
       "      <td>26.0</td>\n",
       "      <td>Series A</td>\n",
       "      <td>Canada</td>\n",
       "      <td>24.0</td>\n",
       "      <td>0.30</td>\n",
       "    </tr>\n",
       "    <tr>\n",
       "      <th>4</th>\n",
       "      <td>Toronto</td>\n",
       "      <td>Transportation</td>\n",
       "      <td>NaN</td>\n",
       "      <td>IPO</td>\n",
       "      <td>Canada</td>\n",
       "      <td>NaN</td>\n",
       "      <td>NaN</td>\n",
       "    </tr>\n",
       "  </tbody>\n",
       "</table>\n",
       "</div>"
      ],
      "text/plain": [
       "    Location        Industry  Funds_Raised     Stage        Country  \\\n",
       "0    Beijing        Consumer        7400.0       IPO  United States   \n",
       "1  San Diego  Transportation         648.0       IPO  United States   \n",
       "2    Hamburg         Finance          29.0   Unknown        Germany   \n",
       "3   Montreal            Data          26.0  Series A         Canada   \n",
       "4    Toronto  Transportation           NaN       IPO         Canada   \n",
       "\n",
       "   Laid_Off_Count  Percentage  \n",
       "0             NaN         NaN  \n",
       "1           700.0        0.50  \n",
       "2            30.0        0.25  \n",
       "3            24.0        0.30  \n",
       "4             NaN         NaN  "
      ]
     },
     "execution_count": 25,
     "metadata": {},
     "output_type": "execute_result"
    }
   ],
   "source": [
    "df.drop(columns=['Date', 'Company','Date_Added','List_of_Employees_Laid_Off','Source'], inplace=True)\n",
    "df.head()"
   ]
  },
  {
   "cell_type": "markdown",
   "id": "03d0ef04",
   "metadata": {},
   "source": [
    "### Check cardinality of selected data"
   ]
  },
  {
   "cell_type": "code",
   "execution_count": 26,
   "id": "9213bcb3",
   "metadata": {
    "collapsed": true
   },
   "outputs": [
    {
     "name": "stdout",
     "output_type": "stream",
     "text": [
      "unique values of Location :- 163\n",
      "unique values of Industry :- 28\n",
      "unique values of Stage :- 15\n",
      "unique values of Country :- 55\n"
     ]
    }
   ],
   "source": [
    "cat_features = df.select_dtypes(exclude=[\"number\",\"bool_\"]).columns\n",
    "for i in cat_features:\n",
    "    print(f'unique values of {str(i)} :- {len(df[str(i)].unique())}')"
   ]
  },
  {
   "cell_type": "markdown",
   "id": "71bd23d0",
   "metadata": {},
   "source": [
    "## data impuatation \n",
    "### &nbsp;- Imputing data by training on remaining data and predicting the missing values \n",
    "#### &nbsp; Ref : https://ieeexplore.ieee.org/document/8987895\n",
    "### &nbsp;- <span style='color:green'> Novel method :</span>\n",
    "### &emsp;- categorical variable encoding is done by using bert word embedding \n",
    "### &emsp;- final encoded vector is max_len * 768 , but first 2 PCA compoenets are used to as features "
   ]
  },
  {
   "cell_type": "code",
   "execution_count": 29,
   "id": "98c57275",
   "metadata": {
    "collapsed": true
   },
   "outputs": [
    {
     "name": "stdout",
     "output_type": "stream",
     "text": [
      "['Funds_Raised', 'Laid_Off_Count', 'Percentage']\n"
     ]
    }
   ],
   "source": [
    "# lets filter out columns of interest for imputation \n",
    "# columns having missing data \n",
    "coi = [i for i in df.columns if df[str(i)].isna().sum()>0]\n",
    "print(coi)"
   ]
  },
  {
   "cell_type": "code",
   "execution_count": 31,
   "id": "86929ff8",
   "metadata": {
    "collapsed": true
   },
   "outputs": [
    {
     "name": "stdout",
     "output_type": "stream",
     "text": [
      "Funds_Raised\n",
      " features of new data are Index(['Location', 'Industry', 'Stage', 'Country', 'Funds_Raised'], dtype='object')\n"
     ]
    },
    {
     "name": "stderr",
     "output_type": "stream",
     "text": [
      "Some weights of the model checkpoint at ./bert_base_uncased/ were not used when initializing BertModel: ['cls.seq_relationship.weight', 'cls.predictions.transform.LayerNorm.weight', 'cls.predictions.transform.dense.bias', 'cls.seq_relationship.bias', 'cls.predictions.bias', 'cls.predictions.transform.LayerNorm.bias', 'cls.predictions.transform.dense.weight', 'cls.predictions.decoder.weight']\n",
      "- This IS expected if you are initializing BertModel from the checkpoint of a model trained on another task or with another architecture (e.g. initializing a BertForSequenceClassification model from a BertForPreTraining model).\n",
      "- This IS NOT expected if you are initializing BertModel from the checkpoint of a model that you expect to be exactly identical (initializing a BertForSequenceClassification model from a BertForSequenceClassification model).\n",
      "Some weights of the model checkpoint at ./bert_base_uncased/ were not used when initializing BertModel: ['cls.seq_relationship.weight', 'cls.predictions.transform.LayerNorm.weight', 'cls.predictions.transform.dense.bias', 'cls.seq_relationship.bias', 'cls.predictions.bias', 'cls.predictions.transform.LayerNorm.bias', 'cls.predictions.transform.dense.weight', 'cls.predictions.decoder.weight']\n",
      "- This IS expected if you are initializing BertModel from the checkpoint of a model trained on another task or with another architecture (e.g. initializing a BertForSequenceClassification model from a BertForPreTraining model).\n",
      "- This IS NOT expected if you are initializing BertModel from the checkpoint of a model that you expect to be exactly identical (initializing a BertForSequenceClassification model from a BertForSequenceClassification model).\n",
      "Some weights of the model checkpoint at ./bert_base_uncased/ were not used when initializing BertModel: ['cls.seq_relationship.weight', 'cls.predictions.transform.LayerNorm.weight', 'cls.predictions.transform.dense.bias', 'cls.seq_relationship.bias', 'cls.predictions.bias', 'cls.predictions.transform.LayerNorm.bias', 'cls.predictions.transform.dense.weight', 'cls.predictions.decoder.weight']\n",
      "- This IS expected if you are initializing BertModel from the checkpoint of a model trained on another task or with another architecture (e.g. initializing a BertForSequenceClassification model from a BertForPreTraining model).\n",
      "- This IS NOT expected if you are initializing BertModel from the checkpoint of a model that you expect to be exactly identical (initializing a BertForSequenceClassification model from a BertForSequenceClassification model).\n",
      "Some weights of the model checkpoint at ./bert_base_uncased/ were not used when initializing BertModel: ['cls.seq_relationship.weight', 'cls.predictions.transform.LayerNorm.weight', 'cls.predictions.transform.dense.bias', 'cls.seq_relationship.bias', 'cls.predictions.bias', 'cls.predictions.transform.LayerNorm.bias', 'cls.predictions.transform.dense.weight', 'cls.predictions.decoder.weight']\n",
      "- This IS expected if you are initializing BertModel from the checkpoint of a model trained on another task or with another architecture (e.g. initializing a BertForSequenceClassification model from a BertForPreTraining model).\n",
      "- This IS NOT expected if you are initializing BertModel from the checkpoint of a model that you expect to be exactly identical (initializing a BertForSequenceClassification model from a BertForSequenceClassification model).\n",
      "Some weights of the model checkpoint at ./bert_base_uncased/ were not used when initializing BertModel: ['cls.seq_relationship.weight', 'cls.predictions.transform.LayerNorm.weight', 'cls.predictions.transform.dense.bias', 'cls.seq_relationship.bias', 'cls.predictions.bias', 'cls.predictions.transform.LayerNorm.bias', 'cls.predictions.transform.dense.weight', 'cls.predictions.decoder.weight']\n",
      "- This IS expected if you are initializing BertModel from the checkpoint of a model trained on another task or with another architecture (e.g. initializing a BertForSequenceClassification model from a BertForPreTraining model).\n",
      "- This IS NOT expected if you are initializing BertModel from the checkpoint of a model that you expect to be exactly identical (initializing a BertForSequenceClassification model from a BertForSequenceClassification model).\n",
      "Some weights of the model checkpoint at ./bert_base_uncased/ were not used when initializing BertModel: ['cls.seq_relationship.weight', 'cls.predictions.transform.LayerNorm.weight', 'cls.predictions.transform.dense.bias', 'cls.seq_relationship.bias', 'cls.predictions.bias', 'cls.predictions.transform.LayerNorm.bias', 'cls.predictions.transform.dense.weight', 'cls.predictions.decoder.weight']\n",
      "- This IS expected if you are initializing BertModel from the checkpoint of a model trained on another task or with another architecture (e.g. initializing a BertForSequenceClassification model from a BertForPreTraining model).\n",
      "- This IS NOT expected if you are initializing BertModel from the checkpoint of a model that you expect to be exactly identical (initializing a BertForSequenceClassification model from a BertForSequenceClassification model).\n",
      "Some weights of the model checkpoint at ./bert_base_uncased/ were not used when initializing BertModel: ['cls.seq_relationship.weight', 'cls.predictions.transform.LayerNorm.weight', 'cls.predictions.transform.dense.bias', 'cls.seq_relationship.bias', 'cls.predictions.bias', 'cls.predictions.transform.LayerNorm.bias', 'cls.predictions.transform.dense.weight', 'cls.predictions.decoder.weight']\n",
      "- This IS expected if you are initializing BertModel from the checkpoint of a model trained on another task or with another architecture (e.g. initializing a BertForSequenceClassification model from a BertForPreTraining model).\n",
      "- This IS NOT expected if you are initializing BertModel from the checkpoint of a model that you expect to be exactly identical (initializing a BertForSequenceClassification model from a BertForSequenceClassification model).\n",
      "Some weights of the model checkpoint at ./bert_base_uncased/ were not used when initializing BertModel: ['cls.seq_relationship.weight', 'cls.predictions.transform.LayerNorm.weight', 'cls.predictions.transform.dense.bias', 'cls.seq_relationship.bias', 'cls.predictions.bias', 'cls.predictions.transform.LayerNorm.bias', 'cls.predictions.transform.dense.weight', 'cls.predictions.decoder.weight']\n",
      "- This IS expected if you are initializing BertModel from the checkpoint of a model trained on another task or with another architecture (e.g. initializing a BertForSequenceClassification model from a BertForPreTraining model).\n",
      "- This IS NOT expected if you are initializing BertModel from the checkpoint of a model that you expect to be exactly identical (initializing a BertForSequenceClassification model from a BertForSequenceClassification model).\n"
     ]
    },
    {
     "name": "stdout",
     "output_type": "stream",
     "text": [
      "0\n",
      "5       Stage_2\n",
      "0    Location_1\n",
      "1    Location_2\n",
      "2    Industry_1\n",
      "Name: Features, dtype: object\n",
      " features used for training Index(['Stage_2', 'Location_1', 'Location_2', 'Industry_1'], dtype='object'), test Index(['Stage_2', 'Location_1', 'Location_2', 'Industry_1'], dtype='object')\n",
      "Laid_Off_Count\n",
      " features of new data are Index(['Location', 'Industry', 'Stage', 'Country', 'Funds_Raised',\n",
      "       'Laid_Off_Count'],\n",
      "      dtype='object')\n"
     ]
    },
    {
     "name": "stderr",
     "output_type": "stream",
     "text": [
      "Some weights of the model checkpoint at ./bert_base_uncased/ were not used when initializing BertModel: ['cls.seq_relationship.weight', 'cls.predictions.transform.LayerNorm.weight', 'cls.predictions.transform.dense.bias', 'cls.seq_relationship.bias', 'cls.predictions.bias', 'cls.predictions.transform.LayerNorm.bias', 'cls.predictions.transform.dense.weight', 'cls.predictions.decoder.weight']\n",
      "- This IS expected if you are initializing BertModel from the checkpoint of a model trained on another task or with another architecture (e.g. initializing a BertForSequenceClassification model from a BertForPreTraining model).\n",
      "- This IS NOT expected if you are initializing BertModel from the checkpoint of a model that you expect to be exactly identical (initializing a BertForSequenceClassification model from a BertForSequenceClassification model).\n",
      "Some weights of the model checkpoint at ./bert_base_uncased/ were not used when initializing BertModel: ['cls.seq_relationship.weight', 'cls.predictions.transform.LayerNorm.weight', 'cls.predictions.transform.dense.bias', 'cls.seq_relationship.bias', 'cls.predictions.bias', 'cls.predictions.transform.LayerNorm.bias', 'cls.predictions.transform.dense.weight', 'cls.predictions.decoder.weight']\n",
      "- This IS expected if you are initializing BertModel from the checkpoint of a model trained on another task or with another architecture (e.g. initializing a BertForSequenceClassification model from a BertForPreTraining model).\n",
      "- This IS NOT expected if you are initializing BertModel from the checkpoint of a model that you expect to be exactly identical (initializing a BertForSequenceClassification model from a BertForSequenceClassification model).\n",
      "Some weights of the model checkpoint at ./bert_base_uncased/ were not used when initializing BertModel: ['cls.seq_relationship.weight', 'cls.predictions.transform.LayerNorm.weight', 'cls.predictions.transform.dense.bias', 'cls.seq_relationship.bias', 'cls.predictions.bias', 'cls.predictions.transform.LayerNorm.bias', 'cls.predictions.transform.dense.weight', 'cls.predictions.decoder.weight']\n",
      "- This IS expected if you are initializing BertModel from the checkpoint of a model trained on another task or with another architecture (e.g. initializing a BertForSequenceClassification model from a BertForPreTraining model).\n",
      "- This IS NOT expected if you are initializing BertModel from the checkpoint of a model that you expect to be exactly identical (initializing a BertForSequenceClassification model from a BertForSequenceClassification model).\n",
      "Some weights of the model checkpoint at ./bert_base_uncased/ were not used when initializing BertModel: ['cls.seq_relationship.weight', 'cls.predictions.transform.LayerNorm.weight', 'cls.predictions.transform.dense.bias', 'cls.seq_relationship.bias', 'cls.predictions.bias', 'cls.predictions.transform.LayerNorm.bias', 'cls.predictions.transform.dense.weight', 'cls.predictions.decoder.weight']\n",
      "- This IS expected if you are initializing BertModel from the checkpoint of a model trained on another task or with another architecture (e.g. initializing a BertForSequenceClassification model from a BertForPreTraining model).\n",
      "- This IS NOT expected if you are initializing BertModel from the checkpoint of a model that you expect to be exactly identical (initializing a BertForSequenceClassification model from a BertForSequenceClassification model).\n",
      "Some weights of the model checkpoint at ./bert_base_uncased/ were not used when initializing BertModel: ['cls.seq_relationship.weight', 'cls.predictions.transform.LayerNorm.weight', 'cls.predictions.transform.dense.bias', 'cls.seq_relationship.bias', 'cls.predictions.bias', 'cls.predictions.transform.LayerNorm.bias', 'cls.predictions.transform.dense.weight', 'cls.predictions.decoder.weight']\n",
      "- This IS expected if you are initializing BertModel from the checkpoint of a model trained on another task or with another architecture (e.g. initializing a BertForSequenceClassification model from a BertForPreTraining model).\n",
      "- This IS NOT expected if you are initializing BertModel from the checkpoint of a model that you expect to be exactly identical (initializing a BertForSequenceClassification model from a BertForSequenceClassification model).\n",
      "Some weights of the model checkpoint at ./bert_base_uncased/ were not used when initializing BertModel: ['cls.seq_relationship.weight', 'cls.predictions.transform.LayerNorm.weight', 'cls.predictions.transform.dense.bias', 'cls.seq_relationship.bias', 'cls.predictions.bias', 'cls.predictions.transform.LayerNorm.bias', 'cls.predictions.transform.dense.weight', 'cls.predictions.decoder.weight']\n",
      "- This IS expected if you are initializing BertModel from the checkpoint of a model trained on another task or with another architecture (e.g. initializing a BertForSequenceClassification model from a BertForPreTraining model).\n",
      "- This IS NOT expected if you are initializing BertModel from the checkpoint of a model that you expect to be exactly identical (initializing a BertForSequenceClassification model from a BertForSequenceClassification model).\n",
      "Some weights of the model checkpoint at ./bert_base_uncased/ were not used when initializing BertModel: ['cls.seq_relationship.weight', 'cls.predictions.transform.LayerNorm.weight', 'cls.predictions.transform.dense.bias', 'cls.seq_relationship.bias', 'cls.predictions.bias', 'cls.predictions.transform.LayerNorm.bias', 'cls.predictions.transform.dense.weight', 'cls.predictions.decoder.weight']\n",
      "- This IS expected if you are initializing BertModel from the checkpoint of a model trained on another task or with another architecture (e.g. initializing a BertForSequenceClassification model from a BertForPreTraining model).\n",
      "- This IS NOT expected if you are initializing BertModel from the checkpoint of a model that you expect to be exactly identical (initializing a BertForSequenceClassification model from a BertForSequenceClassification model).\n",
      "Some weights of the model checkpoint at ./bert_base_uncased/ were not used when initializing BertModel: ['cls.seq_relationship.weight', 'cls.predictions.transform.LayerNorm.weight', 'cls.predictions.transform.dense.bias', 'cls.seq_relationship.bias', 'cls.predictions.bias', 'cls.predictions.transform.LayerNorm.bias', 'cls.predictions.transform.dense.weight', 'cls.predictions.decoder.weight']\n",
      "- This IS expected if you are initializing BertModel from the checkpoint of a model trained on another task or with another architecture (e.g. initializing a BertForSequenceClassification model from a BertForPreTraining model).\n",
      "- This IS NOT expected if you are initializing BertModel from the checkpoint of a model that you expect to be exactly identical (initializing a BertForSequenceClassification model from a BertForSequenceClassification model).\n"
     ]
    },
    {
     "name": "stdout",
     "output_type": "stream",
     "text": [
      "0\n",
      "7       Country_1\n",
      "2      Location_2\n",
      "4      Industry_2\n",
      "6         Stage_2\n",
      "5         Stage_1\n",
      "1      Location_1\n",
      "3      Industry_1\n",
      "0    Funds_Raised\n",
      "Name: Features, dtype: object\n",
      " features used for training Index(['Country_1', 'Location_2', 'Industry_2', 'Stage_2', 'Stage_1',\n",
      "       'Location_1', 'Industry_1', 'Funds_Raised'],\n",
      "      dtype='object'), test Index(['Country_1', 'Location_2', 'Industry_2', 'Stage_2', 'Stage_1',\n",
      "       'Location_1', 'Industry_1', 'Funds_Raised'],\n",
      "      dtype='object')\n",
      "Percentage\n",
      " features of new data are Index(['Location', 'Industry', 'Stage', 'Country', 'Funds_Raised',\n",
      "       'Laid_Off_Count', 'Percentage'],\n",
      "      dtype='object')\n"
     ]
    },
    {
     "name": "stderr",
     "output_type": "stream",
     "text": [
      "Some weights of the model checkpoint at ./bert_base_uncased/ were not used when initializing BertModel: ['cls.seq_relationship.weight', 'cls.predictions.transform.LayerNorm.weight', 'cls.predictions.transform.dense.bias', 'cls.seq_relationship.bias', 'cls.predictions.bias', 'cls.predictions.transform.LayerNorm.bias', 'cls.predictions.transform.dense.weight', 'cls.predictions.decoder.weight']\n",
      "- This IS expected if you are initializing BertModel from the checkpoint of a model trained on another task or with another architecture (e.g. initializing a BertForSequenceClassification model from a BertForPreTraining model).\n",
      "- This IS NOT expected if you are initializing BertModel from the checkpoint of a model that you expect to be exactly identical (initializing a BertForSequenceClassification model from a BertForSequenceClassification model).\n",
      "Some weights of the model checkpoint at ./bert_base_uncased/ were not used when initializing BertModel: ['cls.seq_relationship.weight', 'cls.predictions.transform.LayerNorm.weight', 'cls.predictions.transform.dense.bias', 'cls.seq_relationship.bias', 'cls.predictions.bias', 'cls.predictions.transform.LayerNorm.bias', 'cls.predictions.transform.dense.weight', 'cls.predictions.decoder.weight']\n",
      "- This IS expected if you are initializing BertModel from the checkpoint of a model trained on another task or with another architecture (e.g. initializing a BertForSequenceClassification model from a BertForPreTraining model).\n",
      "- This IS NOT expected if you are initializing BertModel from the checkpoint of a model that you expect to be exactly identical (initializing a BertForSequenceClassification model from a BertForSequenceClassification model).\n",
      "Some weights of the model checkpoint at ./bert_base_uncased/ were not used when initializing BertModel: ['cls.seq_relationship.weight', 'cls.predictions.transform.LayerNorm.weight', 'cls.predictions.transform.dense.bias', 'cls.seq_relationship.bias', 'cls.predictions.bias', 'cls.predictions.transform.LayerNorm.bias', 'cls.predictions.transform.dense.weight', 'cls.predictions.decoder.weight']\n",
      "- This IS expected if you are initializing BertModel from the checkpoint of a model trained on another task or with another architecture (e.g. initializing a BertForSequenceClassification model from a BertForPreTraining model).\n",
      "- This IS NOT expected if you are initializing BertModel from the checkpoint of a model that you expect to be exactly identical (initializing a BertForSequenceClassification model from a BertForSequenceClassification model).\n",
      "Some weights of the model checkpoint at ./bert_base_uncased/ were not used when initializing BertModel: ['cls.seq_relationship.weight', 'cls.predictions.transform.LayerNorm.weight', 'cls.predictions.transform.dense.bias', 'cls.seq_relationship.bias', 'cls.predictions.bias', 'cls.predictions.transform.LayerNorm.bias', 'cls.predictions.transform.dense.weight', 'cls.predictions.decoder.weight']\n",
      "- This IS expected if you are initializing BertModel from the checkpoint of a model trained on another task or with another architecture (e.g. initializing a BertForSequenceClassification model from a BertForPreTraining model).\n",
      "- This IS NOT expected if you are initializing BertModel from the checkpoint of a model that you expect to be exactly identical (initializing a BertForSequenceClassification model from a BertForSequenceClassification model).\n",
      "Some weights of the model checkpoint at ./bert_base_uncased/ were not used when initializing BertModel: ['cls.seq_relationship.weight', 'cls.predictions.transform.LayerNorm.weight', 'cls.predictions.transform.dense.bias', 'cls.seq_relationship.bias', 'cls.predictions.bias', 'cls.predictions.transform.LayerNorm.bias', 'cls.predictions.transform.dense.weight', 'cls.predictions.decoder.weight']\n",
      "- This IS expected if you are initializing BertModel from the checkpoint of a model trained on another task or with another architecture (e.g. initializing a BertForSequenceClassification model from a BertForPreTraining model).\n",
      "- This IS NOT expected if you are initializing BertModel from the checkpoint of a model that you expect to be exactly identical (initializing a BertForSequenceClassification model from a BertForSequenceClassification model).\n",
      "Some weights of the model checkpoint at ./bert_base_uncased/ were not used when initializing BertModel: ['cls.seq_relationship.weight', 'cls.predictions.transform.LayerNorm.weight', 'cls.predictions.transform.dense.bias', 'cls.seq_relationship.bias', 'cls.predictions.bias', 'cls.predictions.transform.LayerNorm.bias', 'cls.predictions.transform.dense.weight', 'cls.predictions.decoder.weight']\n",
      "- This IS expected if you are initializing BertModel from the checkpoint of a model trained on another task or with another architecture (e.g. initializing a BertForSequenceClassification model from a BertForPreTraining model).\n",
      "- This IS NOT expected if you are initializing BertModel from the checkpoint of a model that you expect to be exactly identical (initializing a BertForSequenceClassification model from a BertForSequenceClassification model).\n",
      "Some weights of the model checkpoint at ./bert_base_uncased/ were not used when initializing BertModel: ['cls.seq_relationship.weight', 'cls.predictions.transform.LayerNorm.weight', 'cls.predictions.transform.dense.bias', 'cls.seq_relationship.bias', 'cls.predictions.bias', 'cls.predictions.transform.LayerNorm.bias', 'cls.predictions.transform.dense.weight', 'cls.predictions.decoder.weight']\n",
      "- This IS expected if you are initializing BertModel from the checkpoint of a model trained on another task or with another architecture (e.g. initializing a BertForSequenceClassification model from a BertForPreTraining model).\n",
      "- This IS NOT expected if you are initializing BertModel from the checkpoint of a model that you expect to be exactly identical (initializing a BertForSequenceClassification model from a BertForSequenceClassification model).\n",
      "Some weights of the model checkpoint at ./bert_base_uncased/ were not used when initializing BertModel: ['cls.seq_relationship.weight', 'cls.predictions.transform.LayerNorm.weight', 'cls.predictions.transform.dense.bias', 'cls.seq_relationship.bias', 'cls.predictions.bias', 'cls.predictions.transform.LayerNorm.bias', 'cls.predictions.transform.dense.weight', 'cls.predictions.decoder.weight']\n",
      "- This IS expected if you are initializing BertModel from the checkpoint of a model trained on another task or with another architecture (e.g. initializing a BertForSequenceClassification model from a BertForPreTraining model).\n",
      "- This IS NOT expected if you are initializing BertModel from the checkpoint of a model that you expect to be exactly identical (initializing a BertForSequenceClassification model from a BertForSequenceClassification model).\n"
     ]
    },
    {
     "name": "stdout",
     "output_type": "stream",
     "text": [
      "0\n",
      "7           Stage_2\n",
      "6           Stage_1\n",
      "3        Location_2\n",
      "2        Location_1\n",
      "5        Industry_2\n",
      "4        Industry_1\n",
      "1    Laid_Off_Count\n",
      "0      Funds_Raised\n",
      "Name: Features, dtype: object\n",
      " features used for training Index(['Stage_2', 'Stage_1', 'Location_2', 'Location_1', 'Industry_2',\n",
      "       'Industry_1', 'Laid_Off_Count', 'Funds_Raised'],\n",
      "      dtype='object'), test Index(['Stage_2', 'Stage_1', 'Location_2', 'Location_1', 'Industry_2',\n",
      "       'Industry_1', 'Laid_Off_Count', 'Funds_Raised'],\n",
      "      dtype='object')\n"
     ]
    }
   ],
   "source": [
    "# drop the columns with missing data \n",
    "#train a model on remaining data with dependent parameter predict will be the column with missing data\n",
    "data= df.drop(columns=coi)\n",
    "for col in coi:\n",
    "    print(col)\n",
    "    data[str(col)] = df[str(col)]\n",
    "    print(f' features of new data are {data.columns}')\n",
    "    data_train = data[~data[str(col)].isna()]\n",
    "    data_train.reset_index(drop=True,inplace=True)\n",
    "    data_test = data[data[str(col)].isna()]\n",
    "    data_test.reset_index(drop=True,inplace=True)\n",
    "    X_train = data_train.drop(columns=[str(col)])\n",
    "    Y_train = data_train[str(col)]\n",
    "    X_test = data_test.drop(columns=[str(col)])\n",
    "    Y_test = data_test[str(col)]\n",
    "    X_train, X_test = PIPELINE(1).cat_encode_pipeline(X_train, X_test)\n",
    "    print(Y_train.isna().sum())\n",
    "    features = fet_sel.feature_sel(X_train,Y_train,0.05)\n",
    "    print(features)\n",
    "    X_train = X_train[features]\n",
    "    X_test = X_test[features]\n",
    "    print(f' features used for training {X_train.columns}, test {X_test.columns}')\n",
    "    # lets train Random forest to predict missing values \n",
    "    rm = RandomForestRegressor(n_estimators=500)\n",
    "    rm.fit(X_train,Y_train)\n",
    "    Y_pred = rm.predict(X_test)\n",
    "    data_test[str(col)] = Y_pred\n",
    "    data =pd.concat([data_train, data_test], axis=0)\n",
    "    "
   ]
  },
  {
   "cell_type": "code",
   "execution_count": 20,
   "id": "bdcbd6ed",
   "metadata": {
    "collapsed": true
   },
   "outputs": [],
   "source": [
    "data.to_csv('imputed.csv', index=False)"
   ]
  },
  {
   "cell_type": "markdown",
   "id": "1912994c",
   "metadata": {},
   "source": [
    "## Training the model"
   ]
  },
  {
   "cell_type": "code",
   "execution_count": 32,
   "id": "c6f56db2",
   "metadata": {
    "collapsed": true
   },
   "outputs": [
    {
     "data": {
      "text/plain": [
       "Location          0.0\n",
       "Industry          0.0\n",
       "Stage             0.0\n",
       "Country           0.0\n",
       "Funds_Raised      0.0\n",
       "Laid_Off_Count    0.0\n",
       "Percentage        0.0\n",
       "dtype: float64"
      ]
     },
     "execution_count": 32,
     "metadata": {},
     "output_type": "execute_result"
    }
   ],
   "source": [
    "# data = pd.read_csv('imputed_data.csv')\n",
    "# data.drop(columns=['Unnamed: 0'],inplace=True)\n",
    "(data.isnull().sum()/len(df))*100"
   ]
  },
  {
   "cell_type": "code",
   "execution_count": 44,
   "id": "bfb763d6",
   "metadata": {
    "collapsed": true
   },
   "outputs": [
    {
     "name": "stderr",
     "output_type": "stream",
     "text": [
      "Some weights of the model checkpoint at ./bert_base_uncased/ were not used when initializing BertModel: ['cls.seq_relationship.weight', 'cls.predictions.transform.LayerNorm.weight', 'cls.predictions.transform.dense.bias', 'cls.seq_relationship.bias', 'cls.predictions.bias', 'cls.predictions.transform.LayerNorm.bias', 'cls.predictions.transform.dense.weight', 'cls.predictions.decoder.weight']\n",
      "- This IS expected if you are initializing BertModel from the checkpoint of a model trained on another task or with another architecture (e.g. initializing a BertForSequenceClassification model from a BertForPreTraining model).\n",
      "- This IS NOT expected if you are initializing BertModel from the checkpoint of a model that you expect to be exactly identical (initializing a BertForSequenceClassification model from a BertForSequenceClassification model).\n",
      "Some weights of the model checkpoint at ./bert_base_uncased/ were not used when initializing BertModel: ['cls.seq_relationship.weight', 'cls.predictions.transform.LayerNorm.weight', 'cls.predictions.transform.dense.bias', 'cls.seq_relationship.bias', 'cls.predictions.bias', 'cls.predictions.transform.LayerNorm.bias', 'cls.predictions.transform.dense.weight', 'cls.predictions.decoder.weight']\n",
      "- This IS expected if you are initializing BertModel from the checkpoint of a model trained on another task or with another architecture (e.g. initializing a BertForSequenceClassification model from a BertForPreTraining model).\n",
      "- This IS NOT expected if you are initializing BertModel from the checkpoint of a model that you expect to be exactly identical (initializing a BertForSequenceClassification model from a BertForSequenceClassification model).\n",
      "Some weights of the model checkpoint at ./bert_base_uncased/ were not used when initializing BertModel: ['cls.seq_relationship.weight', 'cls.predictions.transform.LayerNorm.weight', 'cls.predictions.transform.dense.bias', 'cls.seq_relationship.bias', 'cls.predictions.bias', 'cls.predictions.transform.LayerNorm.bias', 'cls.predictions.transform.dense.weight', 'cls.predictions.decoder.weight']\n",
      "- This IS expected if you are initializing BertModel from the checkpoint of a model trained on another task or with another architecture (e.g. initializing a BertForSequenceClassification model from a BertForPreTraining model).\n",
      "- This IS NOT expected if you are initializing BertModel from the checkpoint of a model that you expect to be exactly identical (initializing a BertForSequenceClassification model from a BertForSequenceClassification model).\n",
      "Some weights of the model checkpoint at ./bert_base_uncased/ were not used when initializing BertModel: ['cls.seq_relationship.weight', 'cls.predictions.transform.LayerNorm.weight', 'cls.predictions.transform.dense.bias', 'cls.seq_relationship.bias', 'cls.predictions.bias', 'cls.predictions.transform.LayerNorm.bias', 'cls.predictions.transform.dense.weight', 'cls.predictions.decoder.weight']\n",
      "- This IS expected if you are initializing BertModel from the checkpoint of a model trained on another task or with another architecture (e.g. initializing a BertForSequenceClassification model from a BertForPreTraining model).\n",
      "- This IS NOT expected if you are initializing BertModel from the checkpoint of a model that you expect to be exactly identical (initializing a BertForSequenceClassification model from a BertForSequenceClassification model).\n",
      "Some weights of the model checkpoint at ./bert_base_uncased/ were not used when initializing BertModel: ['cls.seq_relationship.weight', 'cls.predictions.transform.LayerNorm.weight', 'cls.predictions.transform.dense.bias', 'cls.seq_relationship.bias', 'cls.predictions.bias', 'cls.predictions.transform.LayerNorm.bias', 'cls.predictions.transform.dense.weight', 'cls.predictions.decoder.weight']\n",
      "- This IS expected if you are initializing BertModel from the checkpoint of a model trained on another task or with another architecture (e.g. initializing a BertForSequenceClassification model from a BertForPreTraining model).\n",
      "- This IS NOT expected if you are initializing BertModel from the checkpoint of a model that you expect to be exactly identical (initializing a BertForSequenceClassification model from a BertForSequenceClassification model).\n",
      "Some weights of the model checkpoint at ./bert_base_uncased/ were not used when initializing BertModel: ['cls.seq_relationship.weight', 'cls.predictions.transform.LayerNorm.weight', 'cls.predictions.transform.dense.bias', 'cls.seq_relationship.bias', 'cls.predictions.bias', 'cls.predictions.transform.LayerNorm.bias', 'cls.predictions.transform.dense.weight', 'cls.predictions.decoder.weight']\n",
      "- This IS expected if you are initializing BertModel from the checkpoint of a model trained on another task or with another architecture (e.g. initializing a BertForSequenceClassification model from a BertForPreTraining model).\n",
      "- This IS NOT expected if you are initializing BertModel from the checkpoint of a model that you expect to be exactly identical (initializing a BertForSequenceClassification model from a BertForSequenceClassification model).\n",
      "Some weights of the model checkpoint at ./bert_base_uncased/ were not used when initializing BertModel: ['cls.seq_relationship.weight', 'cls.predictions.transform.LayerNorm.weight', 'cls.predictions.transform.dense.bias', 'cls.seq_relationship.bias', 'cls.predictions.bias', 'cls.predictions.transform.LayerNorm.bias', 'cls.predictions.transform.dense.weight', 'cls.predictions.decoder.weight']\n",
      "- This IS expected if you are initializing BertModel from the checkpoint of a model trained on another task or with another architecture (e.g. initializing a BertForSequenceClassification model from a BertForPreTraining model).\n",
      "- This IS NOT expected if you are initializing BertModel from the checkpoint of a model that you expect to be exactly identical (initializing a BertForSequenceClassification model from a BertForSequenceClassification model).\n",
      "Some weights of the model checkpoint at ./bert_base_uncased/ were not used when initializing BertModel: ['cls.seq_relationship.weight', 'cls.predictions.transform.LayerNorm.weight', 'cls.predictions.transform.dense.bias', 'cls.seq_relationship.bias', 'cls.predictions.bias', 'cls.predictions.transform.LayerNorm.bias', 'cls.predictions.transform.dense.weight', 'cls.predictions.decoder.weight']\n",
      "- This IS expected if you are initializing BertModel from the checkpoint of a model trained on another task or with another architecture (e.g. initializing a BertForSequenceClassification model from a BertForPreTraining model).\n",
      "- This IS NOT expected if you are initializing BertModel from the checkpoint of a model that you expect to be exactly identical (initializing a BertForSequenceClassification model from a BertForSequenceClassification model).\n"
     ]
    },
    {
     "data": {
      "application/vnd.plotly.v1+json": {
       "config": {
        "plotlyServerURL": "https://plot.ly"
       },
       "data": [
        {
         "alignmentgroup": "True",
         "hovertemplate": "x=%{x}<br>y=%{y}<extra></extra>",
         "legendgroup": "",
         "marker": {
          "color": "#636efa",
          "pattern": {
           "shape": ""
          }
         },
         "name": "",
         "offsetgroup": "",
         "orientation": "v",
         "showlegend": false,
         "textposition": "auto",
         "type": "bar",
         "x": [
          "Country_1",
          "Country_2",
          "Stage_2",
          "Stage_1",
          "Location_2",
          "Location_1",
          "Industry_2",
          "Industry_1",
          "Laid_Off_Count",
          "Funds_Raised"
         ],
         "xaxis": "x",
         "y": [
          0.02946768609676138,
          0.04482283250940061,
          0.06198399843057808,
          0.06463796359081384,
          0.07837641721667189,
          0.08677954497780359,
          0.09257723143300596,
          0.09844410925026587,
          0.2143519580964974,
          0.22855825839820149
         ],
         "yaxis": "y"
        }
       ],
       "layout": {
        "barmode": "relative",
        "legend": {
         "tracegroupgap": 0
        },
        "margin": {
         "t": 60
        },
        "template": {
         "data": {
          "bar": [
           {
            "error_x": {
             "color": "#2a3f5f"
            },
            "error_y": {
             "color": "#2a3f5f"
            },
            "marker": {
             "line": {
              "color": "#E5ECF6",
              "width": 0.5
             },
             "pattern": {
              "fillmode": "overlay",
              "size": 10,
              "solidity": 0.2
             }
            },
            "type": "bar"
           }
          ],
          "barpolar": [
           {
            "marker": {
             "line": {
              "color": "#E5ECF6",
              "width": 0.5
             },
             "pattern": {
              "fillmode": "overlay",
              "size": 10,
              "solidity": 0.2
             }
            },
            "type": "barpolar"
           }
          ],
          "carpet": [
           {
            "aaxis": {
             "endlinecolor": "#2a3f5f",
             "gridcolor": "white",
             "linecolor": "white",
             "minorgridcolor": "white",
             "startlinecolor": "#2a3f5f"
            },
            "baxis": {
             "endlinecolor": "#2a3f5f",
             "gridcolor": "white",
             "linecolor": "white",
             "minorgridcolor": "white",
             "startlinecolor": "#2a3f5f"
            },
            "type": "carpet"
           }
          ],
          "choropleth": [
           {
            "colorbar": {
             "outlinewidth": 0,
             "ticks": ""
            },
            "type": "choropleth"
           }
          ],
          "contour": [
           {
            "colorbar": {
             "outlinewidth": 0,
             "ticks": ""
            },
            "colorscale": [
             [
              0,
              "#0d0887"
             ],
             [
              0.1111111111111111,
              "#46039f"
             ],
             [
              0.2222222222222222,
              "#7201a8"
             ],
             [
              0.3333333333333333,
              "#9c179e"
             ],
             [
              0.4444444444444444,
              "#bd3786"
             ],
             [
              0.5555555555555556,
              "#d8576b"
             ],
             [
              0.6666666666666666,
              "#ed7953"
             ],
             [
              0.7777777777777778,
              "#fb9f3a"
             ],
             [
              0.8888888888888888,
              "#fdca26"
             ],
             [
              1,
              "#f0f921"
             ]
            ],
            "type": "contour"
           }
          ],
          "contourcarpet": [
           {
            "colorbar": {
             "outlinewidth": 0,
             "ticks": ""
            },
            "type": "contourcarpet"
           }
          ],
          "heatmap": [
           {
            "colorbar": {
             "outlinewidth": 0,
             "ticks": ""
            },
            "colorscale": [
             [
              0,
              "#0d0887"
             ],
             [
              0.1111111111111111,
              "#46039f"
             ],
             [
              0.2222222222222222,
              "#7201a8"
             ],
             [
              0.3333333333333333,
              "#9c179e"
             ],
             [
              0.4444444444444444,
              "#bd3786"
             ],
             [
              0.5555555555555556,
              "#d8576b"
             ],
             [
              0.6666666666666666,
              "#ed7953"
             ],
             [
              0.7777777777777778,
              "#fb9f3a"
             ],
             [
              0.8888888888888888,
              "#fdca26"
             ],
             [
              1,
              "#f0f921"
             ]
            ],
            "type": "heatmap"
           }
          ],
          "heatmapgl": [
           {
            "colorbar": {
             "outlinewidth": 0,
             "ticks": ""
            },
            "colorscale": [
             [
              0,
              "#0d0887"
             ],
             [
              0.1111111111111111,
              "#46039f"
             ],
             [
              0.2222222222222222,
              "#7201a8"
             ],
             [
              0.3333333333333333,
              "#9c179e"
             ],
             [
              0.4444444444444444,
              "#bd3786"
             ],
             [
              0.5555555555555556,
              "#d8576b"
             ],
             [
              0.6666666666666666,
              "#ed7953"
             ],
             [
              0.7777777777777778,
              "#fb9f3a"
             ],
             [
              0.8888888888888888,
              "#fdca26"
             ],
             [
              1,
              "#f0f921"
             ]
            ],
            "type": "heatmapgl"
           }
          ],
          "histogram": [
           {
            "marker": {
             "pattern": {
              "fillmode": "overlay",
              "size": 10,
              "solidity": 0.2
             }
            },
            "type": "histogram"
           }
          ],
          "histogram2d": [
           {
            "colorbar": {
             "outlinewidth": 0,
             "ticks": ""
            },
            "colorscale": [
             [
              0,
              "#0d0887"
             ],
             [
              0.1111111111111111,
              "#46039f"
             ],
             [
              0.2222222222222222,
              "#7201a8"
             ],
             [
              0.3333333333333333,
              "#9c179e"
             ],
             [
              0.4444444444444444,
              "#bd3786"
             ],
             [
              0.5555555555555556,
              "#d8576b"
             ],
             [
              0.6666666666666666,
              "#ed7953"
             ],
             [
              0.7777777777777778,
              "#fb9f3a"
             ],
             [
              0.8888888888888888,
              "#fdca26"
             ],
             [
              1,
              "#f0f921"
             ]
            ],
            "type": "histogram2d"
           }
          ],
          "histogram2dcontour": [
           {
            "colorbar": {
             "outlinewidth": 0,
             "ticks": ""
            },
            "colorscale": [
             [
              0,
              "#0d0887"
             ],
             [
              0.1111111111111111,
              "#46039f"
             ],
             [
              0.2222222222222222,
              "#7201a8"
             ],
             [
              0.3333333333333333,
              "#9c179e"
             ],
             [
              0.4444444444444444,
              "#bd3786"
             ],
             [
              0.5555555555555556,
              "#d8576b"
             ],
             [
              0.6666666666666666,
              "#ed7953"
             ],
             [
              0.7777777777777778,
              "#fb9f3a"
             ],
             [
              0.8888888888888888,
              "#fdca26"
             ],
             [
              1,
              "#f0f921"
             ]
            ],
            "type": "histogram2dcontour"
           }
          ],
          "mesh3d": [
           {
            "colorbar": {
             "outlinewidth": 0,
             "ticks": ""
            },
            "type": "mesh3d"
           }
          ],
          "parcoords": [
           {
            "line": {
             "colorbar": {
              "outlinewidth": 0,
              "ticks": ""
             }
            },
            "type": "parcoords"
           }
          ],
          "pie": [
           {
            "automargin": true,
            "type": "pie"
           }
          ],
          "scatter": [
           {
            "fillpattern": {
             "fillmode": "overlay",
             "size": 10,
             "solidity": 0.2
            },
            "type": "scatter"
           }
          ],
          "scatter3d": [
           {
            "line": {
             "colorbar": {
              "outlinewidth": 0,
              "ticks": ""
             }
            },
            "marker": {
             "colorbar": {
              "outlinewidth": 0,
              "ticks": ""
             }
            },
            "type": "scatter3d"
           }
          ],
          "scattercarpet": [
           {
            "marker": {
             "colorbar": {
              "outlinewidth": 0,
              "ticks": ""
             }
            },
            "type": "scattercarpet"
           }
          ],
          "scattergeo": [
           {
            "marker": {
             "colorbar": {
              "outlinewidth": 0,
              "ticks": ""
             }
            },
            "type": "scattergeo"
           }
          ],
          "scattergl": [
           {
            "marker": {
             "colorbar": {
              "outlinewidth": 0,
              "ticks": ""
             }
            },
            "type": "scattergl"
           }
          ],
          "scattermapbox": [
           {
            "marker": {
             "colorbar": {
              "outlinewidth": 0,
              "ticks": ""
             }
            },
            "type": "scattermapbox"
           }
          ],
          "scatterpolar": [
           {
            "marker": {
             "colorbar": {
              "outlinewidth": 0,
              "ticks": ""
             }
            },
            "type": "scatterpolar"
           }
          ],
          "scatterpolargl": [
           {
            "marker": {
             "colorbar": {
              "outlinewidth": 0,
              "ticks": ""
             }
            },
            "type": "scatterpolargl"
           }
          ],
          "scatterternary": [
           {
            "marker": {
             "colorbar": {
              "outlinewidth": 0,
              "ticks": ""
             }
            },
            "type": "scatterternary"
           }
          ],
          "surface": [
           {
            "colorbar": {
             "outlinewidth": 0,
             "ticks": ""
            },
            "colorscale": [
             [
              0,
              "#0d0887"
             ],
             [
              0.1111111111111111,
              "#46039f"
             ],
             [
              0.2222222222222222,
              "#7201a8"
             ],
             [
              0.3333333333333333,
              "#9c179e"
             ],
             [
              0.4444444444444444,
              "#bd3786"
             ],
             [
              0.5555555555555556,
              "#d8576b"
             ],
             [
              0.6666666666666666,
              "#ed7953"
             ],
             [
              0.7777777777777778,
              "#fb9f3a"
             ],
             [
              0.8888888888888888,
              "#fdca26"
             ],
             [
              1,
              "#f0f921"
             ]
            ],
            "type": "surface"
           }
          ],
          "table": [
           {
            "cells": {
             "fill": {
              "color": "#EBF0F8"
             },
             "line": {
              "color": "white"
             }
            },
            "header": {
             "fill": {
              "color": "#C8D4E3"
             },
             "line": {
              "color": "white"
             }
            },
            "type": "table"
           }
          ]
         },
         "layout": {
          "annotationdefaults": {
           "arrowcolor": "#2a3f5f",
           "arrowhead": 0,
           "arrowwidth": 1
          },
          "autotypenumbers": "strict",
          "coloraxis": {
           "colorbar": {
            "outlinewidth": 0,
            "ticks": ""
           }
          },
          "colorscale": {
           "diverging": [
            [
             0,
             "#8e0152"
            ],
            [
             0.1,
             "#c51b7d"
            ],
            [
             0.2,
             "#de77ae"
            ],
            [
             0.3,
             "#f1b6da"
            ],
            [
             0.4,
             "#fde0ef"
            ],
            [
             0.5,
             "#f7f7f7"
            ],
            [
             0.6,
             "#e6f5d0"
            ],
            [
             0.7,
             "#b8e186"
            ],
            [
             0.8,
             "#7fbc41"
            ],
            [
             0.9,
             "#4d9221"
            ],
            [
             1,
             "#276419"
            ]
           ],
           "sequential": [
            [
             0,
             "#0d0887"
            ],
            [
             0.1111111111111111,
             "#46039f"
            ],
            [
             0.2222222222222222,
             "#7201a8"
            ],
            [
             0.3333333333333333,
             "#9c179e"
            ],
            [
             0.4444444444444444,
             "#bd3786"
            ],
            [
             0.5555555555555556,
             "#d8576b"
            ],
            [
             0.6666666666666666,
             "#ed7953"
            ],
            [
             0.7777777777777778,
             "#fb9f3a"
            ],
            [
             0.8888888888888888,
             "#fdca26"
            ],
            [
             1,
             "#f0f921"
            ]
           ],
           "sequentialminus": [
            [
             0,
             "#0d0887"
            ],
            [
             0.1111111111111111,
             "#46039f"
            ],
            [
             0.2222222222222222,
             "#7201a8"
            ],
            [
             0.3333333333333333,
             "#9c179e"
            ],
            [
             0.4444444444444444,
             "#bd3786"
            ],
            [
             0.5555555555555556,
             "#d8576b"
            ],
            [
             0.6666666666666666,
             "#ed7953"
            ],
            [
             0.7777777777777778,
             "#fb9f3a"
            ],
            [
             0.8888888888888888,
             "#fdca26"
            ],
            [
             1,
             "#f0f921"
            ]
           ]
          },
          "colorway": [
           "#636efa",
           "#EF553B",
           "#00cc96",
           "#ab63fa",
           "#FFA15A",
           "#19d3f3",
           "#FF6692",
           "#B6E880",
           "#FF97FF",
           "#FECB52"
          ],
          "font": {
           "color": "#2a3f5f"
          },
          "geo": {
           "bgcolor": "white",
           "lakecolor": "white",
           "landcolor": "#E5ECF6",
           "showlakes": true,
           "showland": true,
           "subunitcolor": "white"
          },
          "hoverlabel": {
           "align": "left"
          },
          "hovermode": "closest",
          "mapbox": {
           "style": "light"
          },
          "paper_bgcolor": "white",
          "plot_bgcolor": "#E5ECF6",
          "polar": {
           "angularaxis": {
            "gridcolor": "white",
            "linecolor": "white",
            "ticks": ""
           },
           "bgcolor": "#E5ECF6",
           "radialaxis": {
            "gridcolor": "white",
            "linecolor": "white",
            "ticks": ""
           }
          },
          "scene": {
           "xaxis": {
            "backgroundcolor": "#E5ECF6",
            "gridcolor": "white",
            "gridwidth": 2,
            "linecolor": "white",
            "showbackground": true,
            "ticks": "",
            "zerolinecolor": "white"
           },
           "yaxis": {
            "backgroundcolor": "#E5ECF6",
            "gridcolor": "white",
            "gridwidth": 2,
            "linecolor": "white",
            "showbackground": true,
            "ticks": "",
            "zerolinecolor": "white"
           },
           "zaxis": {
            "backgroundcolor": "#E5ECF6",
            "gridcolor": "white",
            "gridwidth": 2,
            "linecolor": "white",
            "showbackground": true,
            "ticks": "",
            "zerolinecolor": "white"
           }
          },
          "shapedefaults": {
           "line": {
            "color": "#2a3f5f"
           }
          },
          "ternary": {
           "aaxis": {
            "gridcolor": "white",
            "linecolor": "white",
            "ticks": ""
           },
           "baxis": {
            "gridcolor": "white",
            "linecolor": "white",
            "ticks": ""
           },
           "bgcolor": "#E5ECF6",
           "caxis": {
            "gridcolor": "white",
            "linecolor": "white",
            "ticks": ""
           }
          },
          "title": {
           "x": 0.05
          },
          "xaxis": {
           "automargin": true,
           "gridcolor": "white",
           "linecolor": "white",
           "ticks": "",
           "title": {
            "standoff": 15
           },
           "zerolinecolor": "white",
           "zerolinewidth": 2
          },
          "yaxis": {
           "automargin": true,
           "gridcolor": "white",
           "linecolor": "white",
           "ticks": "",
           "title": {
            "standoff": 15
           },
           "zerolinecolor": "white",
           "zerolinewidth": 2
          }
         }
        },
        "xaxis": {
         "anchor": "y",
         "domain": [
          0,
          1
         ],
         "title": {
          "text": "x"
         }
        },
        "yaxis": {
         "anchor": "x",
         "domain": [
          0,
          1
         ],
         "title": {
          "text": "y"
         }
        }
       }
      },
      "text/html": [
       "<div>                            <div id=\"d6bc1727-54a6-470c-bc90-b21b092e3923\" class=\"plotly-graph-div\" style=\"height:525px; width:100%;\"></div>            <script type=\"text/javascript\">                require([\"plotly\"], function(Plotly) {                    window.PLOTLYENV=window.PLOTLYENV || {};                                    if (document.getElementById(\"d6bc1727-54a6-470c-bc90-b21b092e3923\")) {                    Plotly.newPlot(                        \"d6bc1727-54a6-470c-bc90-b21b092e3923\",                        [{\"alignmentgroup\":\"True\",\"hovertemplate\":\"x=%{x}<br>y=%{y}<extra></extra>\",\"legendgroup\":\"\",\"marker\":{\"color\":\"#636efa\",\"pattern\":{\"shape\":\"\"}},\"name\":\"\",\"offsetgroup\":\"\",\"orientation\":\"v\",\"showlegend\":false,\"textposition\":\"auto\",\"x\":[\"Country_1\",\"Country_2\",\"Stage_2\",\"Stage_1\",\"Location_2\",\"Location_1\",\"Industry_2\",\"Industry_1\",\"Laid_Off_Count\",\"Funds_Raised\"],\"xaxis\":\"x\",\"y\":[0.02946768609676138,0.04482283250940061,0.06198399843057808,0.06463796359081384,0.07837641721667189,0.08677954497780359,0.09257723143300596,0.09844410925026587,0.2143519580964974,0.22855825839820149],\"yaxis\":\"y\",\"type\":\"bar\"}],                        {\"template\":{\"data\":{\"histogram2dcontour\":[{\"type\":\"histogram2dcontour\",\"colorbar\":{\"outlinewidth\":0,\"ticks\":\"\"},\"colorscale\":[[0.0,\"#0d0887\"],[0.1111111111111111,\"#46039f\"],[0.2222222222222222,\"#7201a8\"],[0.3333333333333333,\"#9c179e\"],[0.4444444444444444,\"#bd3786\"],[0.5555555555555556,\"#d8576b\"],[0.6666666666666666,\"#ed7953\"],[0.7777777777777778,\"#fb9f3a\"],[0.8888888888888888,\"#fdca26\"],[1.0,\"#f0f921\"]]}],\"choropleth\":[{\"type\":\"choropleth\",\"colorbar\":{\"outlinewidth\":0,\"ticks\":\"\"}}],\"histogram2d\":[{\"type\":\"histogram2d\",\"colorbar\":{\"outlinewidth\":0,\"ticks\":\"\"},\"colorscale\":[[0.0,\"#0d0887\"],[0.1111111111111111,\"#46039f\"],[0.2222222222222222,\"#7201a8\"],[0.3333333333333333,\"#9c179e\"],[0.4444444444444444,\"#bd3786\"],[0.5555555555555556,\"#d8576b\"],[0.6666666666666666,\"#ed7953\"],[0.7777777777777778,\"#fb9f3a\"],[0.8888888888888888,\"#fdca26\"],[1.0,\"#f0f921\"]]}],\"heatmap\":[{\"type\":\"heatmap\",\"colorbar\":{\"outlinewidth\":0,\"ticks\":\"\"},\"colorscale\":[[0.0,\"#0d0887\"],[0.1111111111111111,\"#46039f\"],[0.2222222222222222,\"#7201a8\"],[0.3333333333333333,\"#9c179e\"],[0.4444444444444444,\"#bd3786\"],[0.5555555555555556,\"#d8576b\"],[0.6666666666666666,\"#ed7953\"],[0.7777777777777778,\"#fb9f3a\"],[0.8888888888888888,\"#fdca26\"],[1.0,\"#f0f921\"]]}],\"heatmapgl\":[{\"type\":\"heatmapgl\",\"colorbar\":{\"outlinewidth\":0,\"ticks\":\"\"},\"colorscale\":[[0.0,\"#0d0887\"],[0.1111111111111111,\"#46039f\"],[0.2222222222222222,\"#7201a8\"],[0.3333333333333333,\"#9c179e\"],[0.4444444444444444,\"#bd3786\"],[0.5555555555555556,\"#d8576b\"],[0.6666666666666666,\"#ed7953\"],[0.7777777777777778,\"#fb9f3a\"],[0.8888888888888888,\"#fdca26\"],[1.0,\"#f0f921\"]]}],\"contourcarpet\":[{\"type\":\"contourcarpet\",\"colorbar\":{\"outlinewidth\":0,\"ticks\":\"\"}}],\"contour\":[{\"type\":\"contour\",\"colorbar\":{\"outlinewidth\":0,\"ticks\":\"\"},\"colorscale\":[[0.0,\"#0d0887\"],[0.1111111111111111,\"#46039f\"],[0.2222222222222222,\"#7201a8\"],[0.3333333333333333,\"#9c179e\"],[0.4444444444444444,\"#bd3786\"],[0.5555555555555556,\"#d8576b\"],[0.6666666666666666,\"#ed7953\"],[0.7777777777777778,\"#fb9f3a\"],[0.8888888888888888,\"#fdca26\"],[1.0,\"#f0f921\"]]}],\"surface\":[{\"type\":\"surface\",\"colorbar\":{\"outlinewidth\":0,\"ticks\":\"\"},\"colorscale\":[[0.0,\"#0d0887\"],[0.1111111111111111,\"#46039f\"],[0.2222222222222222,\"#7201a8\"],[0.3333333333333333,\"#9c179e\"],[0.4444444444444444,\"#bd3786\"],[0.5555555555555556,\"#d8576b\"],[0.6666666666666666,\"#ed7953\"],[0.7777777777777778,\"#fb9f3a\"],[0.8888888888888888,\"#fdca26\"],[1.0,\"#f0f921\"]]}],\"mesh3d\":[{\"type\":\"mesh3d\",\"colorbar\":{\"outlinewidth\":0,\"ticks\":\"\"}}],\"scatter\":[{\"fillpattern\":{\"fillmode\":\"overlay\",\"size\":10,\"solidity\":0.2},\"type\":\"scatter\"}],\"parcoords\":[{\"type\":\"parcoords\",\"line\":{\"colorbar\":{\"outlinewidth\":0,\"ticks\":\"\"}}}],\"scatterpolargl\":[{\"type\":\"scatterpolargl\",\"marker\":{\"colorbar\":{\"outlinewidth\":0,\"ticks\":\"\"}}}],\"bar\":[{\"error_x\":{\"color\":\"#2a3f5f\"},\"error_y\":{\"color\":\"#2a3f5f\"},\"marker\":{\"line\":{\"color\":\"#E5ECF6\",\"width\":0.5},\"pattern\":{\"fillmode\":\"overlay\",\"size\":10,\"solidity\":0.2}},\"type\":\"bar\"}],\"scattergeo\":[{\"type\":\"scattergeo\",\"marker\":{\"colorbar\":{\"outlinewidth\":0,\"ticks\":\"\"}}}],\"scatterpolar\":[{\"type\":\"scatterpolar\",\"marker\":{\"colorbar\":{\"outlinewidth\":0,\"ticks\":\"\"}}}],\"histogram\":[{\"marker\":{\"pattern\":{\"fillmode\":\"overlay\",\"size\":10,\"solidity\":0.2}},\"type\":\"histogram\"}],\"scattergl\":[{\"type\":\"scattergl\",\"marker\":{\"colorbar\":{\"outlinewidth\":0,\"ticks\":\"\"}}}],\"scatter3d\":[{\"type\":\"scatter3d\",\"line\":{\"colorbar\":{\"outlinewidth\":0,\"ticks\":\"\"}},\"marker\":{\"colorbar\":{\"outlinewidth\":0,\"ticks\":\"\"}}}],\"scattermapbox\":[{\"type\":\"scattermapbox\",\"marker\":{\"colorbar\":{\"outlinewidth\":0,\"ticks\":\"\"}}}],\"scatterternary\":[{\"type\":\"scatterternary\",\"marker\":{\"colorbar\":{\"outlinewidth\":0,\"ticks\":\"\"}}}],\"scattercarpet\":[{\"type\":\"scattercarpet\",\"marker\":{\"colorbar\":{\"outlinewidth\":0,\"ticks\":\"\"}}}],\"carpet\":[{\"aaxis\":{\"endlinecolor\":\"#2a3f5f\",\"gridcolor\":\"white\",\"linecolor\":\"white\",\"minorgridcolor\":\"white\",\"startlinecolor\":\"#2a3f5f\"},\"baxis\":{\"endlinecolor\":\"#2a3f5f\",\"gridcolor\":\"white\",\"linecolor\":\"white\",\"minorgridcolor\":\"white\",\"startlinecolor\":\"#2a3f5f\"},\"type\":\"carpet\"}],\"table\":[{\"cells\":{\"fill\":{\"color\":\"#EBF0F8\"},\"line\":{\"color\":\"white\"}},\"header\":{\"fill\":{\"color\":\"#C8D4E3\"},\"line\":{\"color\":\"white\"}},\"type\":\"table\"}],\"barpolar\":[{\"marker\":{\"line\":{\"color\":\"#E5ECF6\",\"width\":0.5},\"pattern\":{\"fillmode\":\"overlay\",\"size\":10,\"solidity\":0.2}},\"type\":\"barpolar\"}],\"pie\":[{\"automargin\":true,\"type\":\"pie\"}]},\"layout\":{\"autotypenumbers\":\"strict\",\"colorway\":[\"#636efa\",\"#EF553B\",\"#00cc96\",\"#ab63fa\",\"#FFA15A\",\"#19d3f3\",\"#FF6692\",\"#B6E880\",\"#FF97FF\",\"#FECB52\"],\"font\":{\"color\":\"#2a3f5f\"},\"hovermode\":\"closest\",\"hoverlabel\":{\"align\":\"left\"},\"paper_bgcolor\":\"white\",\"plot_bgcolor\":\"#E5ECF6\",\"polar\":{\"bgcolor\":\"#E5ECF6\",\"angularaxis\":{\"gridcolor\":\"white\",\"linecolor\":\"white\",\"ticks\":\"\"},\"radialaxis\":{\"gridcolor\":\"white\",\"linecolor\":\"white\",\"ticks\":\"\"}},\"ternary\":{\"bgcolor\":\"#E5ECF6\",\"aaxis\":{\"gridcolor\":\"white\",\"linecolor\":\"white\",\"ticks\":\"\"},\"baxis\":{\"gridcolor\":\"white\",\"linecolor\":\"white\",\"ticks\":\"\"},\"caxis\":{\"gridcolor\":\"white\",\"linecolor\":\"white\",\"ticks\":\"\"}},\"coloraxis\":{\"colorbar\":{\"outlinewidth\":0,\"ticks\":\"\"}},\"colorscale\":{\"sequential\":[[0.0,\"#0d0887\"],[0.1111111111111111,\"#46039f\"],[0.2222222222222222,\"#7201a8\"],[0.3333333333333333,\"#9c179e\"],[0.4444444444444444,\"#bd3786\"],[0.5555555555555556,\"#d8576b\"],[0.6666666666666666,\"#ed7953\"],[0.7777777777777778,\"#fb9f3a\"],[0.8888888888888888,\"#fdca26\"],[1.0,\"#f0f921\"]],\"sequentialminus\":[[0.0,\"#0d0887\"],[0.1111111111111111,\"#46039f\"],[0.2222222222222222,\"#7201a8\"],[0.3333333333333333,\"#9c179e\"],[0.4444444444444444,\"#bd3786\"],[0.5555555555555556,\"#d8576b\"],[0.6666666666666666,\"#ed7953\"],[0.7777777777777778,\"#fb9f3a\"],[0.8888888888888888,\"#fdca26\"],[1.0,\"#f0f921\"]],\"diverging\":[[0,\"#8e0152\"],[0.1,\"#c51b7d\"],[0.2,\"#de77ae\"],[0.3,\"#f1b6da\"],[0.4,\"#fde0ef\"],[0.5,\"#f7f7f7\"],[0.6,\"#e6f5d0\"],[0.7,\"#b8e186\"],[0.8,\"#7fbc41\"],[0.9,\"#4d9221\"],[1,\"#276419\"]]},\"xaxis\":{\"gridcolor\":\"white\",\"linecolor\":\"white\",\"ticks\":\"\",\"title\":{\"standoff\":15},\"zerolinecolor\":\"white\",\"automargin\":true,\"zerolinewidth\":2},\"yaxis\":{\"gridcolor\":\"white\",\"linecolor\":\"white\",\"ticks\":\"\",\"title\":{\"standoff\":15},\"zerolinecolor\":\"white\",\"automargin\":true,\"zerolinewidth\":2},\"scene\":{\"xaxis\":{\"backgroundcolor\":\"#E5ECF6\",\"gridcolor\":\"white\",\"linecolor\":\"white\",\"showbackground\":true,\"ticks\":\"\",\"zerolinecolor\":\"white\",\"gridwidth\":2},\"yaxis\":{\"backgroundcolor\":\"#E5ECF6\",\"gridcolor\":\"white\",\"linecolor\":\"white\",\"showbackground\":true,\"ticks\":\"\",\"zerolinecolor\":\"white\",\"gridwidth\":2},\"zaxis\":{\"backgroundcolor\":\"#E5ECF6\",\"gridcolor\":\"white\",\"linecolor\":\"white\",\"showbackground\":true,\"ticks\":\"\",\"zerolinecolor\":\"white\",\"gridwidth\":2}},\"shapedefaults\":{\"line\":{\"color\":\"#2a3f5f\"}},\"annotationdefaults\":{\"arrowcolor\":\"#2a3f5f\",\"arrowhead\":0,\"arrowwidth\":1},\"geo\":{\"bgcolor\":\"white\",\"landcolor\":\"#E5ECF6\",\"subunitcolor\":\"white\",\"showland\":true,\"showlakes\":true,\"lakecolor\":\"white\"},\"title\":{\"x\":0.05},\"mapbox\":{\"style\":\"light\"}}},\"xaxis\":{\"anchor\":\"y\",\"domain\":[0.0,1.0],\"title\":{\"text\":\"x\"}},\"yaxis\":{\"anchor\":\"x\",\"domain\":[0.0,1.0],\"title\":{\"text\":\"y\"}},\"legend\":{\"tracegroupgap\":0},\"margin\":{\"t\":60},\"barmode\":\"relative\"},                        {\"responsive\": true}                    ).then(function(){\n",
       "                            \n",
       "var gd = document.getElementById('d6bc1727-54a6-470c-bc90-b21b092e3923');\n",
       "var x = new MutationObserver(function (mutations, observer) {{\n",
       "        var display = window.getComputedStyle(gd).display;\n",
       "        if (!display || display === 'none') {{\n",
       "            console.log([gd, 'removed!']);\n",
       "            Plotly.purge(gd);\n",
       "            observer.disconnect();\n",
       "        }}\n",
       "}});\n",
       "\n",
       "// Listen for the removal of the full notebook cells\n",
       "var notebookContainer = gd.closest('#notebook-container');\n",
       "if (notebookContainer) {{\n",
       "    x.observe(notebookContainer, {childList: true});\n",
       "}}\n",
       "\n",
       "// Listen for the clearing of the current output cell\n",
       "var outputEl = gd.closest('.output');\n",
       "if (outputEl) {{\n",
       "    x.observe(outputEl, {childList: true});\n",
       "}}\n",
       "\n",
       "                        })                };                });            </script>        </div>"
      ]
     },
     "metadata": {},
     "output_type": "display_data"
    },
    {
     "name": "stdout",
     "output_type": "stream",
     "text": [
      "7           Stage_2\n",
      "6           Stage_1\n",
      "3        Location_2\n",
      "2        Location_1\n",
      "5        Industry_2\n",
      "4        Industry_1\n",
      "1    Laid_Off_Count\n",
      "0      Funds_Raised\n",
      "Name: Features, dtype: object\n"
     ]
    }
   ],
   "source": [
    "X= data.drop(columns=['Percentage'])\n",
    "Y= data['Percentage']\n",
    "Xtrain,Xtest,Ytrain,Ytest= train_test_split(X,Y, test_size=0.2, random_state=42,shuffle=True)\n",
    "Xtrain, Xtest = PIPELINE(batch_size=6).cat_encode_pipeline(Xtrain, Xtest)\n",
    "features = fet_sel.feature_sel(Xtrain,Ytrain,0.06,verbose=True)\n",
    "print(features)"
   ]
  },
  {
   "cell_type": "code",
   "execution_count": 35,
   "id": "20fbd279",
   "metadata": {
    "scrolled": true
   },
   "outputs": [
    {
     "data": {
      "application/vnd.plotly.v1+json": {
       "config": {
        "plotlyServerURL": "https://plot.ly"
       },
       "data": [
        {
         "alignmentgroup": "True",
         "hovertemplate": "x=%{x}<br>y=%{y}<extra></extra>",
         "legendgroup": "",
         "marker": {
          "color": "#636efa",
          "pattern": {
           "shape": ""
          }
         },
         "name": "",
         "offsetgroup": "",
         "orientation": "v",
         "showlegend": false,
         "textposition": "auto",
         "type": "bar",
         "x": [
          "Country_1",
          "Country_2",
          "Stage_2",
          "Stage_1",
          "Location_2",
          "Location_1",
          "Industry_2",
          "Industry_1",
          "Laid_Off_Count",
          "Funds_Raised"
         ],
         "xaxis": "x",
         "y": [
          0.02863230039513518,
          0.0465640099492419,
          0.060511155525610615,
          0.06555265730267718,
          0.07603881641721741,
          0.08767968594896625,
          0.08996731496202996,
          0.0997787267495669,
          0.2197869448126959,
          0.22548838793685871
         ],
         "yaxis": "y"
        }
       ],
       "layout": {
        "barmode": "relative",
        "legend": {
         "tracegroupgap": 0
        },
        "margin": {
         "t": 60
        },
        "template": {
         "data": {
          "bar": [
           {
            "error_x": {
             "color": "#2a3f5f"
            },
            "error_y": {
             "color": "#2a3f5f"
            },
            "marker": {
             "line": {
              "color": "#E5ECF6",
              "width": 0.5
             },
             "pattern": {
              "fillmode": "overlay",
              "size": 10,
              "solidity": 0.2
             }
            },
            "type": "bar"
           }
          ],
          "barpolar": [
           {
            "marker": {
             "line": {
              "color": "#E5ECF6",
              "width": 0.5
             },
             "pattern": {
              "fillmode": "overlay",
              "size": 10,
              "solidity": 0.2
             }
            },
            "type": "barpolar"
           }
          ],
          "carpet": [
           {
            "aaxis": {
             "endlinecolor": "#2a3f5f",
             "gridcolor": "white",
             "linecolor": "white",
             "minorgridcolor": "white",
             "startlinecolor": "#2a3f5f"
            },
            "baxis": {
             "endlinecolor": "#2a3f5f",
             "gridcolor": "white",
             "linecolor": "white",
             "minorgridcolor": "white",
             "startlinecolor": "#2a3f5f"
            },
            "type": "carpet"
           }
          ],
          "choropleth": [
           {
            "colorbar": {
             "outlinewidth": 0,
             "ticks": ""
            },
            "type": "choropleth"
           }
          ],
          "contour": [
           {
            "colorbar": {
             "outlinewidth": 0,
             "ticks": ""
            },
            "colorscale": [
             [
              0,
              "#0d0887"
             ],
             [
              0.1111111111111111,
              "#46039f"
             ],
             [
              0.2222222222222222,
              "#7201a8"
             ],
             [
              0.3333333333333333,
              "#9c179e"
             ],
             [
              0.4444444444444444,
              "#bd3786"
             ],
             [
              0.5555555555555556,
              "#d8576b"
             ],
             [
              0.6666666666666666,
              "#ed7953"
             ],
             [
              0.7777777777777778,
              "#fb9f3a"
             ],
             [
              0.8888888888888888,
              "#fdca26"
             ],
             [
              1,
              "#f0f921"
             ]
            ],
            "type": "contour"
           }
          ],
          "contourcarpet": [
           {
            "colorbar": {
             "outlinewidth": 0,
             "ticks": ""
            },
            "type": "contourcarpet"
           }
          ],
          "heatmap": [
           {
            "colorbar": {
             "outlinewidth": 0,
             "ticks": ""
            },
            "colorscale": [
             [
              0,
              "#0d0887"
             ],
             [
              0.1111111111111111,
              "#46039f"
             ],
             [
              0.2222222222222222,
              "#7201a8"
             ],
             [
              0.3333333333333333,
              "#9c179e"
             ],
             [
              0.4444444444444444,
              "#bd3786"
             ],
             [
              0.5555555555555556,
              "#d8576b"
             ],
             [
              0.6666666666666666,
              "#ed7953"
             ],
             [
              0.7777777777777778,
              "#fb9f3a"
             ],
             [
              0.8888888888888888,
              "#fdca26"
             ],
             [
              1,
              "#f0f921"
             ]
            ],
            "type": "heatmap"
           }
          ],
          "heatmapgl": [
           {
            "colorbar": {
             "outlinewidth": 0,
             "ticks": ""
            },
            "colorscale": [
             [
              0,
              "#0d0887"
             ],
             [
              0.1111111111111111,
              "#46039f"
             ],
             [
              0.2222222222222222,
              "#7201a8"
             ],
             [
              0.3333333333333333,
              "#9c179e"
             ],
             [
              0.4444444444444444,
              "#bd3786"
             ],
             [
              0.5555555555555556,
              "#d8576b"
             ],
             [
              0.6666666666666666,
              "#ed7953"
             ],
             [
              0.7777777777777778,
              "#fb9f3a"
             ],
             [
              0.8888888888888888,
              "#fdca26"
             ],
             [
              1,
              "#f0f921"
             ]
            ],
            "type": "heatmapgl"
           }
          ],
          "histogram": [
           {
            "marker": {
             "pattern": {
              "fillmode": "overlay",
              "size": 10,
              "solidity": 0.2
             }
            },
            "type": "histogram"
           }
          ],
          "histogram2d": [
           {
            "colorbar": {
             "outlinewidth": 0,
             "ticks": ""
            },
            "colorscale": [
             [
              0,
              "#0d0887"
             ],
             [
              0.1111111111111111,
              "#46039f"
             ],
             [
              0.2222222222222222,
              "#7201a8"
             ],
             [
              0.3333333333333333,
              "#9c179e"
             ],
             [
              0.4444444444444444,
              "#bd3786"
             ],
             [
              0.5555555555555556,
              "#d8576b"
             ],
             [
              0.6666666666666666,
              "#ed7953"
             ],
             [
              0.7777777777777778,
              "#fb9f3a"
             ],
             [
              0.8888888888888888,
              "#fdca26"
             ],
             [
              1,
              "#f0f921"
             ]
            ],
            "type": "histogram2d"
           }
          ],
          "histogram2dcontour": [
           {
            "colorbar": {
             "outlinewidth": 0,
             "ticks": ""
            },
            "colorscale": [
             [
              0,
              "#0d0887"
             ],
             [
              0.1111111111111111,
              "#46039f"
             ],
             [
              0.2222222222222222,
              "#7201a8"
             ],
             [
              0.3333333333333333,
              "#9c179e"
             ],
             [
              0.4444444444444444,
              "#bd3786"
             ],
             [
              0.5555555555555556,
              "#d8576b"
             ],
             [
              0.6666666666666666,
              "#ed7953"
             ],
             [
              0.7777777777777778,
              "#fb9f3a"
             ],
             [
              0.8888888888888888,
              "#fdca26"
             ],
             [
              1,
              "#f0f921"
             ]
            ],
            "type": "histogram2dcontour"
           }
          ],
          "mesh3d": [
           {
            "colorbar": {
             "outlinewidth": 0,
             "ticks": ""
            },
            "type": "mesh3d"
           }
          ],
          "parcoords": [
           {
            "line": {
             "colorbar": {
              "outlinewidth": 0,
              "ticks": ""
             }
            },
            "type": "parcoords"
           }
          ],
          "pie": [
           {
            "automargin": true,
            "type": "pie"
           }
          ],
          "scatter": [
           {
            "fillpattern": {
             "fillmode": "overlay",
             "size": 10,
             "solidity": 0.2
            },
            "type": "scatter"
           }
          ],
          "scatter3d": [
           {
            "line": {
             "colorbar": {
              "outlinewidth": 0,
              "ticks": ""
             }
            },
            "marker": {
             "colorbar": {
              "outlinewidth": 0,
              "ticks": ""
             }
            },
            "type": "scatter3d"
           }
          ],
          "scattercarpet": [
           {
            "marker": {
             "colorbar": {
              "outlinewidth": 0,
              "ticks": ""
             }
            },
            "type": "scattercarpet"
           }
          ],
          "scattergeo": [
           {
            "marker": {
             "colorbar": {
              "outlinewidth": 0,
              "ticks": ""
             }
            },
            "type": "scattergeo"
           }
          ],
          "scattergl": [
           {
            "marker": {
             "colorbar": {
              "outlinewidth": 0,
              "ticks": ""
             }
            },
            "type": "scattergl"
           }
          ],
          "scattermapbox": [
           {
            "marker": {
             "colorbar": {
              "outlinewidth": 0,
              "ticks": ""
             }
            },
            "type": "scattermapbox"
           }
          ],
          "scatterpolar": [
           {
            "marker": {
             "colorbar": {
              "outlinewidth": 0,
              "ticks": ""
             }
            },
            "type": "scatterpolar"
           }
          ],
          "scatterpolargl": [
           {
            "marker": {
             "colorbar": {
              "outlinewidth": 0,
              "ticks": ""
             }
            },
            "type": "scatterpolargl"
           }
          ],
          "scatterternary": [
           {
            "marker": {
             "colorbar": {
              "outlinewidth": 0,
              "ticks": ""
             }
            },
            "type": "scatterternary"
           }
          ],
          "surface": [
           {
            "colorbar": {
             "outlinewidth": 0,
             "ticks": ""
            },
            "colorscale": [
             [
              0,
              "#0d0887"
             ],
             [
              0.1111111111111111,
              "#46039f"
             ],
             [
              0.2222222222222222,
              "#7201a8"
             ],
             [
              0.3333333333333333,
              "#9c179e"
             ],
             [
              0.4444444444444444,
              "#bd3786"
             ],
             [
              0.5555555555555556,
              "#d8576b"
             ],
             [
              0.6666666666666666,
              "#ed7953"
             ],
             [
              0.7777777777777778,
              "#fb9f3a"
             ],
             [
              0.8888888888888888,
              "#fdca26"
             ],
             [
              1,
              "#f0f921"
             ]
            ],
            "type": "surface"
           }
          ],
          "table": [
           {
            "cells": {
             "fill": {
              "color": "#EBF0F8"
             },
             "line": {
              "color": "white"
             }
            },
            "header": {
             "fill": {
              "color": "#C8D4E3"
             },
             "line": {
              "color": "white"
             }
            },
            "type": "table"
           }
          ]
         },
         "layout": {
          "annotationdefaults": {
           "arrowcolor": "#2a3f5f",
           "arrowhead": 0,
           "arrowwidth": 1
          },
          "autotypenumbers": "strict",
          "coloraxis": {
           "colorbar": {
            "outlinewidth": 0,
            "ticks": ""
           }
          },
          "colorscale": {
           "diverging": [
            [
             0,
             "#8e0152"
            ],
            [
             0.1,
             "#c51b7d"
            ],
            [
             0.2,
             "#de77ae"
            ],
            [
             0.3,
             "#f1b6da"
            ],
            [
             0.4,
             "#fde0ef"
            ],
            [
             0.5,
             "#f7f7f7"
            ],
            [
             0.6,
             "#e6f5d0"
            ],
            [
             0.7,
             "#b8e186"
            ],
            [
             0.8,
             "#7fbc41"
            ],
            [
             0.9,
             "#4d9221"
            ],
            [
             1,
             "#276419"
            ]
           ],
           "sequential": [
            [
             0,
             "#0d0887"
            ],
            [
             0.1111111111111111,
             "#46039f"
            ],
            [
             0.2222222222222222,
             "#7201a8"
            ],
            [
             0.3333333333333333,
             "#9c179e"
            ],
            [
             0.4444444444444444,
             "#bd3786"
            ],
            [
             0.5555555555555556,
             "#d8576b"
            ],
            [
             0.6666666666666666,
             "#ed7953"
            ],
            [
             0.7777777777777778,
             "#fb9f3a"
            ],
            [
             0.8888888888888888,
             "#fdca26"
            ],
            [
             1,
             "#f0f921"
            ]
           ],
           "sequentialminus": [
            [
             0,
             "#0d0887"
            ],
            [
             0.1111111111111111,
             "#46039f"
            ],
            [
             0.2222222222222222,
             "#7201a8"
            ],
            [
             0.3333333333333333,
             "#9c179e"
            ],
            [
             0.4444444444444444,
             "#bd3786"
            ],
            [
             0.5555555555555556,
             "#d8576b"
            ],
            [
             0.6666666666666666,
             "#ed7953"
            ],
            [
             0.7777777777777778,
             "#fb9f3a"
            ],
            [
             0.8888888888888888,
             "#fdca26"
            ],
            [
             1,
             "#f0f921"
            ]
           ]
          },
          "colorway": [
           "#636efa",
           "#EF553B",
           "#00cc96",
           "#ab63fa",
           "#FFA15A",
           "#19d3f3",
           "#FF6692",
           "#B6E880",
           "#FF97FF",
           "#FECB52"
          ],
          "font": {
           "color": "#2a3f5f"
          },
          "geo": {
           "bgcolor": "white",
           "lakecolor": "white",
           "landcolor": "#E5ECF6",
           "showlakes": true,
           "showland": true,
           "subunitcolor": "white"
          },
          "hoverlabel": {
           "align": "left"
          },
          "hovermode": "closest",
          "mapbox": {
           "style": "light"
          },
          "paper_bgcolor": "white",
          "plot_bgcolor": "#E5ECF6",
          "polar": {
           "angularaxis": {
            "gridcolor": "white",
            "linecolor": "white",
            "ticks": ""
           },
           "bgcolor": "#E5ECF6",
           "radialaxis": {
            "gridcolor": "white",
            "linecolor": "white",
            "ticks": ""
           }
          },
          "scene": {
           "xaxis": {
            "backgroundcolor": "#E5ECF6",
            "gridcolor": "white",
            "gridwidth": 2,
            "linecolor": "white",
            "showbackground": true,
            "ticks": "",
            "zerolinecolor": "white"
           },
           "yaxis": {
            "backgroundcolor": "#E5ECF6",
            "gridcolor": "white",
            "gridwidth": 2,
            "linecolor": "white",
            "showbackground": true,
            "ticks": "",
            "zerolinecolor": "white"
           },
           "zaxis": {
            "backgroundcolor": "#E5ECF6",
            "gridcolor": "white",
            "gridwidth": 2,
            "linecolor": "white",
            "showbackground": true,
            "ticks": "",
            "zerolinecolor": "white"
           }
          },
          "shapedefaults": {
           "line": {
            "color": "#2a3f5f"
           }
          },
          "ternary": {
           "aaxis": {
            "gridcolor": "white",
            "linecolor": "white",
            "ticks": ""
           },
           "baxis": {
            "gridcolor": "white",
            "linecolor": "white",
            "ticks": ""
           },
           "bgcolor": "#E5ECF6",
           "caxis": {
            "gridcolor": "white",
            "linecolor": "white",
            "ticks": ""
           }
          },
          "title": {
           "x": 0.05
          },
          "xaxis": {
           "automargin": true,
           "gridcolor": "white",
           "linecolor": "white",
           "ticks": "",
           "title": {
            "standoff": 15
           },
           "zerolinecolor": "white",
           "zerolinewidth": 2
          },
          "yaxis": {
           "automargin": true,
           "gridcolor": "white",
           "linecolor": "white",
           "ticks": "",
           "title": {
            "standoff": 15
           },
           "zerolinecolor": "white",
           "zerolinewidth": 2
          }
         }
        },
        "xaxis": {
         "anchor": "y",
         "domain": [
          0,
          1
         ],
         "title": {
          "text": "x"
         }
        },
        "yaxis": {
         "anchor": "x",
         "domain": [
          0,
          1
         ],
         "title": {
          "text": "y"
         }
        }
       }
      },
      "text/html": [
       "<div>                            <div id=\"f3f4414a-5a44-4cb0-b6cf-eed22ff9b8da\" class=\"plotly-graph-div\" style=\"height:525px; width:100%;\"></div>            <script type=\"text/javascript\">                require([\"plotly\"], function(Plotly) {                    window.PLOTLYENV=window.PLOTLYENV || {};                                    if (document.getElementById(\"f3f4414a-5a44-4cb0-b6cf-eed22ff9b8da\")) {                    Plotly.newPlot(                        \"f3f4414a-5a44-4cb0-b6cf-eed22ff9b8da\",                        [{\"alignmentgroup\":\"True\",\"hovertemplate\":\"x=%{x}<br>y=%{y}<extra></extra>\",\"legendgroup\":\"\",\"marker\":{\"color\":\"#636efa\",\"pattern\":{\"shape\":\"\"}},\"name\":\"\",\"offsetgroup\":\"\",\"orientation\":\"v\",\"showlegend\":false,\"textposition\":\"auto\",\"x\":[\"Country_1\",\"Country_2\",\"Stage_2\",\"Stage_1\",\"Location_2\",\"Location_1\",\"Industry_2\",\"Industry_1\",\"Laid_Off_Count\",\"Funds_Raised\"],\"xaxis\":\"x\",\"y\":[0.02863230039513518,0.0465640099492419,0.060511155525610615,0.06555265730267718,0.07603881641721741,0.08767968594896625,0.08996731496202996,0.0997787267495669,0.2197869448126959,0.22548838793685871],\"yaxis\":\"y\",\"type\":\"bar\"}],                        {\"template\":{\"data\":{\"histogram2dcontour\":[{\"type\":\"histogram2dcontour\",\"colorbar\":{\"outlinewidth\":0,\"ticks\":\"\"},\"colorscale\":[[0.0,\"#0d0887\"],[0.1111111111111111,\"#46039f\"],[0.2222222222222222,\"#7201a8\"],[0.3333333333333333,\"#9c179e\"],[0.4444444444444444,\"#bd3786\"],[0.5555555555555556,\"#d8576b\"],[0.6666666666666666,\"#ed7953\"],[0.7777777777777778,\"#fb9f3a\"],[0.8888888888888888,\"#fdca26\"],[1.0,\"#f0f921\"]]}],\"choropleth\":[{\"type\":\"choropleth\",\"colorbar\":{\"outlinewidth\":0,\"ticks\":\"\"}}],\"histogram2d\":[{\"type\":\"histogram2d\",\"colorbar\":{\"outlinewidth\":0,\"ticks\":\"\"},\"colorscale\":[[0.0,\"#0d0887\"],[0.1111111111111111,\"#46039f\"],[0.2222222222222222,\"#7201a8\"],[0.3333333333333333,\"#9c179e\"],[0.4444444444444444,\"#bd3786\"],[0.5555555555555556,\"#d8576b\"],[0.6666666666666666,\"#ed7953\"],[0.7777777777777778,\"#fb9f3a\"],[0.8888888888888888,\"#fdca26\"],[1.0,\"#f0f921\"]]}],\"heatmap\":[{\"type\":\"heatmap\",\"colorbar\":{\"outlinewidth\":0,\"ticks\":\"\"},\"colorscale\":[[0.0,\"#0d0887\"],[0.1111111111111111,\"#46039f\"],[0.2222222222222222,\"#7201a8\"],[0.3333333333333333,\"#9c179e\"],[0.4444444444444444,\"#bd3786\"],[0.5555555555555556,\"#d8576b\"],[0.6666666666666666,\"#ed7953\"],[0.7777777777777778,\"#fb9f3a\"],[0.8888888888888888,\"#fdca26\"],[1.0,\"#f0f921\"]]}],\"heatmapgl\":[{\"type\":\"heatmapgl\",\"colorbar\":{\"outlinewidth\":0,\"ticks\":\"\"},\"colorscale\":[[0.0,\"#0d0887\"],[0.1111111111111111,\"#46039f\"],[0.2222222222222222,\"#7201a8\"],[0.3333333333333333,\"#9c179e\"],[0.4444444444444444,\"#bd3786\"],[0.5555555555555556,\"#d8576b\"],[0.6666666666666666,\"#ed7953\"],[0.7777777777777778,\"#fb9f3a\"],[0.8888888888888888,\"#fdca26\"],[1.0,\"#f0f921\"]]}],\"contourcarpet\":[{\"type\":\"contourcarpet\",\"colorbar\":{\"outlinewidth\":0,\"ticks\":\"\"}}],\"contour\":[{\"type\":\"contour\",\"colorbar\":{\"outlinewidth\":0,\"ticks\":\"\"},\"colorscale\":[[0.0,\"#0d0887\"],[0.1111111111111111,\"#46039f\"],[0.2222222222222222,\"#7201a8\"],[0.3333333333333333,\"#9c179e\"],[0.4444444444444444,\"#bd3786\"],[0.5555555555555556,\"#d8576b\"],[0.6666666666666666,\"#ed7953\"],[0.7777777777777778,\"#fb9f3a\"],[0.8888888888888888,\"#fdca26\"],[1.0,\"#f0f921\"]]}],\"surface\":[{\"type\":\"surface\",\"colorbar\":{\"outlinewidth\":0,\"ticks\":\"\"},\"colorscale\":[[0.0,\"#0d0887\"],[0.1111111111111111,\"#46039f\"],[0.2222222222222222,\"#7201a8\"],[0.3333333333333333,\"#9c179e\"],[0.4444444444444444,\"#bd3786\"],[0.5555555555555556,\"#d8576b\"],[0.6666666666666666,\"#ed7953\"],[0.7777777777777778,\"#fb9f3a\"],[0.8888888888888888,\"#fdca26\"],[1.0,\"#f0f921\"]]}],\"mesh3d\":[{\"type\":\"mesh3d\",\"colorbar\":{\"outlinewidth\":0,\"ticks\":\"\"}}],\"scatter\":[{\"fillpattern\":{\"fillmode\":\"overlay\",\"size\":10,\"solidity\":0.2},\"type\":\"scatter\"}],\"parcoords\":[{\"type\":\"parcoords\",\"line\":{\"colorbar\":{\"outlinewidth\":0,\"ticks\":\"\"}}}],\"scatterpolargl\":[{\"type\":\"scatterpolargl\",\"marker\":{\"colorbar\":{\"outlinewidth\":0,\"ticks\":\"\"}}}],\"bar\":[{\"error_x\":{\"color\":\"#2a3f5f\"},\"error_y\":{\"color\":\"#2a3f5f\"},\"marker\":{\"line\":{\"color\":\"#E5ECF6\",\"width\":0.5},\"pattern\":{\"fillmode\":\"overlay\",\"size\":10,\"solidity\":0.2}},\"type\":\"bar\"}],\"scattergeo\":[{\"type\":\"scattergeo\",\"marker\":{\"colorbar\":{\"outlinewidth\":0,\"ticks\":\"\"}}}],\"scatterpolar\":[{\"type\":\"scatterpolar\",\"marker\":{\"colorbar\":{\"outlinewidth\":0,\"ticks\":\"\"}}}],\"histogram\":[{\"marker\":{\"pattern\":{\"fillmode\":\"overlay\",\"size\":10,\"solidity\":0.2}},\"type\":\"histogram\"}],\"scattergl\":[{\"type\":\"scattergl\",\"marker\":{\"colorbar\":{\"outlinewidth\":0,\"ticks\":\"\"}}}],\"scatter3d\":[{\"type\":\"scatter3d\",\"line\":{\"colorbar\":{\"outlinewidth\":0,\"ticks\":\"\"}},\"marker\":{\"colorbar\":{\"outlinewidth\":0,\"ticks\":\"\"}}}],\"scattermapbox\":[{\"type\":\"scattermapbox\",\"marker\":{\"colorbar\":{\"outlinewidth\":0,\"ticks\":\"\"}}}],\"scatterternary\":[{\"type\":\"scatterternary\",\"marker\":{\"colorbar\":{\"outlinewidth\":0,\"ticks\":\"\"}}}],\"scattercarpet\":[{\"type\":\"scattercarpet\",\"marker\":{\"colorbar\":{\"outlinewidth\":0,\"ticks\":\"\"}}}],\"carpet\":[{\"aaxis\":{\"endlinecolor\":\"#2a3f5f\",\"gridcolor\":\"white\",\"linecolor\":\"white\",\"minorgridcolor\":\"white\",\"startlinecolor\":\"#2a3f5f\"},\"baxis\":{\"endlinecolor\":\"#2a3f5f\",\"gridcolor\":\"white\",\"linecolor\":\"white\",\"minorgridcolor\":\"white\",\"startlinecolor\":\"#2a3f5f\"},\"type\":\"carpet\"}],\"table\":[{\"cells\":{\"fill\":{\"color\":\"#EBF0F8\"},\"line\":{\"color\":\"white\"}},\"header\":{\"fill\":{\"color\":\"#C8D4E3\"},\"line\":{\"color\":\"white\"}},\"type\":\"table\"}],\"barpolar\":[{\"marker\":{\"line\":{\"color\":\"#E5ECF6\",\"width\":0.5},\"pattern\":{\"fillmode\":\"overlay\",\"size\":10,\"solidity\":0.2}},\"type\":\"barpolar\"}],\"pie\":[{\"automargin\":true,\"type\":\"pie\"}]},\"layout\":{\"autotypenumbers\":\"strict\",\"colorway\":[\"#636efa\",\"#EF553B\",\"#00cc96\",\"#ab63fa\",\"#FFA15A\",\"#19d3f3\",\"#FF6692\",\"#B6E880\",\"#FF97FF\",\"#FECB52\"],\"font\":{\"color\":\"#2a3f5f\"},\"hovermode\":\"closest\",\"hoverlabel\":{\"align\":\"left\"},\"paper_bgcolor\":\"white\",\"plot_bgcolor\":\"#E5ECF6\",\"polar\":{\"bgcolor\":\"#E5ECF6\",\"angularaxis\":{\"gridcolor\":\"white\",\"linecolor\":\"white\",\"ticks\":\"\"},\"radialaxis\":{\"gridcolor\":\"white\",\"linecolor\":\"white\",\"ticks\":\"\"}},\"ternary\":{\"bgcolor\":\"#E5ECF6\",\"aaxis\":{\"gridcolor\":\"white\",\"linecolor\":\"white\",\"ticks\":\"\"},\"baxis\":{\"gridcolor\":\"white\",\"linecolor\":\"white\",\"ticks\":\"\"},\"caxis\":{\"gridcolor\":\"white\",\"linecolor\":\"white\",\"ticks\":\"\"}},\"coloraxis\":{\"colorbar\":{\"outlinewidth\":0,\"ticks\":\"\"}},\"colorscale\":{\"sequential\":[[0.0,\"#0d0887\"],[0.1111111111111111,\"#46039f\"],[0.2222222222222222,\"#7201a8\"],[0.3333333333333333,\"#9c179e\"],[0.4444444444444444,\"#bd3786\"],[0.5555555555555556,\"#d8576b\"],[0.6666666666666666,\"#ed7953\"],[0.7777777777777778,\"#fb9f3a\"],[0.8888888888888888,\"#fdca26\"],[1.0,\"#f0f921\"]],\"sequentialminus\":[[0.0,\"#0d0887\"],[0.1111111111111111,\"#46039f\"],[0.2222222222222222,\"#7201a8\"],[0.3333333333333333,\"#9c179e\"],[0.4444444444444444,\"#bd3786\"],[0.5555555555555556,\"#d8576b\"],[0.6666666666666666,\"#ed7953\"],[0.7777777777777778,\"#fb9f3a\"],[0.8888888888888888,\"#fdca26\"],[1.0,\"#f0f921\"]],\"diverging\":[[0,\"#8e0152\"],[0.1,\"#c51b7d\"],[0.2,\"#de77ae\"],[0.3,\"#f1b6da\"],[0.4,\"#fde0ef\"],[0.5,\"#f7f7f7\"],[0.6,\"#e6f5d0\"],[0.7,\"#b8e186\"],[0.8,\"#7fbc41\"],[0.9,\"#4d9221\"],[1,\"#276419\"]]},\"xaxis\":{\"gridcolor\":\"white\",\"linecolor\":\"white\",\"ticks\":\"\",\"title\":{\"standoff\":15},\"zerolinecolor\":\"white\",\"automargin\":true,\"zerolinewidth\":2},\"yaxis\":{\"gridcolor\":\"white\",\"linecolor\":\"white\",\"ticks\":\"\",\"title\":{\"standoff\":15},\"zerolinecolor\":\"white\",\"automargin\":true,\"zerolinewidth\":2},\"scene\":{\"xaxis\":{\"backgroundcolor\":\"#E5ECF6\",\"gridcolor\":\"white\",\"linecolor\":\"white\",\"showbackground\":true,\"ticks\":\"\",\"zerolinecolor\":\"white\",\"gridwidth\":2},\"yaxis\":{\"backgroundcolor\":\"#E5ECF6\",\"gridcolor\":\"white\",\"linecolor\":\"white\",\"showbackground\":true,\"ticks\":\"\",\"zerolinecolor\":\"white\",\"gridwidth\":2},\"zaxis\":{\"backgroundcolor\":\"#E5ECF6\",\"gridcolor\":\"white\",\"linecolor\":\"white\",\"showbackground\":true,\"ticks\":\"\",\"zerolinecolor\":\"white\",\"gridwidth\":2}},\"shapedefaults\":{\"line\":{\"color\":\"#2a3f5f\"}},\"annotationdefaults\":{\"arrowcolor\":\"#2a3f5f\",\"arrowhead\":0,\"arrowwidth\":1},\"geo\":{\"bgcolor\":\"white\",\"landcolor\":\"#E5ECF6\",\"subunitcolor\":\"white\",\"showland\":true,\"showlakes\":true,\"lakecolor\":\"white\"},\"title\":{\"x\":0.05},\"mapbox\":{\"style\":\"light\"}}},\"xaxis\":{\"anchor\":\"y\",\"domain\":[0.0,1.0],\"title\":{\"text\":\"x\"}},\"yaxis\":{\"anchor\":\"x\",\"domain\":[0.0,1.0],\"title\":{\"text\":\"y\"}},\"legend\":{\"tracegroupgap\":0},\"margin\":{\"t\":60},\"barmode\":\"relative\"},                        {\"responsive\": true}                    ).then(function(){\n",
       "                            \n",
       "var gd = document.getElementById('f3f4414a-5a44-4cb0-b6cf-eed22ff9b8da');\n",
       "var x = new MutationObserver(function (mutations, observer) {{\n",
       "        var display = window.getComputedStyle(gd).display;\n",
       "        if (!display || display === 'none') {{\n",
       "            console.log([gd, 'removed!']);\n",
       "            Plotly.purge(gd);\n",
       "            observer.disconnect();\n",
       "        }}\n",
       "}});\n",
       "\n",
       "// Listen for the removal of the full notebook cells\n",
       "var notebookContainer = gd.closest('#notebook-container');\n",
       "if (notebookContainer) {{\n",
       "    x.observe(notebookContainer, {childList: true});\n",
       "}}\n",
       "\n",
       "// Listen for the clearing of the current output cell\n",
       "var outputEl = gd.closest('.output');\n",
       "if (outputEl) {{\n",
       "    x.observe(outputEl, {childList: true});\n",
       "}}\n",
       "\n",
       "                        })                };                });            </script>        </div>"
      ]
     },
     "metadata": {},
     "output_type": "display_data"
    },
    {
     "name": "stdout",
     "output_type": "stream",
     "text": [
      "3        Location_2\n",
      "2        Location_1\n",
      "5        Industry_2\n",
      "4        Industry_1\n",
      "1    Laid_Off_Count\n",
      "0      Funds_Raised\n",
      "Name: Features, dtype: object\n"
     ]
    }
   ],
   "source": [
    "features = fet_sel.feature_sel(Xtrain,Ytrain,0.07,verbose=True)\n",
    "print(features)"
   ]
  },
  {
   "cell_type": "code",
   "execution_count": 45,
   "id": "ee600c02",
   "metadata": {},
   "outputs": [
    {
     "name": "stdout",
     "output_type": "stream",
     "text": [
      " features used for training Index(['Stage_2', 'Stage_1', 'Location_2', 'Location_1', 'Industry_2',\n",
      "       'Industry_1', 'Laid_Off_Count', 'Funds_Raised'],\n",
      "      dtype='object'), test Index(['Stage_2', 'Stage_1', 'Location_2', 'Location_1', 'Industry_2',\n",
      "       'Industry_1', 'Laid_Off_Count', 'Funds_Raised'],\n",
      "      dtype='object')\n"
     ]
    }
   ],
   "source": [
    "Xtrain = Xtrain[features]\n",
    "Xtest = Xtest[features]\n",
    "print(f' features used for training {Xtrain.columns}, test {Xtest.columns}')"
   ]
  },
  {
   "cell_type": "code",
   "execution_count": 71,
   "id": "578892db",
   "metadata": {
    "scrolled": true
   },
   "outputs": [
    {
     "data": {
      "text/plain": [
       "RandomForestRegressor(n_estimators=500)"
      ]
     },
     "execution_count": 71,
     "metadata": {},
     "output_type": "execute_result"
    },
    {
     "name": "stdout",
     "output_type": "stream",
     "text": [
      "mean squared error is 0.052176869949337616\n"
     ]
    },
    {
     "data": {
      "application/vnd.plotly.v1+json": {
       "config": {
        "plotlyServerURL": "https://plot.ly"
       },
       "data": [
        {
         "hovertemplate": "x=%{x}<br>y=%{y}<extra></extra>",
         "legendgroup": "",
         "marker": {
          "color": "#636efa",
          "symbol": "circle"
         },
         "mode": "markers",
         "name": "",
         "orientation": "v",
         "showlegend": false,
         "type": "scatter",
         "x": [
          0.20378074199999982,
          0.27765897200000006,
          0.29772907800000015,
          0.2436324359999999,
          0.3513424079999993,
          0.30912576,
          0.32233556200000024,
          0.23811177400000058,
          0.2906614919999997,
          0.22611486800000005,
          0.3527592319999995,
          0.18771612400000032,
          0.4618757760000003,
          0.3816499780000007,
          0.306432342,
          0.24161411999999988,
          0.2751467900000005,
          0.2784683139999994,
          0.34309390999999956,
          0.2879017279999998,
          0.20242208400000009,
          0.3108045159999999,
          0.23060921600000012,
          0.21278953199999973,
          0.18093802200000023,
          0.2687101919999997,
          0.30062315399999995,
          0.19353653799999954,
          0.17538250800000008,
          0.31735005799999966,
          0.24758135400000006,
          0.34643630600000025,
          0.3503263400000001,
          0.3292387919999999,
          0.15902951800000018,
          0.25244592400000004,
          0.20554770399999972,
          0.22988223799999993,
          0.26169953399999957,
          0.33018716600000014,
          0.3023785520000001,
          0.33101297399999885,
          0.18984894199999985,
          0.21143867599999946,
          0.3918549939999998,
          0.4851132360000002,
          0.2580340239999998,
          0.2683010039999994,
          0.278891336,
          0.2136008099999993,
          0.3149703679999997,
          0.3966332720000008,
          0.3896401999999994,
          0.2672918259999996,
          0.21171540399999916,
          0.2703634799999998,
          0.3705290100000009,
          0.2341473100000002,
          0.2520064859999995,
          0.20520696800000074,
          0.2860389520000004,
          0.3066805999999998,
          0.27272302199999926,
          0.3111645559999999,
          0.2276592140000001,
          0.2785353860000009,
          0.4828573020000004,
          0.2236581739999996,
          0.1917596539999996,
          0.3090359839999989,
          0.2864363039999999,
          0.24783519400000015,
          0.26585626600000006,
          0.34672829400000005,
          0.248897472,
          0.2891593559999998,
          0.2268184419999997,
          0.2732744200000006,
          0.31996834800000035,
          0.39096721800000095,
          0.18830982599999954,
          0.20369443199999948,
          0.33627297600000017,
          0.3257283720000006,
          0.3273676619999998,
          0.36421663800000026,
          0.4174110200000003,
          0.32136407400000044,
          0.2541577319999995,
          0.3073337700000002,
          0.2326537019999997,
          0.19470236399999935,
          0.2939850439999997,
          0.3131032439999998,
          0.23538133999999988,
          0.3821544820000009,
          0.23531497200000037,
          0.44404254,
          0.437471356000001,
          0.2938098240000001,
          0.29601684599999956,
          0.1886903579999993,
          0.28205588399999976,
          0.2404975839999998,
          0.2683677680000002,
          0.43909920999999946,
          0.24077863599999977,
          0.17965145400000013,
          0.17164195599999998,
          0.37529653399999946,
          0.23454398399999996,
          0.2577033499999998,
          0.4089744499999999,
          0.3003921439999997,
          0.317867766,
          0.21814177599999982,
          0.2425181639999998,
          0.1916000519999997,
          0.5220185899999998,
          0.2723879800000003,
          0.27693469600000026,
          0.4207785359999996,
          0.22332896400000016,
          0.25134740800000005,
          0.40040594800000084,
          0.2936088799999998,
          0.34385258,
          0.2644306999999992,
          0.28161761599999946,
          0.1702394499999998,
          0.22647113599999993,
          0.26554049800000007,
          0.23200636600000002,
          0.30634025000000015,
          0.3954099639999991,
          0.3314893220000003,
          0.2800207939999998,
          0.36988580999999926,
          0.2858963699999999,
          0.28506149599999997,
          0.2984152140000004,
          0.33872047400000005,
          0.2929790259999999,
          0.435174133999999,
          0.2838525619999995,
          0.2126349739999997,
          0.24480646800000022,
          0.3081830380000001,
          0.3299820680000003,
          0.3144326460000008,
          0.2778538920000003,
          0.2264588559999995,
          0.2647109860000006,
          0.3224988900000001,
          0.28732870600000016,
          0.29620312199999993,
          0.20625103399999967,
          0.20478896399999935,
          0.23123329600000042,
          0.2815869739999998,
          0.2052556439999998,
          0.5155927119999992,
          0.2744231579999997,
          0.30810667199999964,
          0.23633477199999944,
          0.6726762319999998,
          0.22943426400000022,
          0.2594123500000005,
          0.3294179399999999,
          0.3547889180000006,
          0.34274187199999967,
          0.3705095739999989,
          0.36704898999999996,
          0.5238979739999997,
          0.3097567740000004,
          0.2081627440000001,
          0.20319333799999967,
          0.22175714599999988,
          0.22400279599999975,
          0.4055857160000004,
          0.39215187799999995,
          0.31461384399999986,
          0.21785908399999926,
          0.2104906500000005,
          0.23984475799999963,
          0.24210497999999958,
          0.31452735800000026,
          0.2850173300000002,
          0.39046048800000016,
          0.20610684800000018,
          0.41987907999999985,
          0.34746326600000027,
          0.33701632199999987,
          0.3396204839999999,
          0.29772282200000005,
          0.3080157740000005,
          0.44358746800000043,
          0.4188726360000004,
          0.3287578899999995,
          0.15958028800000015,
          0.28828126199999976,
          0.29108715800000046,
          0.27883926399999986,
          0.3076444059999999,
          0.27000000600000024,
          0.2740186939999998,
          0.18656029799999996,
          0.24034717799999958,
          0.23589309799999975,
          0.3055797039999998,
          0.27184148599999985,
          0.17496177400000001,
          0.37666870800000096,
          0.1732155459999997,
          0.2821934339999998,
          0.3695464520000001,
          0.3032547280000008,
          0.321275049999999,
          0.23104887999999968,
          0.4132200540000001,
          0.2210485639999995,
          0.2505979320000005,
          0.2061158839999997,
          0.19764538000000006,
          0.36730031999999957,
          0.2548240899999997,
          0.24226222999999997,
          0.3135816820000001,
          0.2903094959999996,
          0.24502327400000015,
          0.27038524399999914,
          0.4648446019999993,
          0.30373991800000055,
          0.2687173619999998,
          0.28626353199999965,
          0.23358210199999985,
          0.23984696400000002,
          0.3165585519999998,
          0.26271876399999977,
          0.32118704399999964,
          0.284090298,
          0.21254007799999963,
          0.27421111399999953,
          0.1967053859999997,
          0.3262743460000001,
          0.43791823799999907,
          0.3239046819999997,
          0.41580006000000025,
          0.4062941699999994,
          0.25351794600000016,
          0.24745754800000022,
          0.22870752600000005,
          0.28429428599999984,
          0.24726129399999988,
          0.24054884999999956,
          0.20959145200000048,
          0.1627647880000002,
          0.27285608600000066,
          0.33407616200000023,
          0.4087577360000004,
          0.25101158399999995,
          0.23624769600000026,
          0.46484744600000033,
          0.2951777720000002,
          0.23910529000000003,
          0.3440843399999999,
          0.23463555600000008,
          0.16824360600000002,
          0.3533166300000003,
          0.3086421780000002,
          0.4147207540000004,
          0.23891035199999933,
          0.3704832979999995,
          0.2733888200000003,
          0.14695678799999978,
          0.22685706800000013,
          0.1867836620000002,
          0.36067475600000004,
          0.32613808399999983,
          0.322744552,
          0.3015077100000001,
          0.2780061840000003,
          0.43868407600000014,
          0.26210533799999963,
          0.557835969999999,
          0.39099204199999865,
          0.24926331800000034,
          0.343759366,
          0.3119334720000001,
          0.18266054399999965,
          0.29200955399999967,
          0.1879117920000003,
          0.2481185019999995,
          0.17565512999999966,
          0.3094707820000003,
          0.2501812659999998,
          0.26317367199999975,
          0.3012419020000002,
          0.34676720999999955,
          0.2468086679999994,
          0.3547477539999994,
          0.2562296000000001,
          0.33381823999999993,
          0.2912300059999999,
          0.35452127800000055,
          0.3735575420000006,
          0.21007630399999866,
          0.41856171999999964,
          0.3422151979999995,
          0.24245256400000037,
          0.3918988579999999,
          0.23048614799999897,
          0.16082308600000017,
          0.23875570799999962,
          0.21825929799999993,
          0.29357623599999993,
          0.41558388400000057,
          0.26626440799999995,
          0.16440114200000094,
          0.3108067339999993,
          0.26190232399999974,
          0.2427592980000004,
          0.25099142799999985,
          0.26491420200000015,
          0.32480119000000013,
          0.2879176899999998,
          0.2159809900000002,
          0.3077542180000002,
          0.5344444240000005,
          0.22647259399999903,
          0.20821733999999972,
          0.3592436300000007,
          0.5272236099999981,
          0.21950870200000022,
          0.3457447840000004,
          0.27913328199999954,
          0.17537641999999992,
          0.5486796199999998,
          0.24767227800000002,
          0.23772526999999935,
          0.3989264039999989,
          0.19265114400000008,
          0.202295354,
          0.22242177399999963,
          0.20717404199999986,
          0.23036536200000007,
          0.26885008399999977,
          0.19589845599999994,
          0.26450603800000017,
          0.22644338799999986,
          0.3277876400000007,
          0.22912378200000036,
          0.29650733999999984,
          0.2870957719999997,
          0.15044984400000017,
          0.34861781199999897,
          0.29015099799999994,
          0.3018605039999996,
          0.28731185999999903,
          0.34801254399999915,
          0.2319554119999999,
          0.3022379740000001,
          0.3256765300000004,
          0.306819488,
          0.3071744199999992,
          0.2236963080000003
         ],
         "xaxis": "x",
         "y": [
          0.2,
          0.2535499999999998,
          0.26420000000000005,
          0.3,
          0.16,
          0.1,
          0.33,
          0.2,
          0.23,
          0.75,
          0.22459799999999944,
          0.5,
          0.26699999999999974,
          0.25,
          0.06,
          0.1,
          0.35,
          0.21,
          0.3662400000000009,
          0.2,
          0.11,
          0.36733800000000005,
          0.1,
          0.1,
          0.2,
          0.15,
          1,
          0.32269999999999943,
          0.4,
          0.16,
          0.36,
          0.04,
          0.06,
          0.1892200000000002,
          0.22415599999999977,
          0.21526799999999968,
          0.20985999999999985,
          0.2024979999999995,
          0.3,
          0.15,
          0.5,
          0.21,
          0.2926149999999995,
          0.15,
          0.35817600000000005,
          0.5443399999999997,
          1,
          0.5,
          0.05,
          0.3,
          0.34,
          0.04,
          0.29,
          0.18,
          0.32367999999999997,
          0.05,
          0.4049799999999991,
          0.18396999999999972,
          0.23466999999999968,
          0.2703299999999995,
          0.28393999999999947,
          0.12,
          0.02,
          1,
          0.25443999999999994,
          0.15,
          0.2824999999999998,
          0.8,
          0.09,
          0.14,
          0.03,
          0.2961800000000001,
          0.23456999999999956,
          0.2939599999999999,
          0.21,
          1,
          0.08,
          0.2839739999999999,
          0.3790600000000002,
          0.05,
          0.1,
          0.267159999999999,
          0.12,
          0.2262299999999998,
          0.24962799999999957,
          0.09,
          0.25,
          0.12,
          0.4,
          0.22778000000000026,
          0.2,
          0.17670699999999961,
          0.05,
          1,
          0.1,
          0.2844400000000003,
          0.24667999999999954,
          0.3,
          0.1,
          0.5,
          0.4200400000000011,
          1,
          0.05,
          0.4170200000000002,
          0.2347799999999997,
          0.18,
          0.1,
          0.48,
          0.1,
          0.21,
          0.3790000000000001,
          0.2545269999999995,
          0.06,
          0.22277999999999967,
          0.1,
          0.14,
          0.2,
          0.1966369999999994,
          1,
          1,
          0.11,
          0.5324799999999998,
          0.2693269999999996,
          0.31,
          0.28620000000000007,
          1,
          0.34299999999999986,
          0.05,
          0.14,
          0.14081999999999964,
          0.05,
          0.2496599999999995,
          0.2508899999999997,
          0.15,
          0.36963,
          0.08,
          0.2554449999999995,
          0.4443000000000001,
          0.17,
          1,
          0.05,
          0.1,
          0.3,
          0.04,
          0.17,
          0.1576199999999998,
          0.12,
          0.07,
          0.30837000000000053,
          0.05,
          0.42507800000000107,
          0.3,
          0.3363400000000008,
          0.14,
          0.11,
          0.3175800000000008,
          0.1654599999999993,
          0.23202000000000014,
          0.20318999999999973,
          0.23912699999999992,
          0.09,
          0.13,
          0.19,
          0.1,
          0.32417999999999936,
          0.05,
          0.2162999999999996,
          0.06,
          0.25567999999999974,
          0.1,
          0.41415000000000013,
          0.3711199999999997,
          0.4069200000000004,
          0.15,
          0.12,
          0.33,
          1,
          0.24972399999999972,
          0.1,
          0.3,
          0.25,
          0.5,
          1,
          0.12,
          0.3105300000000001,
          0.37,
          0.15,
          0.15,
          0.3181400000000002,
          0.15,
          0.15,
          0.34514000000000106,
          0.33,
          0.06,
          0.13,
          0.2,
          0.33,
          0.26277999999999974,
          0.36341999999999997,
          0.17,
          0.25,
          0.2869720000000003,
          0.25,
          0.22741000000000006,
          0.23,
          0.29520799999999936,
          0.14,
          0.25,
          0.2,
          0.2,
          0.1,
          0.12,
          0.33,
          0.05,
          0.3028399999999999,
          0.18664099999999959,
          0.28542999999999974,
          0.22539999999999957,
          0.26,
          0.42,
          0.3018199999999999,
          0.37404000000000115,
          0.33,
          1,
          0.38,
          0.24,
          0.3,
          0.33,
          0.09,
          0.12,
          1,
          0.1,
          0.30936000000000013,
          0.16,
          0.26269,
          0.27669999999999995,
          0.19060000000000005,
          0.3991400000000002,
          0.08,
          0.14,
          0.05,
          0.2434079999999998,
          0.1,
          0.2449599999999996,
          0.3934800000000004,
          0.1,
          0.2619769999999999,
          0.2824399999999996,
          0.18,
          0.12,
          0.2627400000000005,
          0.13,
          0.28541999999999973,
          0.2,
          0.13,
          0.1,
          0.07,
          0.3,
          0.15,
          0.17507599999999957,
          0.54,
          0.05,
          0.21329000000000034,
          0.3121699999999996,
          0.25,
          1,
          0.38,
          0.12,
          0.2,
          0.04,
          1,
          0.1,
          0.38857999999999954,
          0.09,
          0.4058679999999999,
          0.20183800000000013,
          0.1576170000000001,
          0.40972000000000014,
          0.2,
          1,
          0.05,
          0.2824300000000001,
          0.05,
          0.33,
          0.4479970000000003,
          0.5143799999999995,
          0.17,
          0.3,
          0.39598999999999995,
          0.31788700000000025,
          0.3186800000000003,
          0.1,
          0.42287300000000033,
          0.25757999999999937,
          0.3076090000000003,
          0.21057999999999913,
          0.07,
          0.15,
          0.08,
          0.33,
          0.16,
          0.3,
          0.5,
          0.17,
          0.5,
          0.1,
          0.09,
          0.1,
          0.06,
          0.5,
          0.16,
          0.20639999999999986,
          0.2,
          0.12,
          0.31714000000000064,
          0.16841999999999996,
          1,
          0.22891999999999985,
          0.06,
          0.1,
          0.2,
          0.03,
          1,
          0.07,
          0.05,
          0.3,
          0.22532000000000024,
          0.15,
          0.2,
          0.23364999999999964,
          0.3,
          0.25,
          0.1,
          0.1,
          0.18,
          0.25,
          0.2,
          0.5,
          0.2215599999999993,
          0.11,
          0.33948000000000017,
          0.07,
          1,
          0.07,
          0.14978099999999997,
          0.12,
          0.12,
          0.05,
          0.22783999999999985,
          0.17478000000000013,
          0.48178000000000076,
          0.08,
          0.2524400000000003,
          1,
          0.18784799999999965,
          0.40913999999999995,
          0.38,
          0.2760999999999999,
          0.3353700000000006,
          0.3,
          0.1,
          0.22729999999999972,
          0.29529999999999995,
          0.2946519999999999,
          0.24694000000000016,
          0.05
         ],
         "yaxis": "y"
        },
        {
         "hovertemplate": "<b>OLS trendline</b><br>y = 0.155466 * x + 0.224533<br>R<sup>2</sup>=0.003141<br><br>x=%{x}<br>y=%{y} <b>(trend)</b><extra></extra>",
         "legendgroup": "",
         "marker": {
          "color": "#636efa",
          "symbol": "circle"
         },
         "mode": "lines",
         "name": "",
         "showlegend": false,
         "type": "scatter",
         "x": [
          0.14695678799999978,
          0.15044984400000017,
          0.15902951800000018,
          0.15958028800000015,
          0.16082308600000017,
          0.1627647880000002,
          0.16440114200000094,
          0.16824360600000002,
          0.1702394499999998,
          0.17164195599999998,
          0.1732155459999997,
          0.17496177400000001,
          0.17537641999999992,
          0.17538250800000008,
          0.17565512999999966,
          0.17965145400000013,
          0.18093802200000023,
          0.18266054399999965,
          0.18656029799999996,
          0.1867836620000002,
          0.18771612400000032,
          0.1879117920000003,
          0.18830982599999954,
          0.1886903579999993,
          0.18984894199999985,
          0.1916000519999997,
          0.1917596539999996,
          0.19265114400000008,
          0.19353653799999954,
          0.19470236399999935,
          0.19589845599999994,
          0.1967053859999997,
          0.19764538000000006,
          0.202295354,
          0.20242208400000009,
          0.20319333799999967,
          0.20369443199999948,
          0.20378074199999982,
          0.20478896399999935,
          0.20520696800000074,
          0.2052556439999998,
          0.20554770399999972,
          0.20610684800000018,
          0.2061158839999997,
          0.20625103399999967,
          0.20717404199999986,
          0.2081627440000001,
          0.20821733999999972,
          0.20959145200000048,
          0.21007630399999866,
          0.2104906500000005,
          0.21143867599999946,
          0.21171540399999916,
          0.21254007799999963,
          0.2126349739999997,
          0.21278953199999973,
          0.2136008099999993,
          0.2159809900000002,
          0.21785908399999926,
          0.21814177599999982,
          0.21825929799999993,
          0.21950870200000022,
          0.2210485639999995,
          0.22175714599999988,
          0.22242177399999963,
          0.22332896400000016,
          0.2236581739999996,
          0.2236963080000003,
          0.22400279599999975,
          0.22611486800000005,
          0.22644338799999986,
          0.2264588559999995,
          0.22647113599999993,
          0.22647259399999903,
          0.2268184419999997,
          0.22685706800000013,
          0.2276592140000001,
          0.22870752600000005,
          0.22912378200000036,
          0.22943426400000022,
          0.22988223799999993,
          0.23036536200000007,
          0.23048614799999897,
          0.23060921600000012,
          0.23104887999999968,
          0.23123329600000042,
          0.2319554119999999,
          0.23200636600000002,
          0.2326537019999997,
          0.23358210199999985,
          0.2341473100000002,
          0.23454398399999996,
          0.23463555600000008,
          0.23531497200000037,
          0.23538133999999988,
          0.23589309799999975,
          0.23624769600000026,
          0.23633477199999944,
          0.23772526999999935,
          0.23811177400000058,
          0.23875570799999962,
          0.23891035199999933,
          0.23910529000000003,
          0.23984475799999963,
          0.23984696400000002,
          0.24034717799999958,
          0.2404975839999998,
          0.24054884999999956,
          0.24077863599999977,
          0.24161411999999988,
          0.24210497999999958,
          0.24226222999999997,
          0.24245256400000037,
          0.2425181639999998,
          0.2427592980000004,
          0.2436324359999999,
          0.24480646800000022,
          0.24502327400000015,
          0.2468086679999994,
          0.24726129399999988,
          0.24745754800000022,
          0.24758135400000006,
          0.24767227800000002,
          0.24783519400000015,
          0.2481185019999995,
          0.248897472,
          0.24926331800000034,
          0.2501812659999998,
          0.2505979320000005,
          0.25099142799999985,
          0.25101158399999995,
          0.25134740800000005,
          0.2520064859999995,
          0.25244592400000004,
          0.25351794600000016,
          0.2541577319999995,
          0.2548240899999997,
          0.2562296000000001,
          0.2577033499999998,
          0.2580340239999998,
          0.2594123500000005,
          0.26169953399999957,
          0.26190232399999974,
          0.26210533799999963,
          0.26271876399999977,
          0.26317367199999975,
          0.2644306999999992,
          0.26450603800000017,
          0.2647109860000006,
          0.26491420200000015,
          0.26554049800000007,
          0.26585626600000006,
          0.26626440799999995,
          0.2672918259999996,
          0.2683010039999994,
          0.2683677680000002,
          0.2687101919999997,
          0.2687173619999998,
          0.26885008399999977,
          0.27000000600000024,
          0.2703634799999998,
          0.27038524399999914,
          0.27184148599999985,
          0.2723879800000003,
          0.27272302199999926,
          0.27285608600000066,
          0.2732744200000006,
          0.2733888200000003,
          0.2740186939999998,
          0.27421111399999953,
          0.2744231579999997,
          0.2751467900000005,
          0.27693469600000026,
          0.27765897200000006,
          0.2778538920000003,
          0.2780061840000003,
          0.2784683139999994,
          0.2785353860000009,
          0.27883926399999986,
          0.278891336,
          0.27913328199999954,
          0.2800207939999998,
          0.2815869739999998,
          0.28161761599999946,
          0.28205588399999976,
          0.2821934339999998,
          0.2838525619999995,
          0.284090298,
          0.28429428599999984,
          0.2850173300000002,
          0.28506149599999997,
          0.2858963699999999,
          0.2860389520000004,
          0.28626353199999965,
          0.2864363039999999,
          0.2870957719999997,
          0.28731185999999903,
          0.28732870600000016,
          0.2879017279999998,
          0.2879176899999998,
          0.28828126199999976,
          0.2891593559999998,
          0.29015099799999994,
          0.2903094959999996,
          0.2906614919999997,
          0.29108715800000046,
          0.2912300059999999,
          0.29200955399999967,
          0.2929790259999999,
          0.29357623599999993,
          0.2936088799999998,
          0.2938098240000001,
          0.2939850439999997,
          0.2951777720000002,
          0.29601684599999956,
          0.29620312199999993,
          0.29650733999999984,
          0.29772282200000005,
          0.29772907800000015,
          0.2984152140000004,
          0.3003921439999997,
          0.30062315399999995,
          0.3012419020000002,
          0.3015077100000001,
          0.3018605039999996,
          0.3022379740000001,
          0.3023785520000001,
          0.3032547280000008,
          0.30373991800000055,
          0.3055797039999998,
          0.30634025000000015,
          0.306432342,
          0.3066805999999998,
          0.306819488,
          0.3071744199999992,
          0.3073337700000002,
          0.3076444059999999,
          0.3077542180000002,
          0.3080157740000005,
          0.30810667199999964,
          0.3081830380000001,
          0.3086421780000002,
          0.3090359839999989,
          0.30912576,
          0.3094707820000003,
          0.3097567740000004,
          0.3108045159999999,
          0.3108067339999993,
          0.3111645559999999,
          0.3119334720000001,
          0.3131032439999998,
          0.3135816820000001,
          0.3144326460000008,
          0.31452735800000026,
          0.31461384399999986,
          0.3149703679999997,
          0.3165585519999998,
          0.31735005799999966,
          0.317867766,
          0.31996834800000035,
          0.32118704399999964,
          0.321275049999999,
          0.32136407400000044,
          0.32233556200000024,
          0.3224988900000001,
          0.322744552,
          0.3239046819999997,
          0.32480119000000013,
          0.3256765300000004,
          0.3257283720000006,
          0.32613808399999983,
          0.3262743460000001,
          0.3273676619999998,
          0.3277876400000007,
          0.3287578899999995,
          0.3292387919999999,
          0.3294179399999999,
          0.3299820680000003,
          0.33018716600000014,
          0.33101297399999885,
          0.3314893220000003,
          0.33381823999999993,
          0.33407616200000023,
          0.33627297600000017,
          0.33701632199999987,
          0.33872047400000005,
          0.3396204839999999,
          0.3422151979999995,
          0.34274187199999967,
          0.34309390999999956,
          0.343759366,
          0.34385258,
          0.3440843399999999,
          0.3457447840000004,
          0.34643630600000025,
          0.34672829400000005,
          0.34676720999999955,
          0.34746326600000027,
          0.34801254399999915,
          0.34861781199999897,
          0.3503263400000001,
          0.3513424079999993,
          0.3527592319999995,
          0.3533166300000003,
          0.35452127800000055,
          0.3547477539999994,
          0.3547889180000006,
          0.3592436300000007,
          0.36067475600000004,
          0.36421663800000026,
          0.36704898999999996,
          0.36730031999999957,
          0.3695464520000001,
          0.36988580999999926,
          0.3704832979999995,
          0.3705095739999989,
          0.3705290100000009,
          0.3735575420000006,
          0.37529653399999946,
          0.37666870800000096,
          0.3816499780000007,
          0.3821544820000009,
          0.3896401999999994,
          0.39046048800000016,
          0.39096721800000095,
          0.39099204199999865,
          0.3918549939999998,
          0.3918988579999999,
          0.39215187799999995,
          0.3954099639999991,
          0.3966332720000008,
          0.3989264039999989,
          0.40040594800000084,
          0.4055857160000004,
          0.4062941699999994,
          0.4087577360000004,
          0.4089744499999999,
          0.4132200540000001,
          0.4147207540000004,
          0.41558388400000057,
          0.41580006000000025,
          0.4174110200000003,
          0.41856171999999964,
          0.4188726360000004,
          0.41987907999999985,
          0.4207785359999996,
          0.435174133999999,
          0.437471356000001,
          0.43791823799999907,
          0.43868407600000014,
          0.43909920999999946,
          0.44358746800000043,
          0.44404254,
          0.4618757760000003,
          0.4648446019999993,
          0.46484744600000033,
          0.4828573020000004,
          0.4851132360000002,
          0.5155927119999992,
          0.5220185899999998,
          0.5238979739999997,
          0.5272236099999981,
          0.5344444240000005,
          0.5486796199999998,
          0.557835969999999,
          0.6726762319999998
         ],
         "xaxis": "x",
         "y": [
          0.24737931952520426,
          0.24792237024553446,
          0.24925621606589854,
          0.24934184196059825,
          0.24953505453695685,
          0.24983692277776562,
          0.250091319849675,
          0.2506886915617352,
          0.2509989770314976,
          0.2512170187386925,
          0.2514616581555825,
          0.2517331368760098,
          0.2517976001451306,
          0.25179854662087714,
          0.2518409300162414,
          0.25246222169518184,
          0.25266223900929125,
          0.2529300322576343,
          0.2535363106049641,
          0.2535710360663068,
          0.25371600201039146,
          0.2537464216911368,
          0.2538083023625075,
          0.25386746207157274,
          0.25404758225165663,
          0.25431981995608427,
          0.25434463260754653,
          0.25448322880716867,
          0.2546208772873178,
          0.25480212335067304,
          0.25498807474171326,
          0.25511352475389626,
          0.2552596616663323,
          0.2559825735607355,
          0.25600227574065687,
          0.2561221793552159,
          0.25620008233119257,
          0.25621350058376907,
          0.2563702446163161,
          0.2564352299395693,
          0.2564427973924994,
          0.25648820273194417,
          0.2565751304971928,
          0.2565765352860965,
          0.25659754648799327,
          0.25674104265847275,
          0.25689475199874445,
          0.256903239809168,
          0.2571168672206423,
          0.257192245121212,
          0.25725666175059525,
          0.25740404736427885,
          0.2574470691021884,
          0.2575752776993989,
          0.25759003078127235,
          0.25761405926327574,
          0.2577401852407258,
          0.25811022181142945,
          0.2584022011840897,
          0.2584461501199876,
          0.25846442077088894,
          0.2586586603542748,
          0.2588980562209052,
          0.25900821648329814,
          0.2591115434022343,
          0.25925258041480337,
          0.25930376130845056,
          0.25930968984099323,
          0.25935733824089646,
          0.25968569318882434,
          0.25973676681107455,
          0.2597391715559575,
          0.25974108067589313,
          0.2597413073450189,
          0.2597950748785268,
          0.25980107990023954,
          0.2599257861640698,
          0.2600887628202502,
          0.2601534763892974,
          0.2602017457195771,
          0.26027139035264024,
          0.2603464996083203,
          0.26036527769956913,
          0.26038441056375744,
          0.2604527632760824,
          0.2604814336557273,
          0.2605936979921598,
          0.26060161959616607,
          0.26070225820061316,
          0.2608465926426474,
          0.26093446315246366,
          0.26099613239035624,
          0.2610103687039344,
          0.26111599465101454,
          0.26112631260475094,
          0.261205873467942,
          0.26126100132713687,
          0.2612745386665105,
          0.26149071354046544,
          0.26155080169124545,
          0.26165091140106533,
          0.26167495325312684,
          0.26170525944384354,
          0.2618202214227127,
          0.2618205643802517,
          0.2618983305463306,
          0.26192171353436233,
          0.2619296836436959,
          0.26196540750636,
          0.2620952966887906,
          0.2621716086278437,
          0.26219605562376136,
          0.26222564604996795,
          0.26223584460597543,
          0.26227333269445624,
          0.2624090757858488,
          0.26259159760149986,
          0.26262530351817337,
          0.26290287121184125,
          0.2629732390717726,
          0.26300374985547254,
          0.26302299745341573,
          0.2630371330251602,
          0.2630624608902598,
          0.2631065055930859,
          0.26322760878170237,
          0.2632844853201346,
          0.26342719483370247,
          0.26349197214372483,
          0.26355314731132784,
          0.2635562808798475,
          0.26360849002424835,
          0.2637109541080344,
          0.26377927168509036,
          0.26394593443521797,
          0.26404539927292936,
          0.26414899514768714,
          0.26436750387412367,
          0.2645966215862606,
          0.2646480300818285,
          0.2648623126261537,
          0.2652178914999899,
          0.26524941840811156,
          0.2652809801405708,
          0.26537634689998413,
          0.2654470695328546,
          0.26564249438744464,
          0.26565420686934266,
          0.2656860692726452,
          0.2657176624091945,
          0.26581503001336115,
          0.2658641211358216,
          0.265927573255426,
          0.2660873016093316,
          0.2662441942671765,
          0.266254573785367,
          0.26630780900400025,
          0.2663089236937346,
          0.26632955742468645,
          0.26650833096007315,
          0.2665648387336448,
          0.2665682222911591,
          0.26679461810819594,
          0.26687957923116573,
          0.2669316668013164,
          0.2669523537015696,
          0.2670173903285342,
          0.2670351756152304,
          0.26713309947600355,
          0.2671630142038538,
          0.26719597979242204,
          0.26730847981499667,
          0.2675864380387361,
          0.2676990381812811,
          0.2677293415736135,
          0.2677530177701304,
          0.26782486317695625,
          0.2678352905786111,
          0.267882533212795,
          0.26789062862755764,
          0.26792824295426204,
          0.2680662207109604,
          0.2683097081263258,
          0.2683144719091487,
          0.268382607591227,
          0.2684039919110265,
          0.2686619295609009,
          0.2686988893766178,
          0.26873060253275916,
          0.26884301114144754,
          0.26884987744365224,
          0.2689796717919492,
          0.2690018384156181,
          0.2690367529233647,
          0.2690636130593182,
          0.2691661377747635,
          0.26919973206699765,
          0.26920235104374335,
          0.26929143636326436,
          0.26929391790824897,
          0.2693504409174684,
          0.2694869544973301,
          0.2696411209070326,
          0.26966576192425956,
          0.26972048526146153,
          0.2697866617636191,
          0.26980886974118873,
          0.2699300627890333,
          0.27008078252210943,
          0.2701736282482267,
          0.2701787032735668,
          0.270209943191835,
          0.27023718390804913,
          0.27042261231216236,
          0.270553059616789,
          0.27058201916280844,
          0.27062931465536205,
          0.27081828052812457,
          0.27081925312212435,
          0.27092592379933206,
          0.27123326878908943,
          0.2712691829418839,
          0.2713653770902465,
          0.27140670114169874,
          0.2714615485406033,
          0.27152023221341104,
          0.2715420872836311,
          0.2716783026801024,
          0.27175373312811035,
          0.2720397569171801,
          0.27215799580403,
          0.27217231295982036,
          0.27221090858660896,
          0.27223250091963924,
          0.27228768070440873,
          0.2723124541784913,
          0.2723607474505031,
          0.27237781946014195,
          0.2724184824710432,
          0.2724326140006769,
          0.2724444863014098,
          0.27251586686551543,
          0.2725770902275141,
          0.2725910473245286,
          0.2726446864432916,
          0.2726891484163057,
          0.2728520364569841,
          0.2728523812801124,
          0.2729080103610233,
          0.2730275504965589,
          0.27320941002793253,
          0.2732837907709076,
          0.27341608656381083,
          0.2734308110399783,
          0.2734442566545342,
          0.27349968394084595,
          0.2737465922255161,
          0.27386964433331096,
          0.27395013021796927,
          0.2742766988639379,
          0.2744661644037584,
          0.2744798463263193,
          0.2744936865130576,
          0.274644719665172,
          0.2746701115821782,
          0.27470830361976867,
          0.27488866414996815,
          0.2750280404769386,
          0.27516412590400696,
          0.27517218556163725,
          0.27523588176253627,
          0.2752570658423947,
          0.2754270390811141,
          0.2754923312938422,
          0.27564317197930494,
          0.27571793578999343,
          0.27574578717584175,
          0.27583348978260175,
          0.2758653755057731,
          0.2759937604011924,
          0.2760678162206607,
          0.27642988330389373,
          0.276469981352104,
          0.2768115107822452,
          0.27692707565745883,
          0.2771920129991883,
          0.277331933767365,
          0.2777353230364607,
          0.2778172028274172,
          0.2778719326941824,
          0.27797538833879515,
          0.2779898799272051,
          0.27802591067934407,
          0.27828405292220193,
          0.27839156093816964,
          0.2784369550840773,
          0.2784430051908698,
          0.27855121808874217,
          0.27863661202847884,
          0.27873071049795445,
          0.27899632815799336,
          0.27915429197515057,
          0.27937455964156677,
          0.2794612159635413,
          0.27964849751990467,
          0.27968370679079435,
          0.27969010638468933,
          0.28038266171745907,
          0.2806051528556437,
          0.2811557943487731,
          0.2815961281979379,
          0.2816352014156419,
          0.28198439810775244,
          0.2820371566682649,
          0.2821300456138726,
          0.2821341306330441,
          0.28213715226619324,
          0.2826079853945893,
          0.2828783391645397,
          0.28309166528330765,
          0.2838660823730018,
          0.2839445154873319,
          0.2851082885708689,
          0.28523581529511227,
          0.28531459447629726,
          0.28531845375913734,
          0.2854526132759647,
          0.28545943262750006,
          0.285498768582394,
          0.28600528950539006,
          0.28619547205344725,
          0.286551975637819,
          0.28678199411875976,
          0.28758727085739283,
          0.28769741122016407,
          0.28808041146146607,
          0.28811410307528657,
          0.28877414926705575,
          0.28900745678230877,
          0.2891416439720471,
          0.2891752519452711,
          0.28942570111883803,
          0.28960459560661134,
          0.28965293240904527,
          0.28980940002341266,
          0.2899492346635401,
          0.2921872577194209,
          0.2925443971588857,
          0.29261387202330286,
          0.29273293363512837,
          0.292797472771556,
          0.29349524335981103,
          0.2935659914890715,
          0.2963384496619772,
          0.2968000005497483,
          0.29680044269446315,
          0.29960035923569295,
          0.2999510798035044,
          0.30468959570393206,
          0.30568859992162967,
          0.30598077984516275,
          0.3064978024824623,
          0.30762039205562436,
          0.30983347808740863,
          0.3112569772993005,
          0.3291107096763369
         ],
         "yaxis": "y"
        }
       ],
       "layout": {
        "legend": {
         "tracegroupgap": 0
        },
        "margin": {
         "t": 60
        },
        "template": {
         "data": {
          "bar": [
           {
            "error_x": {
             "color": "#2a3f5f"
            },
            "error_y": {
             "color": "#2a3f5f"
            },
            "marker": {
             "line": {
              "color": "#E5ECF6",
              "width": 0.5
             },
             "pattern": {
              "fillmode": "overlay",
              "size": 10,
              "solidity": 0.2
             }
            },
            "type": "bar"
           }
          ],
          "barpolar": [
           {
            "marker": {
             "line": {
              "color": "#E5ECF6",
              "width": 0.5
             },
             "pattern": {
              "fillmode": "overlay",
              "size": 10,
              "solidity": 0.2
             }
            },
            "type": "barpolar"
           }
          ],
          "carpet": [
           {
            "aaxis": {
             "endlinecolor": "#2a3f5f",
             "gridcolor": "white",
             "linecolor": "white",
             "minorgridcolor": "white",
             "startlinecolor": "#2a3f5f"
            },
            "baxis": {
             "endlinecolor": "#2a3f5f",
             "gridcolor": "white",
             "linecolor": "white",
             "minorgridcolor": "white",
             "startlinecolor": "#2a3f5f"
            },
            "type": "carpet"
           }
          ],
          "choropleth": [
           {
            "colorbar": {
             "outlinewidth": 0,
             "ticks": ""
            },
            "type": "choropleth"
           }
          ],
          "contour": [
           {
            "colorbar": {
             "outlinewidth": 0,
             "ticks": ""
            },
            "colorscale": [
             [
              0,
              "#0d0887"
             ],
             [
              0.1111111111111111,
              "#46039f"
             ],
             [
              0.2222222222222222,
              "#7201a8"
             ],
             [
              0.3333333333333333,
              "#9c179e"
             ],
             [
              0.4444444444444444,
              "#bd3786"
             ],
             [
              0.5555555555555556,
              "#d8576b"
             ],
             [
              0.6666666666666666,
              "#ed7953"
             ],
             [
              0.7777777777777778,
              "#fb9f3a"
             ],
             [
              0.8888888888888888,
              "#fdca26"
             ],
             [
              1,
              "#f0f921"
             ]
            ],
            "type": "contour"
           }
          ],
          "contourcarpet": [
           {
            "colorbar": {
             "outlinewidth": 0,
             "ticks": ""
            },
            "type": "contourcarpet"
           }
          ],
          "heatmap": [
           {
            "colorbar": {
             "outlinewidth": 0,
             "ticks": ""
            },
            "colorscale": [
             [
              0,
              "#0d0887"
             ],
             [
              0.1111111111111111,
              "#46039f"
             ],
             [
              0.2222222222222222,
              "#7201a8"
             ],
             [
              0.3333333333333333,
              "#9c179e"
             ],
             [
              0.4444444444444444,
              "#bd3786"
             ],
             [
              0.5555555555555556,
              "#d8576b"
             ],
             [
              0.6666666666666666,
              "#ed7953"
             ],
             [
              0.7777777777777778,
              "#fb9f3a"
             ],
             [
              0.8888888888888888,
              "#fdca26"
             ],
             [
              1,
              "#f0f921"
             ]
            ],
            "type": "heatmap"
           }
          ],
          "heatmapgl": [
           {
            "colorbar": {
             "outlinewidth": 0,
             "ticks": ""
            },
            "colorscale": [
             [
              0,
              "#0d0887"
             ],
             [
              0.1111111111111111,
              "#46039f"
             ],
             [
              0.2222222222222222,
              "#7201a8"
             ],
             [
              0.3333333333333333,
              "#9c179e"
             ],
             [
              0.4444444444444444,
              "#bd3786"
             ],
             [
              0.5555555555555556,
              "#d8576b"
             ],
             [
              0.6666666666666666,
              "#ed7953"
             ],
             [
              0.7777777777777778,
              "#fb9f3a"
             ],
             [
              0.8888888888888888,
              "#fdca26"
             ],
             [
              1,
              "#f0f921"
             ]
            ],
            "type": "heatmapgl"
           }
          ],
          "histogram": [
           {
            "marker": {
             "pattern": {
              "fillmode": "overlay",
              "size": 10,
              "solidity": 0.2
             }
            },
            "type": "histogram"
           }
          ],
          "histogram2d": [
           {
            "colorbar": {
             "outlinewidth": 0,
             "ticks": ""
            },
            "colorscale": [
             [
              0,
              "#0d0887"
             ],
             [
              0.1111111111111111,
              "#46039f"
             ],
             [
              0.2222222222222222,
              "#7201a8"
             ],
             [
              0.3333333333333333,
              "#9c179e"
             ],
             [
              0.4444444444444444,
              "#bd3786"
             ],
             [
              0.5555555555555556,
              "#d8576b"
             ],
             [
              0.6666666666666666,
              "#ed7953"
             ],
             [
              0.7777777777777778,
              "#fb9f3a"
             ],
             [
              0.8888888888888888,
              "#fdca26"
             ],
             [
              1,
              "#f0f921"
             ]
            ],
            "type": "histogram2d"
           }
          ],
          "histogram2dcontour": [
           {
            "colorbar": {
             "outlinewidth": 0,
             "ticks": ""
            },
            "colorscale": [
             [
              0,
              "#0d0887"
             ],
             [
              0.1111111111111111,
              "#46039f"
             ],
             [
              0.2222222222222222,
              "#7201a8"
             ],
             [
              0.3333333333333333,
              "#9c179e"
             ],
             [
              0.4444444444444444,
              "#bd3786"
             ],
             [
              0.5555555555555556,
              "#d8576b"
             ],
             [
              0.6666666666666666,
              "#ed7953"
             ],
             [
              0.7777777777777778,
              "#fb9f3a"
             ],
             [
              0.8888888888888888,
              "#fdca26"
             ],
             [
              1,
              "#f0f921"
             ]
            ],
            "type": "histogram2dcontour"
           }
          ],
          "mesh3d": [
           {
            "colorbar": {
             "outlinewidth": 0,
             "ticks": ""
            },
            "type": "mesh3d"
           }
          ],
          "parcoords": [
           {
            "line": {
             "colorbar": {
              "outlinewidth": 0,
              "ticks": ""
             }
            },
            "type": "parcoords"
           }
          ],
          "pie": [
           {
            "automargin": true,
            "type": "pie"
           }
          ],
          "scatter": [
           {
            "fillpattern": {
             "fillmode": "overlay",
             "size": 10,
             "solidity": 0.2
            },
            "type": "scatter"
           }
          ],
          "scatter3d": [
           {
            "line": {
             "colorbar": {
              "outlinewidth": 0,
              "ticks": ""
             }
            },
            "marker": {
             "colorbar": {
              "outlinewidth": 0,
              "ticks": ""
             }
            },
            "type": "scatter3d"
           }
          ],
          "scattercarpet": [
           {
            "marker": {
             "colorbar": {
              "outlinewidth": 0,
              "ticks": ""
             }
            },
            "type": "scattercarpet"
           }
          ],
          "scattergeo": [
           {
            "marker": {
             "colorbar": {
              "outlinewidth": 0,
              "ticks": ""
             }
            },
            "type": "scattergeo"
           }
          ],
          "scattergl": [
           {
            "marker": {
             "colorbar": {
              "outlinewidth": 0,
              "ticks": ""
             }
            },
            "type": "scattergl"
           }
          ],
          "scattermapbox": [
           {
            "marker": {
             "colorbar": {
              "outlinewidth": 0,
              "ticks": ""
             }
            },
            "type": "scattermapbox"
           }
          ],
          "scatterpolar": [
           {
            "marker": {
             "colorbar": {
              "outlinewidth": 0,
              "ticks": ""
             }
            },
            "type": "scatterpolar"
           }
          ],
          "scatterpolargl": [
           {
            "marker": {
             "colorbar": {
              "outlinewidth": 0,
              "ticks": ""
             }
            },
            "type": "scatterpolargl"
           }
          ],
          "scatterternary": [
           {
            "marker": {
             "colorbar": {
              "outlinewidth": 0,
              "ticks": ""
             }
            },
            "type": "scatterternary"
           }
          ],
          "surface": [
           {
            "colorbar": {
             "outlinewidth": 0,
             "ticks": ""
            },
            "colorscale": [
             [
              0,
              "#0d0887"
             ],
             [
              0.1111111111111111,
              "#46039f"
             ],
             [
              0.2222222222222222,
              "#7201a8"
             ],
             [
              0.3333333333333333,
              "#9c179e"
             ],
             [
              0.4444444444444444,
              "#bd3786"
             ],
             [
              0.5555555555555556,
              "#d8576b"
             ],
             [
              0.6666666666666666,
              "#ed7953"
             ],
             [
              0.7777777777777778,
              "#fb9f3a"
             ],
             [
              0.8888888888888888,
              "#fdca26"
             ],
             [
              1,
              "#f0f921"
             ]
            ],
            "type": "surface"
           }
          ],
          "table": [
           {
            "cells": {
             "fill": {
              "color": "#EBF0F8"
             },
             "line": {
              "color": "white"
             }
            },
            "header": {
             "fill": {
              "color": "#C8D4E3"
             },
             "line": {
              "color": "white"
             }
            },
            "type": "table"
           }
          ]
         },
         "layout": {
          "annotationdefaults": {
           "arrowcolor": "#2a3f5f",
           "arrowhead": 0,
           "arrowwidth": 1
          },
          "autotypenumbers": "strict",
          "coloraxis": {
           "colorbar": {
            "outlinewidth": 0,
            "ticks": ""
           }
          },
          "colorscale": {
           "diverging": [
            [
             0,
             "#8e0152"
            ],
            [
             0.1,
             "#c51b7d"
            ],
            [
             0.2,
             "#de77ae"
            ],
            [
             0.3,
             "#f1b6da"
            ],
            [
             0.4,
             "#fde0ef"
            ],
            [
             0.5,
             "#f7f7f7"
            ],
            [
             0.6,
             "#e6f5d0"
            ],
            [
             0.7,
             "#b8e186"
            ],
            [
             0.8,
             "#7fbc41"
            ],
            [
             0.9,
             "#4d9221"
            ],
            [
             1,
             "#276419"
            ]
           ],
           "sequential": [
            [
             0,
             "#0d0887"
            ],
            [
             0.1111111111111111,
             "#46039f"
            ],
            [
             0.2222222222222222,
             "#7201a8"
            ],
            [
             0.3333333333333333,
             "#9c179e"
            ],
            [
             0.4444444444444444,
             "#bd3786"
            ],
            [
             0.5555555555555556,
             "#d8576b"
            ],
            [
             0.6666666666666666,
             "#ed7953"
            ],
            [
             0.7777777777777778,
             "#fb9f3a"
            ],
            [
             0.8888888888888888,
             "#fdca26"
            ],
            [
             1,
             "#f0f921"
            ]
           ],
           "sequentialminus": [
            [
             0,
             "#0d0887"
            ],
            [
             0.1111111111111111,
             "#46039f"
            ],
            [
             0.2222222222222222,
             "#7201a8"
            ],
            [
             0.3333333333333333,
             "#9c179e"
            ],
            [
             0.4444444444444444,
             "#bd3786"
            ],
            [
             0.5555555555555556,
             "#d8576b"
            ],
            [
             0.6666666666666666,
             "#ed7953"
            ],
            [
             0.7777777777777778,
             "#fb9f3a"
            ],
            [
             0.8888888888888888,
             "#fdca26"
            ],
            [
             1,
             "#f0f921"
            ]
           ]
          },
          "colorway": [
           "#636efa",
           "#EF553B",
           "#00cc96",
           "#ab63fa",
           "#FFA15A",
           "#19d3f3",
           "#FF6692",
           "#B6E880",
           "#FF97FF",
           "#FECB52"
          ],
          "font": {
           "color": "#2a3f5f"
          },
          "geo": {
           "bgcolor": "white",
           "lakecolor": "white",
           "landcolor": "#E5ECF6",
           "showlakes": true,
           "showland": true,
           "subunitcolor": "white"
          },
          "hoverlabel": {
           "align": "left"
          },
          "hovermode": "closest",
          "mapbox": {
           "style": "light"
          },
          "paper_bgcolor": "white",
          "plot_bgcolor": "#E5ECF6",
          "polar": {
           "angularaxis": {
            "gridcolor": "white",
            "linecolor": "white",
            "ticks": ""
           },
           "bgcolor": "#E5ECF6",
           "radialaxis": {
            "gridcolor": "white",
            "linecolor": "white",
            "ticks": ""
           }
          },
          "scene": {
           "xaxis": {
            "backgroundcolor": "#E5ECF6",
            "gridcolor": "white",
            "gridwidth": 2,
            "linecolor": "white",
            "showbackground": true,
            "ticks": "",
            "zerolinecolor": "white"
           },
           "yaxis": {
            "backgroundcolor": "#E5ECF6",
            "gridcolor": "white",
            "gridwidth": 2,
            "linecolor": "white",
            "showbackground": true,
            "ticks": "",
            "zerolinecolor": "white"
           },
           "zaxis": {
            "backgroundcolor": "#E5ECF6",
            "gridcolor": "white",
            "gridwidth": 2,
            "linecolor": "white",
            "showbackground": true,
            "ticks": "",
            "zerolinecolor": "white"
           }
          },
          "shapedefaults": {
           "line": {
            "color": "#2a3f5f"
           }
          },
          "ternary": {
           "aaxis": {
            "gridcolor": "white",
            "linecolor": "white",
            "ticks": ""
           },
           "baxis": {
            "gridcolor": "white",
            "linecolor": "white",
            "ticks": ""
           },
           "bgcolor": "#E5ECF6",
           "caxis": {
            "gridcolor": "white",
            "linecolor": "white",
            "ticks": ""
           }
          },
          "title": {
           "x": 0.05
          },
          "xaxis": {
           "automargin": true,
           "gridcolor": "white",
           "linecolor": "white",
           "ticks": "",
           "title": {
            "standoff": 15
           },
           "zerolinecolor": "white",
           "zerolinewidth": 2
          },
          "yaxis": {
           "automargin": true,
           "gridcolor": "white",
           "linecolor": "white",
           "ticks": "",
           "title": {
            "standoff": 15
           },
           "zerolinecolor": "white",
           "zerolinewidth": 2
          }
         }
        },
        "xaxis": {
         "anchor": "y",
         "domain": [
          0,
          1
         ],
         "title": {
          "text": "x"
         }
        },
        "yaxis": {
         "anchor": "x",
         "domain": [
          0,
          1
         ],
         "title": {
          "text": "y"
         }
        }
       }
      },
      "text/html": [
       "<div>                            <div id=\"37840068-538f-48db-b0f6-514e40b207c3\" class=\"plotly-graph-div\" style=\"height:525px; width:100%;\"></div>            <script type=\"text/javascript\">                require([\"plotly\"], function(Plotly) {                    window.PLOTLYENV=window.PLOTLYENV || {};                                    if (document.getElementById(\"37840068-538f-48db-b0f6-514e40b207c3\")) {                    Plotly.newPlot(                        \"37840068-538f-48db-b0f6-514e40b207c3\",                        [{\"hovertemplate\":\"x=%{x}<br>y=%{y}<extra></extra>\",\"legendgroup\":\"\",\"marker\":{\"color\":\"#636efa\",\"symbol\":\"circle\"},\"mode\":\"markers\",\"name\":\"\",\"orientation\":\"v\",\"showlegend\":false,\"x\":[0.20378074199999982,0.27765897200000006,0.29772907800000015,0.2436324359999999,0.3513424079999993,0.30912576,0.32233556200000024,0.23811177400000058,0.2906614919999997,0.22611486800000005,0.3527592319999995,0.18771612400000032,0.4618757760000003,0.3816499780000007,0.306432342,0.24161411999999988,0.2751467900000005,0.2784683139999994,0.34309390999999956,0.2879017279999998,0.20242208400000009,0.3108045159999999,0.23060921600000012,0.21278953199999973,0.18093802200000023,0.2687101919999997,0.30062315399999995,0.19353653799999954,0.17538250800000008,0.31735005799999966,0.24758135400000006,0.34643630600000025,0.3503263400000001,0.3292387919999999,0.15902951800000018,0.25244592400000004,0.20554770399999972,0.22988223799999993,0.26169953399999957,0.33018716600000014,0.3023785520000001,0.33101297399999885,0.18984894199999985,0.21143867599999946,0.3918549939999998,0.4851132360000002,0.2580340239999998,0.2683010039999994,0.278891336,0.2136008099999993,0.3149703679999997,0.3966332720000008,0.3896401999999994,0.2672918259999996,0.21171540399999916,0.2703634799999998,0.3705290100000009,0.2341473100000002,0.2520064859999995,0.20520696800000074,0.2860389520000004,0.3066805999999998,0.27272302199999926,0.3111645559999999,0.2276592140000001,0.2785353860000009,0.4828573020000004,0.2236581739999996,0.1917596539999996,0.3090359839999989,0.2864363039999999,0.24783519400000015,0.26585626600000006,0.34672829400000005,0.248897472,0.2891593559999998,0.2268184419999997,0.2732744200000006,0.31996834800000035,0.39096721800000095,0.18830982599999954,0.20369443199999948,0.33627297600000017,0.3257283720000006,0.3273676619999998,0.36421663800000026,0.4174110200000003,0.32136407400000044,0.2541577319999995,0.3073337700000002,0.2326537019999997,0.19470236399999935,0.2939850439999997,0.3131032439999998,0.23538133999999988,0.3821544820000009,0.23531497200000037,0.44404254,0.437471356000001,0.2938098240000001,0.29601684599999956,0.1886903579999993,0.28205588399999976,0.2404975839999998,0.2683677680000002,0.43909920999999946,0.24077863599999977,0.17965145400000013,0.17164195599999998,0.37529653399999946,0.23454398399999996,0.2577033499999998,0.4089744499999999,0.3003921439999997,0.317867766,0.21814177599999982,0.2425181639999998,0.1916000519999997,0.5220185899999998,0.2723879800000003,0.27693469600000026,0.4207785359999996,0.22332896400000016,0.25134740800000005,0.40040594800000084,0.2936088799999998,0.34385258,0.2644306999999992,0.28161761599999946,0.1702394499999998,0.22647113599999993,0.26554049800000007,0.23200636600000002,0.30634025000000015,0.3954099639999991,0.3314893220000003,0.2800207939999998,0.36988580999999926,0.2858963699999999,0.28506149599999997,0.2984152140000004,0.33872047400000005,0.2929790259999999,0.435174133999999,0.2838525619999995,0.2126349739999997,0.24480646800000022,0.3081830380000001,0.3299820680000003,0.3144326460000008,0.2778538920000003,0.2264588559999995,0.2647109860000006,0.3224988900000001,0.28732870600000016,0.29620312199999993,0.20625103399999967,0.20478896399999935,0.23123329600000042,0.2815869739999998,0.2052556439999998,0.5155927119999992,0.2744231579999997,0.30810667199999964,0.23633477199999944,0.6726762319999998,0.22943426400000022,0.2594123500000005,0.3294179399999999,0.3547889180000006,0.34274187199999967,0.3705095739999989,0.36704898999999996,0.5238979739999997,0.3097567740000004,0.2081627440000001,0.20319333799999967,0.22175714599999988,0.22400279599999975,0.4055857160000004,0.39215187799999995,0.31461384399999986,0.21785908399999926,0.2104906500000005,0.23984475799999963,0.24210497999999958,0.31452735800000026,0.2850173300000002,0.39046048800000016,0.20610684800000018,0.41987907999999985,0.34746326600000027,0.33701632199999987,0.3396204839999999,0.29772282200000005,0.3080157740000005,0.44358746800000043,0.4188726360000004,0.3287578899999995,0.15958028800000015,0.28828126199999976,0.29108715800000046,0.27883926399999986,0.3076444059999999,0.27000000600000024,0.2740186939999998,0.18656029799999996,0.24034717799999958,0.23589309799999975,0.3055797039999998,0.27184148599999985,0.17496177400000001,0.37666870800000096,0.1732155459999997,0.2821934339999998,0.3695464520000001,0.3032547280000008,0.321275049999999,0.23104887999999968,0.4132200540000001,0.2210485639999995,0.2505979320000005,0.2061158839999997,0.19764538000000006,0.36730031999999957,0.2548240899999997,0.24226222999999997,0.3135816820000001,0.2903094959999996,0.24502327400000015,0.27038524399999914,0.4648446019999993,0.30373991800000055,0.2687173619999998,0.28626353199999965,0.23358210199999985,0.23984696400000002,0.3165585519999998,0.26271876399999977,0.32118704399999964,0.284090298,0.21254007799999963,0.27421111399999953,0.1967053859999997,0.3262743460000001,0.43791823799999907,0.3239046819999997,0.41580006000000025,0.4062941699999994,0.25351794600000016,0.24745754800000022,0.22870752600000005,0.28429428599999984,0.24726129399999988,0.24054884999999956,0.20959145200000048,0.1627647880000002,0.27285608600000066,0.33407616200000023,0.4087577360000004,0.25101158399999995,0.23624769600000026,0.46484744600000033,0.2951777720000002,0.23910529000000003,0.3440843399999999,0.23463555600000008,0.16824360600000002,0.3533166300000003,0.3086421780000002,0.4147207540000004,0.23891035199999933,0.3704832979999995,0.2733888200000003,0.14695678799999978,0.22685706800000013,0.1867836620000002,0.36067475600000004,0.32613808399999983,0.322744552,0.3015077100000001,0.2780061840000003,0.43868407600000014,0.26210533799999963,0.557835969999999,0.39099204199999865,0.24926331800000034,0.343759366,0.3119334720000001,0.18266054399999965,0.29200955399999967,0.1879117920000003,0.2481185019999995,0.17565512999999966,0.3094707820000003,0.2501812659999998,0.26317367199999975,0.3012419020000002,0.34676720999999955,0.2468086679999994,0.3547477539999994,0.2562296000000001,0.33381823999999993,0.2912300059999999,0.35452127800000055,0.3735575420000006,0.21007630399999866,0.41856171999999964,0.3422151979999995,0.24245256400000037,0.3918988579999999,0.23048614799999897,0.16082308600000017,0.23875570799999962,0.21825929799999993,0.29357623599999993,0.41558388400000057,0.26626440799999995,0.16440114200000094,0.3108067339999993,0.26190232399999974,0.2427592980000004,0.25099142799999985,0.26491420200000015,0.32480119000000013,0.2879176899999998,0.2159809900000002,0.3077542180000002,0.5344444240000005,0.22647259399999903,0.20821733999999972,0.3592436300000007,0.5272236099999981,0.21950870200000022,0.3457447840000004,0.27913328199999954,0.17537641999999992,0.5486796199999998,0.24767227800000002,0.23772526999999935,0.3989264039999989,0.19265114400000008,0.202295354,0.22242177399999963,0.20717404199999986,0.23036536200000007,0.26885008399999977,0.19589845599999994,0.26450603800000017,0.22644338799999986,0.3277876400000007,0.22912378200000036,0.29650733999999984,0.2870957719999997,0.15044984400000017,0.34861781199999897,0.29015099799999994,0.3018605039999996,0.28731185999999903,0.34801254399999915,0.2319554119999999,0.3022379740000001,0.3256765300000004,0.306819488,0.3071744199999992,0.2236963080000003],\"xaxis\":\"x\",\"y\":[0.2,0.2535499999999998,0.26420000000000005,0.3,0.16,0.1,0.33,0.2,0.23,0.75,0.22459799999999944,0.5,0.26699999999999974,0.25,0.06,0.1,0.35,0.21,0.3662400000000009,0.2,0.11,0.36733800000000005,0.1,0.1,0.2,0.15,1.0,0.32269999999999943,0.4,0.16,0.36,0.04,0.06,0.1892200000000002,0.22415599999999977,0.21526799999999968,0.20985999999999985,0.2024979999999995,0.3,0.15,0.5,0.21,0.2926149999999995,0.15,0.35817600000000005,0.5443399999999997,1.0,0.5,0.05,0.3,0.34,0.04,0.29,0.18,0.32367999999999997,0.05,0.4049799999999991,0.18396999999999972,0.23466999999999968,0.2703299999999995,0.28393999999999947,0.12,0.02,1.0,0.25443999999999994,0.15,0.2824999999999998,0.8,0.09,0.14,0.03,0.2961800000000001,0.23456999999999956,0.2939599999999999,0.21,1.0,0.08,0.2839739999999999,0.3790600000000002,0.05,0.1,0.267159999999999,0.12,0.2262299999999998,0.24962799999999957,0.09,0.25,0.12,0.4,0.22778000000000026,0.2,0.17670699999999961,0.05,1.0,0.1,0.2844400000000003,0.24667999999999954,0.3,0.1,0.5,0.4200400000000011,1.0,0.05,0.4170200000000002,0.2347799999999997,0.18,0.1,0.48,0.1,0.21,0.3790000000000001,0.2545269999999995,0.06,0.22277999999999967,0.1,0.14,0.2,0.1966369999999994,1.0,1.0,0.11,0.5324799999999998,0.2693269999999996,0.31,0.28620000000000007,1.0,0.34299999999999986,0.05,0.14,0.14081999999999964,0.05,0.2496599999999995,0.2508899999999997,0.15,0.36963,0.08,0.2554449999999995,0.4443000000000001,0.17,1.0,0.05,0.1,0.3,0.04,0.17,0.1576199999999998,0.12,0.07,0.30837000000000053,0.05,0.42507800000000107,0.3,0.3363400000000008,0.14,0.11,0.3175800000000008,0.1654599999999993,0.23202000000000014,0.20318999999999973,0.23912699999999992,0.09,0.13,0.19,0.1,0.32417999999999936,0.05,0.2162999999999996,0.06,0.25567999999999974,0.1,0.41415000000000013,0.3711199999999997,0.4069200000000004,0.15,0.12,0.33,1.0,0.24972399999999972,0.1,0.3,0.25,0.5,1.0,0.12,0.3105300000000001,0.37,0.15,0.15,0.3181400000000002,0.15,0.15,0.34514000000000106,0.33,0.06,0.13,0.2,0.33,0.26277999999999974,0.36341999999999997,0.17,0.25,0.2869720000000003,0.25,0.22741000000000006,0.23,0.29520799999999936,0.14,0.25,0.2,0.2,0.1,0.12,0.33,0.05,0.3028399999999999,0.18664099999999959,0.28542999999999974,0.22539999999999957,0.26,0.42,0.3018199999999999,0.37404000000000115,0.33,1.0,0.38,0.24,0.3,0.33,0.09,0.12,1.0,0.1,0.30936000000000013,0.16,0.26269,0.27669999999999995,0.19060000000000005,0.3991400000000002,0.08,0.14,0.05,0.2434079999999998,0.1,0.2449599999999996,0.3934800000000004,0.1,0.2619769999999999,0.2824399999999996,0.18,0.12,0.2627400000000005,0.13,0.28541999999999973,0.2,0.13,0.1,0.07,0.3,0.15,0.17507599999999957,0.54,0.05,0.21329000000000034,0.3121699999999996,0.25,1.0,0.38,0.12,0.2,0.04,1.0,0.1,0.38857999999999954,0.09,0.4058679999999999,0.20183800000000013,0.1576170000000001,0.40972000000000014,0.2,1.0,0.05,0.2824300000000001,0.05,0.33,0.4479970000000003,0.5143799999999995,0.17,0.3,0.39598999999999995,0.31788700000000025,0.3186800000000003,0.1,0.42287300000000033,0.25757999999999937,0.3076090000000003,0.21057999999999913,0.07,0.15,0.08,0.33,0.16,0.3,0.5,0.17,0.5,0.1,0.09,0.1,0.06,0.5,0.16,0.20639999999999986,0.2,0.12,0.31714000000000064,0.16841999999999996,1.0,0.22891999999999985,0.06,0.1,0.2,0.03,1.0,0.07,0.05,0.3,0.22532000000000024,0.15,0.2,0.23364999999999964,0.3,0.25,0.1,0.1,0.18,0.25,0.2,0.5,0.2215599999999993,0.11,0.33948000000000017,0.07,1.0,0.07,0.14978099999999997,0.12,0.12,0.05,0.22783999999999985,0.17478000000000013,0.48178000000000076,0.08,0.2524400000000003,1.0,0.18784799999999965,0.40913999999999995,0.38,0.2760999999999999,0.3353700000000006,0.3,0.1,0.22729999999999972,0.29529999999999995,0.2946519999999999,0.24694000000000016,0.05],\"yaxis\":\"y\",\"type\":\"scatter\"},{\"hovertemplate\":\"<b>OLS trendline</b><br>y = 0.155466 * x + 0.224533<br>R<sup>2</sup>=0.003141<br><br>x=%{x}<br>y=%{y} <b>(trend)</b><extra></extra>\",\"legendgroup\":\"\",\"marker\":{\"color\":\"#636efa\",\"symbol\":\"circle\"},\"mode\":\"lines\",\"name\":\"\",\"showlegend\":false,\"x\":[0.14695678799999978,0.15044984400000017,0.15902951800000018,0.15958028800000015,0.16082308600000017,0.1627647880000002,0.16440114200000094,0.16824360600000002,0.1702394499999998,0.17164195599999998,0.1732155459999997,0.17496177400000001,0.17537641999999992,0.17538250800000008,0.17565512999999966,0.17965145400000013,0.18093802200000023,0.18266054399999965,0.18656029799999996,0.1867836620000002,0.18771612400000032,0.1879117920000003,0.18830982599999954,0.1886903579999993,0.18984894199999985,0.1916000519999997,0.1917596539999996,0.19265114400000008,0.19353653799999954,0.19470236399999935,0.19589845599999994,0.1967053859999997,0.19764538000000006,0.202295354,0.20242208400000009,0.20319333799999967,0.20369443199999948,0.20378074199999982,0.20478896399999935,0.20520696800000074,0.2052556439999998,0.20554770399999972,0.20610684800000018,0.2061158839999997,0.20625103399999967,0.20717404199999986,0.2081627440000001,0.20821733999999972,0.20959145200000048,0.21007630399999866,0.2104906500000005,0.21143867599999946,0.21171540399999916,0.21254007799999963,0.2126349739999997,0.21278953199999973,0.2136008099999993,0.2159809900000002,0.21785908399999926,0.21814177599999982,0.21825929799999993,0.21950870200000022,0.2210485639999995,0.22175714599999988,0.22242177399999963,0.22332896400000016,0.2236581739999996,0.2236963080000003,0.22400279599999975,0.22611486800000005,0.22644338799999986,0.2264588559999995,0.22647113599999993,0.22647259399999903,0.2268184419999997,0.22685706800000013,0.2276592140000001,0.22870752600000005,0.22912378200000036,0.22943426400000022,0.22988223799999993,0.23036536200000007,0.23048614799999897,0.23060921600000012,0.23104887999999968,0.23123329600000042,0.2319554119999999,0.23200636600000002,0.2326537019999997,0.23358210199999985,0.2341473100000002,0.23454398399999996,0.23463555600000008,0.23531497200000037,0.23538133999999988,0.23589309799999975,0.23624769600000026,0.23633477199999944,0.23772526999999935,0.23811177400000058,0.23875570799999962,0.23891035199999933,0.23910529000000003,0.23984475799999963,0.23984696400000002,0.24034717799999958,0.2404975839999998,0.24054884999999956,0.24077863599999977,0.24161411999999988,0.24210497999999958,0.24226222999999997,0.24245256400000037,0.2425181639999998,0.2427592980000004,0.2436324359999999,0.24480646800000022,0.24502327400000015,0.2468086679999994,0.24726129399999988,0.24745754800000022,0.24758135400000006,0.24767227800000002,0.24783519400000015,0.2481185019999995,0.248897472,0.24926331800000034,0.2501812659999998,0.2505979320000005,0.25099142799999985,0.25101158399999995,0.25134740800000005,0.2520064859999995,0.25244592400000004,0.25351794600000016,0.2541577319999995,0.2548240899999997,0.2562296000000001,0.2577033499999998,0.2580340239999998,0.2594123500000005,0.26169953399999957,0.26190232399999974,0.26210533799999963,0.26271876399999977,0.26317367199999975,0.2644306999999992,0.26450603800000017,0.2647109860000006,0.26491420200000015,0.26554049800000007,0.26585626600000006,0.26626440799999995,0.2672918259999996,0.2683010039999994,0.2683677680000002,0.2687101919999997,0.2687173619999998,0.26885008399999977,0.27000000600000024,0.2703634799999998,0.27038524399999914,0.27184148599999985,0.2723879800000003,0.27272302199999926,0.27285608600000066,0.2732744200000006,0.2733888200000003,0.2740186939999998,0.27421111399999953,0.2744231579999997,0.2751467900000005,0.27693469600000026,0.27765897200000006,0.2778538920000003,0.2780061840000003,0.2784683139999994,0.2785353860000009,0.27883926399999986,0.278891336,0.27913328199999954,0.2800207939999998,0.2815869739999998,0.28161761599999946,0.28205588399999976,0.2821934339999998,0.2838525619999995,0.284090298,0.28429428599999984,0.2850173300000002,0.28506149599999997,0.2858963699999999,0.2860389520000004,0.28626353199999965,0.2864363039999999,0.2870957719999997,0.28731185999999903,0.28732870600000016,0.2879017279999998,0.2879176899999998,0.28828126199999976,0.2891593559999998,0.29015099799999994,0.2903094959999996,0.2906614919999997,0.29108715800000046,0.2912300059999999,0.29200955399999967,0.2929790259999999,0.29357623599999993,0.2936088799999998,0.2938098240000001,0.2939850439999997,0.2951777720000002,0.29601684599999956,0.29620312199999993,0.29650733999999984,0.29772282200000005,0.29772907800000015,0.2984152140000004,0.3003921439999997,0.30062315399999995,0.3012419020000002,0.3015077100000001,0.3018605039999996,0.3022379740000001,0.3023785520000001,0.3032547280000008,0.30373991800000055,0.3055797039999998,0.30634025000000015,0.306432342,0.3066805999999998,0.306819488,0.3071744199999992,0.3073337700000002,0.3076444059999999,0.3077542180000002,0.3080157740000005,0.30810667199999964,0.3081830380000001,0.3086421780000002,0.3090359839999989,0.30912576,0.3094707820000003,0.3097567740000004,0.3108045159999999,0.3108067339999993,0.3111645559999999,0.3119334720000001,0.3131032439999998,0.3135816820000001,0.3144326460000008,0.31452735800000026,0.31461384399999986,0.3149703679999997,0.3165585519999998,0.31735005799999966,0.317867766,0.31996834800000035,0.32118704399999964,0.321275049999999,0.32136407400000044,0.32233556200000024,0.3224988900000001,0.322744552,0.3239046819999997,0.32480119000000013,0.3256765300000004,0.3257283720000006,0.32613808399999983,0.3262743460000001,0.3273676619999998,0.3277876400000007,0.3287578899999995,0.3292387919999999,0.3294179399999999,0.3299820680000003,0.33018716600000014,0.33101297399999885,0.3314893220000003,0.33381823999999993,0.33407616200000023,0.33627297600000017,0.33701632199999987,0.33872047400000005,0.3396204839999999,0.3422151979999995,0.34274187199999967,0.34309390999999956,0.343759366,0.34385258,0.3440843399999999,0.3457447840000004,0.34643630600000025,0.34672829400000005,0.34676720999999955,0.34746326600000027,0.34801254399999915,0.34861781199999897,0.3503263400000001,0.3513424079999993,0.3527592319999995,0.3533166300000003,0.35452127800000055,0.3547477539999994,0.3547889180000006,0.3592436300000007,0.36067475600000004,0.36421663800000026,0.36704898999999996,0.36730031999999957,0.3695464520000001,0.36988580999999926,0.3704832979999995,0.3705095739999989,0.3705290100000009,0.3735575420000006,0.37529653399999946,0.37666870800000096,0.3816499780000007,0.3821544820000009,0.3896401999999994,0.39046048800000016,0.39096721800000095,0.39099204199999865,0.3918549939999998,0.3918988579999999,0.39215187799999995,0.3954099639999991,0.3966332720000008,0.3989264039999989,0.40040594800000084,0.4055857160000004,0.4062941699999994,0.4087577360000004,0.4089744499999999,0.4132200540000001,0.4147207540000004,0.41558388400000057,0.41580006000000025,0.4174110200000003,0.41856171999999964,0.4188726360000004,0.41987907999999985,0.4207785359999996,0.435174133999999,0.437471356000001,0.43791823799999907,0.43868407600000014,0.43909920999999946,0.44358746800000043,0.44404254,0.4618757760000003,0.4648446019999993,0.46484744600000033,0.4828573020000004,0.4851132360000002,0.5155927119999992,0.5220185899999998,0.5238979739999997,0.5272236099999981,0.5344444240000005,0.5486796199999998,0.557835969999999,0.6726762319999998],\"xaxis\":\"x\",\"y\":[0.24737931952520426,0.24792237024553446,0.24925621606589854,0.24934184196059825,0.24953505453695685,0.24983692277776562,0.250091319849675,0.2506886915617352,0.2509989770314976,0.2512170187386925,0.2514616581555825,0.2517331368760098,0.2517976001451306,0.25179854662087714,0.2518409300162414,0.25246222169518184,0.25266223900929125,0.2529300322576343,0.2535363106049641,0.2535710360663068,0.25371600201039146,0.2537464216911368,0.2538083023625075,0.25386746207157274,0.25404758225165663,0.25431981995608427,0.25434463260754653,0.25448322880716867,0.2546208772873178,0.25480212335067304,0.25498807474171326,0.25511352475389626,0.2552596616663323,0.2559825735607355,0.25600227574065687,0.2561221793552159,0.25620008233119257,0.25621350058376907,0.2563702446163161,0.2564352299395693,0.2564427973924994,0.25648820273194417,0.2565751304971928,0.2565765352860965,0.25659754648799327,0.25674104265847275,0.25689475199874445,0.256903239809168,0.2571168672206423,0.257192245121212,0.25725666175059525,0.25740404736427885,0.2574470691021884,0.2575752776993989,0.25759003078127235,0.25761405926327574,0.2577401852407258,0.25811022181142945,0.2584022011840897,0.2584461501199876,0.25846442077088894,0.2586586603542748,0.2588980562209052,0.25900821648329814,0.2591115434022343,0.25925258041480337,0.25930376130845056,0.25930968984099323,0.25935733824089646,0.25968569318882434,0.25973676681107455,0.2597391715559575,0.25974108067589313,0.2597413073450189,0.2597950748785268,0.25980107990023954,0.2599257861640698,0.2600887628202502,0.2601534763892974,0.2602017457195771,0.26027139035264024,0.2603464996083203,0.26036527769956913,0.26038441056375744,0.2604527632760824,0.2604814336557273,0.2605936979921598,0.26060161959616607,0.26070225820061316,0.2608465926426474,0.26093446315246366,0.26099613239035624,0.2610103687039344,0.26111599465101454,0.26112631260475094,0.261205873467942,0.26126100132713687,0.2612745386665105,0.26149071354046544,0.26155080169124545,0.26165091140106533,0.26167495325312684,0.26170525944384354,0.2618202214227127,0.2618205643802517,0.2618983305463306,0.26192171353436233,0.2619296836436959,0.26196540750636,0.2620952966887906,0.2621716086278437,0.26219605562376136,0.26222564604996795,0.26223584460597543,0.26227333269445624,0.2624090757858488,0.26259159760149986,0.26262530351817337,0.26290287121184125,0.2629732390717726,0.26300374985547254,0.26302299745341573,0.2630371330251602,0.2630624608902598,0.2631065055930859,0.26322760878170237,0.2632844853201346,0.26342719483370247,0.26349197214372483,0.26355314731132784,0.2635562808798475,0.26360849002424835,0.2637109541080344,0.26377927168509036,0.26394593443521797,0.26404539927292936,0.26414899514768714,0.26436750387412367,0.2645966215862606,0.2646480300818285,0.2648623126261537,0.2652178914999899,0.26524941840811156,0.2652809801405708,0.26537634689998413,0.2654470695328546,0.26564249438744464,0.26565420686934266,0.2656860692726452,0.2657176624091945,0.26581503001336115,0.2658641211358216,0.265927573255426,0.2660873016093316,0.2662441942671765,0.266254573785367,0.26630780900400025,0.2663089236937346,0.26632955742468645,0.26650833096007315,0.2665648387336448,0.2665682222911591,0.26679461810819594,0.26687957923116573,0.2669316668013164,0.2669523537015696,0.2670173903285342,0.2670351756152304,0.26713309947600355,0.2671630142038538,0.26719597979242204,0.26730847981499667,0.2675864380387361,0.2676990381812811,0.2677293415736135,0.2677530177701304,0.26782486317695625,0.2678352905786111,0.267882533212795,0.26789062862755764,0.26792824295426204,0.2680662207109604,0.2683097081263258,0.2683144719091487,0.268382607591227,0.2684039919110265,0.2686619295609009,0.2686988893766178,0.26873060253275916,0.26884301114144754,0.26884987744365224,0.2689796717919492,0.2690018384156181,0.2690367529233647,0.2690636130593182,0.2691661377747635,0.26919973206699765,0.26920235104374335,0.26929143636326436,0.26929391790824897,0.2693504409174684,0.2694869544973301,0.2696411209070326,0.26966576192425956,0.26972048526146153,0.2697866617636191,0.26980886974118873,0.2699300627890333,0.27008078252210943,0.2701736282482267,0.2701787032735668,0.270209943191835,0.27023718390804913,0.27042261231216236,0.270553059616789,0.27058201916280844,0.27062931465536205,0.27081828052812457,0.27081925312212435,0.27092592379933206,0.27123326878908943,0.2712691829418839,0.2713653770902465,0.27140670114169874,0.2714615485406033,0.27152023221341104,0.2715420872836311,0.2716783026801024,0.27175373312811035,0.2720397569171801,0.27215799580403,0.27217231295982036,0.27221090858660896,0.27223250091963924,0.27228768070440873,0.2723124541784913,0.2723607474505031,0.27237781946014195,0.2724184824710432,0.2724326140006769,0.2724444863014098,0.27251586686551543,0.2725770902275141,0.2725910473245286,0.2726446864432916,0.2726891484163057,0.2728520364569841,0.2728523812801124,0.2729080103610233,0.2730275504965589,0.27320941002793253,0.2732837907709076,0.27341608656381083,0.2734308110399783,0.2734442566545342,0.27349968394084595,0.2737465922255161,0.27386964433331096,0.27395013021796927,0.2742766988639379,0.2744661644037584,0.2744798463263193,0.2744936865130576,0.274644719665172,0.2746701115821782,0.27470830361976867,0.27488866414996815,0.2750280404769386,0.27516412590400696,0.27517218556163725,0.27523588176253627,0.2752570658423947,0.2754270390811141,0.2754923312938422,0.27564317197930494,0.27571793578999343,0.27574578717584175,0.27583348978260175,0.2758653755057731,0.2759937604011924,0.2760678162206607,0.27642988330389373,0.276469981352104,0.2768115107822452,0.27692707565745883,0.2771920129991883,0.277331933767365,0.2777353230364607,0.2778172028274172,0.2778719326941824,0.27797538833879515,0.2779898799272051,0.27802591067934407,0.27828405292220193,0.27839156093816964,0.2784369550840773,0.2784430051908698,0.27855121808874217,0.27863661202847884,0.27873071049795445,0.27899632815799336,0.27915429197515057,0.27937455964156677,0.2794612159635413,0.27964849751990467,0.27968370679079435,0.27969010638468933,0.28038266171745907,0.2806051528556437,0.2811557943487731,0.2815961281979379,0.2816352014156419,0.28198439810775244,0.2820371566682649,0.2821300456138726,0.2821341306330441,0.28213715226619324,0.2826079853945893,0.2828783391645397,0.28309166528330765,0.2838660823730018,0.2839445154873319,0.2851082885708689,0.28523581529511227,0.28531459447629726,0.28531845375913734,0.2854526132759647,0.28545943262750006,0.285498768582394,0.28600528950539006,0.28619547205344725,0.286551975637819,0.28678199411875976,0.28758727085739283,0.28769741122016407,0.28808041146146607,0.28811410307528657,0.28877414926705575,0.28900745678230877,0.2891416439720471,0.2891752519452711,0.28942570111883803,0.28960459560661134,0.28965293240904527,0.28980940002341266,0.2899492346635401,0.2921872577194209,0.2925443971588857,0.29261387202330286,0.29273293363512837,0.292797472771556,0.29349524335981103,0.2935659914890715,0.2963384496619772,0.2968000005497483,0.29680044269446315,0.29960035923569295,0.2999510798035044,0.30468959570393206,0.30568859992162967,0.30598077984516275,0.3064978024824623,0.30762039205562436,0.30983347808740863,0.3112569772993005,0.3291107096763369],\"yaxis\":\"y\",\"type\":\"scatter\"}],                        {\"template\":{\"data\":{\"histogram2dcontour\":[{\"type\":\"histogram2dcontour\",\"colorbar\":{\"outlinewidth\":0,\"ticks\":\"\"},\"colorscale\":[[0.0,\"#0d0887\"],[0.1111111111111111,\"#46039f\"],[0.2222222222222222,\"#7201a8\"],[0.3333333333333333,\"#9c179e\"],[0.4444444444444444,\"#bd3786\"],[0.5555555555555556,\"#d8576b\"],[0.6666666666666666,\"#ed7953\"],[0.7777777777777778,\"#fb9f3a\"],[0.8888888888888888,\"#fdca26\"],[1.0,\"#f0f921\"]]}],\"choropleth\":[{\"type\":\"choropleth\",\"colorbar\":{\"outlinewidth\":0,\"ticks\":\"\"}}],\"histogram2d\":[{\"type\":\"histogram2d\",\"colorbar\":{\"outlinewidth\":0,\"ticks\":\"\"},\"colorscale\":[[0.0,\"#0d0887\"],[0.1111111111111111,\"#46039f\"],[0.2222222222222222,\"#7201a8\"],[0.3333333333333333,\"#9c179e\"],[0.4444444444444444,\"#bd3786\"],[0.5555555555555556,\"#d8576b\"],[0.6666666666666666,\"#ed7953\"],[0.7777777777777778,\"#fb9f3a\"],[0.8888888888888888,\"#fdca26\"],[1.0,\"#f0f921\"]]}],\"heatmap\":[{\"type\":\"heatmap\",\"colorbar\":{\"outlinewidth\":0,\"ticks\":\"\"},\"colorscale\":[[0.0,\"#0d0887\"],[0.1111111111111111,\"#46039f\"],[0.2222222222222222,\"#7201a8\"],[0.3333333333333333,\"#9c179e\"],[0.4444444444444444,\"#bd3786\"],[0.5555555555555556,\"#d8576b\"],[0.6666666666666666,\"#ed7953\"],[0.7777777777777778,\"#fb9f3a\"],[0.8888888888888888,\"#fdca26\"],[1.0,\"#f0f921\"]]}],\"heatmapgl\":[{\"type\":\"heatmapgl\",\"colorbar\":{\"outlinewidth\":0,\"ticks\":\"\"},\"colorscale\":[[0.0,\"#0d0887\"],[0.1111111111111111,\"#46039f\"],[0.2222222222222222,\"#7201a8\"],[0.3333333333333333,\"#9c179e\"],[0.4444444444444444,\"#bd3786\"],[0.5555555555555556,\"#d8576b\"],[0.6666666666666666,\"#ed7953\"],[0.7777777777777778,\"#fb9f3a\"],[0.8888888888888888,\"#fdca26\"],[1.0,\"#f0f921\"]]}],\"contourcarpet\":[{\"type\":\"contourcarpet\",\"colorbar\":{\"outlinewidth\":0,\"ticks\":\"\"}}],\"contour\":[{\"type\":\"contour\",\"colorbar\":{\"outlinewidth\":0,\"ticks\":\"\"},\"colorscale\":[[0.0,\"#0d0887\"],[0.1111111111111111,\"#46039f\"],[0.2222222222222222,\"#7201a8\"],[0.3333333333333333,\"#9c179e\"],[0.4444444444444444,\"#bd3786\"],[0.5555555555555556,\"#d8576b\"],[0.6666666666666666,\"#ed7953\"],[0.7777777777777778,\"#fb9f3a\"],[0.8888888888888888,\"#fdca26\"],[1.0,\"#f0f921\"]]}],\"surface\":[{\"type\":\"surface\",\"colorbar\":{\"outlinewidth\":0,\"ticks\":\"\"},\"colorscale\":[[0.0,\"#0d0887\"],[0.1111111111111111,\"#46039f\"],[0.2222222222222222,\"#7201a8\"],[0.3333333333333333,\"#9c179e\"],[0.4444444444444444,\"#bd3786\"],[0.5555555555555556,\"#d8576b\"],[0.6666666666666666,\"#ed7953\"],[0.7777777777777778,\"#fb9f3a\"],[0.8888888888888888,\"#fdca26\"],[1.0,\"#f0f921\"]]}],\"mesh3d\":[{\"type\":\"mesh3d\",\"colorbar\":{\"outlinewidth\":0,\"ticks\":\"\"}}],\"scatter\":[{\"fillpattern\":{\"fillmode\":\"overlay\",\"size\":10,\"solidity\":0.2},\"type\":\"scatter\"}],\"parcoords\":[{\"type\":\"parcoords\",\"line\":{\"colorbar\":{\"outlinewidth\":0,\"ticks\":\"\"}}}],\"scatterpolargl\":[{\"type\":\"scatterpolargl\",\"marker\":{\"colorbar\":{\"outlinewidth\":0,\"ticks\":\"\"}}}],\"bar\":[{\"error_x\":{\"color\":\"#2a3f5f\"},\"error_y\":{\"color\":\"#2a3f5f\"},\"marker\":{\"line\":{\"color\":\"#E5ECF6\",\"width\":0.5},\"pattern\":{\"fillmode\":\"overlay\",\"size\":10,\"solidity\":0.2}},\"type\":\"bar\"}],\"scattergeo\":[{\"type\":\"scattergeo\",\"marker\":{\"colorbar\":{\"outlinewidth\":0,\"ticks\":\"\"}}}],\"scatterpolar\":[{\"type\":\"scatterpolar\",\"marker\":{\"colorbar\":{\"outlinewidth\":0,\"ticks\":\"\"}}}],\"histogram\":[{\"marker\":{\"pattern\":{\"fillmode\":\"overlay\",\"size\":10,\"solidity\":0.2}},\"type\":\"histogram\"}],\"scattergl\":[{\"type\":\"scattergl\",\"marker\":{\"colorbar\":{\"outlinewidth\":0,\"ticks\":\"\"}}}],\"scatter3d\":[{\"type\":\"scatter3d\",\"line\":{\"colorbar\":{\"outlinewidth\":0,\"ticks\":\"\"}},\"marker\":{\"colorbar\":{\"outlinewidth\":0,\"ticks\":\"\"}}}],\"scattermapbox\":[{\"type\":\"scattermapbox\",\"marker\":{\"colorbar\":{\"outlinewidth\":0,\"ticks\":\"\"}}}],\"scatterternary\":[{\"type\":\"scatterternary\",\"marker\":{\"colorbar\":{\"outlinewidth\":0,\"ticks\":\"\"}}}],\"scattercarpet\":[{\"type\":\"scattercarpet\",\"marker\":{\"colorbar\":{\"outlinewidth\":0,\"ticks\":\"\"}}}],\"carpet\":[{\"aaxis\":{\"endlinecolor\":\"#2a3f5f\",\"gridcolor\":\"white\",\"linecolor\":\"white\",\"minorgridcolor\":\"white\",\"startlinecolor\":\"#2a3f5f\"},\"baxis\":{\"endlinecolor\":\"#2a3f5f\",\"gridcolor\":\"white\",\"linecolor\":\"white\",\"minorgridcolor\":\"white\",\"startlinecolor\":\"#2a3f5f\"},\"type\":\"carpet\"}],\"table\":[{\"cells\":{\"fill\":{\"color\":\"#EBF0F8\"},\"line\":{\"color\":\"white\"}},\"header\":{\"fill\":{\"color\":\"#C8D4E3\"},\"line\":{\"color\":\"white\"}},\"type\":\"table\"}],\"barpolar\":[{\"marker\":{\"line\":{\"color\":\"#E5ECF6\",\"width\":0.5},\"pattern\":{\"fillmode\":\"overlay\",\"size\":10,\"solidity\":0.2}},\"type\":\"barpolar\"}],\"pie\":[{\"automargin\":true,\"type\":\"pie\"}]},\"layout\":{\"autotypenumbers\":\"strict\",\"colorway\":[\"#636efa\",\"#EF553B\",\"#00cc96\",\"#ab63fa\",\"#FFA15A\",\"#19d3f3\",\"#FF6692\",\"#B6E880\",\"#FF97FF\",\"#FECB52\"],\"font\":{\"color\":\"#2a3f5f\"},\"hovermode\":\"closest\",\"hoverlabel\":{\"align\":\"left\"},\"paper_bgcolor\":\"white\",\"plot_bgcolor\":\"#E5ECF6\",\"polar\":{\"bgcolor\":\"#E5ECF6\",\"angularaxis\":{\"gridcolor\":\"white\",\"linecolor\":\"white\",\"ticks\":\"\"},\"radialaxis\":{\"gridcolor\":\"white\",\"linecolor\":\"white\",\"ticks\":\"\"}},\"ternary\":{\"bgcolor\":\"#E5ECF6\",\"aaxis\":{\"gridcolor\":\"white\",\"linecolor\":\"white\",\"ticks\":\"\"},\"baxis\":{\"gridcolor\":\"white\",\"linecolor\":\"white\",\"ticks\":\"\"},\"caxis\":{\"gridcolor\":\"white\",\"linecolor\":\"white\",\"ticks\":\"\"}},\"coloraxis\":{\"colorbar\":{\"outlinewidth\":0,\"ticks\":\"\"}},\"colorscale\":{\"sequential\":[[0.0,\"#0d0887\"],[0.1111111111111111,\"#46039f\"],[0.2222222222222222,\"#7201a8\"],[0.3333333333333333,\"#9c179e\"],[0.4444444444444444,\"#bd3786\"],[0.5555555555555556,\"#d8576b\"],[0.6666666666666666,\"#ed7953\"],[0.7777777777777778,\"#fb9f3a\"],[0.8888888888888888,\"#fdca26\"],[1.0,\"#f0f921\"]],\"sequentialminus\":[[0.0,\"#0d0887\"],[0.1111111111111111,\"#46039f\"],[0.2222222222222222,\"#7201a8\"],[0.3333333333333333,\"#9c179e\"],[0.4444444444444444,\"#bd3786\"],[0.5555555555555556,\"#d8576b\"],[0.6666666666666666,\"#ed7953\"],[0.7777777777777778,\"#fb9f3a\"],[0.8888888888888888,\"#fdca26\"],[1.0,\"#f0f921\"]],\"diverging\":[[0,\"#8e0152\"],[0.1,\"#c51b7d\"],[0.2,\"#de77ae\"],[0.3,\"#f1b6da\"],[0.4,\"#fde0ef\"],[0.5,\"#f7f7f7\"],[0.6,\"#e6f5d0\"],[0.7,\"#b8e186\"],[0.8,\"#7fbc41\"],[0.9,\"#4d9221\"],[1,\"#276419\"]]},\"xaxis\":{\"gridcolor\":\"white\",\"linecolor\":\"white\",\"ticks\":\"\",\"title\":{\"standoff\":15},\"zerolinecolor\":\"white\",\"automargin\":true,\"zerolinewidth\":2},\"yaxis\":{\"gridcolor\":\"white\",\"linecolor\":\"white\",\"ticks\":\"\",\"title\":{\"standoff\":15},\"zerolinecolor\":\"white\",\"automargin\":true,\"zerolinewidth\":2},\"scene\":{\"xaxis\":{\"backgroundcolor\":\"#E5ECF6\",\"gridcolor\":\"white\",\"linecolor\":\"white\",\"showbackground\":true,\"ticks\":\"\",\"zerolinecolor\":\"white\",\"gridwidth\":2},\"yaxis\":{\"backgroundcolor\":\"#E5ECF6\",\"gridcolor\":\"white\",\"linecolor\":\"white\",\"showbackground\":true,\"ticks\":\"\",\"zerolinecolor\":\"white\",\"gridwidth\":2},\"zaxis\":{\"backgroundcolor\":\"#E5ECF6\",\"gridcolor\":\"white\",\"linecolor\":\"white\",\"showbackground\":true,\"ticks\":\"\",\"zerolinecolor\":\"white\",\"gridwidth\":2}},\"shapedefaults\":{\"line\":{\"color\":\"#2a3f5f\"}},\"annotationdefaults\":{\"arrowcolor\":\"#2a3f5f\",\"arrowhead\":0,\"arrowwidth\":1},\"geo\":{\"bgcolor\":\"white\",\"landcolor\":\"#E5ECF6\",\"subunitcolor\":\"white\",\"showland\":true,\"showlakes\":true,\"lakecolor\":\"white\"},\"title\":{\"x\":0.05},\"mapbox\":{\"style\":\"light\"}}},\"xaxis\":{\"anchor\":\"y\",\"domain\":[0.0,1.0],\"title\":{\"text\":\"x\"}},\"yaxis\":{\"anchor\":\"x\",\"domain\":[0.0,1.0],\"title\":{\"text\":\"y\"}},\"legend\":{\"tracegroupgap\":0},\"margin\":{\"t\":60}},                        {\"responsive\": true}                    ).then(function(){\n",
       "                            \n",
       "var gd = document.getElementById('37840068-538f-48db-b0f6-514e40b207c3');\n",
       "var x = new MutationObserver(function (mutations, observer) {{\n",
       "        var display = window.getComputedStyle(gd).display;\n",
       "        if (!display || display === 'none') {{\n",
       "            console.log([gd, 'removed!']);\n",
       "            Plotly.purge(gd);\n",
       "            observer.disconnect();\n",
       "        }}\n",
       "}});\n",
       "\n",
       "// Listen for the removal of the full notebook cells\n",
       "var notebookContainer = gd.closest('#notebook-container');\n",
       "if (notebookContainer) {{\n",
       "    x.observe(notebookContainer, {childList: true});\n",
       "}}\n",
       "\n",
       "// Listen for the clearing of the current output cell\n",
       "var outputEl = gd.closest('.output');\n",
       "if (outputEl) {{\n",
       "    x.observe(outputEl, {childList: true});\n",
       "}}\n",
       "\n",
       "                        })                };                });            </script>        </div>"
      ]
     },
     "metadata": {},
     "output_type": "display_data"
    },
    {
     "data": {
      "text/plain": [
       "GradientBoostingRegressor(n_estimators=2000)"
      ]
     },
     "execution_count": 71,
     "metadata": {},
     "output_type": "execute_result"
    },
    {
     "name": "stdout",
     "output_type": "stream",
     "text": [
      "mean squared error is 0.06789270414018166\n"
     ]
    },
    {
     "data": {
      "application/vnd.plotly.v1+json": {
       "config": {
        "plotlyServerURL": "https://plot.ly"
       },
       "data": [
        {
         "hovertemplate": "x=%{x}<br>y=%{y}<extra></extra>",
         "legendgroup": "",
         "marker": {
          "color": "#636efa",
          "symbol": "circle"
         },
         "mode": "markers",
         "name": "",
         "orientation": "v",
         "showlegend": false,
         "type": "scatter",
         "x": [
          0.14297325043453576,
          0.16573412925605954,
          0.13947422567225623,
          0.2925517018709733,
          0.13094403097254043,
          0.2990938100081382,
          0.26766507162492365,
          0.1229676259466769,
          0.2217564875738871,
          0.1757657720316543,
          0.36480647196233146,
          0.19405802297082558,
          0.2968312822749422,
          0.3312026433084185,
          0.2646574589532824,
          0.07935948559077703,
          0.27903047137723147,
          0.4179822218221278,
          0.6002024561940588,
          0.1930134981340313,
          0.41336008420829734,
          0.22748631007918504,
          0.21230000125442336,
          0.13337648577779138,
          0.15710229706391282,
          0.2348747485435914,
          0.2726109448720997,
          0.25184530361430596,
          0.1312166808173924,
          0.22077389450334978,
          0.25828732714880753,
          0.2585981404681359,
          0.3087866061129478,
          0.5154108933225966,
          0.1790329663452145,
          0.23640371517852463,
          0.10729569360299492,
          0.2667871239636734,
          0.17928817650625667,
          0.3934612366743715,
          0.23193368716343943,
          0.20079690106007073,
          0.1650398530811679,
          0.1425085168734271,
          0.18014325360953515,
          0.7481554830578893,
          0.4529421598318583,
          0.17618307617612122,
          0.3059304315208069,
          0.18219398546213278,
          0.24027234743336717,
          0.4254326508793638,
          0.250572409613264,
          0.27648072055631634,
          0.20262853627376168,
          0.2195738071789017,
          0.5270214115531097,
          0.22015211011336144,
          0.2657841369894234,
          0.06409864434684406,
          0.2950008886806224,
          0.27605663958653276,
          0.1835342713399342,
          0.3088337331829065,
          0.27504750419409313,
          0.3358369711213118,
          0.39136475340607696,
          -0.0326333509312951,
          0.15330556252962116,
          0.20070440997384084,
          0.1834937585325539,
          0.4293076788833292,
          0.4050394057559936,
          0.3362685663028188,
          0.5719892605192476,
          0.15272747600121747,
          0.23448827828003665,
          0.2723331823318777,
          0.3171727685288981,
          0.379213663484441,
          0.16165419041344944,
          0.07189816784182163,
          0.2750284684246698,
          0.32921978016326964,
          0.273587619657234,
          0.2982230672791699,
          0.2651071465454537,
          0.3869709695032739,
          0.2480169871645366,
          0.2923495118341276,
          0.13247414920232378,
          0.5037577854277979,
          0.242610332808846,
          0.26118601386443235,
          0.1431239397137079,
          0.24942652054185652,
          0.1185894846858147,
          0.47056831185296527,
          0.33650089195148947,
          0.2549399709410032,
          0.1986807517563399,
          0.15355159337777396,
          0.36898771669350877,
          0.16505541254123274,
          0.18185762248026555,
          0.5759362981389975,
          0.1543969104906369,
          0.04902391219191976,
          0.1553873144853599,
          0.2259109291701434,
          -0.004826581222764832,
          0.2393126678329371,
          0.4077312585009362,
          0.22743192699221731,
          0.5930467059460601,
          0.1412914504716378,
          0.19751990599717598,
          9.89844948108621e-05,
          0.3803995845101805,
          0.2831705380925883,
          0.16440571861432438,
          0.7346056471843644,
          0.09226527783761539,
          0.2340050263420797,
          0.602747881638472,
          0.2546333184709214,
          0.2967327838536032,
          0.34458452089161545,
          0.2580399165128433,
          0.07936574679593865,
          0.37625518878718545,
          0.24422686967158708,
          0.2638890730157845,
          0.31058316729332974,
          0.20019612883229063,
          0.38094004110085256,
          0.25814989056529863,
          0.3807210440577036,
          0.19195596976994642,
          0.18850767392668566,
          0.16141934776208056,
          0.38153837350380626,
          0.28786046625485423,
          0.4921748041812957,
          0.24949447818429876,
          0.2341136219147141,
          0.1249532991080192,
          0.3159669189783584,
          0.3460413435499287,
          0.32581224446884116,
          0.06872345035405852,
          0.17723408634985233,
          0.30636849532181176,
          0.40576013775240555,
          0.1615789630547458,
          0.3602841501691691,
          0.2256505886418364,
          0.1424817452642272,
          0.3449835443918425,
          0.10877458127364062,
          0.24646326074291444,
          0.6907127308483545,
          0.1359813091967677,
          0.4057205665299977,
          0.29353334056212926,
          0.7413234548861235,
          0.24054733602204662,
          0.3157756640743213,
          0.5996381229279694,
          0.40009829775305894,
          0.41095019404119487,
          0.3382488395612647,
          0.342497827608054,
          0.8290978937708854,
          0.2537200660185453,
          0.20604942141301189,
          0.15533849447814443,
          0.2236120536449446,
          0.09541115211813027,
          0.3086046346412427,
          0.1358370830345226,
          0.23756919724492032,
          0.22455037912591058,
          0.14134844453815437,
          0.06722692228993794,
          0.27291376055756594,
          0.2691874149619263,
          0.344480137733388,
          0.5102479363077264,
          0.04709477005447026,
          0.41727749110573475,
          0.30223330276199956,
          0.23665501849488205,
          0.3543093347200432,
          0.35619196789324825,
          0.2327100235347471,
          0.465584148161989,
          0.6080824803812309,
          0.5785035271985985,
          0.04092742209583652,
          0.38064443382945845,
          0.2541578953226707,
          0.13915252400707753,
          0.2741339818148327,
          0.26167329437348413,
          0.0883398497550898,
          0.17574442725028402,
          0.22542751799533317,
          0.14657200127624356,
          0.3615361306440957,
          0.28611575656594485,
          0.08016176137819349,
          0.6420797538142122,
          0.10088665352650837,
          0.21566110973697922,
          0.3940511867207531,
          0.31776554671380014,
          0.054031438939152764,
          0.2839136741632972,
          0.3652547883261846,
          0.22631185429986786,
          0.10952901710579879,
          0.25300238074147013,
          0.10730327600350936,
          0.241853668117179,
          0.1751926721650091,
          0.19907162959024866,
          0.28528299552181213,
          0.2633117446911235,
          0.27706217419122214,
          0.21352084655963158,
          0.3662555623982857,
          0.2753277932039437,
          -0.02126909324904247,
          0.3361334605564946,
          0.2087000492448741,
          0.12975923868282313,
          0.331084454637461,
          0.28389559534160963,
          0.34850546981792674,
          0.3353071323772323,
          0.22373044614560605,
          0.23680525980669423,
          0.18669969592015276,
          0.20847762064766667,
          0.7682497165049699,
          0.247789599840069,
          0.22664399769564308,
          0.36812901155850286,
          0.23123662098788159,
          0.1805870008531171,
          0.17495416864885968,
          0.1838208748272395,
          0.29001983715757557,
          0.18375245649724267,
          0.052312779716060145,
          0.10530178902609322,
          0.24225873546724172,
          0.28547021712481196,
          0.409287283317903,
          0.3021332653532192,
          0.16805283547266694,
          0.46766704986189245,
          0.24718386140031579,
          0.09181519913677963,
          0.17928534068583185,
          0.013135787490382883,
          0.07061141738019559,
          0.2247914966554745,
          0.2537646161051546,
          0.4524097138001015,
          0.23182062623618277,
          0.26494190619043007,
          0.1899653175124919,
          0.1534018719985256,
          0.17188212609758782,
          0.1404287657886864,
          0.2541578157892251,
          0.40901865442878865,
          0.1847843865524723,
          0.2906700548970022,
          0.31061026005679737,
          0.5009376755754033,
          0.15720468263553447,
          0.6238702797653125,
          0.16452671837691507,
          0.14264591540776983,
          0.34539742626877395,
          0.40022557177273915,
          0.12574300943197217,
          0.020890872773055423,
          0.2810675804183252,
          0.25781685158295536,
          0.013018488809123223,
          0.24990359895483621,
          0.19034597150889807,
          0.23956484174960285,
          0.5143677924525177,
          0.20088185105625672,
          0.2133909761010055,
          0.38208634631283767,
          -0.011140342145113384,
          0.2525530244651431,
          0.24513643036163646,
          0.3476278935276432,
          0.3211987112665517,
          0.15910097758469435,
          0.2750480495272922,
          0.1263741994706243,
          0.1780507448148365,
          0.7054804167468595,
          0.1301775241820155,
          0.07580788368715405,
          0.25258011001671093,
          0.42092264961808046,
          0.353593299834445,
          0.4292055894693606,
          0.23389217688840222,
          0.14126872418733014,
          0.07499924705198757,
          0.10192958968053875,
          0.15964670944046175,
          0.19585907797365693,
          0.27984917052906905,
          0.2669775272192209,
          0.17886013629424602,
          0.15137792303975717,
          0.2442641038863158,
          0.820747899301391,
          0.13493335930534534,
          0.4808695765811897,
          0.15260198301059377,
          0.23766256657249804,
          0.14818366194875357,
          0.36823998731987323,
          0.21257317976792803,
          0.10817874145112506,
          0.5136788489992048,
          0.23805693499327804,
          0.21369971744514518,
          0.32083264499806063,
          0.2307183802236111,
          0.18232072560827903,
          0.1832706063379711,
          0.3043687310011366,
          0.28544142709908377,
          0.2601713259447518,
          0.09260800713014895,
          0.29363793973595853,
          0.19244560233818503,
          0.2617119147963471,
          0.2936049216084463,
          0.3219507545913123,
          0.41748696250774026,
          0.15158002214955954,
          0.42664448534504673,
          0.2961571154168092,
          -0.07083007493788064,
          0.5079140549995146,
          0.34470548417966534,
          0.06973763932196408,
          0.22220254550027352,
          0.3578821807237704,
          0.39958352635078065,
          0.5958876757454322,
          0.17785238061943934
         ],
         "xaxis": "x",
         "y": [
          0.2,
          0.2535499999999998,
          0.26420000000000005,
          0.3,
          0.16,
          0.1,
          0.33,
          0.2,
          0.23,
          0.75,
          0.22459799999999944,
          0.5,
          0.26699999999999974,
          0.25,
          0.06,
          0.1,
          0.35,
          0.21,
          0.3662400000000009,
          0.2,
          0.11,
          0.36733800000000005,
          0.1,
          0.1,
          0.2,
          0.15,
          1,
          0.32269999999999943,
          0.4,
          0.16,
          0.36,
          0.04,
          0.06,
          0.1892200000000002,
          0.22415599999999977,
          0.21526799999999968,
          0.20985999999999985,
          0.2024979999999995,
          0.3,
          0.15,
          0.5,
          0.21,
          0.2926149999999995,
          0.15,
          0.35817600000000005,
          0.5443399999999997,
          1,
          0.5,
          0.05,
          0.3,
          0.34,
          0.04,
          0.29,
          0.18,
          0.32367999999999997,
          0.05,
          0.4049799999999991,
          0.18396999999999972,
          0.23466999999999968,
          0.2703299999999995,
          0.28393999999999947,
          0.12,
          0.02,
          1,
          0.25443999999999994,
          0.15,
          0.2824999999999998,
          0.8,
          0.09,
          0.14,
          0.03,
          0.2961800000000001,
          0.23456999999999956,
          0.2939599999999999,
          0.21,
          1,
          0.08,
          0.2839739999999999,
          0.3790600000000002,
          0.05,
          0.1,
          0.267159999999999,
          0.12,
          0.2262299999999998,
          0.24962799999999957,
          0.09,
          0.25,
          0.12,
          0.4,
          0.22778000000000026,
          0.2,
          0.17670699999999961,
          0.05,
          1,
          0.1,
          0.2844400000000003,
          0.24667999999999954,
          0.3,
          0.1,
          0.5,
          0.4200400000000011,
          1,
          0.05,
          0.4170200000000002,
          0.2347799999999997,
          0.18,
          0.1,
          0.48,
          0.1,
          0.21,
          0.3790000000000001,
          0.2545269999999995,
          0.06,
          0.22277999999999967,
          0.1,
          0.14,
          0.2,
          0.1966369999999994,
          1,
          1,
          0.11,
          0.5324799999999998,
          0.2693269999999996,
          0.31,
          0.28620000000000007,
          1,
          0.34299999999999986,
          0.05,
          0.14,
          0.14081999999999964,
          0.05,
          0.2496599999999995,
          0.2508899999999997,
          0.15,
          0.36963,
          0.08,
          0.2554449999999995,
          0.4443000000000001,
          0.17,
          1,
          0.05,
          0.1,
          0.3,
          0.04,
          0.17,
          0.1576199999999998,
          0.12,
          0.07,
          0.30837000000000053,
          0.05,
          0.42507800000000107,
          0.3,
          0.3363400000000008,
          0.14,
          0.11,
          0.3175800000000008,
          0.1654599999999993,
          0.23202000000000014,
          0.20318999999999973,
          0.23912699999999992,
          0.09,
          0.13,
          0.19,
          0.1,
          0.32417999999999936,
          0.05,
          0.2162999999999996,
          0.06,
          0.25567999999999974,
          0.1,
          0.41415000000000013,
          0.3711199999999997,
          0.4069200000000004,
          0.15,
          0.12,
          0.33,
          1,
          0.24972399999999972,
          0.1,
          0.3,
          0.25,
          0.5,
          1,
          0.12,
          0.3105300000000001,
          0.37,
          0.15,
          0.15,
          0.3181400000000002,
          0.15,
          0.15,
          0.34514000000000106,
          0.33,
          0.06,
          0.13,
          0.2,
          0.33,
          0.26277999999999974,
          0.36341999999999997,
          0.17,
          0.25,
          0.2869720000000003,
          0.25,
          0.22741000000000006,
          0.23,
          0.29520799999999936,
          0.14,
          0.25,
          0.2,
          0.2,
          0.1,
          0.12,
          0.33,
          0.05,
          0.3028399999999999,
          0.18664099999999959,
          0.28542999999999974,
          0.22539999999999957,
          0.26,
          0.42,
          0.3018199999999999,
          0.37404000000000115,
          0.33,
          1,
          0.38,
          0.24,
          0.3,
          0.33,
          0.09,
          0.12,
          1,
          0.1,
          0.30936000000000013,
          0.16,
          0.26269,
          0.27669999999999995,
          0.19060000000000005,
          0.3991400000000002,
          0.08,
          0.14,
          0.05,
          0.2434079999999998,
          0.1,
          0.2449599999999996,
          0.3934800000000004,
          0.1,
          0.2619769999999999,
          0.2824399999999996,
          0.18,
          0.12,
          0.2627400000000005,
          0.13,
          0.28541999999999973,
          0.2,
          0.13,
          0.1,
          0.07,
          0.3,
          0.15,
          0.17507599999999957,
          0.54,
          0.05,
          0.21329000000000034,
          0.3121699999999996,
          0.25,
          1,
          0.38,
          0.12,
          0.2,
          0.04,
          1,
          0.1,
          0.38857999999999954,
          0.09,
          0.4058679999999999,
          0.20183800000000013,
          0.1576170000000001,
          0.40972000000000014,
          0.2,
          1,
          0.05,
          0.2824300000000001,
          0.05,
          0.33,
          0.4479970000000003,
          0.5143799999999995,
          0.17,
          0.3,
          0.39598999999999995,
          0.31788700000000025,
          0.3186800000000003,
          0.1,
          0.42287300000000033,
          0.25757999999999937,
          0.3076090000000003,
          0.21057999999999913,
          0.07,
          0.15,
          0.08,
          0.33,
          0.16,
          0.3,
          0.5,
          0.17,
          0.5,
          0.1,
          0.09,
          0.1,
          0.06,
          0.5,
          0.16,
          0.20639999999999986,
          0.2,
          0.12,
          0.31714000000000064,
          0.16841999999999996,
          1,
          0.22891999999999985,
          0.06,
          0.1,
          0.2,
          0.03,
          1,
          0.07,
          0.05,
          0.3,
          0.22532000000000024,
          0.15,
          0.2,
          0.23364999999999964,
          0.3,
          0.25,
          0.1,
          0.1,
          0.18,
          0.25,
          0.2,
          0.5,
          0.2215599999999993,
          0.11,
          0.33948000000000017,
          0.07,
          1,
          0.07,
          0.14978099999999997,
          0.12,
          0.12,
          0.05,
          0.22783999999999985,
          0.17478000000000013,
          0.48178000000000076,
          0.08,
          0.2524400000000003,
          1,
          0.18784799999999965,
          0.40913999999999995,
          0.38,
          0.2760999999999999,
          0.3353700000000006,
          0.3,
          0.1,
          0.22729999999999972,
          0.29529999999999995,
          0.2946519999999999,
          0.24694000000000016,
          0.05
         ],
         "yaxis": "y"
        },
        {
         "hovertemplate": "<b>OLS trendline</b><br>y = 0.00556007 * x + 0.268182<br>R<sup>2</sup>=0.000013<br><br>x=%{x}<br>y=%{y} <b>(trend)</b><extra></extra>",
         "legendgroup": "",
         "marker": {
          "color": "#636efa",
          "symbol": "circle"
         },
         "mode": "lines",
         "name": "",
         "showlegend": false,
         "type": "scatter",
         "x": [
          -0.07083007493788064,
          -0.0326333509312951,
          -0.02126909324904247,
          -0.011140342145113384,
          -0.004826581222764832,
          9.89844948108621e-05,
          0.013018488809123223,
          0.013135787490382883,
          0.020890872773055423,
          0.04092742209583652,
          0.04709477005447026,
          0.04902391219191976,
          0.052312779716060145,
          0.054031438939152764,
          0.06409864434684406,
          0.06722692228993794,
          0.06872345035405852,
          0.06973763932196408,
          0.07061141738019559,
          0.07189816784182163,
          0.07499924705198757,
          0.07580788368715405,
          0.07935948559077703,
          0.07936574679593865,
          0.08016176137819349,
          0.0883398497550898,
          0.09181519913677963,
          0.09226527783761539,
          0.09260800713014895,
          0.09541115211813027,
          0.10088665352650837,
          0.10192958968053875,
          0.10530178902609322,
          0.10729569360299492,
          0.10730327600350936,
          0.10817874145112506,
          0.10877458127364062,
          0.10952901710579879,
          0.1185894846858147,
          0.1229676259466769,
          0.1249532991080192,
          0.12574300943197217,
          0.1263741994706243,
          0.12975923868282313,
          0.1301775241820155,
          0.13094403097254043,
          0.1312166808173924,
          0.13247414920232378,
          0.13337648577779138,
          0.13493335930534534,
          0.1358370830345226,
          0.1359813091967677,
          0.13915252400707753,
          0.13947422567225623,
          0.1404287657886864,
          0.14126872418733014,
          0.1412914504716378,
          0.14134844453815437,
          0.1424817452642272,
          0.1425085168734271,
          0.14264591540776983,
          0.14297325043453576,
          0.1431239397137079,
          0.14657200127624356,
          0.14818366194875357,
          0.15137792303975717,
          0.15158002214955954,
          0.15260198301059377,
          0.15272747600121747,
          0.15330556252962116,
          0.1534018719985256,
          0.15355159337777396,
          0.1543969104906369,
          0.15533849447814443,
          0.1553873144853599,
          0.15710229706391282,
          0.15720468263553447,
          0.15910097758469435,
          0.15964670944046175,
          0.16141934776208056,
          0.1615789630547458,
          0.16165419041344944,
          0.16440571861432438,
          0.16452671837691507,
          0.1650398530811679,
          0.16505541254123274,
          0.16573412925605954,
          0.16805283547266694,
          0.17188212609758782,
          0.17495416864885968,
          0.1751926721650091,
          0.17574442725028402,
          0.1757657720316543,
          0.17618307617612122,
          0.17723408634985233,
          0.17785238061943934,
          0.1780507448148365,
          0.17886013629424602,
          0.1790329663452145,
          0.17928534068583185,
          0.17928817650625667,
          0.18014325360953515,
          0.1805870008531171,
          0.18185762248026555,
          0.18219398546213278,
          0.18232072560827903,
          0.1832706063379711,
          0.1834937585325539,
          0.1835342713399342,
          0.18375245649724267,
          0.1838208748272395,
          0.1847843865524723,
          0.18669969592015276,
          0.18850767392668566,
          0.1899653175124919,
          0.19034597150889807,
          0.19195596976994642,
          0.19244560233818503,
          0.1930134981340313,
          0.19405802297082558,
          0.19585907797365693,
          0.19751990599717598,
          0.1986807517563399,
          0.19907162959024866,
          0.20019612883229063,
          0.20070440997384084,
          0.20079690106007073,
          0.20088185105625672,
          0.20262853627376168,
          0.20604942141301189,
          0.20847762064766667,
          0.2087000492448741,
          0.21230000125442336,
          0.21257317976792803,
          0.2133909761010055,
          0.21352084655963158,
          0.21369971744514518,
          0.21566110973697922,
          0.2195738071789017,
          0.22015211011336144,
          0.22077389450334978,
          0.2217564875738871,
          0.22220254550027352,
          0.2236120536449446,
          0.22373044614560605,
          0.22455037912591058,
          0.2247914966554745,
          0.22542751799533317,
          0.2256505886418364,
          0.2259109291701434,
          0.22631185429986786,
          0.22664399769564308,
          0.22743192699221731,
          0.22748631007918504,
          0.2307183802236111,
          0.23123662098788159,
          0.23182062623618277,
          0.23193368716343943,
          0.2327100235347471,
          0.23389217688840222,
          0.2340050263420797,
          0.2341136219147141,
          0.23448827828003665,
          0.2348747485435914,
          0.23640371517852463,
          0.23665501849488205,
          0.23680525980669423,
          0.23756919724492032,
          0.23766256657249804,
          0.23805693499327804,
          0.2393126678329371,
          0.23956484174960285,
          0.24027234743336717,
          0.24054733602204662,
          0.241853668117179,
          0.24225873546724172,
          0.242610332808846,
          0.24422686967158708,
          0.2442641038863158,
          0.24513643036163646,
          0.24646326074291444,
          0.24718386140031579,
          0.247789599840069,
          0.2480169871645366,
          0.24942652054185652,
          0.24949447818429876,
          0.24990359895483621,
          0.250572409613264,
          0.25184530361430596,
          0.2525530244651431,
          0.25258011001671093,
          0.25300238074147013,
          0.2537200660185453,
          0.2537646161051546,
          0.2541578157892251,
          0.2541578953226707,
          0.2546333184709214,
          0.2549399709410032,
          0.25781685158295536,
          0.2580399165128433,
          0.25814989056529863,
          0.25828732714880753,
          0.2585981404681359,
          0.2601713259447518,
          0.26118601386443235,
          0.26167329437348413,
          0.2617119147963471,
          0.2633117446911235,
          0.2638890730157845,
          0.2646574589532824,
          0.26494190619043007,
          0.2651071465454537,
          0.2657841369894234,
          0.2667871239636734,
          0.2669775272192209,
          0.26766507162492365,
          0.2691874149619263,
          0.2723331823318777,
          0.2726109448720997,
          0.27291376055756594,
          0.273587619657234,
          0.2741339818148327,
          0.2750284684246698,
          0.27504750419409313,
          0.2750480495272922,
          0.2753277932039437,
          0.27605663958653276,
          0.27648072055631634,
          0.27706217419122214,
          0.27903047137723147,
          0.27984917052906905,
          0.2810675804183252,
          0.2831705380925883,
          0.28389559534160963,
          0.2839136741632972,
          0.28528299552181213,
          0.28544142709908377,
          0.28547021712481196,
          0.28611575656594485,
          0.28786046625485423,
          0.29001983715757557,
          0.2906700548970022,
          0.2923495118341276,
          0.2925517018709733,
          0.29353334056212926,
          0.2936049216084463,
          0.29363793973595853,
          0.2950008886806224,
          0.2961571154168092,
          0.2967327838536032,
          0.2968312822749422,
          0.2982230672791699,
          0.2990938100081382,
          0.3021332653532192,
          0.30223330276199956,
          0.3043687310011366,
          0.3059304315208069,
          0.30636849532181176,
          0.3086046346412427,
          0.3087866061129478,
          0.3088337331829065,
          0.31058316729332974,
          0.31061026005679737,
          0.3157756640743213,
          0.3159669189783584,
          0.3171727685288981,
          0.31776554671380014,
          0.32083264499806063,
          0.3211987112665517,
          0.3219507545913123,
          0.32581224446884116,
          0.32921978016326964,
          0.331084454637461,
          0.3312026433084185,
          0.3353071323772323,
          0.3358369711213118,
          0.3361334605564946,
          0.3362685663028188,
          0.33650089195148947,
          0.3382488395612647,
          0.342497827608054,
          0.344480137733388,
          0.34458452089161545,
          0.34470548417966534,
          0.3449835443918425,
          0.34539742626877395,
          0.3460413435499287,
          0.3476278935276432,
          0.34850546981792674,
          0.353593299834445,
          0.3543093347200432,
          0.35619196789324825,
          0.3578821807237704,
          0.3602841501691691,
          0.3615361306440957,
          0.36480647196233146,
          0.3652547883261846,
          0.3662555623982857,
          0.36812901155850286,
          0.36823998731987323,
          0.36898771669350877,
          0.37625518878718545,
          0.379213663484441,
          0.3803995845101805,
          0.38064443382945845,
          0.3807210440577036,
          0.38094004110085256,
          0.38153837350380626,
          0.38208634631283767,
          0.3869709695032739,
          0.39136475340607696,
          0.3934612366743715,
          0.3940511867207531,
          0.39958352635078065,
          0.40009829775305894,
          0.40022557177273915,
          0.4050394057559936,
          0.4057205665299977,
          0.40576013775240555,
          0.4077312585009362,
          0.40901865442878865,
          0.409287283317903,
          0.41095019404119487,
          0.41336008420829734,
          0.41727749110573475,
          0.41748696250774026,
          0.4179822218221278,
          0.42092264961808046,
          0.4254326508793638,
          0.42664448534504673,
          0.4292055894693606,
          0.4293076788833292,
          0.4524097138001015,
          0.4529421598318583,
          0.465584148161989,
          0.46766704986189245,
          0.47056831185296527,
          0.4808695765811897,
          0.4921748041812957,
          0.5009376755754033,
          0.5037577854277979,
          0.5079140549995146,
          0.5102479363077264,
          0.5136788489992048,
          0.5143677924525177,
          0.5154108933225966,
          0.5270214115531097,
          0.5719892605192476,
          0.5759362981389975,
          0.5785035271985985,
          0.5930467059460601,
          0.5958876757454322,
          0.5996381229279694,
          0.6002024561940588,
          0.602747881638472,
          0.6080824803812309,
          0.6238702797653125,
          0.6420797538142122,
          0.6907127308483545,
          0.7054804167468595,
          0.7346056471843644,
          0.7413234548861235,
          0.7481554830578893,
          0.7682497165049699,
          0.820747899301391,
          0.8290978937708854
         ],
         "xaxis": "x",
         "y": [
          0.26778842031191424,
          0.2680007967741143,
          0.26806398284320415,
          0.26812029940913756,
          0.26815540436231716,
          0.2681827908528773,
          0.2682546242022289,
          0.2682552763911167,
          0.26829839520874377,
          0.2684097998270858,
          0.26844409071392694,
          0.2684548168794002,
          0.2684731032133094,
          0.2684826590790288,
          0.2685386334465782,
          0.2685560268911631,
          0.2685643476920722,
          0.26856998665380544,
          0.2685748449210412,
          0.26858199934377985,
          0.2685992415615036,
          0.2686037376378622,
          0.2686234847933331,
          0.26862351960607256,
          0.2686279455029324,
          0.26867341624740637,
          0.2686927394335117,
          0.2686952419026286,
          0.26869714750151263,
          0.2687127331840827,
          0.26874317735562164,
          0.2687489761537242,
          0.2687677258184001,
          0.26877881206757515,
          0.26877885422625336,
          0.2687837218754923,
          0.2687870347866604,
          0.268791229502756,
          0.26884160633743404,
          0.2688659491096528,
          0.26887698959158046,
          0.2688813804363224,
          0.2688848898971694,
          0.2689037109524037,
          0.26890603664909146,
          0.2689102984805615,
          0.2689118144328055,
          0.2689188060451457,
          0.2689238230997386,
          0.2689324794256533,
          0.26893750419291806,
          0.26893830610048713,
          0.2689559382770626,
          0.268957726960865,
          0.2689630342708039,
          0.26896770449836244,
          0.2689678308580958,
          0.2689681477490996,
          0.2689744489805552,
          0.26897459783257843,
          0.2689753617780579,
          0.26897718178374547,
          0.2689780196266976,
          0.26899719109061615,
          0.26900615203689615,
          0.2690239123524073,
          0.2690250360376204,
          0.269030718211624,
          0.2690314159614461,
          0.26903463016305473,
          0.26903516565045094,
          0.26903599811181167,
          0.26904069813419673,
          0.26904593340715094,
          0.26904620484981223,
          0.26905574027313034,
          0.26905630954408344,
          0.269066853076888,
          0.2690698873842495,
          0.2690797433775394,
          0.26908063084975203,
          0.26908104911913816,
          0.2690963478087547,
          0.26909702057591406,
          0.26909987364082877,
          0.2690999601525171,
          0.2691037338650142,
          0.2691166260340672,
          0.2691379171582881,
          0.2691549979301536,
          0.26915632402641715,
          0.26915939182335674,
          0.26915951050183695,
          0.26916183074212374,
          0.26916767443234163,
          0.26917111219180895,
          0.2691722151106362,
          0.2691767153839817,
          0.2691776763311765,
          0.2691790795501961,
          0.26917909531755635,
          0.2691838496061721,
          0.269186316871943,
          0.2691933816172317,
          0.2691952518189823,
          0.2691959565030765,
          0.26920123790649864,
          0.2692024786483384,
          0.2692027039023865,
          0.26920391702715096,
          0.2692042974378603,
          0.2692096546305729,
          0.26922030388487694,
          0.2692303563692915,
          0.26923846096977627,
          0.2692405774326715,
          0.2692495291358273,
          0.2692522515272188,
          0.26925540906764034,
          0.2692612166989304,
          0.2692712306909592,
          0.2692804650111563,
          0.2692869193949262,
          0.26928909270307444,
          0.26929534499766206,
          0.26929817107642806,
          0.269298685333349,
          0.2692991576612809,
          0.2693088693534932,
          0.2693278897145938,
          0.2693413906725001,
          0.26934262739108783,
          0.26936264337653587,
          0.2693641622682145,
          0.26936870927313544,
          0.2693694313619864,
          0.2693704258966446,
          0.2693813313752363,
          0.26940308624720466,
          0.26940630165204615,
          0.2694097588168275,
          0.2694152221031571,
          0.26941770221648637,
          0.2694255391805453,
          0.2694261974511456,
          0.26943075633597474,
          0.269432096966336,
          0.2694356332895563,
          0.269436873577983,
          0.2694383210895644,
          0.2694405502613814,
          0.2694423970019376,
          0.26944677794404254,
          0.2694470803178171,
          0.2694650508543149,
          0.2694679323092811,
          0.2694711794193872,
          0.26947180804606574,
          0.2694761245306938,
          0.26948269738618225,
          0.26948332483705284,
          0.2694839286360468,
          0.2694860117516929,
          0.26948816055344105,
          0.26949666171507713,
          0.26949805897912676,
          0.26949889433134894,
          0.2695031418770401,
          0.26950366101704454,
          0.2695058537331004,
          0.26951283569568724,
          0.26951423780033557,
          0.26951817158151736,
          0.26951970053734087,
          0.26952696383533403,
          0.2695292160381864,
          0.2695311709440448,
          0.2695401590022841,
          0.2695403660271273,
          0.2695452162234604,
          0.26955259349336097,
          0.2695566000835139,
          0.2695599680316874,
          0.26956123232114615,
          0.26956906942550035,
          0.2695694472747546,
          0.26957172201490887,
          0.2695754406490382,
          0.26958251802888494,
          0.26958645300641076,
          0.26958660360397557,
          0.26958895145879685,
          0.2695929418392308,
          0.26959318954083433,
          0.2695953757586321,
          0.2695953762008437,
          0.2695980195868643,
          0.26959972459608733,
          0.2696157202540606,
          0.2696169605107026,
          0.26961757197414093,
          0.2696183361311764,
          0.26962006427501284,
          0.26962881129650745,
          0.26963445303244743,
          0.2696371623462251,
          0.2696373770784826,
          0.26964627224480936,
          0.2696494822307521,
          0.26965375451041096,
          0.26965533605698283,
          0.2696562548049363,
          0.26966001891924646,
          0.26966559559710995,
          0.2696666542525537,
          0.2696704770476307,
          0.26967894138326615,
          0.26969643207029,
          0.26969797644947846,
          0.2696996601259101,
          0.26970340682972654,
          0.26970644464161037,
          0.2697114180498443,
          0.26971152389005626,
          0.26971152692214706,
          0.2697130823165929,
          0.2697171347535557,
          0.2697194926734661,
          0.2697227255964229,
          0.26973366946671007,
          0.26973822149136656,
          0.2697449959357337,
          0.2697566885277722,
          0.2697607198968868,
          0.2697608204164023,
          0.269768433939114,
          0.26976931482978606,
          0.26976947490434666,
          0.26977306414887703,
          0.2697827648570119,
          0.26979477111055394,
          0.26979838636675063,
          0.26980772426501287,
          0.2698088484557867,
          0.2698143064357001,
          0.2698147044313338,
          0.2698148880144366,
          0.26982246610608074,
          0.2698288948077592,
          0.269832095564609,
          0.2698326432227342,
          0.2698403816448902,
          0.2698452230354826,
          0.2698621226201981,
          0.26986267883520126,
          0.2698745519658559,
          0.26988323513018503,
          0.269885670795617,
          0.26989810388693564,
          0.2698991156610704,
          0.26989937769088185,
          0.26990910466713147,
          0.2699092553047949,
          0.2699379753131099,
          0.269939038703779,
          0.2699457433117827,
          0.26994903920003105,
          0.2699660924814255,
          0.26996812783553126,
          0.2699723092491181,
          0.26999377940344,
          0.2700127255406919,
          0.27002309326143975,
          0.2700237503987326,
          0.27004657164558676,
          0.2700495175861335,
          0.2700511660881703,
          0.27005191728558775,
          0.2700532090324751,
          0.2700629277436769,
          0.27008655241497465,
          0.2700975741981865,
          0.2700981545758611,
          0.27009882714021943,
          0.2701003731744849,
          0.2701026743867243,
          0.27010625461193155,
          0.27011507594098877,
          0.27011995532666094,
          0.2701482440180942,
          0.2701522252222359,
          0.2701626927946088,
          0.270172090496392,
          0.270185445614832,
          0.270192406714008,
          0.2702105900409141,
          0.27021308271131395,
          0.27021864708528637,
          0.2702290635939034,
          0.27022968062691355,
          0.2702338380546298,
          0.2702742457087555,
          0.27029069503539416,
          0.2702972888394034,
          0.27029865021877697,
          0.27029907617701465,
          0.2703002938159213,
          0.27030362058601126,
          0.27030666735322995,
          0.27033382620047,
          0.27035825594687407,
          0.2703699125407617,
          0.27037319270436166,
          0.2704039529003961,
          0.27040681506546654,
          0.270407522717935,
          0.2704342879722224,
          0.27043807527385977,
          0.2704382952926294,
          0.27044925486212207,
          0.27045641287369815,
          0.2704579064691464,
          0.2704671523693002,
          0.2704805515275079,
          0.27050233258437895,
          0.2705034972600533,
          0.27050625093654773,
          0.2705225999211505,
          0.27054767584421197,
          0.27055441372876327,
          0.2705686536471697,
          0.27056922127146554,
          0.2706976702045311,
          0.27070063064178007,
          0.270770920982812,
          0.27078250206222765,
          0.2707986332822106,
          0.2708559090359844,
          0.2709187668936809,
          0.2709674890727105,
          0.2709831690811155,
          0.27100627823119444,
          0.2710192547748202,
          0.27103833088981394,
          0.27104216146369364,
          0.27104796117762897,
          0.2711125164726244,
          0.2713625408641018,
          0.27138448666986537,
          0.27139876064334123,
          0.27147962173632384,
          0.27149541772749586,
          0.271516270476652,
          0.27151940820915843,
          0.2715335609530059,
          0.27156322169584995,
          0.27165100296679184,
          0.2717522489185746,
          0.2720226516789523,
          0.2721047610474276,
          0.2722666993696778,
          0.2723040508512654,
          0.2723420374066705,
          0.272453762752786,
          0.2727456563280652,
          0.2727920828824607
         ],
         "yaxis": "y"
        }
       ],
       "layout": {
        "legend": {
         "tracegroupgap": 0
        },
        "margin": {
         "t": 60
        },
        "template": {
         "data": {
          "bar": [
           {
            "error_x": {
             "color": "#2a3f5f"
            },
            "error_y": {
             "color": "#2a3f5f"
            },
            "marker": {
             "line": {
              "color": "#E5ECF6",
              "width": 0.5
             },
             "pattern": {
              "fillmode": "overlay",
              "size": 10,
              "solidity": 0.2
             }
            },
            "type": "bar"
           }
          ],
          "barpolar": [
           {
            "marker": {
             "line": {
              "color": "#E5ECF6",
              "width": 0.5
             },
             "pattern": {
              "fillmode": "overlay",
              "size": 10,
              "solidity": 0.2
             }
            },
            "type": "barpolar"
           }
          ],
          "carpet": [
           {
            "aaxis": {
             "endlinecolor": "#2a3f5f",
             "gridcolor": "white",
             "linecolor": "white",
             "minorgridcolor": "white",
             "startlinecolor": "#2a3f5f"
            },
            "baxis": {
             "endlinecolor": "#2a3f5f",
             "gridcolor": "white",
             "linecolor": "white",
             "minorgridcolor": "white",
             "startlinecolor": "#2a3f5f"
            },
            "type": "carpet"
           }
          ],
          "choropleth": [
           {
            "colorbar": {
             "outlinewidth": 0,
             "ticks": ""
            },
            "type": "choropleth"
           }
          ],
          "contour": [
           {
            "colorbar": {
             "outlinewidth": 0,
             "ticks": ""
            },
            "colorscale": [
             [
              0,
              "#0d0887"
             ],
             [
              0.1111111111111111,
              "#46039f"
             ],
             [
              0.2222222222222222,
              "#7201a8"
             ],
             [
              0.3333333333333333,
              "#9c179e"
             ],
             [
              0.4444444444444444,
              "#bd3786"
             ],
             [
              0.5555555555555556,
              "#d8576b"
             ],
             [
              0.6666666666666666,
              "#ed7953"
             ],
             [
              0.7777777777777778,
              "#fb9f3a"
             ],
             [
              0.8888888888888888,
              "#fdca26"
             ],
             [
              1,
              "#f0f921"
             ]
            ],
            "type": "contour"
           }
          ],
          "contourcarpet": [
           {
            "colorbar": {
             "outlinewidth": 0,
             "ticks": ""
            },
            "type": "contourcarpet"
           }
          ],
          "heatmap": [
           {
            "colorbar": {
             "outlinewidth": 0,
             "ticks": ""
            },
            "colorscale": [
             [
              0,
              "#0d0887"
             ],
             [
              0.1111111111111111,
              "#46039f"
             ],
             [
              0.2222222222222222,
              "#7201a8"
             ],
             [
              0.3333333333333333,
              "#9c179e"
             ],
             [
              0.4444444444444444,
              "#bd3786"
             ],
             [
              0.5555555555555556,
              "#d8576b"
             ],
             [
              0.6666666666666666,
              "#ed7953"
             ],
             [
              0.7777777777777778,
              "#fb9f3a"
             ],
             [
              0.8888888888888888,
              "#fdca26"
             ],
             [
              1,
              "#f0f921"
             ]
            ],
            "type": "heatmap"
           }
          ],
          "heatmapgl": [
           {
            "colorbar": {
             "outlinewidth": 0,
             "ticks": ""
            },
            "colorscale": [
             [
              0,
              "#0d0887"
             ],
             [
              0.1111111111111111,
              "#46039f"
             ],
             [
              0.2222222222222222,
              "#7201a8"
             ],
             [
              0.3333333333333333,
              "#9c179e"
             ],
             [
              0.4444444444444444,
              "#bd3786"
             ],
             [
              0.5555555555555556,
              "#d8576b"
             ],
             [
              0.6666666666666666,
              "#ed7953"
             ],
             [
              0.7777777777777778,
              "#fb9f3a"
             ],
             [
              0.8888888888888888,
              "#fdca26"
             ],
             [
              1,
              "#f0f921"
             ]
            ],
            "type": "heatmapgl"
           }
          ],
          "histogram": [
           {
            "marker": {
             "pattern": {
              "fillmode": "overlay",
              "size": 10,
              "solidity": 0.2
             }
            },
            "type": "histogram"
           }
          ],
          "histogram2d": [
           {
            "colorbar": {
             "outlinewidth": 0,
             "ticks": ""
            },
            "colorscale": [
             [
              0,
              "#0d0887"
             ],
             [
              0.1111111111111111,
              "#46039f"
             ],
             [
              0.2222222222222222,
              "#7201a8"
             ],
             [
              0.3333333333333333,
              "#9c179e"
             ],
             [
              0.4444444444444444,
              "#bd3786"
             ],
             [
              0.5555555555555556,
              "#d8576b"
             ],
             [
              0.6666666666666666,
              "#ed7953"
             ],
             [
              0.7777777777777778,
              "#fb9f3a"
             ],
             [
              0.8888888888888888,
              "#fdca26"
             ],
             [
              1,
              "#f0f921"
             ]
            ],
            "type": "histogram2d"
           }
          ],
          "histogram2dcontour": [
           {
            "colorbar": {
             "outlinewidth": 0,
             "ticks": ""
            },
            "colorscale": [
             [
              0,
              "#0d0887"
             ],
             [
              0.1111111111111111,
              "#46039f"
             ],
             [
              0.2222222222222222,
              "#7201a8"
             ],
             [
              0.3333333333333333,
              "#9c179e"
             ],
             [
              0.4444444444444444,
              "#bd3786"
             ],
             [
              0.5555555555555556,
              "#d8576b"
             ],
             [
              0.6666666666666666,
              "#ed7953"
             ],
             [
              0.7777777777777778,
              "#fb9f3a"
             ],
             [
              0.8888888888888888,
              "#fdca26"
             ],
             [
              1,
              "#f0f921"
             ]
            ],
            "type": "histogram2dcontour"
           }
          ],
          "mesh3d": [
           {
            "colorbar": {
             "outlinewidth": 0,
             "ticks": ""
            },
            "type": "mesh3d"
           }
          ],
          "parcoords": [
           {
            "line": {
             "colorbar": {
              "outlinewidth": 0,
              "ticks": ""
             }
            },
            "type": "parcoords"
           }
          ],
          "pie": [
           {
            "automargin": true,
            "type": "pie"
           }
          ],
          "scatter": [
           {
            "fillpattern": {
             "fillmode": "overlay",
             "size": 10,
             "solidity": 0.2
            },
            "type": "scatter"
           }
          ],
          "scatter3d": [
           {
            "line": {
             "colorbar": {
              "outlinewidth": 0,
              "ticks": ""
             }
            },
            "marker": {
             "colorbar": {
              "outlinewidth": 0,
              "ticks": ""
             }
            },
            "type": "scatter3d"
           }
          ],
          "scattercarpet": [
           {
            "marker": {
             "colorbar": {
              "outlinewidth": 0,
              "ticks": ""
             }
            },
            "type": "scattercarpet"
           }
          ],
          "scattergeo": [
           {
            "marker": {
             "colorbar": {
              "outlinewidth": 0,
              "ticks": ""
             }
            },
            "type": "scattergeo"
           }
          ],
          "scattergl": [
           {
            "marker": {
             "colorbar": {
              "outlinewidth": 0,
              "ticks": ""
             }
            },
            "type": "scattergl"
           }
          ],
          "scattermapbox": [
           {
            "marker": {
             "colorbar": {
              "outlinewidth": 0,
              "ticks": ""
             }
            },
            "type": "scattermapbox"
           }
          ],
          "scatterpolar": [
           {
            "marker": {
             "colorbar": {
              "outlinewidth": 0,
              "ticks": ""
             }
            },
            "type": "scatterpolar"
           }
          ],
          "scatterpolargl": [
           {
            "marker": {
             "colorbar": {
              "outlinewidth": 0,
              "ticks": ""
             }
            },
            "type": "scatterpolargl"
           }
          ],
          "scatterternary": [
           {
            "marker": {
             "colorbar": {
              "outlinewidth": 0,
              "ticks": ""
             }
            },
            "type": "scatterternary"
           }
          ],
          "surface": [
           {
            "colorbar": {
             "outlinewidth": 0,
             "ticks": ""
            },
            "colorscale": [
             [
              0,
              "#0d0887"
             ],
             [
              0.1111111111111111,
              "#46039f"
             ],
             [
              0.2222222222222222,
              "#7201a8"
             ],
             [
              0.3333333333333333,
              "#9c179e"
             ],
             [
              0.4444444444444444,
              "#bd3786"
             ],
             [
              0.5555555555555556,
              "#d8576b"
             ],
             [
              0.6666666666666666,
              "#ed7953"
             ],
             [
              0.7777777777777778,
              "#fb9f3a"
             ],
             [
              0.8888888888888888,
              "#fdca26"
             ],
             [
              1,
              "#f0f921"
             ]
            ],
            "type": "surface"
           }
          ],
          "table": [
           {
            "cells": {
             "fill": {
              "color": "#EBF0F8"
             },
             "line": {
              "color": "white"
             }
            },
            "header": {
             "fill": {
              "color": "#C8D4E3"
             },
             "line": {
              "color": "white"
             }
            },
            "type": "table"
           }
          ]
         },
         "layout": {
          "annotationdefaults": {
           "arrowcolor": "#2a3f5f",
           "arrowhead": 0,
           "arrowwidth": 1
          },
          "autotypenumbers": "strict",
          "coloraxis": {
           "colorbar": {
            "outlinewidth": 0,
            "ticks": ""
           }
          },
          "colorscale": {
           "diverging": [
            [
             0,
             "#8e0152"
            ],
            [
             0.1,
             "#c51b7d"
            ],
            [
             0.2,
             "#de77ae"
            ],
            [
             0.3,
             "#f1b6da"
            ],
            [
             0.4,
             "#fde0ef"
            ],
            [
             0.5,
             "#f7f7f7"
            ],
            [
             0.6,
             "#e6f5d0"
            ],
            [
             0.7,
             "#b8e186"
            ],
            [
             0.8,
             "#7fbc41"
            ],
            [
             0.9,
             "#4d9221"
            ],
            [
             1,
             "#276419"
            ]
           ],
           "sequential": [
            [
             0,
             "#0d0887"
            ],
            [
             0.1111111111111111,
             "#46039f"
            ],
            [
             0.2222222222222222,
             "#7201a8"
            ],
            [
             0.3333333333333333,
             "#9c179e"
            ],
            [
             0.4444444444444444,
             "#bd3786"
            ],
            [
             0.5555555555555556,
             "#d8576b"
            ],
            [
             0.6666666666666666,
             "#ed7953"
            ],
            [
             0.7777777777777778,
             "#fb9f3a"
            ],
            [
             0.8888888888888888,
             "#fdca26"
            ],
            [
             1,
             "#f0f921"
            ]
           ],
           "sequentialminus": [
            [
             0,
             "#0d0887"
            ],
            [
             0.1111111111111111,
             "#46039f"
            ],
            [
             0.2222222222222222,
             "#7201a8"
            ],
            [
             0.3333333333333333,
             "#9c179e"
            ],
            [
             0.4444444444444444,
             "#bd3786"
            ],
            [
             0.5555555555555556,
             "#d8576b"
            ],
            [
             0.6666666666666666,
             "#ed7953"
            ],
            [
             0.7777777777777778,
             "#fb9f3a"
            ],
            [
             0.8888888888888888,
             "#fdca26"
            ],
            [
             1,
             "#f0f921"
            ]
           ]
          },
          "colorway": [
           "#636efa",
           "#EF553B",
           "#00cc96",
           "#ab63fa",
           "#FFA15A",
           "#19d3f3",
           "#FF6692",
           "#B6E880",
           "#FF97FF",
           "#FECB52"
          ],
          "font": {
           "color": "#2a3f5f"
          },
          "geo": {
           "bgcolor": "white",
           "lakecolor": "white",
           "landcolor": "#E5ECF6",
           "showlakes": true,
           "showland": true,
           "subunitcolor": "white"
          },
          "hoverlabel": {
           "align": "left"
          },
          "hovermode": "closest",
          "mapbox": {
           "style": "light"
          },
          "paper_bgcolor": "white",
          "plot_bgcolor": "#E5ECF6",
          "polar": {
           "angularaxis": {
            "gridcolor": "white",
            "linecolor": "white",
            "ticks": ""
           },
           "bgcolor": "#E5ECF6",
           "radialaxis": {
            "gridcolor": "white",
            "linecolor": "white",
            "ticks": ""
           }
          },
          "scene": {
           "xaxis": {
            "backgroundcolor": "#E5ECF6",
            "gridcolor": "white",
            "gridwidth": 2,
            "linecolor": "white",
            "showbackground": true,
            "ticks": "",
            "zerolinecolor": "white"
           },
           "yaxis": {
            "backgroundcolor": "#E5ECF6",
            "gridcolor": "white",
            "gridwidth": 2,
            "linecolor": "white",
            "showbackground": true,
            "ticks": "",
            "zerolinecolor": "white"
           },
           "zaxis": {
            "backgroundcolor": "#E5ECF6",
            "gridcolor": "white",
            "gridwidth": 2,
            "linecolor": "white",
            "showbackground": true,
            "ticks": "",
            "zerolinecolor": "white"
           }
          },
          "shapedefaults": {
           "line": {
            "color": "#2a3f5f"
           }
          },
          "ternary": {
           "aaxis": {
            "gridcolor": "white",
            "linecolor": "white",
            "ticks": ""
           },
           "baxis": {
            "gridcolor": "white",
            "linecolor": "white",
            "ticks": ""
           },
           "bgcolor": "#E5ECF6",
           "caxis": {
            "gridcolor": "white",
            "linecolor": "white",
            "ticks": ""
           }
          },
          "title": {
           "x": 0.05
          },
          "xaxis": {
           "automargin": true,
           "gridcolor": "white",
           "linecolor": "white",
           "ticks": "",
           "title": {
            "standoff": 15
           },
           "zerolinecolor": "white",
           "zerolinewidth": 2
          },
          "yaxis": {
           "automargin": true,
           "gridcolor": "white",
           "linecolor": "white",
           "ticks": "",
           "title": {
            "standoff": 15
           },
           "zerolinecolor": "white",
           "zerolinewidth": 2
          }
         }
        },
        "xaxis": {
         "anchor": "y",
         "domain": [
          0,
          1
         ],
         "title": {
          "text": "x"
         }
        },
        "yaxis": {
         "anchor": "x",
         "domain": [
          0,
          1
         ],
         "title": {
          "text": "y"
         }
        }
       }
      },
      "text/html": [
       "<div>                            <div id=\"68fc75bb-b39d-4c41-b53b-87460ad68b20\" class=\"plotly-graph-div\" style=\"height:525px; width:100%;\"></div>            <script type=\"text/javascript\">                require([\"plotly\"], function(Plotly) {                    window.PLOTLYENV=window.PLOTLYENV || {};                                    if (document.getElementById(\"68fc75bb-b39d-4c41-b53b-87460ad68b20\")) {                    Plotly.newPlot(                        \"68fc75bb-b39d-4c41-b53b-87460ad68b20\",                        [{\"hovertemplate\":\"x=%{x}<br>y=%{y}<extra></extra>\",\"legendgroup\":\"\",\"marker\":{\"color\":\"#636efa\",\"symbol\":\"circle\"},\"mode\":\"markers\",\"name\":\"\",\"orientation\":\"v\",\"showlegend\":false,\"x\":[0.14297325043453576,0.16573412925605954,0.13947422567225623,0.2925517018709733,0.13094403097254043,0.2990938100081382,0.26766507162492365,0.1229676259466769,0.2217564875738871,0.1757657720316543,0.36480647196233146,0.19405802297082558,0.2968312822749422,0.3312026433084185,0.2646574589532824,0.07935948559077703,0.27903047137723147,0.4179822218221278,0.6002024561940588,0.1930134981340313,0.41336008420829734,0.22748631007918504,0.21230000125442336,0.13337648577779138,0.15710229706391282,0.2348747485435914,0.2726109448720997,0.25184530361430596,0.1312166808173924,0.22077389450334978,0.25828732714880753,0.2585981404681359,0.3087866061129478,0.5154108933225966,0.1790329663452145,0.23640371517852463,0.10729569360299492,0.2667871239636734,0.17928817650625667,0.3934612366743715,0.23193368716343943,0.20079690106007073,0.1650398530811679,0.1425085168734271,0.18014325360953515,0.7481554830578893,0.4529421598318583,0.17618307617612122,0.3059304315208069,0.18219398546213278,0.24027234743336717,0.4254326508793638,0.250572409613264,0.27648072055631634,0.20262853627376168,0.2195738071789017,0.5270214115531097,0.22015211011336144,0.2657841369894234,0.06409864434684406,0.2950008886806224,0.27605663958653276,0.1835342713399342,0.3088337331829065,0.27504750419409313,0.3358369711213118,0.39136475340607696,-0.0326333509312951,0.15330556252962116,0.20070440997384084,0.1834937585325539,0.4293076788833292,0.4050394057559936,0.3362685663028188,0.5719892605192476,0.15272747600121747,0.23448827828003665,0.2723331823318777,0.3171727685288981,0.379213663484441,0.16165419041344944,0.07189816784182163,0.2750284684246698,0.32921978016326964,0.273587619657234,0.2982230672791699,0.2651071465454537,0.3869709695032739,0.2480169871645366,0.2923495118341276,0.13247414920232378,0.5037577854277979,0.242610332808846,0.26118601386443235,0.1431239397137079,0.24942652054185652,0.1185894846858147,0.47056831185296527,0.33650089195148947,0.2549399709410032,0.1986807517563399,0.15355159337777396,0.36898771669350877,0.16505541254123274,0.18185762248026555,0.5759362981389975,0.1543969104906369,0.04902391219191976,0.1553873144853599,0.2259109291701434,-0.004826581222764832,0.2393126678329371,0.4077312585009362,0.22743192699221731,0.5930467059460601,0.1412914504716378,0.19751990599717598,9.89844948108621e-05,0.3803995845101805,0.2831705380925883,0.16440571861432438,0.7346056471843644,0.09226527783761539,0.2340050263420797,0.602747881638472,0.2546333184709214,0.2967327838536032,0.34458452089161545,0.2580399165128433,0.07936574679593865,0.37625518878718545,0.24422686967158708,0.2638890730157845,0.31058316729332974,0.20019612883229063,0.38094004110085256,0.25814989056529863,0.3807210440577036,0.19195596976994642,0.18850767392668566,0.16141934776208056,0.38153837350380626,0.28786046625485423,0.4921748041812957,0.24949447818429876,0.2341136219147141,0.1249532991080192,0.3159669189783584,0.3460413435499287,0.32581224446884116,0.06872345035405852,0.17723408634985233,0.30636849532181176,0.40576013775240555,0.1615789630547458,0.3602841501691691,0.2256505886418364,0.1424817452642272,0.3449835443918425,0.10877458127364062,0.24646326074291444,0.6907127308483545,0.1359813091967677,0.4057205665299977,0.29353334056212926,0.7413234548861235,0.24054733602204662,0.3157756640743213,0.5996381229279694,0.40009829775305894,0.41095019404119487,0.3382488395612647,0.342497827608054,0.8290978937708854,0.2537200660185453,0.20604942141301189,0.15533849447814443,0.2236120536449446,0.09541115211813027,0.3086046346412427,0.1358370830345226,0.23756919724492032,0.22455037912591058,0.14134844453815437,0.06722692228993794,0.27291376055756594,0.2691874149619263,0.344480137733388,0.5102479363077264,0.04709477005447026,0.41727749110573475,0.30223330276199956,0.23665501849488205,0.3543093347200432,0.35619196789324825,0.2327100235347471,0.465584148161989,0.6080824803812309,0.5785035271985985,0.04092742209583652,0.38064443382945845,0.2541578953226707,0.13915252400707753,0.2741339818148327,0.26167329437348413,0.0883398497550898,0.17574442725028402,0.22542751799533317,0.14657200127624356,0.3615361306440957,0.28611575656594485,0.08016176137819349,0.6420797538142122,0.10088665352650837,0.21566110973697922,0.3940511867207531,0.31776554671380014,0.054031438939152764,0.2839136741632972,0.3652547883261846,0.22631185429986786,0.10952901710579879,0.25300238074147013,0.10730327600350936,0.241853668117179,0.1751926721650091,0.19907162959024866,0.28528299552181213,0.2633117446911235,0.27706217419122214,0.21352084655963158,0.3662555623982857,0.2753277932039437,-0.02126909324904247,0.3361334605564946,0.2087000492448741,0.12975923868282313,0.331084454637461,0.28389559534160963,0.34850546981792674,0.3353071323772323,0.22373044614560605,0.23680525980669423,0.18669969592015276,0.20847762064766667,0.7682497165049699,0.247789599840069,0.22664399769564308,0.36812901155850286,0.23123662098788159,0.1805870008531171,0.17495416864885968,0.1838208748272395,0.29001983715757557,0.18375245649724267,0.052312779716060145,0.10530178902609322,0.24225873546724172,0.28547021712481196,0.409287283317903,0.3021332653532192,0.16805283547266694,0.46766704986189245,0.24718386140031579,0.09181519913677963,0.17928534068583185,0.013135787490382883,0.07061141738019559,0.2247914966554745,0.2537646161051546,0.4524097138001015,0.23182062623618277,0.26494190619043007,0.1899653175124919,0.1534018719985256,0.17188212609758782,0.1404287657886864,0.2541578157892251,0.40901865442878865,0.1847843865524723,0.2906700548970022,0.31061026005679737,0.5009376755754033,0.15720468263553447,0.6238702797653125,0.16452671837691507,0.14264591540776983,0.34539742626877395,0.40022557177273915,0.12574300943197217,0.020890872773055423,0.2810675804183252,0.25781685158295536,0.013018488809123223,0.24990359895483621,0.19034597150889807,0.23956484174960285,0.5143677924525177,0.20088185105625672,0.2133909761010055,0.38208634631283767,-0.011140342145113384,0.2525530244651431,0.24513643036163646,0.3476278935276432,0.3211987112665517,0.15910097758469435,0.2750480495272922,0.1263741994706243,0.1780507448148365,0.7054804167468595,0.1301775241820155,0.07580788368715405,0.25258011001671093,0.42092264961808046,0.353593299834445,0.4292055894693606,0.23389217688840222,0.14126872418733014,0.07499924705198757,0.10192958968053875,0.15964670944046175,0.19585907797365693,0.27984917052906905,0.2669775272192209,0.17886013629424602,0.15137792303975717,0.2442641038863158,0.820747899301391,0.13493335930534534,0.4808695765811897,0.15260198301059377,0.23766256657249804,0.14818366194875357,0.36823998731987323,0.21257317976792803,0.10817874145112506,0.5136788489992048,0.23805693499327804,0.21369971744514518,0.32083264499806063,0.2307183802236111,0.18232072560827903,0.1832706063379711,0.3043687310011366,0.28544142709908377,0.2601713259447518,0.09260800713014895,0.29363793973595853,0.19244560233818503,0.2617119147963471,0.2936049216084463,0.3219507545913123,0.41748696250774026,0.15158002214955954,0.42664448534504673,0.2961571154168092,-0.07083007493788064,0.5079140549995146,0.34470548417966534,0.06973763932196408,0.22220254550027352,0.3578821807237704,0.39958352635078065,0.5958876757454322,0.17785238061943934],\"xaxis\":\"x\",\"y\":[0.2,0.2535499999999998,0.26420000000000005,0.3,0.16,0.1,0.33,0.2,0.23,0.75,0.22459799999999944,0.5,0.26699999999999974,0.25,0.06,0.1,0.35,0.21,0.3662400000000009,0.2,0.11,0.36733800000000005,0.1,0.1,0.2,0.15,1.0,0.32269999999999943,0.4,0.16,0.36,0.04,0.06,0.1892200000000002,0.22415599999999977,0.21526799999999968,0.20985999999999985,0.2024979999999995,0.3,0.15,0.5,0.21,0.2926149999999995,0.15,0.35817600000000005,0.5443399999999997,1.0,0.5,0.05,0.3,0.34,0.04,0.29,0.18,0.32367999999999997,0.05,0.4049799999999991,0.18396999999999972,0.23466999999999968,0.2703299999999995,0.28393999999999947,0.12,0.02,1.0,0.25443999999999994,0.15,0.2824999999999998,0.8,0.09,0.14,0.03,0.2961800000000001,0.23456999999999956,0.2939599999999999,0.21,1.0,0.08,0.2839739999999999,0.3790600000000002,0.05,0.1,0.267159999999999,0.12,0.2262299999999998,0.24962799999999957,0.09,0.25,0.12,0.4,0.22778000000000026,0.2,0.17670699999999961,0.05,1.0,0.1,0.2844400000000003,0.24667999999999954,0.3,0.1,0.5,0.4200400000000011,1.0,0.05,0.4170200000000002,0.2347799999999997,0.18,0.1,0.48,0.1,0.21,0.3790000000000001,0.2545269999999995,0.06,0.22277999999999967,0.1,0.14,0.2,0.1966369999999994,1.0,1.0,0.11,0.5324799999999998,0.2693269999999996,0.31,0.28620000000000007,1.0,0.34299999999999986,0.05,0.14,0.14081999999999964,0.05,0.2496599999999995,0.2508899999999997,0.15,0.36963,0.08,0.2554449999999995,0.4443000000000001,0.17,1.0,0.05,0.1,0.3,0.04,0.17,0.1576199999999998,0.12,0.07,0.30837000000000053,0.05,0.42507800000000107,0.3,0.3363400000000008,0.14,0.11,0.3175800000000008,0.1654599999999993,0.23202000000000014,0.20318999999999973,0.23912699999999992,0.09,0.13,0.19,0.1,0.32417999999999936,0.05,0.2162999999999996,0.06,0.25567999999999974,0.1,0.41415000000000013,0.3711199999999997,0.4069200000000004,0.15,0.12,0.33,1.0,0.24972399999999972,0.1,0.3,0.25,0.5,1.0,0.12,0.3105300000000001,0.37,0.15,0.15,0.3181400000000002,0.15,0.15,0.34514000000000106,0.33,0.06,0.13,0.2,0.33,0.26277999999999974,0.36341999999999997,0.17,0.25,0.2869720000000003,0.25,0.22741000000000006,0.23,0.29520799999999936,0.14,0.25,0.2,0.2,0.1,0.12,0.33,0.05,0.3028399999999999,0.18664099999999959,0.28542999999999974,0.22539999999999957,0.26,0.42,0.3018199999999999,0.37404000000000115,0.33,1.0,0.38,0.24,0.3,0.33,0.09,0.12,1.0,0.1,0.30936000000000013,0.16,0.26269,0.27669999999999995,0.19060000000000005,0.3991400000000002,0.08,0.14,0.05,0.2434079999999998,0.1,0.2449599999999996,0.3934800000000004,0.1,0.2619769999999999,0.2824399999999996,0.18,0.12,0.2627400000000005,0.13,0.28541999999999973,0.2,0.13,0.1,0.07,0.3,0.15,0.17507599999999957,0.54,0.05,0.21329000000000034,0.3121699999999996,0.25,1.0,0.38,0.12,0.2,0.04,1.0,0.1,0.38857999999999954,0.09,0.4058679999999999,0.20183800000000013,0.1576170000000001,0.40972000000000014,0.2,1.0,0.05,0.2824300000000001,0.05,0.33,0.4479970000000003,0.5143799999999995,0.17,0.3,0.39598999999999995,0.31788700000000025,0.3186800000000003,0.1,0.42287300000000033,0.25757999999999937,0.3076090000000003,0.21057999999999913,0.07,0.15,0.08,0.33,0.16,0.3,0.5,0.17,0.5,0.1,0.09,0.1,0.06,0.5,0.16,0.20639999999999986,0.2,0.12,0.31714000000000064,0.16841999999999996,1.0,0.22891999999999985,0.06,0.1,0.2,0.03,1.0,0.07,0.05,0.3,0.22532000000000024,0.15,0.2,0.23364999999999964,0.3,0.25,0.1,0.1,0.18,0.25,0.2,0.5,0.2215599999999993,0.11,0.33948000000000017,0.07,1.0,0.07,0.14978099999999997,0.12,0.12,0.05,0.22783999999999985,0.17478000000000013,0.48178000000000076,0.08,0.2524400000000003,1.0,0.18784799999999965,0.40913999999999995,0.38,0.2760999999999999,0.3353700000000006,0.3,0.1,0.22729999999999972,0.29529999999999995,0.2946519999999999,0.24694000000000016,0.05],\"yaxis\":\"y\",\"type\":\"scatter\"},{\"hovertemplate\":\"<b>OLS trendline</b><br>y = 0.00556007 * x + 0.268182<br>R<sup>2</sup>=0.000013<br><br>x=%{x}<br>y=%{y} <b>(trend)</b><extra></extra>\",\"legendgroup\":\"\",\"marker\":{\"color\":\"#636efa\",\"symbol\":\"circle\"},\"mode\":\"lines\",\"name\":\"\",\"showlegend\":false,\"x\":[-0.07083007493788064,-0.0326333509312951,-0.02126909324904247,-0.011140342145113384,-0.004826581222764832,9.89844948108621e-05,0.013018488809123223,0.013135787490382883,0.020890872773055423,0.04092742209583652,0.04709477005447026,0.04902391219191976,0.052312779716060145,0.054031438939152764,0.06409864434684406,0.06722692228993794,0.06872345035405852,0.06973763932196408,0.07061141738019559,0.07189816784182163,0.07499924705198757,0.07580788368715405,0.07935948559077703,0.07936574679593865,0.08016176137819349,0.0883398497550898,0.09181519913677963,0.09226527783761539,0.09260800713014895,0.09541115211813027,0.10088665352650837,0.10192958968053875,0.10530178902609322,0.10729569360299492,0.10730327600350936,0.10817874145112506,0.10877458127364062,0.10952901710579879,0.1185894846858147,0.1229676259466769,0.1249532991080192,0.12574300943197217,0.1263741994706243,0.12975923868282313,0.1301775241820155,0.13094403097254043,0.1312166808173924,0.13247414920232378,0.13337648577779138,0.13493335930534534,0.1358370830345226,0.1359813091967677,0.13915252400707753,0.13947422567225623,0.1404287657886864,0.14126872418733014,0.1412914504716378,0.14134844453815437,0.1424817452642272,0.1425085168734271,0.14264591540776983,0.14297325043453576,0.1431239397137079,0.14657200127624356,0.14818366194875357,0.15137792303975717,0.15158002214955954,0.15260198301059377,0.15272747600121747,0.15330556252962116,0.1534018719985256,0.15355159337777396,0.1543969104906369,0.15533849447814443,0.1553873144853599,0.15710229706391282,0.15720468263553447,0.15910097758469435,0.15964670944046175,0.16141934776208056,0.1615789630547458,0.16165419041344944,0.16440571861432438,0.16452671837691507,0.1650398530811679,0.16505541254123274,0.16573412925605954,0.16805283547266694,0.17188212609758782,0.17495416864885968,0.1751926721650091,0.17574442725028402,0.1757657720316543,0.17618307617612122,0.17723408634985233,0.17785238061943934,0.1780507448148365,0.17886013629424602,0.1790329663452145,0.17928534068583185,0.17928817650625667,0.18014325360953515,0.1805870008531171,0.18185762248026555,0.18219398546213278,0.18232072560827903,0.1832706063379711,0.1834937585325539,0.1835342713399342,0.18375245649724267,0.1838208748272395,0.1847843865524723,0.18669969592015276,0.18850767392668566,0.1899653175124919,0.19034597150889807,0.19195596976994642,0.19244560233818503,0.1930134981340313,0.19405802297082558,0.19585907797365693,0.19751990599717598,0.1986807517563399,0.19907162959024866,0.20019612883229063,0.20070440997384084,0.20079690106007073,0.20088185105625672,0.20262853627376168,0.20604942141301189,0.20847762064766667,0.2087000492448741,0.21230000125442336,0.21257317976792803,0.2133909761010055,0.21352084655963158,0.21369971744514518,0.21566110973697922,0.2195738071789017,0.22015211011336144,0.22077389450334978,0.2217564875738871,0.22220254550027352,0.2236120536449446,0.22373044614560605,0.22455037912591058,0.2247914966554745,0.22542751799533317,0.2256505886418364,0.2259109291701434,0.22631185429986786,0.22664399769564308,0.22743192699221731,0.22748631007918504,0.2307183802236111,0.23123662098788159,0.23182062623618277,0.23193368716343943,0.2327100235347471,0.23389217688840222,0.2340050263420797,0.2341136219147141,0.23448827828003665,0.2348747485435914,0.23640371517852463,0.23665501849488205,0.23680525980669423,0.23756919724492032,0.23766256657249804,0.23805693499327804,0.2393126678329371,0.23956484174960285,0.24027234743336717,0.24054733602204662,0.241853668117179,0.24225873546724172,0.242610332808846,0.24422686967158708,0.2442641038863158,0.24513643036163646,0.24646326074291444,0.24718386140031579,0.247789599840069,0.2480169871645366,0.24942652054185652,0.24949447818429876,0.24990359895483621,0.250572409613264,0.25184530361430596,0.2525530244651431,0.25258011001671093,0.25300238074147013,0.2537200660185453,0.2537646161051546,0.2541578157892251,0.2541578953226707,0.2546333184709214,0.2549399709410032,0.25781685158295536,0.2580399165128433,0.25814989056529863,0.25828732714880753,0.2585981404681359,0.2601713259447518,0.26118601386443235,0.26167329437348413,0.2617119147963471,0.2633117446911235,0.2638890730157845,0.2646574589532824,0.26494190619043007,0.2651071465454537,0.2657841369894234,0.2667871239636734,0.2669775272192209,0.26766507162492365,0.2691874149619263,0.2723331823318777,0.2726109448720997,0.27291376055756594,0.273587619657234,0.2741339818148327,0.2750284684246698,0.27504750419409313,0.2750480495272922,0.2753277932039437,0.27605663958653276,0.27648072055631634,0.27706217419122214,0.27903047137723147,0.27984917052906905,0.2810675804183252,0.2831705380925883,0.28389559534160963,0.2839136741632972,0.28528299552181213,0.28544142709908377,0.28547021712481196,0.28611575656594485,0.28786046625485423,0.29001983715757557,0.2906700548970022,0.2923495118341276,0.2925517018709733,0.29353334056212926,0.2936049216084463,0.29363793973595853,0.2950008886806224,0.2961571154168092,0.2967327838536032,0.2968312822749422,0.2982230672791699,0.2990938100081382,0.3021332653532192,0.30223330276199956,0.3043687310011366,0.3059304315208069,0.30636849532181176,0.3086046346412427,0.3087866061129478,0.3088337331829065,0.31058316729332974,0.31061026005679737,0.3157756640743213,0.3159669189783584,0.3171727685288981,0.31776554671380014,0.32083264499806063,0.3211987112665517,0.3219507545913123,0.32581224446884116,0.32921978016326964,0.331084454637461,0.3312026433084185,0.3353071323772323,0.3358369711213118,0.3361334605564946,0.3362685663028188,0.33650089195148947,0.3382488395612647,0.342497827608054,0.344480137733388,0.34458452089161545,0.34470548417966534,0.3449835443918425,0.34539742626877395,0.3460413435499287,0.3476278935276432,0.34850546981792674,0.353593299834445,0.3543093347200432,0.35619196789324825,0.3578821807237704,0.3602841501691691,0.3615361306440957,0.36480647196233146,0.3652547883261846,0.3662555623982857,0.36812901155850286,0.36823998731987323,0.36898771669350877,0.37625518878718545,0.379213663484441,0.3803995845101805,0.38064443382945845,0.3807210440577036,0.38094004110085256,0.38153837350380626,0.38208634631283767,0.3869709695032739,0.39136475340607696,0.3934612366743715,0.3940511867207531,0.39958352635078065,0.40009829775305894,0.40022557177273915,0.4050394057559936,0.4057205665299977,0.40576013775240555,0.4077312585009362,0.40901865442878865,0.409287283317903,0.41095019404119487,0.41336008420829734,0.41727749110573475,0.41748696250774026,0.4179822218221278,0.42092264961808046,0.4254326508793638,0.42664448534504673,0.4292055894693606,0.4293076788833292,0.4524097138001015,0.4529421598318583,0.465584148161989,0.46766704986189245,0.47056831185296527,0.4808695765811897,0.4921748041812957,0.5009376755754033,0.5037577854277979,0.5079140549995146,0.5102479363077264,0.5136788489992048,0.5143677924525177,0.5154108933225966,0.5270214115531097,0.5719892605192476,0.5759362981389975,0.5785035271985985,0.5930467059460601,0.5958876757454322,0.5996381229279694,0.6002024561940588,0.602747881638472,0.6080824803812309,0.6238702797653125,0.6420797538142122,0.6907127308483545,0.7054804167468595,0.7346056471843644,0.7413234548861235,0.7481554830578893,0.7682497165049699,0.820747899301391,0.8290978937708854],\"xaxis\":\"x\",\"y\":[0.26778842031191424,0.2680007967741143,0.26806398284320415,0.26812029940913756,0.26815540436231716,0.2681827908528773,0.2682546242022289,0.2682552763911167,0.26829839520874377,0.2684097998270858,0.26844409071392694,0.2684548168794002,0.2684731032133094,0.2684826590790288,0.2685386334465782,0.2685560268911631,0.2685643476920722,0.26856998665380544,0.2685748449210412,0.26858199934377985,0.2685992415615036,0.2686037376378622,0.2686234847933331,0.26862351960607256,0.2686279455029324,0.26867341624740637,0.2686927394335117,0.2686952419026286,0.26869714750151263,0.2687127331840827,0.26874317735562164,0.2687489761537242,0.2687677258184001,0.26877881206757515,0.26877885422625336,0.2687837218754923,0.2687870347866604,0.268791229502756,0.26884160633743404,0.2688659491096528,0.26887698959158046,0.2688813804363224,0.2688848898971694,0.2689037109524037,0.26890603664909146,0.2689102984805615,0.2689118144328055,0.2689188060451457,0.2689238230997386,0.2689324794256533,0.26893750419291806,0.26893830610048713,0.2689559382770626,0.268957726960865,0.2689630342708039,0.26896770449836244,0.2689678308580958,0.2689681477490996,0.2689744489805552,0.26897459783257843,0.2689753617780579,0.26897718178374547,0.2689780196266976,0.26899719109061615,0.26900615203689615,0.2690239123524073,0.2690250360376204,0.269030718211624,0.2690314159614461,0.26903463016305473,0.26903516565045094,0.26903599811181167,0.26904069813419673,0.26904593340715094,0.26904620484981223,0.26905574027313034,0.26905630954408344,0.269066853076888,0.2690698873842495,0.2690797433775394,0.26908063084975203,0.26908104911913816,0.2690963478087547,0.26909702057591406,0.26909987364082877,0.2690999601525171,0.2691037338650142,0.2691166260340672,0.2691379171582881,0.2691549979301536,0.26915632402641715,0.26915939182335674,0.26915951050183695,0.26916183074212374,0.26916767443234163,0.26917111219180895,0.2691722151106362,0.2691767153839817,0.2691776763311765,0.2691790795501961,0.26917909531755635,0.2691838496061721,0.269186316871943,0.2691933816172317,0.2691952518189823,0.2691959565030765,0.26920123790649864,0.2692024786483384,0.2692027039023865,0.26920391702715096,0.2692042974378603,0.2692096546305729,0.26922030388487694,0.2692303563692915,0.26923846096977627,0.2692405774326715,0.2692495291358273,0.2692522515272188,0.26925540906764034,0.2692612166989304,0.2692712306909592,0.2692804650111563,0.2692869193949262,0.26928909270307444,0.26929534499766206,0.26929817107642806,0.269298685333349,0.2692991576612809,0.2693088693534932,0.2693278897145938,0.2693413906725001,0.26934262739108783,0.26936264337653587,0.2693641622682145,0.26936870927313544,0.2693694313619864,0.2693704258966446,0.2693813313752363,0.26940308624720466,0.26940630165204615,0.2694097588168275,0.2694152221031571,0.26941770221648637,0.2694255391805453,0.2694261974511456,0.26943075633597474,0.269432096966336,0.2694356332895563,0.269436873577983,0.2694383210895644,0.2694405502613814,0.2694423970019376,0.26944677794404254,0.2694470803178171,0.2694650508543149,0.2694679323092811,0.2694711794193872,0.26947180804606574,0.2694761245306938,0.26948269738618225,0.26948332483705284,0.2694839286360468,0.2694860117516929,0.26948816055344105,0.26949666171507713,0.26949805897912676,0.26949889433134894,0.2695031418770401,0.26950366101704454,0.2695058537331004,0.26951283569568724,0.26951423780033557,0.26951817158151736,0.26951970053734087,0.26952696383533403,0.2695292160381864,0.2695311709440448,0.2695401590022841,0.2695403660271273,0.2695452162234604,0.26955259349336097,0.2695566000835139,0.2695599680316874,0.26956123232114615,0.26956906942550035,0.2695694472747546,0.26957172201490887,0.2695754406490382,0.26958251802888494,0.26958645300641076,0.26958660360397557,0.26958895145879685,0.2695929418392308,0.26959318954083433,0.2695953757586321,0.2695953762008437,0.2695980195868643,0.26959972459608733,0.2696157202540606,0.2696169605107026,0.26961757197414093,0.2696183361311764,0.26962006427501284,0.26962881129650745,0.26963445303244743,0.2696371623462251,0.2696373770784826,0.26964627224480936,0.2696494822307521,0.26965375451041096,0.26965533605698283,0.2696562548049363,0.26966001891924646,0.26966559559710995,0.2696666542525537,0.2696704770476307,0.26967894138326615,0.26969643207029,0.26969797644947846,0.2696996601259101,0.26970340682972654,0.26970644464161037,0.2697114180498443,0.26971152389005626,0.26971152692214706,0.2697130823165929,0.2697171347535557,0.2697194926734661,0.2697227255964229,0.26973366946671007,0.26973822149136656,0.2697449959357337,0.2697566885277722,0.2697607198968868,0.2697608204164023,0.269768433939114,0.26976931482978606,0.26976947490434666,0.26977306414887703,0.2697827648570119,0.26979477111055394,0.26979838636675063,0.26980772426501287,0.2698088484557867,0.2698143064357001,0.2698147044313338,0.2698148880144366,0.26982246610608074,0.2698288948077592,0.269832095564609,0.2698326432227342,0.2698403816448902,0.2698452230354826,0.2698621226201981,0.26986267883520126,0.2698745519658559,0.26988323513018503,0.269885670795617,0.26989810388693564,0.2698991156610704,0.26989937769088185,0.26990910466713147,0.2699092553047949,0.2699379753131099,0.269939038703779,0.2699457433117827,0.26994903920003105,0.2699660924814255,0.26996812783553126,0.2699723092491181,0.26999377940344,0.2700127255406919,0.27002309326143975,0.2700237503987326,0.27004657164558676,0.2700495175861335,0.2700511660881703,0.27005191728558775,0.2700532090324751,0.2700629277436769,0.27008655241497465,0.2700975741981865,0.2700981545758611,0.27009882714021943,0.2701003731744849,0.2701026743867243,0.27010625461193155,0.27011507594098877,0.27011995532666094,0.2701482440180942,0.2701522252222359,0.2701626927946088,0.270172090496392,0.270185445614832,0.270192406714008,0.2702105900409141,0.27021308271131395,0.27021864708528637,0.2702290635939034,0.27022968062691355,0.2702338380546298,0.2702742457087555,0.27029069503539416,0.2702972888394034,0.27029865021877697,0.27029907617701465,0.2703002938159213,0.27030362058601126,0.27030666735322995,0.27033382620047,0.27035825594687407,0.2703699125407617,0.27037319270436166,0.2704039529003961,0.27040681506546654,0.270407522717935,0.2704342879722224,0.27043807527385977,0.2704382952926294,0.27044925486212207,0.27045641287369815,0.2704579064691464,0.2704671523693002,0.2704805515275079,0.27050233258437895,0.2705034972600533,0.27050625093654773,0.2705225999211505,0.27054767584421197,0.27055441372876327,0.2705686536471697,0.27056922127146554,0.2706976702045311,0.27070063064178007,0.270770920982812,0.27078250206222765,0.2707986332822106,0.2708559090359844,0.2709187668936809,0.2709674890727105,0.2709831690811155,0.27100627823119444,0.2710192547748202,0.27103833088981394,0.27104216146369364,0.27104796117762897,0.2711125164726244,0.2713625408641018,0.27138448666986537,0.27139876064334123,0.27147962173632384,0.27149541772749586,0.271516270476652,0.27151940820915843,0.2715335609530059,0.27156322169584995,0.27165100296679184,0.2717522489185746,0.2720226516789523,0.2721047610474276,0.2722666993696778,0.2723040508512654,0.2723420374066705,0.272453762752786,0.2727456563280652,0.2727920828824607],\"yaxis\":\"y\",\"type\":\"scatter\"}],                        {\"template\":{\"data\":{\"histogram2dcontour\":[{\"type\":\"histogram2dcontour\",\"colorbar\":{\"outlinewidth\":0,\"ticks\":\"\"},\"colorscale\":[[0.0,\"#0d0887\"],[0.1111111111111111,\"#46039f\"],[0.2222222222222222,\"#7201a8\"],[0.3333333333333333,\"#9c179e\"],[0.4444444444444444,\"#bd3786\"],[0.5555555555555556,\"#d8576b\"],[0.6666666666666666,\"#ed7953\"],[0.7777777777777778,\"#fb9f3a\"],[0.8888888888888888,\"#fdca26\"],[1.0,\"#f0f921\"]]}],\"choropleth\":[{\"type\":\"choropleth\",\"colorbar\":{\"outlinewidth\":0,\"ticks\":\"\"}}],\"histogram2d\":[{\"type\":\"histogram2d\",\"colorbar\":{\"outlinewidth\":0,\"ticks\":\"\"},\"colorscale\":[[0.0,\"#0d0887\"],[0.1111111111111111,\"#46039f\"],[0.2222222222222222,\"#7201a8\"],[0.3333333333333333,\"#9c179e\"],[0.4444444444444444,\"#bd3786\"],[0.5555555555555556,\"#d8576b\"],[0.6666666666666666,\"#ed7953\"],[0.7777777777777778,\"#fb9f3a\"],[0.8888888888888888,\"#fdca26\"],[1.0,\"#f0f921\"]]}],\"heatmap\":[{\"type\":\"heatmap\",\"colorbar\":{\"outlinewidth\":0,\"ticks\":\"\"},\"colorscale\":[[0.0,\"#0d0887\"],[0.1111111111111111,\"#46039f\"],[0.2222222222222222,\"#7201a8\"],[0.3333333333333333,\"#9c179e\"],[0.4444444444444444,\"#bd3786\"],[0.5555555555555556,\"#d8576b\"],[0.6666666666666666,\"#ed7953\"],[0.7777777777777778,\"#fb9f3a\"],[0.8888888888888888,\"#fdca26\"],[1.0,\"#f0f921\"]]}],\"heatmapgl\":[{\"type\":\"heatmapgl\",\"colorbar\":{\"outlinewidth\":0,\"ticks\":\"\"},\"colorscale\":[[0.0,\"#0d0887\"],[0.1111111111111111,\"#46039f\"],[0.2222222222222222,\"#7201a8\"],[0.3333333333333333,\"#9c179e\"],[0.4444444444444444,\"#bd3786\"],[0.5555555555555556,\"#d8576b\"],[0.6666666666666666,\"#ed7953\"],[0.7777777777777778,\"#fb9f3a\"],[0.8888888888888888,\"#fdca26\"],[1.0,\"#f0f921\"]]}],\"contourcarpet\":[{\"type\":\"contourcarpet\",\"colorbar\":{\"outlinewidth\":0,\"ticks\":\"\"}}],\"contour\":[{\"type\":\"contour\",\"colorbar\":{\"outlinewidth\":0,\"ticks\":\"\"},\"colorscale\":[[0.0,\"#0d0887\"],[0.1111111111111111,\"#46039f\"],[0.2222222222222222,\"#7201a8\"],[0.3333333333333333,\"#9c179e\"],[0.4444444444444444,\"#bd3786\"],[0.5555555555555556,\"#d8576b\"],[0.6666666666666666,\"#ed7953\"],[0.7777777777777778,\"#fb9f3a\"],[0.8888888888888888,\"#fdca26\"],[1.0,\"#f0f921\"]]}],\"surface\":[{\"type\":\"surface\",\"colorbar\":{\"outlinewidth\":0,\"ticks\":\"\"},\"colorscale\":[[0.0,\"#0d0887\"],[0.1111111111111111,\"#46039f\"],[0.2222222222222222,\"#7201a8\"],[0.3333333333333333,\"#9c179e\"],[0.4444444444444444,\"#bd3786\"],[0.5555555555555556,\"#d8576b\"],[0.6666666666666666,\"#ed7953\"],[0.7777777777777778,\"#fb9f3a\"],[0.8888888888888888,\"#fdca26\"],[1.0,\"#f0f921\"]]}],\"mesh3d\":[{\"type\":\"mesh3d\",\"colorbar\":{\"outlinewidth\":0,\"ticks\":\"\"}}],\"scatter\":[{\"fillpattern\":{\"fillmode\":\"overlay\",\"size\":10,\"solidity\":0.2},\"type\":\"scatter\"}],\"parcoords\":[{\"type\":\"parcoords\",\"line\":{\"colorbar\":{\"outlinewidth\":0,\"ticks\":\"\"}}}],\"scatterpolargl\":[{\"type\":\"scatterpolargl\",\"marker\":{\"colorbar\":{\"outlinewidth\":0,\"ticks\":\"\"}}}],\"bar\":[{\"error_x\":{\"color\":\"#2a3f5f\"},\"error_y\":{\"color\":\"#2a3f5f\"},\"marker\":{\"line\":{\"color\":\"#E5ECF6\",\"width\":0.5},\"pattern\":{\"fillmode\":\"overlay\",\"size\":10,\"solidity\":0.2}},\"type\":\"bar\"}],\"scattergeo\":[{\"type\":\"scattergeo\",\"marker\":{\"colorbar\":{\"outlinewidth\":0,\"ticks\":\"\"}}}],\"scatterpolar\":[{\"type\":\"scatterpolar\",\"marker\":{\"colorbar\":{\"outlinewidth\":0,\"ticks\":\"\"}}}],\"histogram\":[{\"marker\":{\"pattern\":{\"fillmode\":\"overlay\",\"size\":10,\"solidity\":0.2}},\"type\":\"histogram\"}],\"scattergl\":[{\"type\":\"scattergl\",\"marker\":{\"colorbar\":{\"outlinewidth\":0,\"ticks\":\"\"}}}],\"scatter3d\":[{\"type\":\"scatter3d\",\"line\":{\"colorbar\":{\"outlinewidth\":0,\"ticks\":\"\"}},\"marker\":{\"colorbar\":{\"outlinewidth\":0,\"ticks\":\"\"}}}],\"scattermapbox\":[{\"type\":\"scattermapbox\",\"marker\":{\"colorbar\":{\"outlinewidth\":0,\"ticks\":\"\"}}}],\"scatterternary\":[{\"type\":\"scatterternary\",\"marker\":{\"colorbar\":{\"outlinewidth\":0,\"ticks\":\"\"}}}],\"scattercarpet\":[{\"type\":\"scattercarpet\",\"marker\":{\"colorbar\":{\"outlinewidth\":0,\"ticks\":\"\"}}}],\"carpet\":[{\"aaxis\":{\"endlinecolor\":\"#2a3f5f\",\"gridcolor\":\"white\",\"linecolor\":\"white\",\"minorgridcolor\":\"white\",\"startlinecolor\":\"#2a3f5f\"},\"baxis\":{\"endlinecolor\":\"#2a3f5f\",\"gridcolor\":\"white\",\"linecolor\":\"white\",\"minorgridcolor\":\"white\",\"startlinecolor\":\"#2a3f5f\"},\"type\":\"carpet\"}],\"table\":[{\"cells\":{\"fill\":{\"color\":\"#EBF0F8\"},\"line\":{\"color\":\"white\"}},\"header\":{\"fill\":{\"color\":\"#C8D4E3\"},\"line\":{\"color\":\"white\"}},\"type\":\"table\"}],\"barpolar\":[{\"marker\":{\"line\":{\"color\":\"#E5ECF6\",\"width\":0.5},\"pattern\":{\"fillmode\":\"overlay\",\"size\":10,\"solidity\":0.2}},\"type\":\"barpolar\"}],\"pie\":[{\"automargin\":true,\"type\":\"pie\"}]},\"layout\":{\"autotypenumbers\":\"strict\",\"colorway\":[\"#636efa\",\"#EF553B\",\"#00cc96\",\"#ab63fa\",\"#FFA15A\",\"#19d3f3\",\"#FF6692\",\"#B6E880\",\"#FF97FF\",\"#FECB52\"],\"font\":{\"color\":\"#2a3f5f\"},\"hovermode\":\"closest\",\"hoverlabel\":{\"align\":\"left\"},\"paper_bgcolor\":\"white\",\"plot_bgcolor\":\"#E5ECF6\",\"polar\":{\"bgcolor\":\"#E5ECF6\",\"angularaxis\":{\"gridcolor\":\"white\",\"linecolor\":\"white\",\"ticks\":\"\"},\"radialaxis\":{\"gridcolor\":\"white\",\"linecolor\":\"white\",\"ticks\":\"\"}},\"ternary\":{\"bgcolor\":\"#E5ECF6\",\"aaxis\":{\"gridcolor\":\"white\",\"linecolor\":\"white\",\"ticks\":\"\"},\"baxis\":{\"gridcolor\":\"white\",\"linecolor\":\"white\",\"ticks\":\"\"},\"caxis\":{\"gridcolor\":\"white\",\"linecolor\":\"white\",\"ticks\":\"\"}},\"coloraxis\":{\"colorbar\":{\"outlinewidth\":0,\"ticks\":\"\"}},\"colorscale\":{\"sequential\":[[0.0,\"#0d0887\"],[0.1111111111111111,\"#46039f\"],[0.2222222222222222,\"#7201a8\"],[0.3333333333333333,\"#9c179e\"],[0.4444444444444444,\"#bd3786\"],[0.5555555555555556,\"#d8576b\"],[0.6666666666666666,\"#ed7953\"],[0.7777777777777778,\"#fb9f3a\"],[0.8888888888888888,\"#fdca26\"],[1.0,\"#f0f921\"]],\"sequentialminus\":[[0.0,\"#0d0887\"],[0.1111111111111111,\"#46039f\"],[0.2222222222222222,\"#7201a8\"],[0.3333333333333333,\"#9c179e\"],[0.4444444444444444,\"#bd3786\"],[0.5555555555555556,\"#d8576b\"],[0.6666666666666666,\"#ed7953\"],[0.7777777777777778,\"#fb9f3a\"],[0.8888888888888888,\"#fdca26\"],[1.0,\"#f0f921\"]],\"diverging\":[[0,\"#8e0152\"],[0.1,\"#c51b7d\"],[0.2,\"#de77ae\"],[0.3,\"#f1b6da\"],[0.4,\"#fde0ef\"],[0.5,\"#f7f7f7\"],[0.6,\"#e6f5d0\"],[0.7,\"#b8e186\"],[0.8,\"#7fbc41\"],[0.9,\"#4d9221\"],[1,\"#276419\"]]},\"xaxis\":{\"gridcolor\":\"white\",\"linecolor\":\"white\",\"ticks\":\"\",\"title\":{\"standoff\":15},\"zerolinecolor\":\"white\",\"automargin\":true,\"zerolinewidth\":2},\"yaxis\":{\"gridcolor\":\"white\",\"linecolor\":\"white\",\"ticks\":\"\",\"title\":{\"standoff\":15},\"zerolinecolor\":\"white\",\"automargin\":true,\"zerolinewidth\":2},\"scene\":{\"xaxis\":{\"backgroundcolor\":\"#E5ECF6\",\"gridcolor\":\"white\",\"linecolor\":\"white\",\"showbackground\":true,\"ticks\":\"\",\"zerolinecolor\":\"white\",\"gridwidth\":2},\"yaxis\":{\"backgroundcolor\":\"#E5ECF6\",\"gridcolor\":\"white\",\"linecolor\":\"white\",\"showbackground\":true,\"ticks\":\"\",\"zerolinecolor\":\"white\",\"gridwidth\":2},\"zaxis\":{\"backgroundcolor\":\"#E5ECF6\",\"gridcolor\":\"white\",\"linecolor\":\"white\",\"showbackground\":true,\"ticks\":\"\",\"zerolinecolor\":\"white\",\"gridwidth\":2}},\"shapedefaults\":{\"line\":{\"color\":\"#2a3f5f\"}},\"annotationdefaults\":{\"arrowcolor\":\"#2a3f5f\",\"arrowhead\":0,\"arrowwidth\":1},\"geo\":{\"bgcolor\":\"white\",\"landcolor\":\"#E5ECF6\",\"subunitcolor\":\"white\",\"showland\":true,\"showlakes\":true,\"lakecolor\":\"white\"},\"title\":{\"x\":0.05},\"mapbox\":{\"style\":\"light\"}}},\"xaxis\":{\"anchor\":\"y\",\"domain\":[0.0,1.0],\"title\":{\"text\":\"x\"}},\"yaxis\":{\"anchor\":\"x\",\"domain\":[0.0,1.0],\"title\":{\"text\":\"y\"}},\"legend\":{\"tracegroupgap\":0},\"margin\":{\"t\":60}},                        {\"responsive\": true}                    ).then(function(){\n",
       "                            \n",
       "var gd = document.getElementById('68fc75bb-b39d-4c41-b53b-87460ad68b20');\n",
       "var x = new MutationObserver(function (mutations, observer) {{\n",
       "        var display = window.getComputedStyle(gd).display;\n",
       "        if (!display || display === 'none') {{\n",
       "            console.log([gd, 'removed!']);\n",
       "            Plotly.purge(gd);\n",
       "            observer.disconnect();\n",
       "        }}\n",
       "}});\n",
       "\n",
       "// Listen for the removal of the full notebook cells\n",
       "var notebookContainer = gd.closest('#notebook-container');\n",
       "if (notebookContainer) {{\n",
       "    x.observe(notebookContainer, {childList: true});\n",
       "}}\n",
       "\n",
       "// Listen for the clearing of the current output cell\n",
       "var outputEl = gd.closest('.output');\n",
       "if (outputEl) {{\n",
       "    x.observe(outputEl, {childList: true});\n",
       "}}\n",
       "\n",
       "                        })                };                });            </script>        </div>"
      ]
     },
     "metadata": {},
     "output_type": "display_data"
    },
    {
     "data": {
      "text/plain": [
       "XGBRegressor(base_score=0.5, booster='gbtree', callbacks=None,\n",
       "             colsample_bylevel=1, colsample_bynode=1, colsample_bytree=1,\n",
       "             early_stopping_rounds=None, enable_categorical=False,\n",
       "             eval_metric=None, feature_types=None, gamma=0, gpu_id=-1,\n",
       "             grow_policy='depthwise', importance_type=None,\n",
       "             interaction_constraints='', learning_rate=0.300000012, max_bin=256,\n",
       "             max_cat_threshold=64, max_cat_to_onehot=4, max_delta_step=0,\n",
       "             max_depth=6, max_leaves=0, min_child_weight=1, missing=nan,\n",
       "             monotone_constraints='()', n_estimators=2000, n_jobs=0,\n",
       "             num_parallel_tree=1, predictor='auto', random_state=0, ...)"
      ]
     },
     "execution_count": 71,
     "metadata": {},
     "output_type": "execute_result"
    },
    {
     "name": "stdout",
     "output_type": "stream",
     "text": [
      "mean squared error is 0.06731231072056212\n"
     ]
    },
    {
     "data": {
      "application/vnd.plotly.v1+json": {
       "config": {
        "plotlyServerURL": "https://plot.ly"
       },
       "data": [
        {
         "hovertemplate": "x=%{x}<br>y=%{y}<extra></extra>",
         "legendgroup": "",
         "marker": {
          "color": "#636efa",
          "symbol": "circle"
         },
         "mode": "markers",
         "name": "",
         "orientation": "v",
         "showlegend": false,
         "type": "scatter",
         "x": [
          0.16568933427333832,
          0.23702383041381836,
          0.25975146889686584,
          0.42026227712631226,
          0.30699506402015686,
          0.5696995258331299,
          0.277767539024353,
          0.24221089482307434,
          0.2241210639476776,
          0.12366404384374619,
          0.18796244263648987,
          0.26836445927619934,
          0.3201598525047302,
          0.2718466520309448,
          0.19764569401741028,
          0.13261239230632782,
          0.18187522888183594,
          0.33575013279914856,
          0.2965998649597168,
          0.1883573830127716,
          0.4562321603298187,
          0.26291048526763916,
          0.2474278062582016,
          0.15859022736549377,
          0.04761685058474541,
          0.27229633927345276,
          0.34248974919319153,
          0.08092110604047775,
          0.08754957467317581,
          0.45129868388175964,
          0.17188255488872528,
          0.2478834092617035,
          0.31997397541999817,
          0.34574347734451294,
          0.18815197050571442,
          0.24501562118530273,
          0.11349539458751678,
          0.19033099710941315,
          0.2912556231021881,
          0.5273977518081665,
          0.281095951795578,
          0.7463440895080566,
          0.09212817251682281,
          0.0570705272257328,
          0.3069955110549927,
          0.39590466022491455,
          0.3283543586730957,
          0.2811037600040436,
          0.37698936462402344,
          0.18989919126033783,
          0.3237200081348419,
          0.44928327202796936,
          0.2390444576740265,
          0.25262486934661865,
          0.1925605684518814,
          0.20682835578918457,
          0.4303058385848999,
          0.13006842136383057,
          0.20759136974811554,
          0.1298900693655014,
          0.33373504877090454,
          0.2224561721086502,
          0.17461828887462616,
          0.31925690174102783,
          0.3565440773963928,
          0.24488788843154907,
          0.5597488284111023,
          0.16190126538276672,
          0.17104372382164001,
          0.2030543088912964,
          0.24812310934066772,
          0.309172123670578,
          0.32185235619544983,
          0.36894485354423523,
          0.4400407075881958,
          0.31775936484336853,
          0.26447057723999023,
          0.3129030466079712,
          0.24948400259017944,
          0.27126237750053406,
          0.1556892693042755,
          0.0943278893828392,
          0.29877781867980957,
          0.18749086558818817,
          0.3815370798110962,
          0.4131651818752289,
          0.36671555042266846,
          0.3545576333999634,
          0.19957421720027924,
          0.12814484536647797,
          0.16665004193782806,
          0.41169023513793945,
          0.238372340798378,
          0.20940017700195312,
          0.15072079002857208,
          0.31803616881370544,
          0.32552745938301086,
          0.46456047892570496,
          0.28610360622406006,
          0.2892007529735565,
          0.30144861340522766,
          0.09283817559480667,
          0.3554798364639282,
          0.1594512015581131,
          0.2899521291255951,
          0.3358498513698578,
          0.22229114174842834,
          0.08229708671569824,
          0.11322405189275742,
          0.38422009348869324,
          0.10644223541021347,
          0.23709408938884735,
          0.3430335819721222,
          0.32354021072387695,
          0.35590890049934387,
          0.20713268220424652,
          0.1963658481836319,
          0.08617148548364639,
          0.7774656414985657,
          0.33007270097732544,
          0.236331045627594,
          0.5333645939826965,
          0.17788271605968475,
          0.20222905278205872,
          0.708506166934967,
          0.13455544412136078,
          0.34860143065452576,
          0.2932360768318176,
          0.2542855441570282,
          0.14775222539901733,
          0.16003413498401642,
          0.24467158317565918,
          0.20331446826457977,
          0.35487648844718933,
          0.19645002484321594,
          0.3979274034500122,
          0.2546302080154419,
          0.14441369473934174,
          0.20961037278175354,
          0.21517618000507355,
          0.4434743821620941,
          0.3193763494491577,
          0.2602942883968353,
          0.5497400164604187,
          0.20313993096351624,
          0.3405933380126953,
          0.16809014976024628,
          0.4255279004573822,
          0.28541359305381775,
          0.47337448596954346,
          0.12745463848114014,
          0.1549299657344818,
          0.3074166476726532,
          0.2496388703584671,
          0.1456487476825714,
          0.419094979763031,
          0.21455036103725433,
          0.18367302417755127,
          0.2366284877061844,
          0.2508457899093628,
          0.22770601511001587,
          0.8075862526893616,
          0.1544407457113266,
          0.323404997587204,
          0.36816298961639404,
          0.8274819254875183,
          0.26257216930389404,
          0.30969464778900146,
          0.48424825072288513,
          0.29851070046424866,
          0.29967957735061646,
          0.3130872845649719,
          0.13919800519943237,
          1.0100610256195068,
          0.33476945757865906,
          0.18943119049072266,
          0.17313171923160553,
          0.20471973717212677,
          0.16920770704746246,
          0.5154466032981873,
          0.2885781526565552,
          0.20974357426166534,
          0.18611784279346466,
          0.11799857765436172,
          0.20229941606521606,
          0.3360830843448639,
          0.3769696354866028,
          0.20333193242549896,
          0.35008230805397034,
          0.03083539754152298,
          0.463621586561203,
          0.2862548232078552,
          0.3206755816936493,
          0.43304380774497986,
          0.2357964664697647,
          0.31221964955329895,
          0.7319966554641724,
          0.6208620667457581,
          0.5212472081184387,
          0.05933442711830139,
          0.3031758964061737,
          0.289111852645874,
          0.16666677594184875,
          0.20652952790260315,
          0.18039706349372864,
          0.1159973293542862,
          0.12204234302043915,
          0.2912486791610718,
          0.18184834718704224,
          0.3471634089946747,
          0.30035147070884705,
          0.15961581468582153,
          0.4267798960208893,
          0.052599310874938965,
          0.3085702359676361,
          0.5630329251289368,
          0.33883363008499146,
          0.013137122616171837,
          0.1768372803926468,
          0.35592275857925415,
          0.25764790177345276,
          0.09749985486268997,
          0.1778266578912735,
          0.09246442466974258,
          0.24129194021224976,
          0.23198623955249786,
          0.2230873554944992,
          0.3049620985984802,
          0.3590978682041168,
          0.23514951765537262,
          0.22902898490428925,
          0.6142338514328003,
          0.34836339950561523,
          0.14406533539295197,
          0.30588284134864807,
          0.17239974439144135,
          0.19836843013763428,
          0.2954179048538208,
          0.2896145284175873,
          0.28101950883865356,
          0.2544573247432709,
          0.22873419523239136,
          0.2317846119403839,
          0.13289593160152435,
          0.29877200722694397,
          0.39802682399749756,
          0.38624855875968933,
          0.4154108464717865,
          0.35995426774024963,
          0.28531840443611145,
          0.24560128152370453,
          0.23116181790828705,
          0.1680426299571991,
          0.2465858906507492,
          0.16418753564357758,
          0.10586441308259964,
          0.06626825779676437,
          0.14222823083400726,
          0.22805485129356384,
          0.2879326045513153,
          0.315461665391922,
          0.1983211189508438,
          0.5600715279579163,
          0.35709497332572937,
          0.21887435019016266,
          0.4381066560745239,
          0.02400413528084755,
          0.20610174536705017,
          0.2593270540237427,
          0.3548022508621216,
          0.36498090624809265,
          0.2241748571395874,
          0.2971404492855072,
          0.16942435503005981,
          0.17610961198806763,
          0.15653277933597565,
          0.12629008293151855,
          0.19576887786388397,
          0.25117412209510803,
          0.21351943910121918,
          0.19633576273918152,
          0.3316516578197479,
          0.7300990223884583,
          0.32872068881988525,
          0.6572723388671875,
          0.23228776454925537,
          0.24164454638957977,
          0.45344406366348267,
          0.40826019644737244,
          0.11612749099731445,
          0.04575205221772194,
          0.12904423475265503,
          0.2820536494255066,
          0.03377858176827431,
          0.39865416288375854,
          0.14231961965560913,
          0.20665614306926727,
          0.5054352879524231,
          0.24998927116394043,
          0.13271883130073547,
          0.4405200481414795,
          0.09086580574512482,
          0.22592194378376007,
          0.2504614591598511,
          0.36801886558532715,
          0.3462430536746979,
          0.14018377661705017,
          0.32144010066986084,
          0.12577825784683228,
          0.2719722390174866,
          0.4822593033313751,
          0.2240738570690155,
          0.1295871138572693,
          0.13813552260398865,
          0.2663152813911438,
          0.24757952988147736,
          0.33418670296669006,
          0.25196582078933716,
          0.148703932762146,
          0.19503949582576752,
          0.2042427957057953,
          0.28586676716804504,
          0.21016928553581238,
          0.25377926230430603,
          0.31167033314704895,
          0.2958543002605438,
          0.17548169195652008,
          0.25957930088043213,
          0.6523087024688721,
          0.1348678171634674,
          0.198518767952919,
          0.15382163226604462,
          0.5432812571525574,
          0.19658412039279938,
          0.4281972646713257,
          0.20636826753616333,
          0.18608690798282623,
          0.7501925826072693,
          0.29722777009010315,
          0.21410103142261505,
          0.5952947735786438,
          0.2634219527244568,
          0.258573979139328,
          0.20369873940944672,
          0.2804059684276581,
          0.25232771039009094,
          0.3352540135383606,
          0.1463998407125473,
          0.2174123376607895,
          0.23250965774059296,
          0.24969831109046936,
          0.16242343187332153,
          0.42169010639190674,
          0.34643393754959106,
          0.10393714904785156,
          0.3187645971775055,
          0.2639041841030121,
          0.30587467551231384,
          0.1654837429523468,
          0.4237048029899597,
          0.11307860910892487,
          0.20632928609848022,
          0.2994961142539978,
          0.3470584750175476,
          0.4040578603744507,
          0.22111622989177704
         ],
         "xaxis": "x",
         "y": [
          0.2,
          0.2535499999999998,
          0.26420000000000005,
          0.3,
          0.16,
          0.1,
          0.33,
          0.2,
          0.23,
          0.75,
          0.22459799999999944,
          0.5,
          0.26699999999999974,
          0.25,
          0.06,
          0.1,
          0.35,
          0.21,
          0.3662400000000009,
          0.2,
          0.11,
          0.36733800000000005,
          0.1,
          0.1,
          0.2,
          0.15,
          1,
          0.32269999999999943,
          0.4,
          0.16,
          0.36,
          0.04,
          0.06,
          0.1892200000000002,
          0.22415599999999977,
          0.21526799999999968,
          0.20985999999999985,
          0.2024979999999995,
          0.3,
          0.15,
          0.5,
          0.21,
          0.2926149999999995,
          0.15,
          0.35817600000000005,
          0.5443399999999997,
          1,
          0.5,
          0.05,
          0.3,
          0.34,
          0.04,
          0.29,
          0.18,
          0.32367999999999997,
          0.05,
          0.4049799999999991,
          0.18396999999999972,
          0.23466999999999968,
          0.2703299999999995,
          0.28393999999999947,
          0.12,
          0.02,
          1,
          0.25443999999999994,
          0.15,
          0.2824999999999998,
          0.8,
          0.09,
          0.14,
          0.03,
          0.2961800000000001,
          0.23456999999999956,
          0.2939599999999999,
          0.21,
          1,
          0.08,
          0.2839739999999999,
          0.3790600000000002,
          0.05,
          0.1,
          0.267159999999999,
          0.12,
          0.2262299999999998,
          0.24962799999999957,
          0.09,
          0.25,
          0.12,
          0.4,
          0.22778000000000026,
          0.2,
          0.17670699999999961,
          0.05,
          1,
          0.1,
          0.2844400000000003,
          0.24667999999999954,
          0.3,
          0.1,
          0.5,
          0.4200400000000011,
          1,
          0.05,
          0.4170200000000002,
          0.2347799999999997,
          0.18,
          0.1,
          0.48,
          0.1,
          0.21,
          0.3790000000000001,
          0.2545269999999995,
          0.06,
          0.22277999999999967,
          0.1,
          0.14,
          0.2,
          0.1966369999999994,
          1,
          1,
          0.11,
          0.5324799999999998,
          0.2693269999999996,
          0.31,
          0.28620000000000007,
          1,
          0.34299999999999986,
          0.05,
          0.14,
          0.14081999999999964,
          0.05,
          0.2496599999999995,
          0.2508899999999997,
          0.15,
          0.36963,
          0.08,
          0.2554449999999995,
          0.4443000000000001,
          0.17,
          1,
          0.05,
          0.1,
          0.3,
          0.04,
          0.17,
          0.1576199999999998,
          0.12,
          0.07,
          0.30837000000000053,
          0.05,
          0.42507800000000107,
          0.3,
          0.3363400000000008,
          0.14,
          0.11,
          0.3175800000000008,
          0.1654599999999993,
          0.23202000000000014,
          0.20318999999999973,
          0.23912699999999992,
          0.09,
          0.13,
          0.19,
          0.1,
          0.32417999999999936,
          0.05,
          0.2162999999999996,
          0.06,
          0.25567999999999974,
          0.1,
          0.41415000000000013,
          0.3711199999999997,
          0.4069200000000004,
          0.15,
          0.12,
          0.33,
          1,
          0.24972399999999972,
          0.1,
          0.3,
          0.25,
          0.5,
          1,
          0.12,
          0.3105300000000001,
          0.37,
          0.15,
          0.15,
          0.3181400000000002,
          0.15,
          0.15,
          0.34514000000000106,
          0.33,
          0.06,
          0.13,
          0.2,
          0.33,
          0.26277999999999974,
          0.36341999999999997,
          0.17,
          0.25,
          0.2869720000000003,
          0.25,
          0.22741000000000006,
          0.23,
          0.29520799999999936,
          0.14,
          0.25,
          0.2,
          0.2,
          0.1,
          0.12,
          0.33,
          0.05,
          0.3028399999999999,
          0.18664099999999959,
          0.28542999999999974,
          0.22539999999999957,
          0.26,
          0.42,
          0.3018199999999999,
          0.37404000000000115,
          0.33,
          1,
          0.38,
          0.24,
          0.3,
          0.33,
          0.09,
          0.12,
          1,
          0.1,
          0.30936000000000013,
          0.16,
          0.26269,
          0.27669999999999995,
          0.19060000000000005,
          0.3991400000000002,
          0.08,
          0.14,
          0.05,
          0.2434079999999998,
          0.1,
          0.2449599999999996,
          0.3934800000000004,
          0.1,
          0.2619769999999999,
          0.2824399999999996,
          0.18,
          0.12,
          0.2627400000000005,
          0.13,
          0.28541999999999973,
          0.2,
          0.13,
          0.1,
          0.07,
          0.3,
          0.15,
          0.17507599999999957,
          0.54,
          0.05,
          0.21329000000000034,
          0.3121699999999996,
          0.25,
          1,
          0.38,
          0.12,
          0.2,
          0.04,
          1,
          0.1,
          0.38857999999999954,
          0.09,
          0.4058679999999999,
          0.20183800000000013,
          0.1576170000000001,
          0.40972000000000014,
          0.2,
          1,
          0.05,
          0.2824300000000001,
          0.05,
          0.33,
          0.4479970000000003,
          0.5143799999999995,
          0.17,
          0.3,
          0.39598999999999995,
          0.31788700000000025,
          0.3186800000000003,
          0.1,
          0.42287300000000033,
          0.25757999999999937,
          0.3076090000000003,
          0.21057999999999913,
          0.07,
          0.15,
          0.08,
          0.33,
          0.16,
          0.3,
          0.5,
          0.17,
          0.5,
          0.1,
          0.09,
          0.1,
          0.06,
          0.5,
          0.16,
          0.20639999999999986,
          0.2,
          0.12,
          0.31714000000000064,
          0.16841999999999996,
          1,
          0.22891999999999985,
          0.06,
          0.1,
          0.2,
          0.03,
          1,
          0.07,
          0.05,
          0.3,
          0.22532000000000024,
          0.15,
          0.2,
          0.23364999999999964,
          0.3,
          0.25,
          0.1,
          0.1,
          0.18,
          0.25,
          0.2,
          0.5,
          0.2215599999999993,
          0.11,
          0.33948000000000017,
          0.07,
          1,
          0.07,
          0.14978099999999997,
          0.12,
          0.12,
          0.05,
          0.22783999999999985,
          0.17478000000000013,
          0.48178000000000076,
          0.08,
          0.2524400000000003,
          1,
          0.18784799999999965,
          0.40913999999999995,
          0.38,
          0.2760999999999999,
          0.3353700000000006,
          0.3,
          0.1,
          0.22729999999999972,
          0.29529999999999995,
          0.2946519999999999,
          0.24694000000000016,
          0.05
         ],
         "yaxis": "y"
        },
        {
         "hovertemplate": "<b>OLS trendline</b><br>y = 0.00600403 * x + 0.267998<br>R<sup>2</sup>=0.000015<br><br>x=%{x}<br>y=%{y} <b>(trend)</b><extra></extra>",
         "legendgroup": "",
         "marker": {
          "color": "#636efa",
          "symbol": "circle"
         },
         "mode": "lines",
         "name": "",
         "showlegend": false,
         "type": "scatter",
         "x": [
          0.013137122616171837,
          0.02400413528084755,
          0.03083539754152298,
          0.03377858176827431,
          0.04575205221772194,
          0.04761685058474541,
          0.052599310874938965,
          0.0570705272257328,
          0.05933442711830139,
          0.06626825779676437,
          0.08092110604047775,
          0.08229708671569824,
          0.08617148548364639,
          0.08754957467317581,
          0.09086580574512482,
          0.09212817251682281,
          0.09246442466974258,
          0.09283817559480667,
          0.0943278893828392,
          0.09749985486268997,
          0.10393714904785156,
          0.10586441308259964,
          0.10644223541021347,
          0.11307860910892487,
          0.11322405189275742,
          0.11349539458751678,
          0.1159973293542862,
          0.11612749099731445,
          0.11799857765436172,
          0.12204234302043915,
          0.12366404384374619,
          0.12577825784683228,
          0.12629008293151855,
          0.12745463848114014,
          0.12814484536647797,
          0.12904423475265503,
          0.1295871138572693,
          0.1298900693655014,
          0.13006842136383057,
          0.13261239230632782,
          0.13271883130073547,
          0.13289593160152435,
          0.13455544412136078,
          0.1348678171634674,
          0.13813552260398865,
          0.13919800519943237,
          0.14018377661705017,
          0.14222823083400726,
          0.14231961965560913,
          0.14406533539295197,
          0.14441369473934174,
          0.1456487476825714,
          0.1463998407125473,
          0.14775222539901733,
          0.148703932762146,
          0.15072079002857208,
          0.15382163226604462,
          0.1544407457113266,
          0.1549299657344818,
          0.1556892693042755,
          0.15653277933597565,
          0.15859022736549377,
          0.1594512015581131,
          0.15961581468582153,
          0.16003413498401642,
          0.16190126538276672,
          0.16242343187332153,
          0.16418753564357758,
          0.1654837429523468,
          0.16568933427333832,
          0.16665004193782806,
          0.16666677594184875,
          0.1680426299571991,
          0.16809014976024628,
          0.16920770704746246,
          0.16942435503005981,
          0.17104372382164001,
          0.17188255488872528,
          0.17239974439144135,
          0.17313171923160553,
          0.17461828887462616,
          0.17548169195652008,
          0.17610961198806763,
          0.1768372803926468,
          0.1778266578912735,
          0.17788271605968475,
          0.18039706349372864,
          0.18184834718704224,
          0.18187522888183594,
          0.18367302417755127,
          0.18608690798282623,
          0.18611784279346466,
          0.18749086558818817,
          0.18796244263648987,
          0.18815197050571442,
          0.1883573830127716,
          0.18943119049072266,
          0.18989919126033783,
          0.19033099710941315,
          0.1925605684518814,
          0.19503949582576752,
          0.19576887786388397,
          0.19633576273918152,
          0.1963658481836319,
          0.19645002484321594,
          0.19658412039279938,
          0.19764569401741028,
          0.1983211189508438,
          0.19836843013763428,
          0.198518767952919,
          0.19957421720027924,
          0.20222905278205872,
          0.20229941606521606,
          0.2030543088912964,
          0.20313993096351624,
          0.20331446826457977,
          0.20333193242549896,
          0.20369873940944672,
          0.2042427957057953,
          0.20471973717212677,
          0.20610174536705017,
          0.20632928609848022,
          0.20636826753616333,
          0.20652952790260315,
          0.20665614306926727,
          0.20682835578918457,
          0.20713268220424652,
          0.20759136974811554,
          0.20940017700195312,
          0.20961037278175354,
          0.20974357426166534,
          0.21016928553581238,
          0.21351943910121918,
          0.21410103142261505,
          0.21455036103725433,
          0.21517618000507355,
          0.2174123376607895,
          0.21887435019016266,
          0.22111622989177704,
          0.22229114174842834,
          0.2224561721086502,
          0.2230873554944992,
          0.2240738570690155,
          0.2241210639476776,
          0.2241748571395874,
          0.22592194378376007,
          0.22770601511001587,
          0.22805485129356384,
          0.22873419523239136,
          0.22902898490428925,
          0.23116181790828705,
          0.2317846119403839,
          0.23198623955249786,
          0.23228776454925537,
          0.23250965774059296,
          0.23514951765537262,
          0.2357964664697647,
          0.236331045627594,
          0.2366284877061844,
          0.23702383041381836,
          0.23709408938884735,
          0.238372340798378,
          0.2390444576740265,
          0.24129194021224976,
          0.24164454638957977,
          0.24221089482307434,
          0.24467158317565918,
          0.24488788843154907,
          0.24501562118530273,
          0.24560128152370453,
          0.2465858906507492,
          0.2474278062582016,
          0.24757952988147736,
          0.2478834092617035,
          0.24812310934066772,
          0.24948400259017944,
          0.2496388703584671,
          0.24969831109046936,
          0.24998927116394043,
          0.2504614591598511,
          0.2508457899093628,
          0.25117412209510803,
          0.25196582078933716,
          0.25232771039009094,
          0.25262486934661865,
          0.25377926230430603,
          0.2542855441570282,
          0.2544573247432709,
          0.2546302080154419,
          0.25764790177345276,
          0.258573979139328,
          0.2593270540237427,
          0.25957930088043213,
          0.25975146889686584,
          0.2602942883968353,
          0.26257216930389404,
          0.26291048526763916,
          0.2634219527244568,
          0.2639041841030121,
          0.26447057723999023,
          0.2663152813911438,
          0.26836445927619934,
          0.27126237750053406,
          0.2718466520309448,
          0.2719722390174866,
          0.27229633927345276,
          0.277767539024353,
          0.2804059684276581,
          0.28101950883865356,
          0.281095951795578,
          0.2811037600040436,
          0.2820536494255066,
          0.28531840443611145,
          0.28541359305381775,
          0.28586676716804504,
          0.28610360622406006,
          0.2862548232078552,
          0.2879326045513153,
          0.2885781526565552,
          0.289111852645874,
          0.2892007529735565,
          0.2896145284175873,
          0.2899521291255951,
          0.2912486791610718,
          0.2912556231021881,
          0.2932360768318176,
          0.2954179048538208,
          0.2958543002605438,
          0.2965998649597168,
          0.2971404492855072,
          0.29722777009010315,
          0.29851070046424866,
          0.29877200722694397,
          0.29877781867980957,
          0.2994961142539978,
          0.29967957735061646,
          0.30035147070884705,
          0.30144861340522766,
          0.3031758964061737,
          0.3049620985984802,
          0.30587467551231384,
          0.30588284134864807,
          0.30699506402015686,
          0.3069955110549927,
          0.3074166476726532,
          0.3085702359676361,
          0.309172123670578,
          0.30969464778900146,
          0.31167033314704895,
          0.31221964955329895,
          0.3129030466079712,
          0.3130872845649719,
          0.315461665391922,
          0.31775936484336853,
          0.31803616881370544,
          0.3187645971775055,
          0.31925690174102783,
          0.3193763494491577,
          0.31997397541999817,
          0.3201598525047302,
          0.3206755816936493,
          0.32144010066986084,
          0.32185235619544983,
          0.323404997587204,
          0.32354021072387695,
          0.3237200081348419,
          0.32552745938301086,
          0.3283543586730957,
          0.32872068881988525,
          0.33007270097732544,
          0.3316516578197479,
          0.33373504877090454,
          0.33418670296669006,
          0.33476945757865906,
          0.3352540135383606,
          0.33575013279914856,
          0.3358498513698578,
          0.3360830843448639,
          0.33883363008499146,
          0.3405933380126953,
          0.34248974919319153,
          0.3430335819721222,
          0.34574347734451294,
          0.3462430536746979,
          0.34643393754959106,
          0.3470584750175476,
          0.3471634089946747,
          0.34836339950561523,
          0.34860143065452576,
          0.35008230805397034,
          0.3545576333999634,
          0.3548022508621216,
          0.35487648844718933,
          0.3554798364639282,
          0.35590890049934387,
          0.35592275857925415,
          0.3565440773963928,
          0.35709497332572937,
          0.3590978682041168,
          0.35995426774024963,
          0.36498090624809265,
          0.36671555042266846,
          0.36801886558532715,
          0.36816298961639404,
          0.36894485354423523,
          0.3769696354866028,
          0.37698936462402344,
          0.3815370798110962,
          0.38422009348869324,
          0.38624855875968933,
          0.39590466022491455,
          0.3979274034500122,
          0.39802682399749756,
          0.39865416288375854,
          0.4040578603744507,
          0.40826019644737244,
          0.41169023513793945,
          0.4131651818752289,
          0.4154108464717865,
          0.419094979763031,
          0.42026227712631226,
          0.42169010639190674,
          0.4237048029899597,
          0.4255279004573822,
          0.4267798960208893,
          0.4281972646713257,
          0.4303058385848999,
          0.43304380774497986,
          0.4381066560745239,
          0.4400407075881958,
          0.4405200481414795,
          0.4434743821620941,
          0.44928327202796936,
          0.45129868388175964,
          0.45344406366348267,
          0.4562321603298187,
          0.463621586561203,
          0.46456047892570496,
          0.47337448596954346,
          0.4822593033313751,
          0.48424825072288513,
          0.5054352879524231,
          0.5154466032981873,
          0.5212472081184387,
          0.5273977518081665,
          0.5333645939826965,
          0.5432812571525574,
          0.5497400164604187,
          0.5597488284111023,
          0.5600715279579163,
          0.5630329251289368,
          0.5696995258331299,
          0.5952947735786438,
          0.6142338514328003,
          0.6208620667457581,
          0.6523087024688721,
          0.6572723388671875,
          0.708506166934967,
          0.7300990223884583,
          0.7319966554641724,
          0.7463440895080566,
          0.7501925826072693,
          0.7774656414985657,
          0.8075862526893616,
          0.8274819254875183,
          1.0100610256195068
         ],
         "xaxis": "x",
         "y": [
          0.268076599634789,
          0.26814184555788234,
          0.2681828606947781,
          0.26820053167553737,
          0.268272420809765,
          0.268283617124207,
          0.2683135319895836,
          0.2683403773285152,
          0.26835396986243776,
          0.2683956008236916,
          0.268483577035656,
          0.2684918384716259,
          0.26851510049697236,
          0.2685233745925357,
          0.26854328535956584,
          0.268550864653696,
          0.26855288352335105,
          0.268555127536942,
          0.26856407183048836,
          0.2685831164218714,
          0.2686217661606997,
          0.2686333375211896,
          0.2686368067865998,
          0.2686766518057716,
          0.2686775250493189,
          0.268679154200323,
          0.26869417590393324,
          0.26869495739897814,
          0.26870619146853286,
          0.2687304703768422,
          0.26874020712515223,
          0.2687529009397731,
          0.26875597395543466,
          0.26876296598757565,
          0.2687671100137905,
          0.2687725099790369,
          0.2687757694441173,
          0.2687775883995562,
          0.2687786592311753,
          0.2687939333214508,
          0.26879457238488597,
          0.26879563570126935,
          0.26880559947232424,
          0.268807474970965,
          0.2688270943884114,
          0.26883347357097515,
          0.2688393921769514,
          0.2688516671513831,
          0.26885221585305574,
          0.2688626971912354,
          0.2688647887529023,
          0.2688722040538536,
          0.2688767136426046,
          0.268884833407435,
          0.26889054749163993,
          0.268902656773018,
          0.2689212743379729,
          0.2689249915166938,
          0.26892792881077743,
          0.2689324876958959,
          0.26893755215954884,
          0.26894990514928435,
          0.2689550744683687,
          0.26895606281132933,
          0.2689585744209912,
          0.2689697847370331,
          0.26897291984285615,
          0.26898351158342687,
          0.268991294057322,
          0.2689925284347845,
          0.26899829655711277,
          0.2689983970286566,
          0.2690066577041562,
          0.26900694301471123,
          0.26901365286764545,
          0.2690149536296899,
          0.2690246763764001,
          0.2690297127473863,
          0.2690328179712008,
          0.2690372127736733,
          0.2690461381896634,
          0.2690513220918836,
          0.26905509214565565,
          0.2690594610921387,
          0.26906540134915113,
          0.2690657379243496,
          0.26908083415404715,
          0.2690895477119643,
          0.26908970911059754,
          0.26910050313626227,
          0.26911499617882834,
          0.26911518191251044,
          0.26912342558926267,
          0.26912625695430986,
          0.26912739488624765,
          0.269128628190105,
          0.26913507536765835,
          0.26913788526060356,
          0.26914047783798334,
          0.26915386426209365,
          0.26916874782851447,
          0.26917312706371305,
          0.26917653066027797,
          0.26917671129433585,
          0.2691772166939362,
          0.2691780218082933,
          0.26918439553336443,
          0.2691884508082244,
          0.2691887348662402,
          0.2691896374997271,
          0.2691959744538236,
          0.2692119141792605,
          0.2692123366428669,
          0.2692168690457263,
          0.26921738312363447,
          0.26921843105167814,
          0.2692185359071095,
          0.26922073822903575,
          0.2692240047620164,
          0.26922686833521653,
          0.26923516596062497,
          0.2692365321231134,
          0.2692367661690249,
          0.26923773438189,
          0.26923849458376714,
          0.26923952855494454,
          0.2692413557413558,
          0.2692441097173688,
          0.2692549698592142,
          0.26925623188200803,
          0.26925703162833964,
          0.26925958761367896,
          0.26927970205254304,
          0.2692831939531274,
          0.26928589174380685,
          0.2692896491827189,
          0.2693030751512837,
          0.2693118531255069,
          0.26932531344943483,
          0.2693323676612045,
          0.2693333585092437,
          0.2693371481563088,
          0.26934307114617256,
          0.2693433545779187,
          0.2693436775541193,
          0.2693541671232714,
          0.2693648787497448,
          0.26936697317435865,
          0.26937105197906375,
          0.26937282190653644,
          0.2693856275102882,
          0.26938936678738074,
          0.2693905773665969,
          0.26939238773319496,
          0.26939371998765566,
          0.26940956979866554,
          0.2694134541019135,
          0.2694166637338239,
          0.26941844958643885,
          0.26942082323784555,
          0.26942124507518234,
          0.2694289197412321,
          0.26943295515439775,
          0.2694464491179521,
          0.26944856617774016,
          0.2694519665534898,
          0.2694667406121905,
          0.2694680393164918,
          0.26946880622840086,
          0.2694723225535012,
          0.2694782341810443,
          0.2694832890717185,
          0.26948420002564494,
          0.2694860245280435,
          0.2694874636956786,
          0.2694956345462183,
          0.2694965643777011,
          0.26949692126192937,
          0.26949866819635954,
          0.26950150322955746,
          0.26950381076478347,
          0.2695057820826793,
          0.26951053546925485,
          0.26951270826704093,
          0.2695144924197812,
          0.2695214234353658,
          0.26952446316926926,
          0.26952549454590097,
          0.26952653254309744,
          0.26954465088168134,
          0.2695502110824888,
          0.26955473257036294,
          0.2695562470692892,
          0.2695572807720653,
          0.2695605398792773,
          0.26957421635569856,
          0.26957624761654575,
          0.26957931848499705,
          0.2695822138190147,
          0.26958561446316565,
          0.26959669013123466,
          0.26960899346673434,
          0.26962639266883615,
          0.26962990067349696,
          0.26963065470214476,
          0.2696326006113866,
          0.26966544988553304,
          0.2696812911077021,
          0.2696849748257308,
          0.26968543379191057,
          0.26968548067266657,
          0.2696911838418863,
          0.26971078554484856,
          0.2697113570606296,
          0.2697140779338187,
          0.2697154999237722,
          0.2697164078358176,
          0.2697264812935267,
          0.2697303571868681,
          0.26973356154022005,
          0.26973409530088843,
          0.2697365796230874,
          0.26973860658951415,
          0.2697463911211524,
          0.26974643281281707,
          0.2697583235260904,
          0.2697714232976393,
          0.2697740434308833,
          0.2697785198273433,
          0.2697817655144916,
          0.26978228979164826,
          0.2697899925503648,
          0.2697915614452827,
          0.2697915963374484,
          0.26979590900913086,
          0.26979701052796234,
          0.26980104459912163,
          0.26980763188214035,
          0.26981800254952776,
          0.26982872696979526,
          0.26983420611341774,
          0.2698342551413839,
          0.2698409329650993,
          0.26984093564911205,
          0.26984346416805427,
          0.26985039035241587,
          0.2698540041071789,
          0.2698571413602122,
          0.2698690034440162,
          0.2698723015588802,
          0.26987640469863416,
          0.2698775108697544,
          0.2698917667350607,
          0.2699055622027137,
          0.2699072241434069,
          0.2699115976527116,
          0.2699145534664832,
          0.2699152706346893,
          0.2699188588018641,
          0.26991997481436447,
          0.269923071270404,
          0.2699276614690045,
          0.2699301366655601,
          0.26993945877863423,
          0.2699402706030232,
          0.2699413501129502,
          0.2699522021132903,
          0.26996917491523365,
          0.269971374374213,
          0.2699794919023661,
          0.2699889720143239,
          0.27000148076626584,
          0.2700041925138116,
          0.27000769139282904,
          0.27001060068371296,
          0.27001357940106,
          0.27001417811483686,
          0.27001557845375423,
          0.27003209282632035,
          0.270042658174099,
          0.2700540442929758,
          0.27005730948395007,
          0.27007357979029034,
          0.2700765792640026,
          0.2700777253374457,
          0.27008147508218794,
          0.27008210510944686,
          0.27008930989433166,
          0.27009073904165254,
          0.2700996302812136,
          0.2701265002906957,
          0.27012796898247105,
          0.2701284147075213,
          0.2701320372300593,
          0.2701346133454942,
          0.27013469654988936,
          0.27013842696973983,
          0.27014173456811547,
          0.2701537600188287,
          0.2701589018715159,
          0.27018908198445224,
          0.27019949684858285,
          0.2702073219982807,
          0.27020818732399043,
          0.2702128816622855,
          0.2702610627329816,
          0.2702611811874109,
          0.2702884858280239,
          0.27030459473573093,
          0.2703167737119733,
          0.270374749281987,
          0.27038689390286624,
          0.2703874908273013,
          0.2703912573918567,
          0.2704237013800784,
          0.2704489323524427,
          0.2704695264243848,
          0.2704783820560434,
          0.27049186510461265,
          0.2705139847694003,
          0.2705209932634862,
          0.2705295660002012,
          0.270541662308851,
          0.2705526082496373,
          0.27056012527467166,
          0.2705686352054884,
          0.2705812951568151,
          0.27059773401915593,
          0.2706281315371248,
          0.2706397436498749,
          0.2706426216272768,
          0.27066035955178736,
          0.2706952363291632,
          0.27070733693223337,
          0.27072021786727624,
          0.27073695769691314,
          0.27078132406975847,
          0.27078696121226464,
          0.2708398808179991,
          0.2708932255713527,
          0.2709051672808682,
          0.2710323749914239,
          0.27109248327796664,
          0.27112731031163956,
          0.2711642383904911,
          0.27120006351903764,
          0.27125960351061473,
          0.2712983821267885,
          0.27135847538285984,
          0.2713604128821951,
          0.271378193214107,
          0.2714182197172741,
          0.2715718944775314,
          0.2716856053615857,
          0.2717254013975249,
          0.27191420809530314,
          0.2719440099413763,
          0.2722516196321932,
          0.2723812638895209,
          0.2723926573446992,
          0.2724787998391546,
          0.27250190632596233,
          0.27266565472286297,
          0.2728464999230959,
          0.2729659542365612,
          0.2740621655223337
         ],
         "yaxis": "y"
        }
       ],
       "layout": {
        "legend": {
         "tracegroupgap": 0
        },
        "margin": {
         "t": 60
        },
        "template": {
         "data": {
          "bar": [
           {
            "error_x": {
             "color": "#2a3f5f"
            },
            "error_y": {
             "color": "#2a3f5f"
            },
            "marker": {
             "line": {
              "color": "#E5ECF6",
              "width": 0.5
             },
             "pattern": {
              "fillmode": "overlay",
              "size": 10,
              "solidity": 0.2
             }
            },
            "type": "bar"
           }
          ],
          "barpolar": [
           {
            "marker": {
             "line": {
              "color": "#E5ECF6",
              "width": 0.5
             },
             "pattern": {
              "fillmode": "overlay",
              "size": 10,
              "solidity": 0.2
             }
            },
            "type": "barpolar"
           }
          ],
          "carpet": [
           {
            "aaxis": {
             "endlinecolor": "#2a3f5f",
             "gridcolor": "white",
             "linecolor": "white",
             "minorgridcolor": "white",
             "startlinecolor": "#2a3f5f"
            },
            "baxis": {
             "endlinecolor": "#2a3f5f",
             "gridcolor": "white",
             "linecolor": "white",
             "minorgridcolor": "white",
             "startlinecolor": "#2a3f5f"
            },
            "type": "carpet"
           }
          ],
          "choropleth": [
           {
            "colorbar": {
             "outlinewidth": 0,
             "ticks": ""
            },
            "type": "choropleth"
           }
          ],
          "contour": [
           {
            "colorbar": {
             "outlinewidth": 0,
             "ticks": ""
            },
            "colorscale": [
             [
              0,
              "#0d0887"
             ],
             [
              0.1111111111111111,
              "#46039f"
             ],
             [
              0.2222222222222222,
              "#7201a8"
             ],
             [
              0.3333333333333333,
              "#9c179e"
             ],
             [
              0.4444444444444444,
              "#bd3786"
             ],
             [
              0.5555555555555556,
              "#d8576b"
             ],
             [
              0.6666666666666666,
              "#ed7953"
             ],
             [
              0.7777777777777778,
              "#fb9f3a"
             ],
             [
              0.8888888888888888,
              "#fdca26"
             ],
             [
              1,
              "#f0f921"
             ]
            ],
            "type": "contour"
           }
          ],
          "contourcarpet": [
           {
            "colorbar": {
             "outlinewidth": 0,
             "ticks": ""
            },
            "type": "contourcarpet"
           }
          ],
          "heatmap": [
           {
            "colorbar": {
             "outlinewidth": 0,
             "ticks": ""
            },
            "colorscale": [
             [
              0,
              "#0d0887"
             ],
             [
              0.1111111111111111,
              "#46039f"
             ],
             [
              0.2222222222222222,
              "#7201a8"
             ],
             [
              0.3333333333333333,
              "#9c179e"
             ],
             [
              0.4444444444444444,
              "#bd3786"
             ],
             [
              0.5555555555555556,
              "#d8576b"
             ],
             [
              0.6666666666666666,
              "#ed7953"
             ],
             [
              0.7777777777777778,
              "#fb9f3a"
             ],
             [
              0.8888888888888888,
              "#fdca26"
             ],
             [
              1,
              "#f0f921"
             ]
            ],
            "type": "heatmap"
           }
          ],
          "heatmapgl": [
           {
            "colorbar": {
             "outlinewidth": 0,
             "ticks": ""
            },
            "colorscale": [
             [
              0,
              "#0d0887"
             ],
             [
              0.1111111111111111,
              "#46039f"
             ],
             [
              0.2222222222222222,
              "#7201a8"
             ],
             [
              0.3333333333333333,
              "#9c179e"
             ],
             [
              0.4444444444444444,
              "#bd3786"
             ],
             [
              0.5555555555555556,
              "#d8576b"
             ],
             [
              0.6666666666666666,
              "#ed7953"
             ],
             [
              0.7777777777777778,
              "#fb9f3a"
             ],
             [
              0.8888888888888888,
              "#fdca26"
             ],
             [
              1,
              "#f0f921"
             ]
            ],
            "type": "heatmapgl"
           }
          ],
          "histogram": [
           {
            "marker": {
             "pattern": {
              "fillmode": "overlay",
              "size": 10,
              "solidity": 0.2
             }
            },
            "type": "histogram"
           }
          ],
          "histogram2d": [
           {
            "colorbar": {
             "outlinewidth": 0,
             "ticks": ""
            },
            "colorscale": [
             [
              0,
              "#0d0887"
             ],
             [
              0.1111111111111111,
              "#46039f"
             ],
             [
              0.2222222222222222,
              "#7201a8"
             ],
             [
              0.3333333333333333,
              "#9c179e"
             ],
             [
              0.4444444444444444,
              "#bd3786"
             ],
             [
              0.5555555555555556,
              "#d8576b"
             ],
             [
              0.6666666666666666,
              "#ed7953"
             ],
             [
              0.7777777777777778,
              "#fb9f3a"
             ],
             [
              0.8888888888888888,
              "#fdca26"
             ],
             [
              1,
              "#f0f921"
             ]
            ],
            "type": "histogram2d"
           }
          ],
          "histogram2dcontour": [
           {
            "colorbar": {
             "outlinewidth": 0,
             "ticks": ""
            },
            "colorscale": [
             [
              0,
              "#0d0887"
             ],
             [
              0.1111111111111111,
              "#46039f"
             ],
             [
              0.2222222222222222,
              "#7201a8"
             ],
             [
              0.3333333333333333,
              "#9c179e"
             ],
             [
              0.4444444444444444,
              "#bd3786"
             ],
             [
              0.5555555555555556,
              "#d8576b"
             ],
             [
              0.6666666666666666,
              "#ed7953"
             ],
             [
              0.7777777777777778,
              "#fb9f3a"
             ],
             [
              0.8888888888888888,
              "#fdca26"
             ],
             [
              1,
              "#f0f921"
             ]
            ],
            "type": "histogram2dcontour"
           }
          ],
          "mesh3d": [
           {
            "colorbar": {
             "outlinewidth": 0,
             "ticks": ""
            },
            "type": "mesh3d"
           }
          ],
          "parcoords": [
           {
            "line": {
             "colorbar": {
              "outlinewidth": 0,
              "ticks": ""
             }
            },
            "type": "parcoords"
           }
          ],
          "pie": [
           {
            "automargin": true,
            "type": "pie"
           }
          ],
          "scatter": [
           {
            "fillpattern": {
             "fillmode": "overlay",
             "size": 10,
             "solidity": 0.2
            },
            "type": "scatter"
           }
          ],
          "scatter3d": [
           {
            "line": {
             "colorbar": {
              "outlinewidth": 0,
              "ticks": ""
             }
            },
            "marker": {
             "colorbar": {
              "outlinewidth": 0,
              "ticks": ""
             }
            },
            "type": "scatter3d"
           }
          ],
          "scattercarpet": [
           {
            "marker": {
             "colorbar": {
              "outlinewidth": 0,
              "ticks": ""
             }
            },
            "type": "scattercarpet"
           }
          ],
          "scattergeo": [
           {
            "marker": {
             "colorbar": {
              "outlinewidth": 0,
              "ticks": ""
             }
            },
            "type": "scattergeo"
           }
          ],
          "scattergl": [
           {
            "marker": {
             "colorbar": {
              "outlinewidth": 0,
              "ticks": ""
             }
            },
            "type": "scattergl"
           }
          ],
          "scattermapbox": [
           {
            "marker": {
             "colorbar": {
              "outlinewidth": 0,
              "ticks": ""
             }
            },
            "type": "scattermapbox"
           }
          ],
          "scatterpolar": [
           {
            "marker": {
             "colorbar": {
              "outlinewidth": 0,
              "ticks": ""
             }
            },
            "type": "scatterpolar"
           }
          ],
          "scatterpolargl": [
           {
            "marker": {
             "colorbar": {
              "outlinewidth": 0,
              "ticks": ""
             }
            },
            "type": "scatterpolargl"
           }
          ],
          "scatterternary": [
           {
            "marker": {
             "colorbar": {
              "outlinewidth": 0,
              "ticks": ""
             }
            },
            "type": "scatterternary"
           }
          ],
          "surface": [
           {
            "colorbar": {
             "outlinewidth": 0,
             "ticks": ""
            },
            "colorscale": [
             [
              0,
              "#0d0887"
             ],
             [
              0.1111111111111111,
              "#46039f"
             ],
             [
              0.2222222222222222,
              "#7201a8"
             ],
             [
              0.3333333333333333,
              "#9c179e"
             ],
             [
              0.4444444444444444,
              "#bd3786"
             ],
             [
              0.5555555555555556,
              "#d8576b"
             ],
             [
              0.6666666666666666,
              "#ed7953"
             ],
             [
              0.7777777777777778,
              "#fb9f3a"
             ],
             [
              0.8888888888888888,
              "#fdca26"
             ],
             [
              1,
              "#f0f921"
             ]
            ],
            "type": "surface"
           }
          ],
          "table": [
           {
            "cells": {
             "fill": {
              "color": "#EBF0F8"
             },
             "line": {
              "color": "white"
             }
            },
            "header": {
             "fill": {
              "color": "#C8D4E3"
             },
             "line": {
              "color": "white"
             }
            },
            "type": "table"
           }
          ]
         },
         "layout": {
          "annotationdefaults": {
           "arrowcolor": "#2a3f5f",
           "arrowhead": 0,
           "arrowwidth": 1
          },
          "autotypenumbers": "strict",
          "coloraxis": {
           "colorbar": {
            "outlinewidth": 0,
            "ticks": ""
           }
          },
          "colorscale": {
           "diverging": [
            [
             0,
             "#8e0152"
            ],
            [
             0.1,
             "#c51b7d"
            ],
            [
             0.2,
             "#de77ae"
            ],
            [
             0.3,
             "#f1b6da"
            ],
            [
             0.4,
             "#fde0ef"
            ],
            [
             0.5,
             "#f7f7f7"
            ],
            [
             0.6,
             "#e6f5d0"
            ],
            [
             0.7,
             "#b8e186"
            ],
            [
             0.8,
             "#7fbc41"
            ],
            [
             0.9,
             "#4d9221"
            ],
            [
             1,
             "#276419"
            ]
           ],
           "sequential": [
            [
             0,
             "#0d0887"
            ],
            [
             0.1111111111111111,
             "#46039f"
            ],
            [
             0.2222222222222222,
             "#7201a8"
            ],
            [
             0.3333333333333333,
             "#9c179e"
            ],
            [
             0.4444444444444444,
             "#bd3786"
            ],
            [
             0.5555555555555556,
             "#d8576b"
            ],
            [
             0.6666666666666666,
             "#ed7953"
            ],
            [
             0.7777777777777778,
             "#fb9f3a"
            ],
            [
             0.8888888888888888,
             "#fdca26"
            ],
            [
             1,
             "#f0f921"
            ]
           ],
           "sequentialminus": [
            [
             0,
             "#0d0887"
            ],
            [
             0.1111111111111111,
             "#46039f"
            ],
            [
             0.2222222222222222,
             "#7201a8"
            ],
            [
             0.3333333333333333,
             "#9c179e"
            ],
            [
             0.4444444444444444,
             "#bd3786"
            ],
            [
             0.5555555555555556,
             "#d8576b"
            ],
            [
             0.6666666666666666,
             "#ed7953"
            ],
            [
             0.7777777777777778,
             "#fb9f3a"
            ],
            [
             0.8888888888888888,
             "#fdca26"
            ],
            [
             1,
             "#f0f921"
            ]
           ]
          },
          "colorway": [
           "#636efa",
           "#EF553B",
           "#00cc96",
           "#ab63fa",
           "#FFA15A",
           "#19d3f3",
           "#FF6692",
           "#B6E880",
           "#FF97FF",
           "#FECB52"
          ],
          "font": {
           "color": "#2a3f5f"
          },
          "geo": {
           "bgcolor": "white",
           "lakecolor": "white",
           "landcolor": "#E5ECF6",
           "showlakes": true,
           "showland": true,
           "subunitcolor": "white"
          },
          "hoverlabel": {
           "align": "left"
          },
          "hovermode": "closest",
          "mapbox": {
           "style": "light"
          },
          "paper_bgcolor": "white",
          "plot_bgcolor": "#E5ECF6",
          "polar": {
           "angularaxis": {
            "gridcolor": "white",
            "linecolor": "white",
            "ticks": ""
           },
           "bgcolor": "#E5ECF6",
           "radialaxis": {
            "gridcolor": "white",
            "linecolor": "white",
            "ticks": ""
           }
          },
          "scene": {
           "xaxis": {
            "backgroundcolor": "#E5ECF6",
            "gridcolor": "white",
            "gridwidth": 2,
            "linecolor": "white",
            "showbackground": true,
            "ticks": "",
            "zerolinecolor": "white"
           },
           "yaxis": {
            "backgroundcolor": "#E5ECF6",
            "gridcolor": "white",
            "gridwidth": 2,
            "linecolor": "white",
            "showbackground": true,
            "ticks": "",
            "zerolinecolor": "white"
           },
           "zaxis": {
            "backgroundcolor": "#E5ECF6",
            "gridcolor": "white",
            "gridwidth": 2,
            "linecolor": "white",
            "showbackground": true,
            "ticks": "",
            "zerolinecolor": "white"
           }
          },
          "shapedefaults": {
           "line": {
            "color": "#2a3f5f"
           }
          },
          "ternary": {
           "aaxis": {
            "gridcolor": "white",
            "linecolor": "white",
            "ticks": ""
           },
           "baxis": {
            "gridcolor": "white",
            "linecolor": "white",
            "ticks": ""
           },
           "bgcolor": "#E5ECF6",
           "caxis": {
            "gridcolor": "white",
            "linecolor": "white",
            "ticks": ""
           }
          },
          "title": {
           "x": 0.05
          },
          "xaxis": {
           "automargin": true,
           "gridcolor": "white",
           "linecolor": "white",
           "ticks": "",
           "title": {
            "standoff": 15
           },
           "zerolinecolor": "white",
           "zerolinewidth": 2
          },
          "yaxis": {
           "automargin": true,
           "gridcolor": "white",
           "linecolor": "white",
           "ticks": "",
           "title": {
            "standoff": 15
           },
           "zerolinecolor": "white",
           "zerolinewidth": 2
          }
         }
        },
        "xaxis": {
         "anchor": "y",
         "domain": [
          0,
          1
         ],
         "title": {
          "text": "x"
         }
        },
        "yaxis": {
         "anchor": "x",
         "domain": [
          0,
          1
         ],
         "title": {
          "text": "y"
         }
        }
       }
      },
      "text/html": [
       "<div>                            <div id=\"a7c07bf5-e7fb-45cc-8398-9bed316362b5\" class=\"plotly-graph-div\" style=\"height:525px; width:100%;\"></div>            <script type=\"text/javascript\">                require([\"plotly\"], function(Plotly) {                    window.PLOTLYENV=window.PLOTLYENV || {};                                    if (document.getElementById(\"a7c07bf5-e7fb-45cc-8398-9bed316362b5\")) {                    Plotly.newPlot(                        \"a7c07bf5-e7fb-45cc-8398-9bed316362b5\",                        [{\"hovertemplate\":\"x=%{x}<br>y=%{y}<extra></extra>\",\"legendgroup\":\"\",\"marker\":{\"color\":\"#636efa\",\"symbol\":\"circle\"},\"mode\":\"markers\",\"name\":\"\",\"orientation\":\"v\",\"showlegend\":false,\"x\":[0.16568933427333832,0.23702383041381836,0.25975146889686584,0.42026227712631226,0.30699506402015686,0.5696995258331299,0.277767539024353,0.24221089482307434,0.2241210639476776,0.12366404384374619,0.18796244263648987,0.26836445927619934,0.3201598525047302,0.2718466520309448,0.19764569401741028,0.13261239230632782,0.18187522888183594,0.33575013279914856,0.2965998649597168,0.1883573830127716,0.4562321603298187,0.26291048526763916,0.2474278062582016,0.15859022736549377,0.04761685058474541,0.27229633927345276,0.34248974919319153,0.08092110604047775,0.08754957467317581,0.45129868388175964,0.17188255488872528,0.2478834092617035,0.31997397541999817,0.34574347734451294,0.18815197050571442,0.24501562118530273,0.11349539458751678,0.19033099710941315,0.2912556231021881,0.5273977518081665,0.281095951795578,0.7463440895080566,0.09212817251682281,0.0570705272257328,0.3069955110549927,0.39590466022491455,0.3283543586730957,0.2811037600040436,0.37698936462402344,0.18989919126033783,0.3237200081348419,0.44928327202796936,0.2390444576740265,0.25262486934661865,0.1925605684518814,0.20682835578918457,0.4303058385848999,0.13006842136383057,0.20759136974811554,0.1298900693655014,0.33373504877090454,0.2224561721086502,0.17461828887462616,0.31925690174102783,0.3565440773963928,0.24488788843154907,0.5597488284111023,0.16190126538276672,0.17104372382164001,0.2030543088912964,0.24812310934066772,0.309172123670578,0.32185235619544983,0.36894485354423523,0.4400407075881958,0.31775936484336853,0.26447057723999023,0.3129030466079712,0.24948400259017944,0.27126237750053406,0.1556892693042755,0.0943278893828392,0.29877781867980957,0.18749086558818817,0.3815370798110962,0.4131651818752289,0.36671555042266846,0.3545576333999634,0.19957421720027924,0.12814484536647797,0.16665004193782806,0.41169023513793945,0.238372340798378,0.20940017700195312,0.15072079002857208,0.31803616881370544,0.32552745938301086,0.46456047892570496,0.28610360622406006,0.2892007529735565,0.30144861340522766,0.09283817559480667,0.3554798364639282,0.1594512015581131,0.2899521291255951,0.3358498513698578,0.22229114174842834,0.08229708671569824,0.11322405189275742,0.38422009348869324,0.10644223541021347,0.23709408938884735,0.3430335819721222,0.32354021072387695,0.35590890049934387,0.20713268220424652,0.1963658481836319,0.08617148548364639,0.7774656414985657,0.33007270097732544,0.236331045627594,0.5333645939826965,0.17788271605968475,0.20222905278205872,0.708506166934967,0.13455544412136078,0.34860143065452576,0.2932360768318176,0.2542855441570282,0.14775222539901733,0.16003413498401642,0.24467158317565918,0.20331446826457977,0.35487648844718933,0.19645002484321594,0.3979274034500122,0.2546302080154419,0.14441369473934174,0.20961037278175354,0.21517618000507355,0.4434743821620941,0.3193763494491577,0.2602942883968353,0.5497400164604187,0.20313993096351624,0.3405933380126953,0.16809014976024628,0.4255279004573822,0.28541359305381775,0.47337448596954346,0.12745463848114014,0.1549299657344818,0.3074166476726532,0.2496388703584671,0.1456487476825714,0.419094979763031,0.21455036103725433,0.18367302417755127,0.2366284877061844,0.2508457899093628,0.22770601511001587,0.8075862526893616,0.1544407457113266,0.323404997587204,0.36816298961639404,0.8274819254875183,0.26257216930389404,0.30969464778900146,0.48424825072288513,0.29851070046424866,0.29967957735061646,0.3130872845649719,0.13919800519943237,1.0100610256195068,0.33476945757865906,0.18943119049072266,0.17313171923160553,0.20471973717212677,0.16920770704746246,0.5154466032981873,0.2885781526565552,0.20974357426166534,0.18611784279346466,0.11799857765436172,0.20229941606521606,0.3360830843448639,0.3769696354866028,0.20333193242549896,0.35008230805397034,0.03083539754152298,0.463621586561203,0.2862548232078552,0.3206755816936493,0.43304380774497986,0.2357964664697647,0.31221964955329895,0.7319966554641724,0.6208620667457581,0.5212472081184387,0.05933442711830139,0.3031758964061737,0.289111852645874,0.16666677594184875,0.20652952790260315,0.18039706349372864,0.1159973293542862,0.12204234302043915,0.2912486791610718,0.18184834718704224,0.3471634089946747,0.30035147070884705,0.15961581468582153,0.4267798960208893,0.052599310874938965,0.3085702359676361,0.5630329251289368,0.33883363008499146,0.013137122616171837,0.1768372803926468,0.35592275857925415,0.25764790177345276,0.09749985486268997,0.1778266578912735,0.09246442466974258,0.24129194021224976,0.23198623955249786,0.2230873554944992,0.3049620985984802,0.3590978682041168,0.23514951765537262,0.22902898490428925,0.6142338514328003,0.34836339950561523,0.14406533539295197,0.30588284134864807,0.17239974439144135,0.19836843013763428,0.2954179048538208,0.2896145284175873,0.28101950883865356,0.2544573247432709,0.22873419523239136,0.2317846119403839,0.13289593160152435,0.29877200722694397,0.39802682399749756,0.38624855875968933,0.4154108464717865,0.35995426774024963,0.28531840443611145,0.24560128152370453,0.23116181790828705,0.1680426299571991,0.2465858906507492,0.16418753564357758,0.10586441308259964,0.06626825779676437,0.14222823083400726,0.22805485129356384,0.2879326045513153,0.315461665391922,0.1983211189508438,0.5600715279579163,0.35709497332572937,0.21887435019016266,0.4381066560745239,0.02400413528084755,0.20610174536705017,0.2593270540237427,0.3548022508621216,0.36498090624809265,0.2241748571395874,0.2971404492855072,0.16942435503005981,0.17610961198806763,0.15653277933597565,0.12629008293151855,0.19576887786388397,0.25117412209510803,0.21351943910121918,0.19633576273918152,0.3316516578197479,0.7300990223884583,0.32872068881988525,0.6572723388671875,0.23228776454925537,0.24164454638957977,0.45344406366348267,0.40826019644737244,0.11612749099731445,0.04575205221772194,0.12904423475265503,0.2820536494255066,0.03377858176827431,0.39865416288375854,0.14231961965560913,0.20665614306926727,0.5054352879524231,0.24998927116394043,0.13271883130073547,0.4405200481414795,0.09086580574512482,0.22592194378376007,0.2504614591598511,0.36801886558532715,0.3462430536746979,0.14018377661705017,0.32144010066986084,0.12577825784683228,0.2719722390174866,0.4822593033313751,0.2240738570690155,0.1295871138572693,0.13813552260398865,0.2663152813911438,0.24757952988147736,0.33418670296669006,0.25196582078933716,0.148703932762146,0.19503949582576752,0.2042427957057953,0.28586676716804504,0.21016928553581238,0.25377926230430603,0.31167033314704895,0.2958543002605438,0.17548169195652008,0.25957930088043213,0.6523087024688721,0.1348678171634674,0.198518767952919,0.15382163226604462,0.5432812571525574,0.19658412039279938,0.4281972646713257,0.20636826753616333,0.18608690798282623,0.7501925826072693,0.29722777009010315,0.21410103142261505,0.5952947735786438,0.2634219527244568,0.258573979139328,0.20369873940944672,0.2804059684276581,0.25232771039009094,0.3352540135383606,0.1463998407125473,0.2174123376607895,0.23250965774059296,0.24969831109046936,0.16242343187332153,0.42169010639190674,0.34643393754959106,0.10393714904785156,0.3187645971775055,0.2639041841030121,0.30587467551231384,0.1654837429523468,0.4237048029899597,0.11307860910892487,0.20632928609848022,0.2994961142539978,0.3470584750175476,0.4040578603744507,0.22111622989177704],\"xaxis\":\"x\",\"y\":[0.2,0.2535499999999998,0.26420000000000005,0.3,0.16,0.1,0.33,0.2,0.23,0.75,0.22459799999999944,0.5,0.26699999999999974,0.25,0.06,0.1,0.35,0.21,0.3662400000000009,0.2,0.11,0.36733800000000005,0.1,0.1,0.2,0.15,1.0,0.32269999999999943,0.4,0.16,0.36,0.04,0.06,0.1892200000000002,0.22415599999999977,0.21526799999999968,0.20985999999999985,0.2024979999999995,0.3,0.15,0.5,0.21,0.2926149999999995,0.15,0.35817600000000005,0.5443399999999997,1.0,0.5,0.05,0.3,0.34,0.04,0.29,0.18,0.32367999999999997,0.05,0.4049799999999991,0.18396999999999972,0.23466999999999968,0.2703299999999995,0.28393999999999947,0.12,0.02,1.0,0.25443999999999994,0.15,0.2824999999999998,0.8,0.09,0.14,0.03,0.2961800000000001,0.23456999999999956,0.2939599999999999,0.21,1.0,0.08,0.2839739999999999,0.3790600000000002,0.05,0.1,0.267159999999999,0.12,0.2262299999999998,0.24962799999999957,0.09,0.25,0.12,0.4,0.22778000000000026,0.2,0.17670699999999961,0.05,1.0,0.1,0.2844400000000003,0.24667999999999954,0.3,0.1,0.5,0.4200400000000011,1.0,0.05,0.4170200000000002,0.2347799999999997,0.18,0.1,0.48,0.1,0.21,0.3790000000000001,0.2545269999999995,0.06,0.22277999999999967,0.1,0.14,0.2,0.1966369999999994,1.0,1.0,0.11,0.5324799999999998,0.2693269999999996,0.31,0.28620000000000007,1.0,0.34299999999999986,0.05,0.14,0.14081999999999964,0.05,0.2496599999999995,0.2508899999999997,0.15,0.36963,0.08,0.2554449999999995,0.4443000000000001,0.17,1.0,0.05,0.1,0.3,0.04,0.17,0.1576199999999998,0.12,0.07,0.30837000000000053,0.05,0.42507800000000107,0.3,0.3363400000000008,0.14,0.11,0.3175800000000008,0.1654599999999993,0.23202000000000014,0.20318999999999973,0.23912699999999992,0.09,0.13,0.19,0.1,0.32417999999999936,0.05,0.2162999999999996,0.06,0.25567999999999974,0.1,0.41415000000000013,0.3711199999999997,0.4069200000000004,0.15,0.12,0.33,1.0,0.24972399999999972,0.1,0.3,0.25,0.5,1.0,0.12,0.3105300000000001,0.37,0.15,0.15,0.3181400000000002,0.15,0.15,0.34514000000000106,0.33,0.06,0.13,0.2,0.33,0.26277999999999974,0.36341999999999997,0.17,0.25,0.2869720000000003,0.25,0.22741000000000006,0.23,0.29520799999999936,0.14,0.25,0.2,0.2,0.1,0.12,0.33,0.05,0.3028399999999999,0.18664099999999959,0.28542999999999974,0.22539999999999957,0.26,0.42,0.3018199999999999,0.37404000000000115,0.33,1.0,0.38,0.24,0.3,0.33,0.09,0.12,1.0,0.1,0.30936000000000013,0.16,0.26269,0.27669999999999995,0.19060000000000005,0.3991400000000002,0.08,0.14,0.05,0.2434079999999998,0.1,0.2449599999999996,0.3934800000000004,0.1,0.2619769999999999,0.2824399999999996,0.18,0.12,0.2627400000000005,0.13,0.28541999999999973,0.2,0.13,0.1,0.07,0.3,0.15,0.17507599999999957,0.54,0.05,0.21329000000000034,0.3121699999999996,0.25,1.0,0.38,0.12,0.2,0.04,1.0,0.1,0.38857999999999954,0.09,0.4058679999999999,0.20183800000000013,0.1576170000000001,0.40972000000000014,0.2,1.0,0.05,0.2824300000000001,0.05,0.33,0.4479970000000003,0.5143799999999995,0.17,0.3,0.39598999999999995,0.31788700000000025,0.3186800000000003,0.1,0.42287300000000033,0.25757999999999937,0.3076090000000003,0.21057999999999913,0.07,0.15,0.08,0.33,0.16,0.3,0.5,0.17,0.5,0.1,0.09,0.1,0.06,0.5,0.16,0.20639999999999986,0.2,0.12,0.31714000000000064,0.16841999999999996,1.0,0.22891999999999985,0.06,0.1,0.2,0.03,1.0,0.07,0.05,0.3,0.22532000000000024,0.15,0.2,0.23364999999999964,0.3,0.25,0.1,0.1,0.18,0.25,0.2,0.5,0.2215599999999993,0.11,0.33948000000000017,0.07,1.0,0.07,0.14978099999999997,0.12,0.12,0.05,0.22783999999999985,0.17478000000000013,0.48178000000000076,0.08,0.2524400000000003,1.0,0.18784799999999965,0.40913999999999995,0.38,0.2760999999999999,0.3353700000000006,0.3,0.1,0.22729999999999972,0.29529999999999995,0.2946519999999999,0.24694000000000016,0.05],\"yaxis\":\"y\",\"type\":\"scatter\"},{\"hovertemplate\":\"<b>OLS trendline</b><br>y = 0.00600403 * x + 0.267998<br>R<sup>2</sup>=0.000015<br><br>x=%{x}<br>y=%{y} <b>(trend)</b><extra></extra>\",\"legendgroup\":\"\",\"marker\":{\"color\":\"#636efa\",\"symbol\":\"circle\"},\"mode\":\"lines\",\"name\":\"\",\"showlegend\":false,\"x\":[0.013137122616171837,0.02400413528084755,0.03083539754152298,0.03377858176827431,0.04575205221772194,0.04761685058474541,0.052599310874938965,0.0570705272257328,0.05933442711830139,0.06626825779676437,0.08092110604047775,0.08229708671569824,0.08617148548364639,0.08754957467317581,0.09086580574512482,0.09212817251682281,0.09246442466974258,0.09283817559480667,0.0943278893828392,0.09749985486268997,0.10393714904785156,0.10586441308259964,0.10644223541021347,0.11307860910892487,0.11322405189275742,0.11349539458751678,0.1159973293542862,0.11612749099731445,0.11799857765436172,0.12204234302043915,0.12366404384374619,0.12577825784683228,0.12629008293151855,0.12745463848114014,0.12814484536647797,0.12904423475265503,0.1295871138572693,0.1298900693655014,0.13006842136383057,0.13261239230632782,0.13271883130073547,0.13289593160152435,0.13455544412136078,0.1348678171634674,0.13813552260398865,0.13919800519943237,0.14018377661705017,0.14222823083400726,0.14231961965560913,0.14406533539295197,0.14441369473934174,0.1456487476825714,0.1463998407125473,0.14775222539901733,0.148703932762146,0.15072079002857208,0.15382163226604462,0.1544407457113266,0.1549299657344818,0.1556892693042755,0.15653277933597565,0.15859022736549377,0.1594512015581131,0.15961581468582153,0.16003413498401642,0.16190126538276672,0.16242343187332153,0.16418753564357758,0.1654837429523468,0.16568933427333832,0.16665004193782806,0.16666677594184875,0.1680426299571991,0.16809014976024628,0.16920770704746246,0.16942435503005981,0.17104372382164001,0.17188255488872528,0.17239974439144135,0.17313171923160553,0.17461828887462616,0.17548169195652008,0.17610961198806763,0.1768372803926468,0.1778266578912735,0.17788271605968475,0.18039706349372864,0.18184834718704224,0.18187522888183594,0.18367302417755127,0.18608690798282623,0.18611784279346466,0.18749086558818817,0.18796244263648987,0.18815197050571442,0.1883573830127716,0.18943119049072266,0.18989919126033783,0.19033099710941315,0.1925605684518814,0.19503949582576752,0.19576887786388397,0.19633576273918152,0.1963658481836319,0.19645002484321594,0.19658412039279938,0.19764569401741028,0.1983211189508438,0.19836843013763428,0.198518767952919,0.19957421720027924,0.20222905278205872,0.20229941606521606,0.2030543088912964,0.20313993096351624,0.20331446826457977,0.20333193242549896,0.20369873940944672,0.2042427957057953,0.20471973717212677,0.20610174536705017,0.20632928609848022,0.20636826753616333,0.20652952790260315,0.20665614306926727,0.20682835578918457,0.20713268220424652,0.20759136974811554,0.20940017700195312,0.20961037278175354,0.20974357426166534,0.21016928553581238,0.21351943910121918,0.21410103142261505,0.21455036103725433,0.21517618000507355,0.2174123376607895,0.21887435019016266,0.22111622989177704,0.22229114174842834,0.2224561721086502,0.2230873554944992,0.2240738570690155,0.2241210639476776,0.2241748571395874,0.22592194378376007,0.22770601511001587,0.22805485129356384,0.22873419523239136,0.22902898490428925,0.23116181790828705,0.2317846119403839,0.23198623955249786,0.23228776454925537,0.23250965774059296,0.23514951765537262,0.2357964664697647,0.236331045627594,0.2366284877061844,0.23702383041381836,0.23709408938884735,0.238372340798378,0.2390444576740265,0.24129194021224976,0.24164454638957977,0.24221089482307434,0.24467158317565918,0.24488788843154907,0.24501562118530273,0.24560128152370453,0.2465858906507492,0.2474278062582016,0.24757952988147736,0.2478834092617035,0.24812310934066772,0.24948400259017944,0.2496388703584671,0.24969831109046936,0.24998927116394043,0.2504614591598511,0.2508457899093628,0.25117412209510803,0.25196582078933716,0.25232771039009094,0.25262486934661865,0.25377926230430603,0.2542855441570282,0.2544573247432709,0.2546302080154419,0.25764790177345276,0.258573979139328,0.2593270540237427,0.25957930088043213,0.25975146889686584,0.2602942883968353,0.26257216930389404,0.26291048526763916,0.2634219527244568,0.2639041841030121,0.26447057723999023,0.2663152813911438,0.26836445927619934,0.27126237750053406,0.2718466520309448,0.2719722390174866,0.27229633927345276,0.277767539024353,0.2804059684276581,0.28101950883865356,0.281095951795578,0.2811037600040436,0.2820536494255066,0.28531840443611145,0.28541359305381775,0.28586676716804504,0.28610360622406006,0.2862548232078552,0.2879326045513153,0.2885781526565552,0.289111852645874,0.2892007529735565,0.2896145284175873,0.2899521291255951,0.2912486791610718,0.2912556231021881,0.2932360768318176,0.2954179048538208,0.2958543002605438,0.2965998649597168,0.2971404492855072,0.29722777009010315,0.29851070046424866,0.29877200722694397,0.29877781867980957,0.2994961142539978,0.29967957735061646,0.30035147070884705,0.30144861340522766,0.3031758964061737,0.3049620985984802,0.30587467551231384,0.30588284134864807,0.30699506402015686,0.3069955110549927,0.3074166476726532,0.3085702359676361,0.309172123670578,0.30969464778900146,0.31167033314704895,0.31221964955329895,0.3129030466079712,0.3130872845649719,0.315461665391922,0.31775936484336853,0.31803616881370544,0.3187645971775055,0.31925690174102783,0.3193763494491577,0.31997397541999817,0.3201598525047302,0.3206755816936493,0.32144010066986084,0.32185235619544983,0.323404997587204,0.32354021072387695,0.3237200081348419,0.32552745938301086,0.3283543586730957,0.32872068881988525,0.33007270097732544,0.3316516578197479,0.33373504877090454,0.33418670296669006,0.33476945757865906,0.3352540135383606,0.33575013279914856,0.3358498513698578,0.3360830843448639,0.33883363008499146,0.3405933380126953,0.34248974919319153,0.3430335819721222,0.34574347734451294,0.3462430536746979,0.34643393754959106,0.3470584750175476,0.3471634089946747,0.34836339950561523,0.34860143065452576,0.35008230805397034,0.3545576333999634,0.3548022508621216,0.35487648844718933,0.3554798364639282,0.35590890049934387,0.35592275857925415,0.3565440773963928,0.35709497332572937,0.3590978682041168,0.35995426774024963,0.36498090624809265,0.36671555042266846,0.36801886558532715,0.36816298961639404,0.36894485354423523,0.3769696354866028,0.37698936462402344,0.3815370798110962,0.38422009348869324,0.38624855875968933,0.39590466022491455,0.3979274034500122,0.39802682399749756,0.39865416288375854,0.4040578603744507,0.40826019644737244,0.41169023513793945,0.4131651818752289,0.4154108464717865,0.419094979763031,0.42026227712631226,0.42169010639190674,0.4237048029899597,0.4255279004573822,0.4267798960208893,0.4281972646713257,0.4303058385848999,0.43304380774497986,0.4381066560745239,0.4400407075881958,0.4405200481414795,0.4434743821620941,0.44928327202796936,0.45129868388175964,0.45344406366348267,0.4562321603298187,0.463621586561203,0.46456047892570496,0.47337448596954346,0.4822593033313751,0.48424825072288513,0.5054352879524231,0.5154466032981873,0.5212472081184387,0.5273977518081665,0.5333645939826965,0.5432812571525574,0.5497400164604187,0.5597488284111023,0.5600715279579163,0.5630329251289368,0.5696995258331299,0.5952947735786438,0.6142338514328003,0.6208620667457581,0.6523087024688721,0.6572723388671875,0.708506166934967,0.7300990223884583,0.7319966554641724,0.7463440895080566,0.7501925826072693,0.7774656414985657,0.8075862526893616,0.8274819254875183,1.0100610256195068],\"xaxis\":\"x\",\"y\":[0.268076599634789,0.26814184555788234,0.2681828606947781,0.26820053167553737,0.268272420809765,0.268283617124207,0.2683135319895836,0.2683403773285152,0.26835396986243776,0.2683956008236916,0.268483577035656,0.2684918384716259,0.26851510049697236,0.2685233745925357,0.26854328535956584,0.268550864653696,0.26855288352335105,0.268555127536942,0.26856407183048836,0.2685831164218714,0.2686217661606997,0.2686333375211896,0.2686368067865998,0.2686766518057716,0.2686775250493189,0.268679154200323,0.26869417590393324,0.26869495739897814,0.26870619146853286,0.2687304703768422,0.26874020712515223,0.2687529009397731,0.26875597395543466,0.26876296598757565,0.2687671100137905,0.2687725099790369,0.2687757694441173,0.2687775883995562,0.2687786592311753,0.2687939333214508,0.26879457238488597,0.26879563570126935,0.26880559947232424,0.268807474970965,0.2688270943884114,0.26883347357097515,0.2688393921769514,0.2688516671513831,0.26885221585305574,0.2688626971912354,0.2688647887529023,0.2688722040538536,0.2688767136426046,0.268884833407435,0.26889054749163993,0.268902656773018,0.2689212743379729,0.2689249915166938,0.26892792881077743,0.2689324876958959,0.26893755215954884,0.26894990514928435,0.2689550744683687,0.26895606281132933,0.2689585744209912,0.2689697847370331,0.26897291984285615,0.26898351158342687,0.268991294057322,0.2689925284347845,0.26899829655711277,0.2689983970286566,0.2690066577041562,0.26900694301471123,0.26901365286764545,0.2690149536296899,0.2690246763764001,0.2690297127473863,0.2690328179712008,0.2690372127736733,0.2690461381896634,0.2690513220918836,0.26905509214565565,0.2690594610921387,0.26906540134915113,0.2690657379243496,0.26908083415404715,0.2690895477119643,0.26908970911059754,0.26910050313626227,0.26911499617882834,0.26911518191251044,0.26912342558926267,0.26912625695430986,0.26912739488624765,0.269128628190105,0.26913507536765835,0.26913788526060356,0.26914047783798334,0.26915386426209365,0.26916874782851447,0.26917312706371305,0.26917653066027797,0.26917671129433585,0.2691772166939362,0.2691780218082933,0.26918439553336443,0.2691884508082244,0.2691887348662402,0.2691896374997271,0.2691959744538236,0.2692119141792605,0.2692123366428669,0.2692168690457263,0.26921738312363447,0.26921843105167814,0.2692185359071095,0.26922073822903575,0.2692240047620164,0.26922686833521653,0.26923516596062497,0.2692365321231134,0.2692367661690249,0.26923773438189,0.26923849458376714,0.26923952855494454,0.2692413557413558,0.2692441097173688,0.2692549698592142,0.26925623188200803,0.26925703162833964,0.26925958761367896,0.26927970205254304,0.2692831939531274,0.26928589174380685,0.2692896491827189,0.2693030751512837,0.2693118531255069,0.26932531344943483,0.2693323676612045,0.2693333585092437,0.2693371481563088,0.26934307114617256,0.2693433545779187,0.2693436775541193,0.2693541671232714,0.2693648787497448,0.26936697317435865,0.26937105197906375,0.26937282190653644,0.2693856275102882,0.26938936678738074,0.2693905773665969,0.26939238773319496,0.26939371998765566,0.26940956979866554,0.2694134541019135,0.2694166637338239,0.26941844958643885,0.26942082323784555,0.26942124507518234,0.2694289197412321,0.26943295515439775,0.2694464491179521,0.26944856617774016,0.2694519665534898,0.2694667406121905,0.2694680393164918,0.26946880622840086,0.2694723225535012,0.2694782341810443,0.2694832890717185,0.26948420002564494,0.2694860245280435,0.2694874636956786,0.2694956345462183,0.2694965643777011,0.26949692126192937,0.26949866819635954,0.26950150322955746,0.26950381076478347,0.2695057820826793,0.26951053546925485,0.26951270826704093,0.2695144924197812,0.2695214234353658,0.26952446316926926,0.26952549454590097,0.26952653254309744,0.26954465088168134,0.2695502110824888,0.26955473257036294,0.2695562470692892,0.2695572807720653,0.2695605398792773,0.26957421635569856,0.26957624761654575,0.26957931848499705,0.2695822138190147,0.26958561446316565,0.26959669013123466,0.26960899346673434,0.26962639266883615,0.26962990067349696,0.26963065470214476,0.2696326006113866,0.26966544988553304,0.2696812911077021,0.2696849748257308,0.26968543379191057,0.26968548067266657,0.2696911838418863,0.26971078554484856,0.2697113570606296,0.2697140779338187,0.2697154999237722,0.2697164078358176,0.2697264812935267,0.2697303571868681,0.26973356154022005,0.26973409530088843,0.2697365796230874,0.26973860658951415,0.2697463911211524,0.26974643281281707,0.2697583235260904,0.2697714232976393,0.2697740434308833,0.2697785198273433,0.2697817655144916,0.26978228979164826,0.2697899925503648,0.2697915614452827,0.2697915963374484,0.26979590900913086,0.26979701052796234,0.26980104459912163,0.26980763188214035,0.26981800254952776,0.26982872696979526,0.26983420611341774,0.2698342551413839,0.2698409329650993,0.26984093564911205,0.26984346416805427,0.26985039035241587,0.2698540041071789,0.2698571413602122,0.2698690034440162,0.2698723015588802,0.26987640469863416,0.2698775108697544,0.2698917667350607,0.2699055622027137,0.2699072241434069,0.2699115976527116,0.2699145534664832,0.2699152706346893,0.2699188588018641,0.26991997481436447,0.269923071270404,0.2699276614690045,0.2699301366655601,0.26993945877863423,0.2699402706030232,0.2699413501129502,0.2699522021132903,0.26996917491523365,0.269971374374213,0.2699794919023661,0.2699889720143239,0.27000148076626584,0.2700041925138116,0.27000769139282904,0.27001060068371296,0.27001357940106,0.27001417811483686,0.27001557845375423,0.27003209282632035,0.270042658174099,0.2700540442929758,0.27005730948395007,0.27007357979029034,0.2700765792640026,0.2700777253374457,0.27008147508218794,0.27008210510944686,0.27008930989433166,0.27009073904165254,0.2700996302812136,0.2701265002906957,0.27012796898247105,0.2701284147075213,0.2701320372300593,0.2701346133454942,0.27013469654988936,0.27013842696973983,0.27014173456811547,0.2701537600188287,0.2701589018715159,0.27018908198445224,0.27019949684858285,0.2702073219982807,0.27020818732399043,0.2702128816622855,0.2702610627329816,0.2702611811874109,0.2702884858280239,0.27030459473573093,0.2703167737119733,0.270374749281987,0.27038689390286624,0.2703874908273013,0.2703912573918567,0.2704237013800784,0.2704489323524427,0.2704695264243848,0.2704783820560434,0.27049186510461265,0.2705139847694003,0.2705209932634862,0.2705295660002012,0.270541662308851,0.2705526082496373,0.27056012527467166,0.2705686352054884,0.2705812951568151,0.27059773401915593,0.2706281315371248,0.2706397436498749,0.2706426216272768,0.27066035955178736,0.2706952363291632,0.27070733693223337,0.27072021786727624,0.27073695769691314,0.27078132406975847,0.27078696121226464,0.2708398808179991,0.2708932255713527,0.2709051672808682,0.2710323749914239,0.27109248327796664,0.27112731031163956,0.2711642383904911,0.27120006351903764,0.27125960351061473,0.2712983821267885,0.27135847538285984,0.2713604128821951,0.271378193214107,0.2714182197172741,0.2715718944775314,0.2716856053615857,0.2717254013975249,0.27191420809530314,0.2719440099413763,0.2722516196321932,0.2723812638895209,0.2723926573446992,0.2724787998391546,0.27250190632596233,0.27266565472286297,0.2728464999230959,0.2729659542365612,0.2740621655223337],\"yaxis\":\"y\",\"type\":\"scatter\"}],                        {\"template\":{\"data\":{\"histogram2dcontour\":[{\"type\":\"histogram2dcontour\",\"colorbar\":{\"outlinewidth\":0,\"ticks\":\"\"},\"colorscale\":[[0.0,\"#0d0887\"],[0.1111111111111111,\"#46039f\"],[0.2222222222222222,\"#7201a8\"],[0.3333333333333333,\"#9c179e\"],[0.4444444444444444,\"#bd3786\"],[0.5555555555555556,\"#d8576b\"],[0.6666666666666666,\"#ed7953\"],[0.7777777777777778,\"#fb9f3a\"],[0.8888888888888888,\"#fdca26\"],[1.0,\"#f0f921\"]]}],\"choropleth\":[{\"type\":\"choropleth\",\"colorbar\":{\"outlinewidth\":0,\"ticks\":\"\"}}],\"histogram2d\":[{\"type\":\"histogram2d\",\"colorbar\":{\"outlinewidth\":0,\"ticks\":\"\"},\"colorscale\":[[0.0,\"#0d0887\"],[0.1111111111111111,\"#46039f\"],[0.2222222222222222,\"#7201a8\"],[0.3333333333333333,\"#9c179e\"],[0.4444444444444444,\"#bd3786\"],[0.5555555555555556,\"#d8576b\"],[0.6666666666666666,\"#ed7953\"],[0.7777777777777778,\"#fb9f3a\"],[0.8888888888888888,\"#fdca26\"],[1.0,\"#f0f921\"]]}],\"heatmap\":[{\"type\":\"heatmap\",\"colorbar\":{\"outlinewidth\":0,\"ticks\":\"\"},\"colorscale\":[[0.0,\"#0d0887\"],[0.1111111111111111,\"#46039f\"],[0.2222222222222222,\"#7201a8\"],[0.3333333333333333,\"#9c179e\"],[0.4444444444444444,\"#bd3786\"],[0.5555555555555556,\"#d8576b\"],[0.6666666666666666,\"#ed7953\"],[0.7777777777777778,\"#fb9f3a\"],[0.8888888888888888,\"#fdca26\"],[1.0,\"#f0f921\"]]}],\"heatmapgl\":[{\"type\":\"heatmapgl\",\"colorbar\":{\"outlinewidth\":0,\"ticks\":\"\"},\"colorscale\":[[0.0,\"#0d0887\"],[0.1111111111111111,\"#46039f\"],[0.2222222222222222,\"#7201a8\"],[0.3333333333333333,\"#9c179e\"],[0.4444444444444444,\"#bd3786\"],[0.5555555555555556,\"#d8576b\"],[0.6666666666666666,\"#ed7953\"],[0.7777777777777778,\"#fb9f3a\"],[0.8888888888888888,\"#fdca26\"],[1.0,\"#f0f921\"]]}],\"contourcarpet\":[{\"type\":\"contourcarpet\",\"colorbar\":{\"outlinewidth\":0,\"ticks\":\"\"}}],\"contour\":[{\"type\":\"contour\",\"colorbar\":{\"outlinewidth\":0,\"ticks\":\"\"},\"colorscale\":[[0.0,\"#0d0887\"],[0.1111111111111111,\"#46039f\"],[0.2222222222222222,\"#7201a8\"],[0.3333333333333333,\"#9c179e\"],[0.4444444444444444,\"#bd3786\"],[0.5555555555555556,\"#d8576b\"],[0.6666666666666666,\"#ed7953\"],[0.7777777777777778,\"#fb9f3a\"],[0.8888888888888888,\"#fdca26\"],[1.0,\"#f0f921\"]]}],\"surface\":[{\"type\":\"surface\",\"colorbar\":{\"outlinewidth\":0,\"ticks\":\"\"},\"colorscale\":[[0.0,\"#0d0887\"],[0.1111111111111111,\"#46039f\"],[0.2222222222222222,\"#7201a8\"],[0.3333333333333333,\"#9c179e\"],[0.4444444444444444,\"#bd3786\"],[0.5555555555555556,\"#d8576b\"],[0.6666666666666666,\"#ed7953\"],[0.7777777777777778,\"#fb9f3a\"],[0.8888888888888888,\"#fdca26\"],[1.0,\"#f0f921\"]]}],\"mesh3d\":[{\"type\":\"mesh3d\",\"colorbar\":{\"outlinewidth\":0,\"ticks\":\"\"}}],\"scatter\":[{\"fillpattern\":{\"fillmode\":\"overlay\",\"size\":10,\"solidity\":0.2},\"type\":\"scatter\"}],\"parcoords\":[{\"type\":\"parcoords\",\"line\":{\"colorbar\":{\"outlinewidth\":0,\"ticks\":\"\"}}}],\"scatterpolargl\":[{\"type\":\"scatterpolargl\",\"marker\":{\"colorbar\":{\"outlinewidth\":0,\"ticks\":\"\"}}}],\"bar\":[{\"error_x\":{\"color\":\"#2a3f5f\"},\"error_y\":{\"color\":\"#2a3f5f\"},\"marker\":{\"line\":{\"color\":\"#E5ECF6\",\"width\":0.5},\"pattern\":{\"fillmode\":\"overlay\",\"size\":10,\"solidity\":0.2}},\"type\":\"bar\"}],\"scattergeo\":[{\"type\":\"scattergeo\",\"marker\":{\"colorbar\":{\"outlinewidth\":0,\"ticks\":\"\"}}}],\"scatterpolar\":[{\"type\":\"scatterpolar\",\"marker\":{\"colorbar\":{\"outlinewidth\":0,\"ticks\":\"\"}}}],\"histogram\":[{\"marker\":{\"pattern\":{\"fillmode\":\"overlay\",\"size\":10,\"solidity\":0.2}},\"type\":\"histogram\"}],\"scattergl\":[{\"type\":\"scattergl\",\"marker\":{\"colorbar\":{\"outlinewidth\":0,\"ticks\":\"\"}}}],\"scatter3d\":[{\"type\":\"scatter3d\",\"line\":{\"colorbar\":{\"outlinewidth\":0,\"ticks\":\"\"}},\"marker\":{\"colorbar\":{\"outlinewidth\":0,\"ticks\":\"\"}}}],\"scattermapbox\":[{\"type\":\"scattermapbox\",\"marker\":{\"colorbar\":{\"outlinewidth\":0,\"ticks\":\"\"}}}],\"scatterternary\":[{\"type\":\"scatterternary\",\"marker\":{\"colorbar\":{\"outlinewidth\":0,\"ticks\":\"\"}}}],\"scattercarpet\":[{\"type\":\"scattercarpet\",\"marker\":{\"colorbar\":{\"outlinewidth\":0,\"ticks\":\"\"}}}],\"carpet\":[{\"aaxis\":{\"endlinecolor\":\"#2a3f5f\",\"gridcolor\":\"white\",\"linecolor\":\"white\",\"minorgridcolor\":\"white\",\"startlinecolor\":\"#2a3f5f\"},\"baxis\":{\"endlinecolor\":\"#2a3f5f\",\"gridcolor\":\"white\",\"linecolor\":\"white\",\"minorgridcolor\":\"white\",\"startlinecolor\":\"#2a3f5f\"},\"type\":\"carpet\"}],\"table\":[{\"cells\":{\"fill\":{\"color\":\"#EBF0F8\"},\"line\":{\"color\":\"white\"}},\"header\":{\"fill\":{\"color\":\"#C8D4E3\"},\"line\":{\"color\":\"white\"}},\"type\":\"table\"}],\"barpolar\":[{\"marker\":{\"line\":{\"color\":\"#E5ECF6\",\"width\":0.5},\"pattern\":{\"fillmode\":\"overlay\",\"size\":10,\"solidity\":0.2}},\"type\":\"barpolar\"}],\"pie\":[{\"automargin\":true,\"type\":\"pie\"}]},\"layout\":{\"autotypenumbers\":\"strict\",\"colorway\":[\"#636efa\",\"#EF553B\",\"#00cc96\",\"#ab63fa\",\"#FFA15A\",\"#19d3f3\",\"#FF6692\",\"#B6E880\",\"#FF97FF\",\"#FECB52\"],\"font\":{\"color\":\"#2a3f5f\"},\"hovermode\":\"closest\",\"hoverlabel\":{\"align\":\"left\"},\"paper_bgcolor\":\"white\",\"plot_bgcolor\":\"#E5ECF6\",\"polar\":{\"bgcolor\":\"#E5ECF6\",\"angularaxis\":{\"gridcolor\":\"white\",\"linecolor\":\"white\",\"ticks\":\"\"},\"radialaxis\":{\"gridcolor\":\"white\",\"linecolor\":\"white\",\"ticks\":\"\"}},\"ternary\":{\"bgcolor\":\"#E5ECF6\",\"aaxis\":{\"gridcolor\":\"white\",\"linecolor\":\"white\",\"ticks\":\"\"},\"baxis\":{\"gridcolor\":\"white\",\"linecolor\":\"white\",\"ticks\":\"\"},\"caxis\":{\"gridcolor\":\"white\",\"linecolor\":\"white\",\"ticks\":\"\"}},\"coloraxis\":{\"colorbar\":{\"outlinewidth\":0,\"ticks\":\"\"}},\"colorscale\":{\"sequential\":[[0.0,\"#0d0887\"],[0.1111111111111111,\"#46039f\"],[0.2222222222222222,\"#7201a8\"],[0.3333333333333333,\"#9c179e\"],[0.4444444444444444,\"#bd3786\"],[0.5555555555555556,\"#d8576b\"],[0.6666666666666666,\"#ed7953\"],[0.7777777777777778,\"#fb9f3a\"],[0.8888888888888888,\"#fdca26\"],[1.0,\"#f0f921\"]],\"sequentialminus\":[[0.0,\"#0d0887\"],[0.1111111111111111,\"#46039f\"],[0.2222222222222222,\"#7201a8\"],[0.3333333333333333,\"#9c179e\"],[0.4444444444444444,\"#bd3786\"],[0.5555555555555556,\"#d8576b\"],[0.6666666666666666,\"#ed7953\"],[0.7777777777777778,\"#fb9f3a\"],[0.8888888888888888,\"#fdca26\"],[1.0,\"#f0f921\"]],\"diverging\":[[0,\"#8e0152\"],[0.1,\"#c51b7d\"],[0.2,\"#de77ae\"],[0.3,\"#f1b6da\"],[0.4,\"#fde0ef\"],[0.5,\"#f7f7f7\"],[0.6,\"#e6f5d0\"],[0.7,\"#b8e186\"],[0.8,\"#7fbc41\"],[0.9,\"#4d9221\"],[1,\"#276419\"]]},\"xaxis\":{\"gridcolor\":\"white\",\"linecolor\":\"white\",\"ticks\":\"\",\"title\":{\"standoff\":15},\"zerolinecolor\":\"white\",\"automargin\":true,\"zerolinewidth\":2},\"yaxis\":{\"gridcolor\":\"white\",\"linecolor\":\"white\",\"ticks\":\"\",\"title\":{\"standoff\":15},\"zerolinecolor\":\"white\",\"automargin\":true,\"zerolinewidth\":2},\"scene\":{\"xaxis\":{\"backgroundcolor\":\"#E5ECF6\",\"gridcolor\":\"white\",\"linecolor\":\"white\",\"showbackground\":true,\"ticks\":\"\",\"zerolinecolor\":\"white\",\"gridwidth\":2},\"yaxis\":{\"backgroundcolor\":\"#E5ECF6\",\"gridcolor\":\"white\",\"linecolor\":\"white\",\"showbackground\":true,\"ticks\":\"\",\"zerolinecolor\":\"white\",\"gridwidth\":2},\"zaxis\":{\"backgroundcolor\":\"#E5ECF6\",\"gridcolor\":\"white\",\"linecolor\":\"white\",\"showbackground\":true,\"ticks\":\"\",\"zerolinecolor\":\"white\",\"gridwidth\":2}},\"shapedefaults\":{\"line\":{\"color\":\"#2a3f5f\"}},\"annotationdefaults\":{\"arrowcolor\":\"#2a3f5f\",\"arrowhead\":0,\"arrowwidth\":1},\"geo\":{\"bgcolor\":\"white\",\"landcolor\":\"#E5ECF6\",\"subunitcolor\":\"white\",\"showland\":true,\"showlakes\":true,\"lakecolor\":\"white\"},\"title\":{\"x\":0.05},\"mapbox\":{\"style\":\"light\"}}},\"xaxis\":{\"anchor\":\"y\",\"domain\":[0.0,1.0],\"title\":{\"text\":\"x\"}},\"yaxis\":{\"anchor\":\"x\",\"domain\":[0.0,1.0],\"title\":{\"text\":\"y\"}},\"legend\":{\"tracegroupgap\":0},\"margin\":{\"t\":60}},                        {\"responsive\": true}                    ).then(function(){\n",
       "                            \n",
       "var gd = document.getElementById('a7c07bf5-e7fb-45cc-8398-9bed316362b5');\n",
       "var x = new MutationObserver(function (mutations, observer) {{\n",
       "        var display = window.getComputedStyle(gd).display;\n",
       "        if (!display || display === 'none') {{\n",
       "            console.log([gd, 'removed!']);\n",
       "            Plotly.purge(gd);\n",
       "            observer.disconnect();\n",
       "        }}\n",
       "}});\n",
       "\n",
       "// Listen for the removal of the full notebook cells\n",
       "var notebookContainer = gd.closest('#notebook-container');\n",
       "if (notebookContainer) {{\n",
       "    x.observe(notebookContainer, {childList: true});\n",
       "}}\n",
       "\n",
       "// Listen for the clearing of the current output cell\n",
       "var outputEl = gd.closest('.output');\n",
       "if (outputEl) {{\n",
       "    x.observe(outputEl, {childList: true});\n",
       "}}\n",
       "\n",
       "                        })                };                });            </script>        </div>"
      ]
     },
     "metadata": {},
     "output_type": "display_data"
    },
    {
     "data": {
      "text/plain": [
       "LinearRegression()"
      ]
     },
     "execution_count": 71,
     "metadata": {},
     "output_type": "execute_result"
    },
    {
     "name": "stdout",
     "output_type": "stream",
     "text": [
      "mean squared error is 0.04764021495035241\n"
     ]
    },
    {
     "data": {
      "application/vnd.plotly.v1+json": {
       "config": {
        "plotlyServerURL": "https://plot.ly"
       },
       "data": [
        {
         "hovertemplate": "x=%{x}<br>y=%{y}<extra></extra>",
         "legendgroup": "",
         "marker": {
          "color": "#636efa",
          "symbol": "circle"
         },
         "mode": "markers",
         "name": "",
         "orientation": "v",
         "showlegend": false,
         "type": "scatter",
         "x": [
          0.2521530398222069,
          0.2783292222895455,
          0.24508495063191033,
          0.2802846138633064,
          0.2481066943958495,
          0.28441337696683383,
          0.2596547983313131,
          0.24629300970330617,
          0.29320999260305064,
          0.24179439564428115,
          0.31694415036683304,
          0.2263522957638454,
          0.28134917553306255,
          0.41871620436856694,
          0.2722152991513931,
          0.2489648978811745,
          0.28967195995139017,
          0.28152681868891927,
          0.3416410513844207,
          0.29778626934981445,
          0.25033456896024897,
          0.2501926898371486,
          0.2818460386386462,
          0.26639575778477864,
          0.27125633140871547,
          0.27255834866744316,
          0.2535339850537211,
          0.2680659083628432,
          0.2602038264758681,
          0.2752360136254707,
          0.2691577466084534,
          0.290202763234753,
          0.2696845175041649,
          0.3067110902287004,
          0.27219387669882605,
          0.28296549221561873,
          0.28306031293472,
          0.2696298219021256,
          0.2881907851698469,
          0.28529378469274463,
          0.25183375581600287,
          0.3028768714502564,
          0.24994948502202965,
          0.2696393841992086,
          0.26448591895291307,
          0.2870913174081248,
          0.23755214983321946,
          0.23602911268775098,
          0.27165785760393246,
          0.27737000765978925,
          0.31451470828361283,
          0.2810907460028662,
          0.3226554341189013,
          0.2686839979576386,
          0.2528412252498463,
          0.2726131168793359,
          0.2775654524292654,
          0.26968455710485173,
          0.2583369116535906,
          0.2724375448195818,
          0.25941138494955573,
          0.25730397712770076,
          0.27894994779299903,
          0.2659258461852336,
          0.2589431109577209,
          0.2538205974318393,
          0.3193337114863857,
          0.26998422689362034,
          0.2548384401395376,
          0.28467157672845594,
          0.2979000439366022,
          0.2620999872968286,
          0.27148824198414995,
          0.25951336538752773,
          0.26895813249467165,
          0.25690159175597055,
          0.25345596244636387,
          0.23918836438640598,
          0.25574718747038505,
          0.2591762436748533,
          0.23861581137454,
          0.26892571167591645,
          0.24606871852480536,
          0.2443825284877107,
          0.25020486902338607,
          0.2789104103707108,
          0.28528356607239513,
          0.2506449160202233,
          0.253331969643922,
          0.27151680739109757,
          0.263234685141153,
          0.22915305800614216,
          0.27030140568470973,
          0.2523397613738424,
          0.2623951933965674,
          0.2727637628889835,
          0.2604013477077183,
          0.27339110768133856,
          0.26083497919395443,
          0.2614279929056696,
          0.2584219837804897,
          0.26347295838935475,
          0.26491535289880724,
          0.2299522615791627,
          0.27199272853079126,
          0.30757522474780463,
          0.24865289880810973,
          0.3010672610892017,
          0.2395057602867115,
          0.3019647094276942,
          0.2383304054944251,
          0.2535955269023453,
          0.3044493759216928,
          0.2390558053705196,
          0.2332464686979145,
          0.2575119350094331,
          0.2769762528527948,
          0.2673623593146565,
          0.3136239048632537,
          0.32136286155261307,
          0.27549757843651757,
          0.26068617275748834,
          0.2506586841189501,
          0.2539574325261222,
          0.3040155740698883,
          0.30527431759031937,
          0.2555718017195601,
          0.29344692456718385,
          0.2558950266168609,
          0.26150876060206474,
          0.26019691865269595,
          0.27993241850947376,
          0.2512234957472109,
          0.27281231001992645,
          0.2959343064846708,
          0.2721563064207263,
          0.268775209515667,
          0.2944246136744067,
          0.27195764189356064,
          0.27451746593661774,
          0.23189876448472738,
          0.24536859400528988,
          0.22831070391313674,
          0.316603004912243,
          0.2560202504866942,
          0.23403173887130566,
          0.25972913513705576,
          0.22571307593566514,
          0.2763255179571506,
          0.26994826117704845,
          0.2366373075356475,
          0.26205787865143565,
          0.24427419501939754,
          0.272516938128306,
          0.2675527907715557,
          0.2729446944864159,
          0.2718178226335169,
          0.3024376589037687,
          0.25291222018346354,
          0.27124944574881465,
          0.24798211124659975,
          0.29716670575465676,
          0.2736529729119213,
          0.24186425330023328,
          0.25462227776667135,
          0.3329583426601531,
          0.2660067217885134,
          0.2372795680794465,
          0.2827419873982101,
          0.2396253156875443,
          0.2695723904126284,
          0.30579077468608024,
          0.30451275757862095,
          0.22824348124955068,
          0.28639040648286085,
          0.2513840210770336,
          0.271361598234984,
          0.23178408885909335,
          0.23345162075804163,
          0.2601861770514724,
          0.26125633206108245,
          0.2571021658326929,
          0.2757039276699896,
          0.2749028784311142,
          0.2548446657622606,
          0.2692093301672431,
          0.23342043069489066,
          0.3711185066516401,
          0.29502881228175376,
          0.32534096289004183,
          0.2673979077297457,
          0.2767754308616473,
          0.25751916702691274,
          0.2421623835189976,
          0.276024053472496,
          0.23927645907082581,
          0.27441412279292715,
          0.25775045396449625,
          0.3247998809072592,
          0.23980655261105271,
          0.24399834028576994,
          0.2720689522843599,
          0.2753347559914043,
          0.229207206574015,
          0.279262698822812,
          0.2685578930487335,
          0.27265441316516337,
          0.22589886949700752,
          0.26997139992482844,
          0.2525768025258082,
          0.23464506358718584,
          0.24175662222914063,
          0.2922165021516427,
          0.24801060982854034,
          0.2552088558321108,
          0.2681716799957389,
          0.26981851856431227,
          0.3167550613513225,
          0.27050279669852434,
          0.28600319616948,
          0.2797281946535868,
          0.27720967554774884,
          0.26866293656722817,
          0.2372968858225719,
          0.27338286500551456,
          0.25454717559731455,
          0.2810746956098882,
          0.2709229353756537,
          0.23665842630693812,
          0.25956881510322477,
          0.25770250448433374,
          0.3186126542823243,
          0.25898648359707116,
          0.28462236737132024,
          0.27495696559485827,
          0.25505853641893866,
          0.26038537558688285,
          0.30276503565588153,
          0.2778984946845856,
          0.2839506441434614,
          0.2557262499206054,
          0.2509048235301975,
          0.27814865283375495,
          0.24797623599827245,
          0.31586044536151014,
          0.31795657953865175,
          0.2676337008704583,
          0.28185427383702266,
          0.2700191969994397,
          0.245903642955463,
          0.25405814262024007,
          0.25646340273519436,
          0.2610835413333355,
          0.28052713007696123,
          0.2976404396982617,
          0.2787388508940082,
          0.27405097423309277,
          0.3232680485183135,
          0.275347272687291,
          0.31469816512917553,
          0.2658973909216525,
          0.23764291399001247,
          0.2686021064815642,
          0.28500413494548354,
          0.2543092313679431,
          0.26946986990783806,
          0.2803539407467082,
          0.2475414337199176,
          0.27417901607225864,
          0.31792942291340126,
          0.3485092486654432,
          0.2741654303980426,
          0.24800988161764287,
          0.24200890751594145,
          0.24272564742043615,
          0.264132561107992,
          0.24506909828705117,
          0.2823393152186765,
          0.2961583631714397,
          0.27018608726296994,
          0.28458320988496333,
          0.25183337106392334,
          0.2630589807205754,
          0.2566493747581968,
          0.42691202622451424,
          0.27890048845006415,
          0.25525321423975633,
          0.26956109819543517,
          0.27837073750119573,
          0.2793897733162859,
          0.2579141284117717,
          0.24775289868857286,
          0.2748497619409037,
          0.27294676739849133,
          0.25250017744936976,
          0.2781550520206895,
          0.24685411675724167,
          0.2746960925340631,
          0.2594952572101796,
          0.26298734509393834,
          0.27979449605169604,
          0.25436844485274346,
          0.27820631440076526,
          0.26774174538604945,
          0.2627820520708673,
          0.24891559917084102,
          0.28901395564436944,
          0.28963052086583174,
          0.2986554068110251,
          0.26740903938381094,
          0.26566077965040535,
          0.2995367910232968,
          0.23108857669108362,
          0.27638918697223736,
          0.25193746354091057,
          0.25370100563114223,
          0.24182356189388993,
          0.2690347494041906,
          0.26207819248886005,
          0.2956879539737534,
          0.2559102772378416,
          0.26800820535680914,
          0.24982236643766947,
          0.25510401133700067,
          0.27113851395326116,
          0.26977919674814027,
          0.2614034128921599,
          0.26152456750459935,
          0.27932771563662556,
          0.30163034463107175,
          0.25433169441477144,
          0.2790249818556345,
          0.33640851188766985,
          0.22611095185859326,
          0.30220265064693197,
          0.2604769630917353,
          0.2415168879037996,
          0.32813217170271847,
          0.26974480462900025,
          0.2381675881953054,
          0.262745498677926,
          0.27658474995330856,
          0.2680284746832483,
          0.22879226618049087,
          0.24680901514110845,
          0.2546492728332429,
          0.24360583820675155,
          0.2562812103686172,
          0.24437137735478584,
          0.2644771430102988,
          0.28638234222701064,
          0.27514652958431857,
          0.30673750641395153,
          0.22717280879951657,
          0.23615865979210449,
          0.3104597832716891,
          0.24977818912354638,
          0.29629403432555423,
          0.30671962649706314,
          0.2583631005234695,
          0.2756413193385117,
          0.2673036170098441,
          0.2753972096452367,
          0.29824323786550605,
          0.31588723897667675,
          0.2278911230912484
         ],
         "xaxis": "x",
         "y": [
          0.2,
          0.2535499999999998,
          0.26420000000000005,
          0.3,
          0.16,
          0.1,
          0.33,
          0.2,
          0.23,
          0.75,
          0.22459799999999944,
          0.5,
          0.26699999999999974,
          0.25,
          0.06,
          0.1,
          0.35,
          0.21,
          0.3662400000000009,
          0.2,
          0.11,
          0.36733800000000005,
          0.1,
          0.1,
          0.2,
          0.15,
          1,
          0.32269999999999943,
          0.4,
          0.16,
          0.36,
          0.04,
          0.06,
          0.1892200000000002,
          0.22415599999999977,
          0.21526799999999968,
          0.20985999999999985,
          0.2024979999999995,
          0.3,
          0.15,
          0.5,
          0.21,
          0.2926149999999995,
          0.15,
          0.35817600000000005,
          0.5443399999999997,
          1,
          0.5,
          0.05,
          0.3,
          0.34,
          0.04,
          0.29,
          0.18,
          0.32367999999999997,
          0.05,
          0.4049799999999991,
          0.18396999999999972,
          0.23466999999999968,
          0.2703299999999995,
          0.28393999999999947,
          0.12,
          0.02,
          1,
          0.25443999999999994,
          0.15,
          0.2824999999999998,
          0.8,
          0.09,
          0.14,
          0.03,
          0.2961800000000001,
          0.23456999999999956,
          0.2939599999999999,
          0.21,
          1,
          0.08,
          0.2839739999999999,
          0.3790600000000002,
          0.05,
          0.1,
          0.267159999999999,
          0.12,
          0.2262299999999998,
          0.24962799999999957,
          0.09,
          0.25,
          0.12,
          0.4,
          0.22778000000000026,
          0.2,
          0.17670699999999961,
          0.05,
          1,
          0.1,
          0.2844400000000003,
          0.24667999999999954,
          0.3,
          0.1,
          0.5,
          0.4200400000000011,
          1,
          0.05,
          0.4170200000000002,
          0.2347799999999997,
          0.18,
          0.1,
          0.48,
          0.1,
          0.21,
          0.3790000000000001,
          0.2545269999999995,
          0.06,
          0.22277999999999967,
          0.1,
          0.14,
          0.2,
          0.1966369999999994,
          1,
          1,
          0.11,
          0.5324799999999998,
          0.2693269999999996,
          0.31,
          0.28620000000000007,
          1,
          0.34299999999999986,
          0.05,
          0.14,
          0.14081999999999964,
          0.05,
          0.2496599999999995,
          0.2508899999999997,
          0.15,
          0.36963,
          0.08,
          0.2554449999999995,
          0.4443000000000001,
          0.17,
          1,
          0.05,
          0.1,
          0.3,
          0.04,
          0.17,
          0.1576199999999998,
          0.12,
          0.07,
          0.30837000000000053,
          0.05,
          0.42507800000000107,
          0.3,
          0.3363400000000008,
          0.14,
          0.11,
          0.3175800000000008,
          0.1654599999999993,
          0.23202000000000014,
          0.20318999999999973,
          0.23912699999999992,
          0.09,
          0.13,
          0.19,
          0.1,
          0.32417999999999936,
          0.05,
          0.2162999999999996,
          0.06,
          0.25567999999999974,
          0.1,
          0.41415000000000013,
          0.3711199999999997,
          0.4069200000000004,
          0.15,
          0.12,
          0.33,
          1,
          0.24972399999999972,
          0.1,
          0.3,
          0.25,
          0.5,
          1,
          0.12,
          0.3105300000000001,
          0.37,
          0.15,
          0.15,
          0.3181400000000002,
          0.15,
          0.15,
          0.34514000000000106,
          0.33,
          0.06,
          0.13,
          0.2,
          0.33,
          0.26277999999999974,
          0.36341999999999997,
          0.17,
          0.25,
          0.2869720000000003,
          0.25,
          0.22741000000000006,
          0.23,
          0.29520799999999936,
          0.14,
          0.25,
          0.2,
          0.2,
          0.1,
          0.12,
          0.33,
          0.05,
          0.3028399999999999,
          0.18664099999999959,
          0.28542999999999974,
          0.22539999999999957,
          0.26,
          0.42,
          0.3018199999999999,
          0.37404000000000115,
          0.33,
          1,
          0.38,
          0.24,
          0.3,
          0.33,
          0.09,
          0.12,
          1,
          0.1,
          0.30936000000000013,
          0.16,
          0.26269,
          0.27669999999999995,
          0.19060000000000005,
          0.3991400000000002,
          0.08,
          0.14,
          0.05,
          0.2434079999999998,
          0.1,
          0.2449599999999996,
          0.3934800000000004,
          0.1,
          0.2619769999999999,
          0.2824399999999996,
          0.18,
          0.12,
          0.2627400000000005,
          0.13,
          0.28541999999999973,
          0.2,
          0.13,
          0.1,
          0.07,
          0.3,
          0.15,
          0.17507599999999957,
          0.54,
          0.05,
          0.21329000000000034,
          0.3121699999999996,
          0.25,
          1,
          0.38,
          0.12,
          0.2,
          0.04,
          1,
          0.1,
          0.38857999999999954,
          0.09,
          0.4058679999999999,
          0.20183800000000013,
          0.1576170000000001,
          0.40972000000000014,
          0.2,
          1,
          0.05,
          0.2824300000000001,
          0.05,
          0.33,
          0.4479970000000003,
          0.5143799999999995,
          0.17,
          0.3,
          0.39598999999999995,
          0.31788700000000025,
          0.3186800000000003,
          0.1,
          0.42287300000000033,
          0.25757999999999937,
          0.3076090000000003,
          0.21057999999999913,
          0.07,
          0.15,
          0.08,
          0.33,
          0.16,
          0.3,
          0.5,
          0.17,
          0.5,
          0.1,
          0.09,
          0.1,
          0.06,
          0.5,
          0.16,
          0.20639999999999986,
          0.2,
          0.12,
          0.31714000000000064,
          0.16841999999999996,
          1,
          0.22891999999999985,
          0.06,
          0.1,
          0.2,
          0.03,
          1,
          0.07,
          0.05,
          0.3,
          0.22532000000000024,
          0.15,
          0.2,
          0.23364999999999964,
          0.3,
          0.25,
          0.1,
          0.1,
          0.18,
          0.25,
          0.2,
          0.5,
          0.2215599999999993,
          0.11,
          0.33948000000000017,
          0.07,
          1,
          0.07,
          0.14978099999999997,
          0.12,
          0.12,
          0.05,
          0.22783999999999985,
          0.17478000000000013,
          0.48178000000000076,
          0.08,
          0.2524400000000003,
          1,
          0.18784799999999965,
          0.40913999999999995,
          0.38,
          0.2760999999999999,
          0.3353700000000006,
          0.3,
          0.1,
          0.22729999999999972,
          0.29529999999999995,
          0.2946519999999999,
          0.24694000000000016,
          0.05
         ],
         "yaxis": "y"
        },
        {
         "hovertemplate": "<b>OLS trendline</b><br>y = 0.395761 * x + 0.162882<br>R<sup>2</sup>=0.002233<br><br>x=%{x}<br>y=%{y} <b>(trend)</b><extra></extra>",
         "legendgroup": "",
         "marker": {
          "color": "#636efa",
          "symbol": "circle"
         },
         "mode": "lines",
         "name": "",
         "showlegend": false,
         "type": "scatter",
         "x": [
          0.22571307593566514,
          0.22589886949700752,
          0.22611095185859326,
          0.2263522957638454,
          0.22717280879951657,
          0.2278911230912484,
          0.22824348124955068,
          0.22831070391313674,
          0.22879226618049087,
          0.22915305800614216,
          0.229207206574015,
          0.2299522615791627,
          0.23108857669108362,
          0.23178408885909335,
          0.23189876448472738,
          0.2332464686979145,
          0.23342043069489066,
          0.23345162075804163,
          0.23403173887130566,
          0.23464506358718584,
          0.23602911268775098,
          0.23615865979210449,
          0.2366373075356475,
          0.23665842630693812,
          0.2372795680794465,
          0.2372968858225719,
          0.23755214983321946,
          0.23764291399001247,
          0.2381675881953054,
          0.2383304054944251,
          0.23861581137454,
          0.2390558053705196,
          0.23918836438640598,
          0.23927645907082581,
          0.2395057602867115,
          0.2396253156875443,
          0.23980655261105271,
          0.2415168879037996,
          0.24175662222914063,
          0.24179439564428115,
          0.24182356189388993,
          0.24186425330023328,
          0.24200890751594145,
          0.2421623835189976,
          0.24272564742043615,
          0.24360583820675155,
          0.24399834028576994,
          0.24427419501939754,
          0.24437137735478584,
          0.2443825284877107,
          0.24506909828705117,
          0.24508495063191033,
          0.24536859400528988,
          0.245903642955463,
          0.24606871852480536,
          0.24629300970330617,
          0.24680901514110845,
          0.24685411675724167,
          0.2475414337199176,
          0.24775289868857286,
          0.24797623599827245,
          0.24798211124659975,
          0.24800988161764287,
          0.24801060982854034,
          0.2481066943958495,
          0.24865289880810973,
          0.24891559917084102,
          0.2489648978811745,
          0.24977818912354638,
          0.24982236643766947,
          0.24994948502202965,
          0.2501926898371486,
          0.25020486902338607,
          0.25033456896024897,
          0.2506449160202233,
          0.2506586841189501,
          0.2509048235301975,
          0.2512234957472109,
          0.2513840210770336,
          0.25183337106392334,
          0.25183375581600287,
          0.25193746354091057,
          0.2521530398222069,
          0.2523397613738424,
          0.25250017744936976,
          0.2525768025258082,
          0.2528412252498463,
          0.25291222018346354,
          0.253331969643922,
          0.25345596244636387,
          0.2535339850537211,
          0.2535955269023453,
          0.25370100563114223,
          0.2538205974318393,
          0.2539574325261222,
          0.25405814262024007,
          0.2543092313679431,
          0.25433169441477144,
          0.25436844485274346,
          0.25454717559731455,
          0.25462227776667135,
          0.2546492728332429,
          0.2548384401395376,
          0.2548446657622606,
          0.25505853641893866,
          0.25510401133700067,
          0.2552088558321108,
          0.25525321423975633,
          0.2555718017195601,
          0.2557262499206054,
          0.25574718747038505,
          0.2558950266168609,
          0.2559102772378416,
          0.2560202504866942,
          0.2562812103686172,
          0.25646340273519436,
          0.2566493747581968,
          0.25690159175597055,
          0.2571021658326929,
          0.25730397712770076,
          0.2575119350094331,
          0.25751916702691274,
          0.25770250448433374,
          0.25775045396449625,
          0.2579141284117717,
          0.2583369116535906,
          0.2583631005234695,
          0.2584219837804897,
          0.2589431109577209,
          0.25898648359707116,
          0.2591762436748533,
          0.25941138494955573,
          0.2594952572101796,
          0.25951336538752773,
          0.25956881510322477,
          0.2596547983313131,
          0.25972913513705576,
          0.2601861770514724,
          0.26019691865269595,
          0.2602038264758681,
          0.26038537558688285,
          0.2604013477077183,
          0.2604769630917353,
          0.26068617275748834,
          0.26083497919395443,
          0.2610835413333355,
          0.26125633206108245,
          0.2614034128921599,
          0.2614279929056696,
          0.26150876060206474,
          0.26152456750459935,
          0.26205787865143565,
          0.26207819248886005,
          0.2620999872968286,
          0.2623951933965674,
          0.262745498677926,
          0.2627820520708673,
          0.26298734509393834,
          0.2630589807205754,
          0.263234685141153,
          0.26347295838935475,
          0.264132561107992,
          0.2644771430102988,
          0.26448591895291307,
          0.26491535289880724,
          0.26566077965040535,
          0.2658973909216525,
          0.2659258461852336,
          0.2660067217885134,
          0.26639575778477864,
          0.2673036170098441,
          0.2673623593146565,
          0.2673979077297457,
          0.26740903938381094,
          0.2675527907715557,
          0.2676337008704583,
          0.26774174538604945,
          0.26800820535680914,
          0.2680284746832483,
          0.2680659083628432,
          0.2681716799957389,
          0.2685578930487335,
          0.2686021064815642,
          0.26866293656722817,
          0.2686839979576386,
          0.268775209515667,
          0.26892571167591645,
          0.26895813249467165,
          0.2690347494041906,
          0.2691577466084534,
          0.2692093301672431,
          0.26946986990783806,
          0.26956109819543517,
          0.2695723904126284,
          0.2696298219021256,
          0.2696393841992086,
          0.2696845175041649,
          0.26968455710485173,
          0.26974480462900025,
          0.26977919674814027,
          0.26981851856431227,
          0.26994826117704845,
          0.26997139992482844,
          0.26998422689362034,
          0.2700191969994397,
          0.27018608726296994,
          0.27030140568470973,
          0.27050279669852434,
          0.2709229353756537,
          0.27113851395326116,
          0.27124944574881465,
          0.27125633140871547,
          0.271361598234984,
          0.27148824198414995,
          0.27151680739109757,
          0.27165785760393246,
          0.2718178226335169,
          0.27195764189356064,
          0.27199272853079126,
          0.2720689522843599,
          0.2721563064207263,
          0.27219387669882605,
          0.2722152991513931,
          0.2724375448195818,
          0.272516938128306,
          0.27255834866744316,
          0.2726131168793359,
          0.27265441316516337,
          0.2727637628889835,
          0.27281231001992645,
          0.2729446944864159,
          0.27294676739849133,
          0.27338286500551456,
          0.27339110768133856,
          0.2736529729119213,
          0.27405097423309277,
          0.2741654303980426,
          0.27417901607225864,
          0.27441412279292715,
          0.27451746593661774,
          0.2746960925340631,
          0.2748497619409037,
          0.2749028784311142,
          0.27495696559485827,
          0.27514652958431857,
          0.2752360136254707,
          0.2753347559914043,
          0.275347272687291,
          0.2753972096452367,
          0.27549757843651757,
          0.2756413193385117,
          0.2757039276699896,
          0.276024053472496,
          0.2763255179571506,
          0.27638918697223736,
          0.27658474995330856,
          0.2767754308616473,
          0.2769762528527948,
          0.27720967554774884,
          0.27737000765978925,
          0.2775654524292654,
          0.2778984946845856,
          0.27814865283375495,
          0.2781550520206895,
          0.27820631440076526,
          0.2783292222895455,
          0.27837073750119573,
          0.2787388508940082,
          0.27890048845006415,
          0.2789104103707108,
          0.27894994779299903,
          0.2790249818556345,
          0.279262698822812,
          0.27932771563662556,
          0.2793897733162859,
          0.2797281946535868,
          0.27979449605169604,
          0.27993241850947376,
          0.2802846138633064,
          0.2803539407467082,
          0.28052713007696123,
          0.2810746956098882,
          0.2810907460028662,
          0.28134917553306255,
          0.28152681868891927,
          0.2818460386386462,
          0.28185427383702266,
          0.2823393152186765,
          0.2827419873982101,
          0.28296549221561873,
          0.28306031293472,
          0.2839506441434614,
          0.28441337696683383,
          0.28458320988496333,
          0.28462236737132024,
          0.28467157672845594,
          0.28500413494548354,
          0.28528356607239513,
          0.28529378469274463,
          0.28600319616948,
          0.28638234222701064,
          0.28639040648286085,
          0.2870913174081248,
          0.2881907851698469,
          0.28901395564436944,
          0.28963052086583174,
          0.28967195995139017,
          0.290202763234753,
          0.2922165021516427,
          0.29320999260305064,
          0.29344692456718385,
          0.2944246136744067,
          0.29502881228175376,
          0.2956879539737534,
          0.2959343064846708,
          0.2961583631714397,
          0.29629403432555423,
          0.29716670575465676,
          0.2976404396982617,
          0.29778626934981445,
          0.2979000439366022,
          0.29824323786550605,
          0.2986554068110251,
          0.2995367910232968,
          0.3010672610892017,
          0.30163034463107175,
          0.3019647094276942,
          0.30220265064693197,
          0.3024376589037687,
          0.30276503565588153,
          0.3028768714502564,
          0.3040155740698883,
          0.3044493759216928,
          0.30451275757862095,
          0.30527431759031937,
          0.30579077468608024,
          0.3067110902287004,
          0.30671962649706314,
          0.30673750641395153,
          0.30757522474780463,
          0.3104597832716891,
          0.3136239048632537,
          0.31451470828361283,
          0.31469816512917553,
          0.31586044536151014,
          0.31588723897667675,
          0.316603004912243,
          0.3167550613513225,
          0.31694415036683304,
          0.31792942291340126,
          0.31795657953865175,
          0.3186126542823243,
          0.3193337114863857,
          0.32136286155261307,
          0.3226554341189013,
          0.3232680485183135,
          0.3247998809072592,
          0.32534096289004183,
          0.32813217170271847,
          0.3329583426601531,
          0.33640851188766985,
          0.3416410513844207,
          0.3485092486654432,
          0.3711185066516401,
          0.41871620436856694,
          0.42691202622451424
         ],
         "xaxis": "x",
         "y": [
          0.25221088330699426,
          0.2522844131904218,
          0.2523683471610705,
          0.25246386171545504,
          0.2527885889418872,
          0.2530728698704283,
          0.25321231955919854,
          0.2532389236814375,
          0.25342950734389497,
          0.2535722947510046,
          0.2535937246533903,
          0.25388858851885365,
          0.25433829795503,
          0.25461355468764596,
          0.2546589388512516,
          0.2551923078925384,
          0.2552611553018138,
          0.2552734991187417,
          0.2555030873613821,
          0.2557458174890359,
          0.25629357042669015,
          0.2563448401446108,
          0.25653427035161724,
          0.25654262834195835,
          0.2567884521573507,
          0.25679530584821075,
          0.25689632944025853,
          0.2569322503721798,
          0.2571398960670784,
          0.2572043328373182,
          0.2573172854119002,
          0.2574914179652537,
          0.2575438796809072,
          0.25757874413922954,
          0.2576694926643778,
          0.2577168080536887,
          0.2577885345966434,
          0.25846541895038,
          0.25856029649548196,
          0.25857524574771584,
          0.25858678861776074,
          0.25860289269770464,
          0.25866014122419545,
          0.2587208810718635,
          0.2589437990713489,
          0.25929214443619436,
          0.25944748153133784,
          0.2595566541326918,
          0.25959511513069783,
          0.2595995283164838,
          0.2598712460065137,
          0.2598775197495924,
          0.2599897747923878,
          0.26020152640880545,
          0.2602668569147863,
          0.26035562266150986,
          0.26055983759455403,
          0.26057768706443185,
          0.26084970045272243,
          0.26093339008320204,
          0.26102177832566087,
          0.2610241035210094,
          0.2610350939564733,
          0.26103538215409444,
          0.2610734086980843,
          0.2612895752136025,
          0.2613935418253001,
          0.26141305234222956,
          0.26173492146305466,
          0.2617524051300566,
          0.26180271373398206,
          0.261898964764295,
          0.26190378481369714,
          0.2619551150167956,
          0.2620779383427339,
          0.26208338722205504,
          0.26218079965166335,
          0.2623069177517702,
          0.2623704474494828,
          0.26254828274105824,
          0.2625484350110043,
          0.26258947850501935,
          0.26267479523353743,
          0.26274869237952014,
          0.26281217883862135,
          0.262842504071086,
          0.2629471523265672,
          0.2629752493669334,
          0.2631413699185461,
          0.26319044145925785,
          0.26322131978024077,
          0.26324567565631396,
          0.26328742004495953,
          0.2633347498399245,
          0.26338890386151015,
          0.2634287610095564,
          0.26352813219451665,
          0.26353702219696223,
          0.26355156659452084,
          0.2636223012890833,
          0.26365202381400865,
          0.26366270741404185,
          0.26373757249483176,
          0.2637400363547728,
          0.26382467806323934,
          0.2638426752715377,
          0.2638841686550961,
          0.26390172399188844,
          0.26402780855629526,
          0.26408893316220944,
          0.26409721943210723,
          0.2641557284306315,
          0.26416176403474395,
          0.26420528718005565,
          0.26430856497697397,
          0.26438066964722745,
          0.26445427015885636,
          0.2645540878614223,
          0.264633467299404,
          0.2647133363803833,
          0.2647956380419217,
          0.2647985001938627,
          0.26487105804664657,
          0.26489003459061977,
          0.2649548105868452,
          0.2651221317914201,
          0.26513249633008,
          0.26515580003874056,
          0.26536204195754476,
          0.26537920716549024,
          0.2654543068422374,
          0.26554736663609113,
          0.26558056002289054,
          0.26558772653694984,
          0.2656096713831643,
          0.26564370020898787,
          0.26567311983268815,
          0.2658539992907584,
          0.2658582503997855,
          0.2658609842481972,
          0.26593283434285514,
          0.2659391554886184,
          0.26596908112399525,
          0.2660518781930842,
          0.266110770007459,
          0.2662091412588691,
          0.2662775251252248,
          0.2663357340119344,
          0.26634546182766144,
          0.2663774265483856,
          0.26638368230715526,
          0.26659474616843304,
          0.26660278559717854,
          0.2666114111366088,
          0.2667282422579031,
          0.26686687949762355,
          0.2668813459124037,
          0.26696259292627134,
          0.26699094352807806,
          0.26706048052101494,
          0.26715477982846986,
          0.2674158249941874,
          0.26755219714252665,
          0.26755567032013694,
          0.26772562361536034,
          0.2680206346036462,
          0.26811427616510153,
          0.26812553765446046,
          0.26815754508054307,
          0.26831151043460494,
          0.2686708058940674,
          0.26869405381931255,
          0.2687081225028485,
          0.26871252797965756,
          0.26876941920186703,
          0.2688014402799789,
          0.2688442001074939,
          0.26894965462618925,
          0.26895767643921364,
          0.26897249123729916,
          0.2690143515460234,
          0.2691671996886592,
          0.2691846976500443,
          0.26920877183795183,
          0.2692171071191667,
          0.2692532051151393,
          0.26931276803119936,
          0.26932559893344626,
          0.26935592093376104,
          0.2694045984553394,
          0.2694250132266435,
          0.26952812474792426,
          0.2695642293648111,
          0.26956869838627695,
          0.2695914275416755,
          0.26959521192787667,
          0.2696130739389612,
          0.2696130896113767,
          0.26963693324403776,
          0.26965054431049734,
          0.26966610635978683,
          0.2697174534523403,
          0.2697266108710077,
          0.2697316872876132,
          0.2697455270987765,
          0.269811575790313,
          0.2698572143476791,
          0.2699369170976676,
          0.27010319168613833,
          0.2701885093234473,
          0.27023241182435487,
          0.27023513690140366,
          0.2702767974272496,
          0.2703269181098272,
          0.2703382231896574,
          0.2703940453916338,
          0.27045735334424986,
          0.2705126883828683,
          0.2705265743126432,
          0.27055674071708596,
          0.2705913120952194,
          0.2706061809536936,
          0.2706146591293021,
          0.2707026153424029,
          0.27073403613380836,
          0.2707504248186122,
          0.270772099952061,
          0.27078844341983743,
          0.2708317197981319,
          0.2708509328690972,
          0.27090332550487134,
          0.27090414588304895,
          0.27107673639682006,
          0.2710799985281237,
          0.2711836346269172,
          0.2713411481087531,
          0.27138644541833434,
          0.27139182210111157,
          0.2714848682198192,
          0.27152576742673307,
          0.27159646090390377,
          0.27165727729328626,
          0.2716782987393743,
          0.2716997043403881,
          0.27177472641298506,
          0.2718101407247997,
          0.2718492191223717,
          0.2718541727449989,
          0.2718739358555714,
          0.27191365792919614,
          0.2719705450015523,
          0.27199532295016315,
          0.272122016323014,
          0.27224132427025416,
          0.2722665219962864,
          0.27234391823702275,
          0.2724193823427792,
          0.27249885989567213,
          0.27259123954233644,
          0.272654692771947,
          0.2727320422291201,
          0.2728638474328807,
          0.2729628503230453,
          0.2729653828729675,
          0.2729856705341973,
          0.27303431270817274,
          0.27305074281829633,
          0.27319642781763676,
          0.2732603976913419,
          0.2732643244025974,
          0.27327997178042296,
          0.27330966735135026,
          0.2734037465043576,
          0.273429477636836,
          0.27345403765882087,
          0.2735879716945395,
          0.2736142112156447,
          0.27366879557351564,
          0.27380818083059305,
          0.27383561772139864,
          0.27390415933916185,
          0.2741208645334331,
          0.2741272166562737,
          0.27422949303814764,
          0.27429979730729165,
          0.2744261321787564,
          0.2744293913507764,
          0.274621351911696,
          0.2747807139380584,
          0.2748691684735698,
          0.27490669483547203,
          0.2752590533861001,
          0.2754421850851474,
          0.2755093983652094,
          0.2755248953791335,
          0.27554437053353387,
          0.27567598417371725,
          0.27578657217278124,
          0.2757906163062682,
          0.27607137384603236,
          0.27622142514603876,
          0.2762246166656388,
          0.27650201001692276,
          0.27693713670144104,
          0.2772629156390711,
          0.2775069282331138,
          0.2775233282154837,
          0.2777333995616952,
          0.2785303592988494,
          0.2789235442755008,
          0.27901731275475866,
          0.2794042441724195,
          0.2796433625403775,
          0.2799042252496382,
          0.28000172201582835,
          0.2800903949598219,
          0.2801440883390458,
          0.2804894578340317,
          0.2806769433496613,
          0.28073465706805645,
          0.280779684635444,
          0.28091550747775895,
          0.2810786279556565,
          0.2814274456321947,
          0.28203314630730003,
          0.28225599292746556,
          0.2823883215417635,
          0.2824824894450361,
          0.28257549659557923,
          0.2827050596129724,
          0.2827493198815414,
          0.2831999742006427,
          0.28337165614356563,
          0.28339674014438726,
          0.28369813605110583,
          0.28390252973284724,
          0.28426675491953546,
          0.2842701332433756,
          0.28427720942080065,
          0.2846087458367468,
          0.285750342189541,
          0.28700257875843654,
          0.2873551241921028,
          0.2874277292940813,
          0.2878877147175599,
          0.2878983185909427,
          0.2881815909789809,
          0.28824176901830123,
          0.2883166031146362,
          0.28870653576337857,
          0.2887172833020689,
          0.2889769322321688,
          0.28926229869899434,
          0.2900653575711568,
          0.29057690764551947,
          0.29081935665747305,
          0.2914255964871845,
          0.29163973574384816,
          0.29274438790259427,
          0.29465439912869673,
          0.2960198422542367,
          0.2980906783824975,
          0.30080884440387107,
          0.3097567115532842,
          0.32859403368252005,
          0.3318376220033772
         ],
         "yaxis": "y"
        }
       ],
       "layout": {
        "legend": {
         "tracegroupgap": 0
        },
        "margin": {
         "t": 60
        },
        "template": {
         "data": {
          "bar": [
           {
            "error_x": {
             "color": "#2a3f5f"
            },
            "error_y": {
             "color": "#2a3f5f"
            },
            "marker": {
             "line": {
              "color": "#E5ECF6",
              "width": 0.5
             },
             "pattern": {
              "fillmode": "overlay",
              "size": 10,
              "solidity": 0.2
             }
            },
            "type": "bar"
           }
          ],
          "barpolar": [
           {
            "marker": {
             "line": {
              "color": "#E5ECF6",
              "width": 0.5
             },
             "pattern": {
              "fillmode": "overlay",
              "size": 10,
              "solidity": 0.2
             }
            },
            "type": "barpolar"
           }
          ],
          "carpet": [
           {
            "aaxis": {
             "endlinecolor": "#2a3f5f",
             "gridcolor": "white",
             "linecolor": "white",
             "minorgridcolor": "white",
             "startlinecolor": "#2a3f5f"
            },
            "baxis": {
             "endlinecolor": "#2a3f5f",
             "gridcolor": "white",
             "linecolor": "white",
             "minorgridcolor": "white",
             "startlinecolor": "#2a3f5f"
            },
            "type": "carpet"
           }
          ],
          "choropleth": [
           {
            "colorbar": {
             "outlinewidth": 0,
             "ticks": ""
            },
            "type": "choropleth"
           }
          ],
          "contour": [
           {
            "colorbar": {
             "outlinewidth": 0,
             "ticks": ""
            },
            "colorscale": [
             [
              0,
              "#0d0887"
             ],
             [
              0.1111111111111111,
              "#46039f"
             ],
             [
              0.2222222222222222,
              "#7201a8"
             ],
             [
              0.3333333333333333,
              "#9c179e"
             ],
             [
              0.4444444444444444,
              "#bd3786"
             ],
             [
              0.5555555555555556,
              "#d8576b"
             ],
             [
              0.6666666666666666,
              "#ed7953"
             ],
             [
              0.7777777777777778,
              "#fb9f3a"
             ],
             [
              0.8888888888888888,
              "#fdca26"
             ],
             [
              1,
              "#f0f921"
             ]
            ],
            "type": "contour"
           }
          ],
          "contourcarpet": [
           {
            "colorbar": {
             "outlinewidth": 0,
             "ticks": ""
            },
            "type": "contourcarpet"
           }
          ],
          "heatmap": [
           {
            "colorbar": {
             "outlinewidth": 0,
             "ticks": ""
            },
            "colorscale": [
             [
              0,
              "#0d0887"
             ],
             [
              0.1111111111111111,
              "#46039f"
             ],
             [
              0.2222222222222222,
              "#7201a8"
             ],
             [
              0.3333333333333333,
              "#9c179e"
             ],
             [
              0.4444444444444444,
              "#bd3786"
             ],
             [
              0.5555555555555556,
              "#d8576b"
             ],
             [
              0.6666666666666666,
              "#ed7953"
             ],
             [
              0.7777777777777778,
              "#fb9f3a"
             ],
             [
              0.8888888888888888,
              "#fdca26"
             ],
             [
              1,
              "#f0f921"
             ]
            ],
            "type": "heatmap"
           }
          ],
          "heatmapgl": [
           {
            "colorbar": {
             "outlinewidth": 0,
             "ticks": ""
            },
            "colorscale": [
             [
              0,
              "#0d0887"
             ],
             [
              0.1111111111111111,
              "#46039f"
             ],
             [
              0.2222222222222222,
              "#7201a8"
             ],
             [
              0.3333333333333333,
              "#9c179e"
             ],
             [
              0.4444444444444444,
              "#bd3786"
             ],
             [
              0.5555555555555556,
              "#d8576b"
             ],
             [
              0.6666666666666666,
              "#ed7953"
             ],
             [
              0.7777777777777778,
              "#fb9f3a"
             ],
             [
              0.8888888888888888,
              "#fdca26"
             ],
             [
              1,
              "#f0f921"
             ]
            ],
            "type": "heatmapgl"
           }
          ],
          "histogram": [
           {
            "marker": {
             "pattern": {
              "fillmode": "overlay",
              "size": 10,
              "solidity": 0.2
             }
            },
            "type": "histogram"
           }
          ],
          "histogram2d": [
           {
            "colorbar": {
             "outlinewidth": 0,
             "ticks": ""
            },
            "colorscale": [
             [
              0,
              "#0d0887"
             ],
             [
              0.1111111111111111,
              "#46039f"
             ],
             [
              0.2222222222222222,
              "#7201a8"
             ],
             [
              0.3333333333333333,
              "#9c179e"
             ],
             [
              0.4444444444444444,
              "#bd3786"
             ],
             [
              0.5555555555555556,
              "#d8576b"
             ],
             [
              0.6666666666666666,
              "#ed7953"
             ],
             [
              0.7777777777777778,
              "#fb9f3a"
             ],
             [
              0.8888888888888888,
              "#fdca26"
             ],
             [
              1,
              "#f0f921"
             ]
            ],
            "type": "histogram2d"
           }
          ],
          "histogram2dcontour": [
           {
            "colorbar": {
             "outlinewidth": 0,
             "ticks": ""
            },
            "colorscale": [
             [
              0,
              "#0d0887"
             ],
             [
              0.1111111111111111,
              "#46039f"
             ],
             [
              0.2222222222222222,
              "#7201a8"
             ],
             [
              0.3333333333333333,
              "#9c179e"
             ],
             [
              0.4444444444444444,
              "#bd3786"
             ],
             [
              0.5555555555555556,
              "#d8576b"
             ],
             [
              0.6666666666666666,
              "#ed7953"
             ],
             [
              0.7777777777777778,
              "#fb9f3a"
             ],
             [
              0.8888888888888888,
              "#fdca26"
             ],
             [
              1,
              "#f0f921"
             ]
            ],
            "type": "histogram2dcontour"
           }
          ],
          "mesh3d": [
           {
            "colorbar": {
             "outlinewidth": 0,
             "ticks": ""
            },
            "type": "mesh3d"
           }
          ],
          "parcoords": [
           {
            "line": {
             "colorbar": {
              "outlinewidth": 0,
              "ticks": ""
             }
            },
            "type": "parcoords"
           }
          ],
          "pie": [
           {
            "automargin": true,
            "type": "pie"
           }
          ],
          "scatter": [
           {
            "fillpattern": {
             "fillmode": "overlay",
             "size": 10,
             "solidity": 0.2
            },
            "type": "scatter"
           }
          ],
          "scatter3d": [
           {
            "line": {
             "colorbar": {
              "outlinewidth": 0,
              "ticks": ""
             }
            },
            "marker": {
             "colorbar": {
              "outlinewidth": 0,
              "ticks": ""
             }
            },
            "type": "scatter3d"
           }
          ],
          "scattercarpet": [
           {
            "marker": {
             "colorbar": {
              "outlinewidth": 0,
              "ticks": ""
             }
            },
            "type": "scattercarpet"
           }
          ],
          "scattergeo": [
           {
            "marker": {
             "colorbar": {
              "outlinewidth": 0,
              "ticks": ""
             }
            },
            "type": "scattergeo"
           }
          ],
          "scattergl": [
           {
            "marker": {
             "colorbar": {
              "outlinewidth": 0,
              "ticks": ""
             }
            },
            "type": "scattergl"
           }
          ],
          "scattermapbox": [
           {
            "marker": {
             "colorbar": {
              "outlinewidth": 0,
              "ticks": ""
             }
            },
            "type": "scattermapbox"
           }
          ],
          "scatterpolar": [
           {
            "marker": {
             "colorbar": {
              "outlinewidth": 0,
              "ticks": ""
             }
            },
            "type": "scatterpolar"
           }
          ],
          "scatterpolargl": [
           {
            "marker": {
             "colorbar": {
              "outlinewidth": 0,
              "ticks": ""
             }
            },
            "type": "scatterpolargl"
           }
          ],
          "scatterternary": [
           {
            "marker": {
             "colorbar": {
              "outlinewidth": 0,
              "ticks": ""
             }
            },
            "type": "scatterternary"
           }
          ],
          "surface": [
           {
            "colorbar": {
             "outlinewidth": 0,
             "ticks": ""
            },
            "colorscale": [
             [
              0,
              "#0d0887"
             ],
             [
              0.1111111111111111,
              "#46039f"
             ],
             [
              0.2222222222222222,
              "#7201a8"
             ],
             [
              0.3333333333333333,
              "#9c179e"
             ],
             [
              0.4444444444444444,
              "#bd3786"
             ],
             [
              0.5555555555555556,
              "#d8576b"
             ],
             [
              0.6666666666666666,
              "#ed7953"
             ],
             [
              0.7777777777777778,
              "#fb9f3a"
             ],
             [
              0.8888888888888888,
              "#fdca26"
             ],
             [
              1,
              "#f0f921"
             ]
            ],
            "type": "surface"
           }
          ],
          "table": [
           {
            "cells": {
             "fill": {
              "color": "#EBF0F8"
             },
             "line": {
              "color": "white"
             }
            },
            "header": {
             "fill": {
              "color": "#C8D4E3"
             },
             "line": {
              "color": "white"
             }
            },
            "type": "table"
           }
          ]
         },
         "layout": {
          "annotationdefaults": {
           "arrowcolor": "#2a3f5f",
           "arrowhead": 0,
           "arrowwidth": 1
          },
          "autotypenumbers": "strict",
          "coloraxis": {
           "colorbar": {
            "outlinewidth": 0,
            "ticks": ""
           }
          },
          "colorscale": {
           "diverging": [
            [
             0,
             "#8e0152"
            ],
            [
             0.1,
             "#c51b7d"
            ],
            [
             0.2,
             "#de77ae"
            ],
            [
             0.3,
             "#f1b6da"
            ],
            [
             0.4,
             "#fde0ef"
            ],
            [
             0.5,
             "#f7f7f7"
            ],
            [
             0.6,
             "#e6f5d0"
            ],
            [
             0.7,
             "#b8e186"
            ],
            [
             0.8,
             "#7fbc41"
            ],
            [
             0.9,
             "#4d9221"
            ],
            [
             1,
             "#276419"
            ]
           ],
           "sequential": [
            [
             0,
             "#0d0887"
            ],
            [
             0.1111111111111111,
             "#46039f"
            ],
            [
             0.2222222222222222,
             "#7201a8"
            ],
            [
             0.3333333333333333,
             "#9c179e"
            ],
            [
             0.4444444444444444,
             "#bd3786"
            ],
            [
             0.5555555555555556,
             "#d8576b"
            ],
            [
             0.6666666666666666,
             "#ed7953"
            ],
            [
             0.7777777777777778,
             "#fb9f3a"
            ],
            [
             0.8888888888888888,
             "#fdca26"
            ],
            [
             1,
             "#f0f921"
            ]
           ],
           "sequentialminus": [
            [
             0,
             "#0d0887"
            ],
            [
             0.1111111111111111,
             "#46039f"
            ],
            [
             0.2222222222222222,
             "#7201a8"
            ],
            [
             0.3333333333333333,
             "#9c179e"
            ],
            [
             0.4444444444444444,
             "#bd3786"
            ],
            [
             0.5555555555555556,
             "#d8576b"
            ],
            [
             0.6666666666666666,
             "#ed7953"
            ],
            [
             0.7777777777777778,
             "#fb9f3a"
            ],
            [
             0.8888888888888888,
             "#fdca26"
            ],
            [
             1,
             "#f0f921"
            ]
           ]
          },
          "colorway": [
           "#636efa",
           "#EF553B",
           "#00cc96",
           "#ab63fa",
           "#FFA15A",
           "#19d3f3",
           "#FF6692",
           "#B6E880",
           "#FF97FF",
           "#FECB52"
          ],
          "font": {
           "color": "#2a3f5f"
          },
          "geo": {
           "bgcolor": "white",
           "lakecolor": "white",
           "landcolor": "#E5ECF6",
           "showlakes": true,
           "showland": true,
           "subunitcolor": "white"
          },
          "hoverlabel": {
           "align": "left"
          },
          "hovermode": "closest",
          "mapbox": {
           "style": "light"
          },
          "paper_bgcolor": "white",
          "plot_bgcolor": "#E5ECF6",
          "polar": {
           "angularaxis": {
            "gridcolor": "white",
            "linecolor": "white",
            "ticks": ""
           },
           "bgcolor": "#E5ECF6",
           "radialaxis": {
            "gridcolor": "white",
            "linecolor": "white",
            "ticks": ""
           }
          },
          "scene": {
           "xaxis": {
            "backgroundcolor": "#E5ECF6",
            "gridcolor": "white",
            "gridwidth": 2,
            "linecolor": "white",
            "showbackground": true,
            "ticks": "",
            "zerolinecolor": "white"
           },
           "yaxis": {
            "backgroundcolor": "#E5ECF6",
            "gridcolor": "white",
            "gridwidth": 2,
            "linecolor": "white",
            "showbackground": true,
            "ticks": "",
            "zerolinecolor": "white"
           },
           "zaxis": {
            "backgroundcolor": "#E5ECF6",
            "gridcolor": "white",
            "gridwidth": 2,
            "linecolor": "white",
            "showbackground": true,
            "ticks": "",
            "zerolinecolor": "white"
           }
          },
          "shapedefaults": {
           "line": {
            "color": "#2a3f5f"
           }
          },
          "ternary": {
           "aaxis": {
            "gridcolor": "white",
            "linecolor": "white",
            "ticks": ""
           },
           "baxis": {
            "gridcolor": "white",
            "linecolor": "white",
            "ticks": ""
           },
           "bgcolor": "#E5ECF6",
           "caxis": {
            "gridcolor": "white",
            "linecolor": "white",
            "ticks": ""
           }
          },
          "title": {
           "x": 0.05
          },
          "xaxis": {
           "automargin": true,
           "gridcolor": "white",
           "linecolor": "white",
           "ticks": "",
           "title": {
            "standoff": 15
           },
           "zerolinecolor": "white",
           "zerolinewidth": 2
          },
          "yaxis": {
           "automargin": true,
           "gridcolor": "white",
           "linecolor": "white",
           "ticks": "",
           "title": {
            "standoff": 15
           },
           "zerolinecolor": "white",
           "zerolinewidth": 2
          }
         }
        },
        "xaxis": {
         "anchor": "y",
         "domain": [
          0,
          1
         ],
         "title": {
          "text": "x"
         }
        },
        "yaxis": {
         "anchor": "x",
         "domain": [
          0,
          1
         ],
         "title": {
          "text": "y"
         }
        }
       }
      },
      "text/html": [
       "<div>                            <div id=\"f215070b-4294-4c6c-82b7-24dfe134cbf3\" class=\"plotly-graph-div\" style=\"height:525px; width:100%;\"></div>            <script type=\"text/javascript\">                require([\"plotly\"], function(Plotly) {                    window.PLOTLYENV=window.PLOTLYENV || {};                                    if (document.getElementById(\"f215070b-4294-4c6c-82b7-24dfe134cbf3\")) {                    Plotly.newPlot(                        \"f215070b-4294-4c6c-82b7-24dfe134cbf3\",                        [{\"hovertemplate\":\"x=%{x}<br>y=%{y}<extra></extra>\",\"legendgroup\":\"\",\"marker\":{\"color\":\"#636efa\",\"symbol\":\"circle\"},\"mode\":\"markers\",\"name\":\"\",\"orientation\":\"v\",\"showlegend\":false,\"x\":[0.2521530398222069,0.2783292222895455,0.24508495063191033,0.2802846138633064,0.2481066943958495,0.28441337696683383,0.2596547983313131,0.24629300970330617,0.29320999260305064,0.24179439564428115,0.31694415036683304,0.2263522957638454,0.28134917553306255,0.41871620436856694,0.2722152991513931,0.2489648978811745,0.28967195995139017,0.28152681868891927,0.3416410513844207,0.29778626934981445,0.25033456896024897,0.2501926898371486,0.2818460386386462,0.26639575778477864,0.27125633140871547,0.27255834866744316,0.2535339850537211,0.2680659083628432,0.2602038264758681,0.2752360136254707,0.2691577466084534,0.290202763234753,0.2696845175041649,0.3067110902287004,0.27219387669882605,0.28296549221561873,0.28306031293472,0.2696298219021256,0.2881907851698469,0.28529378469274463,0.25183375581600287,0.3028768714502564,0.24994948502202965,0.2696393841992086,0.26448591895291307,0.2870913174081248,0.23755214983321946,0.23602911268775098,0.27165785760393246,0.27737000765978925,0.31451470828361283,0.2810907460028662,0.3226554341189013,0.2686839979576386,0.2528412252498463,0.2726131168793359,0.2775654524292654,0.26968455710485173,0.2583369116535906,0.2724375448195818,0.25941138494955573,0.25730397712770076,0.27894994779299903,0.2659258461852336,0.2589431109577209,0.2538205974318393,0.3193337114863857,0.26998422689362034,0.2548384401395376,0.28467157672845594,0.2979000439366022,0.2620999872968286,0.27148824198414995,0.25951336538752773,0.26895813249467165,0.25690159175597055,0.25345596244636387,0.23918836438640598,0.25574718747038505,0.2591762436748533,0.23861581137454,0.26892571167591645,0.24606871852480536,0.2443825284877107,0.25020486902338607,0.2789104103707108,0.28528356607239513,0.2506449160202233,0.253331969643922,0.27151680739109757,0.263234685141153,0.22915305800614216,0.27030140568470973,0.2523397613738424,0.2623951933965674,0.2727637628889835,0.2604013477077183,0.27339110768133856,0.26083497919395443,0.2614279929056696,0.2584219837804897,0.26347295838935475,0.26491535289880724,0.2299522615791627,0.27199272853079126,0.30757522474780463,0.24865289880810973,0.3010672610892017,0.2395057602867115,0.3019647094276942,0.2383304054944251,0.2535955269023453,0.3044493759216928,0.2390558053705196,0.2332464686979145,0.2575119350094331,0.2769762528527948,0.2673623593146565,0.3136239048632537,0.32136286155261307,0.27549757843651757,0.26068617275748834,0.2506586841189501,0.2539574325261222,0.3040155740698883,0.30527431759031937,0.2555718017195601,0.29344692456718385,0.2558950266168609,0.26150876060206474,0.26019691865269595,0.27993241850947376,0.2512234957472109,0.27281231001992645,0.2959343064846708,0.2721563064207263,0.268775209515667,0.2944246136744067,0.27195764189356064,0.27451746593661774,0.23189876448472738,0.24536859400528988,0.22831070391313674,0.316603004912243,0.2560202504866942,0.23403173887130566,0.25972913513705576,0.22571307593566514,0.2763255179571506,0.26994826117704845,0.2366373075356475,0.26205787865143565,0.24427419501939754,0.272516938128306,0.2675527907715557,0.2729446944864159,0.2718178226335169,0.3024376589037687,0.25291222018346354,0.27124944574881465,0.24798211124659975,0.29716670575465676,0.2736529729119213,0.24186425330023328,0.25462227776667135,0.3329583426601531,0.2660067217885134,0.2372795680794465,0.2827419873982101,0.2396253156875443,0.2695723904126284,0.30579077468608024,0.30451275757862095,0.22824348124955068,0.28639040648286085,0.2513840210770336,0.271361598234984,0.23178408885909335,0.23345162075804163,0.2601861770514724,0.26125633206108245,0.2571021658326929,0.2757039276699896,0.2749028784311142,0.2548446657622606,0.2692093301672431,0.23342043069489066,0.3711185066516401,0.29502881228175376,0.32534096289004183,0.2673979077297457,0.2767754308616473,0.25751916702691274,0.2421623835189976,0.276024053472496,0.23927645907082581,0.27441412279292715,0.25775045396449625,0.3247998809072592,0.23980655261105271,0.24399834028576994,0.2720689522843599,0.2753347559914043,0.229207206574015,0.279262698822812,0.2685578930487335,0.27265441316516337,0.22589886949700752,0.26997139992482844,0.2525768025258082,0.23464506358718584,0.24175662222914063,0.2922165021516427,0.24801060982854034,0.2552088558321108,0.2681716799957389,0.26981851856431227,0.3167550613513225,0.27050279669852434,0.28600319616948,0.2797281946535868,0.27720967554774884,0.26866293656722817,0.2372968858225719,0.27338286500551456,0.25454717559731455,0.2810746956098882,0.2709229353756537,0.23665842630693812,0.25956881510322477,0.25770250448433374,0.3186126542823243,0.25898648359707116,0.28462236737132024,0.27495696559485827,0.25505853641893866,0.26038537558688285,0.30276503565588153,0.2778984946845856,0.2839506441434614,0.2557262499206054,0.2509048235301975,0.27814865283375495,0.24797623599827245,0.31586044536151014,0.31795657953865175,0.2676337008704583,0.28185427383702266,0.2700191969994397,0.245903642955463,0.25405814262024007,0.25646340273519436,0.2610835413333355,0.28052713007696123,0.2976404396982617,0.2787388508940082,0.27405097423309277,0.3232680485183135,0.275347272687291,0.31469816512917553,0.2658973909216525,0.23764291399001247,0.2686021064815642,0.28500413494548354,0.2543092313679431,0.26946986990783806,0.2803539407467082,0.2475414337199176,0.27417901607225864,0.31792942291340126,0.3485092486654432,0.2741654303980426,0.24800988161764287,0.24200890751594145,0.24272564742043615,0.264132561107992,0.24506909828705117,0.2823393152186765,0.2961583631714397,0.27018608726296994,0.28458320988496333,0.25183337106392334,0.2630589807205754,0.2566493747581968,0.42691202622451424,0.27890048845006415,0.25525321423975633,0.26956109819543517,0.27837073750119573,0.2793897733162859,0.2579141284117717,0.24775289868857286,0.2748497619409037,0.27294676739849133,0.25250017744936976,0.2781550520206895,0.24685411675724167,0.2746960925340631,0.2594952572101796,0.26298734509393834,0.27979449605169604,0.25436844485274346,0.27820631440076526,0.26774174538604945,0.2627820520708673,0.24891559917084102,0.28901395564436944,0.28963052086583174,0.2986554068110251,0.26740903938381094,0.26566077965040535,0.2995367910232968,0.23108857669108362,0.27638918697223736,0.25193746354091057,0.25370100563114223,0.24182356189388993,0.2690347494041906,0.26207819248886005,0.2956879539737534,0.2559102772378416,0.26800820535680914,0.24982236643766947,0.25510401133700067,0.27113851395326116,0.26977919674814027,0.2614034128921599,0.26152456750459935,0.27932771563662556,0.30163034463107175,0.25433169441477144,0.2790249818556345,0.33640851188766985,0.22611095185859326,0.30220265064693197,0.2604769630917353,0.2415168879037996,0.32813217170271847,0.26974480462900025,0.2381675881953054,0.262745498677926,0.27658474995330856,0.2680284746832483,0.22879226618049087,0.24680901514110845,0.2546492728332429,0.24360583820675155,0.2562812103686172,0.24437137735478584,0.2644771430102988,0.28638234222701064,0.27514652958431857,0.30673750641395153,0.22717280879951657,0.23615865979210449,0.3104597832716891,0.24977818912354638,0.29629403432555423,0.30671962649706314,0.2583631005234695,0.2756413193385117,0.2673036170098441,0.2753972096452367,0.29824323786550605,0.31588723897667675,0.2278911230912484],\"xaxis\":\"x\",\"y\":[0.2,0.2535499999999998,0.26420000000000005,0.3,0.16,0.1,0.33,0.2,0.23,0.75,0.22459799999999944,0.5,0.26699999999999974,0.25,0.06,0.1,0.35,0.21,0.3662400000000009,0.2,0.11,0.36733800000000005,0.1,0.1,0.2,0.15,1.0,0.32269999999999943,0.4,0.16,0.36,0.04,0.06,0.1892200000000002,0.22415599999999977,0.21526799999999968,0.20985999999999985,0.2024979999999995,0.3,0.15,0.5,0.21,0.2926149999999995,0.15,0.35817600000000005,0.5443399999999997,1.0,0.5,0.05,0.3,0.34,0.04,0.29,0.18,0.32367999999999997,0.05,0.4049799999999991,0.18396999999999972,0.23466999999999968,0.2703299999999995,0.28393999999999947,0.12,0.02,1.0,0.25443999999999994,0.15,0.2824999999999998,0.8,0.09,0.14,0.03,0.2961800000000001,0.23456999999999956,0.2939599999999999,0.21,1.0,0.08,0.2839739999999999,0.3790600000000002,0.05,0.1,0.267159999999999,0.12,0.2262299999999998,0.24962799999999957,0.09,0.25,0.12,0.4,0.22778000000000026,0.2,0.17670699999999961,0.05,1.0,0.1,0.2844400000000003,0.24667999999999954,0.3,0.1,0.5,0.4200400000000011,1.0,0.05,0.4170200000000002,0.2347799999999997,0.18,0.1,0.48,0.1,0.21,0.3790000000000001,0.2545269999999995,0.06,0.22277999999999967,0.1,0.14,0.2,0.1966369999999994,1.0,1.0,0.11,0.5324799999999998,0.2693269999999996,0.31,0.28620000000000007,1.0,0.34299999999999986,0.05,0.14,0.14081999999999964,0.05,0.2496599999999995,0.2508899999999997,0.15,0.36963,0.08,0.2554449999999995,0.4443000000000001,0.17,1.0,0.05,0.1,0.3,0.04,0.17,0.1576199999999998,0.12,0.07,0.30837000000000053,0.05,0.42507800000000107,0.3,0.3363400000000008,0.14,0.11,0.3175800000000008,0.1654599999999993,0.23202000000000014,0.20318999999999973,0.23912699999999992,0.09,0.13,0.19,0.1,0.32417999999999936,0.05,0.2162999999999996,0.06,0.25567999999999974,0.1,0.41415000000000013,0.3711199999999997,0.4069200000000004,0.15,0.12,0.33,1.0,0.24972399999999972,0.1,0.3,0.25,0.5,1.0,0.12,0.3105300000000001,0.37,0.15,0.15,0.3181400000000002,0.15,0.15,0.34514000000000106,0.33,0.06,0.13,0.2,0.33,0.26277999999999974,0.36341999999999997,0.17,0.25,0.2869720000000003,0.25,0.22741000000000006,0.23,0.29520799999999936,0.14,0.25,0.2,0.2,0.1,0.12,0.33,0.05,0.3028399999999999,0.18664099999999959,0.28542999999999974,0.22539999999999957,0.26,0.42,0.3018199999999999,0.37404000000000115,0.33,1.0,0.38,0.24,0.3,0.33,0.09,0.12,1.0,0.1,0.30936000000000013,0.16,0.26269,0.27669999999999995,0.19060000000000005,0.3991400000000002,0.08,0.14,0.05,0.2434079999999998,0.1,0.2449599999999996,0.3934800000000004,0.1,0.2619769999999999,0.2824399999999996,0.18,0.12,0.2627400000000005,0.13,0.28541999999999973,0.2,0.13,0.1,0.07,0.3,0.15,0.17507599999999957,0.54,0.05,0.21329000000000034,0.3121699999999996,0.25,1.0,0.38,0.12,0.2,0.04,1.0,0.1,0.38857999999999954,0.09,0.4058679999999999,0.20183800000000013,0.1576170000000001,0.40972000000000014,0.2,1.0,0.05,0.2824300000000001,0.05,0.33,0.4479970000000003,0.5143799999999995,0.17,0.3,0.39598999999999995,0.31788700000000025,0.3186800000000003,0.1,0.42287300000000033,0.25757999999999937,0.3076090000000003,0.21057999999999913,0.07,0.15,0.08,0.33,0.16,0.3,0.5,0.17,0.5,0.1,0.09,0.1,0.06,0.5,0.16,0.20639999999999986,0.2,0.12,0.31714000000000064,0.16841999999999996,1.0,0.22891999999999985,0.06,0.1,0.2,0.03,1.0,0.07,0.05,0.3,0.22532000000000024,0.15,0.2,0.23364999999999964,0.3,0.25,0.1,0.1,0.18,0.25,0.2,0.5,0.2215599999999993,0.11,0.33948000000000017,0.07,1.0,0.07,0.14978099999999997,0.12,0.12,0.05,0.22783999999999985,0.17478000000000013,0.48178000000000076,0.08,0.2524400000000003,1.0,0.18784799999999965,0.40913999999999995,0.38,0.2760999999999999,0.3353700000000006,0.3,0.1,0.22729999999999972,0.29529999999999995,0.2946519999999999,0.24694000000000016,0.05],\"yaxis\":\"y\",\"type\":\"scatter\"},{\"hovertemplate\":\"<b>OLS trendline</b><br>y = 0.395761 * x + 0.162882<br>R<sup>2</sup>=0.002233<br><br>x=%{x}<br>y=%{y} <b>(trend)</b><extra></extra>\",\"legendgroup\":\"\",\"marker\":{\"color\":\"#636efa\",\"symbol\":\"circle\"},\"mode\":\"lines\",\"name\":\"\",\"showlegend\":false,\"x\":[0.22571307593566514,0.22589886949700752,0.22611095185859326,0.2263522957638454,0.22717280879951657,0.2278911230912484,0.22824348124955068,0.22831070391313674,0.22879226618049087,0.22915305800614216,0.229207206574015,0.2299522615791627,0.23108857669108362,0.23178408885909335,0.23189876448472738,0.2332464686979145,0.23342043069489066,0.23345162075804163,0.23403173887130566,0.23464506358718584,0.23602911268775098,0.23615865979210449,0.2366373075356475,0.23665842630693812,0.2372795680794465,0.2372968858225719,0.23755214983321946,0.23764291399001247,0.2381675881953054,0.2383304054944251,0.23861581137454,0.2390558053705196,0.23918836438640598,0.23927645907082581,0.2395057602867115,0.2396253156875443,0.23980655261105271,0.2415168879037996,0.24175662222914063,0.24179439564428115,0.24182356189388993,0.24186425330023328,0.24200890751594145,0.2421623835189976,0.24272564742043615,0.24360583820675155,0.24399834028576994,0.24427419501939754,0.24437137735478584,0.2443825284877107,0.24506909828705117,0.24508495063191033,0.24536859400528988,0.245903642955463,0.24606871852480536,0.24629300970330617,0.24680901514110845,0.24685411675724167,0.2475414337199176,0.24775289868857286,0.24797623599827245,0.24798211124659975,0.24800988161764287,0.24801060982854034,0.2481066943958495,0.24865289880810973,0.24891559917084102,0.2489648978811745,0.24977818912354638,0.24982236643766947,0.24994948502202965,0.2501926898371486,0.25020486902338607,0.25033456896024897,0.2506449160202233,0.2506586841189501,0.2509048235301975,0.2512234957472109,0.2513840210770336,0.25183337106392334,0.25183375581600287,0.25193746354091057,0.2521530398222069,0.2523397613738424,0.25250017744936976,0.2525768025258082,0.2528412252498463,0.25291222018346354,0.253331969643922,0.25345596244636387,0.2535339850537211,0.2535955269023453,0.25370100563114223,0.2538205974318393,0.2539574325261222,0.25405814262024007,0.2543092313679431,0.25433169441477144,0.25436844485274346,0.25454717559731455,0.25462227776667135,0.2546492728332429,0.2548384401395376,0.2548446657622606,0.25505853641893866,0.25510401133700067,0.2552088558321108,0.25525321423975633,0.2555718017195601,0.2557262499206054,0.25574718747038505,0.2558950266168609,0.2559102772378416,0.2560202504866942,0.2562812103686172,0.25646340273519436,0.2566493747581968,0.25690159175597055,0.2571021658326929,0.25730397712770076,0.2575119350094331,0.25751916702691274,0.25770250448433374,0.25775045396449625,0.2579141284117717,0.2583369116535906,0.2583631005234695,0.2584219837804897,0.2589431109577209,0.25898648359707116,0.2591762436748533,0.25941138494955573,0.2594952572101796,0.25951336538752773,0.25956881510322477,0.2596547983313131,0.25972913513705576,0.2601861770514724,0.26019691865269595,0.2602038264758681,0.26038537558688285,0.2604013477077183,0.2604769630917353,0.26068617275748834,0.26083497919395443,0.2610835413333355,0.26125633206108245,0.2614034128921599,0.2614279929056696,0.26150876060206474,0.26152456750459935,0.26205787865143565,0.26207819248886005,0.2620999872968286,0.2623951933965674,0.262745498677926,0.2627820520708673,0.26298734509393834,0.2630589807205754,0.263234685141153,0.26347295838935475,0.264132561107992,0.2644771430102988,0.26448591895291307,0.26491535289880724,0.26566077965040535,0.2658973909216525,0.2659258461852336,0.2660067217885134,0.26639575778477864,0.2673036170098441,0.2673623593146565,0.2673979077297457,0.26740903938381094,0.2675527907715557,0.2676337008704583,0.26774174538604945,0.26800820535680914,0.2680284746832483,0.2680659083628432,0.2681716799957389,0.2685578930487335,0.2686021064815642,0.26866293656722817,0.2686839979576386,0.268775209515667,0.26892571167591645,0.26895813249467165,0.2690347494041906,0.2691577466084534,0.2692093301672431,0.26946986990783806,0.26956109819543517,0.2695723904126284,0.2696298219021256,0.2696393841992086,0.2696845175041649,0.26968455710485173,0.26974480462900025,0.26977919674814027,0.26981851856431227,0.26994826117704845,0.26997139992482844,0.26998422689362034,0.2700191969994397,0.27018608726296994,0.27030140568470973,0.27050279669852434,0.2709229353756537,0.27113851395326116,0.27124944574881465,0.27125633140871547,0.271361598234984,0.27148824198414995,0.27151680739109757,0.27165785760393246,0.2718178226335169,0.27195764189356064,0.27199272853079126,0.2720689522843599,0.2721563064207263,0.27219387669882605,0.2722152991513931,0.2724375448195818,0.272516938128306,0.27255834866744316,0.2726131168793359,0.27265441316516337,0.2727637628889835,0.27281231001992645,0.2729446944864159,0.27294676739849133,0.27338286500551456,0.27339110768133856,0.2736529729119213,0.27405097423309277,0.2741654303980426,0.27417901607225864,0.27441412279292715,0.27451746593661774,0.2746960925340631,0.2748497619409037,0.2749028784311142,0.27495696559485827,0.27514652958431857,0.2752360136254707,0.2753347559914043,0.275347272687291,0.2753972096452367,0.27549757843651757,0.2756413193385117,0.2757039276699896,0.276024053472496,0.2763255179571506,0.27638918697223736,0.27658474995330856,0.2767754308616473,0.2769762528527948,0.27720967554774884,0.27737000765978925,0.2775654524292654,0.2778984946845856,0.27814865283375495,0.2781550520206895,0.27820631440076526,0.2783292222895455,0.27837073750119573,0.2787388508940082,0.27890048845006415,0.2789104103707108,0.27894994779299903,0.2790249818556345,0.279262698822812,0.27932771563662556,0.2793897733162859,0.2797281946535868,0.27979449605169604,0.27993241850947376,0.2802846138633064,0.2803539407467082,0.28052713007696123,0.2810746956098882,0.2810907460028662,0.28134917553306255,0.28152681868891927,0.2818460386386462,0.28185427383702266,0.2823393152186765,0.2827419873982101,0.28296549221561873,0.28306031293472,0.2839506441434614,0.28441337696683383,0.28458320988496333,0.28462236737132024,0.28467157672845594,0.28500413494548354,0.28528356607239513,0.28529378469274463,0.28600319616948,0.28638234222701064,0.28639040648286085,0.2870913174081248,0.2881907851698469,0.28901395564436944,0.28963052086583174,0.28967195995139017,0.290202763234753,0.2922165021516427,0.29320999260305064,0.29344692456718385,0.2944246136744067,0.29502881228175376,0.2956879539737534,0.2959343064846708,0.2961583631714397,0.29629403432555423,0.29716670575465676,0.2976404396982617,0.29778626934981445,0.2979000439366022,0.29824323786550605,0.2986554068110251,0.2995367910232968,0.3010672610892017,0.30163034463107175,0.3019647094276942,0.30220265064693197,0.3024376589037687,0.30276503565588153,0.3028768714502564,0.3040155740698883,0.3044493759216928,0.30451275757862095,0.30527431759031937,0.30579077468608024,0.3067110902287004,0.30671962649706314,0.30673750641395153,0.30757522474780463,0.3104597832716891,0.3136239048632537,0.31451470828361283,0.31469816512917553,0.31586044536151014,0.31588723897667675,0.316603004912243,0.3167550613513225,0.31694415036683304,0.31792942291340126,0.31795657953865175,0.3186126542823243,0.3193337114863857,0.32136286155261307,0.3226554341189013,0.3232680485183135,0.3247998809072592,0.32534096289004183,0.32813217170271847,0.3329583426601531,0.33640851188766985,0.3416410513844207,0.3485092486654432,0.3711185066516401,0.41871620436856694,0.42691202622451424],\"xaxis\":\"x\",\"y\":[0.25221088330699426,0.2522844131904218,0.2523683471610705,0.25246386171545504,0.2527885889418872,0.2530728698704283,0.25321231955919854,0.2532389236814375,0.25342950734389497,0.2535722947510046,0.2535937246533903,0.25388858851885365,0.25433829795503,0.25461355468764596,0.2546589388512516,0.2551923078925384,0.2552611553018138,0.2552734991187417,0.2555030873613821,0.2557458174890359,0.25629357042669015,0.2563448401446108,0.25653427035161724,0.25654262834195835,0.2567884521573507,0.25679530584821075,0.25689632944025853,0.2569322503721798,0.2571398960670784,0.2572043328373182,0.2573172854119002,0.2574914179652537,0.2575438796809072,0.25757874413922954,0.2576694926643778,0.2577168080536887,0.2577885345966434,0.25846541895038,0.25856029649548196,0.25857524574771584,0.25858678861776074,0.25860289269770464,0.25866014122419545,0.2587208810718635,0.2589437990713489,0.25929214443619436,0.25944748153133784,0.2595566541326918,0.25959511513069783,0.2595995283164838,0.2598712460065137,0.2598775197495924,0.2599897747923878,0.26020152640880545,0.2602668569147863,0.26035562266150986,0.26055983759455403,0.26057768706443185,0.26084970045272243,0.26093339008320204,0.26102177832566087,0.2610241035210094,0.2610350939564733,0.26103538215409444,0.2610734086980843,0.2612895752136025,0.2613935418253001,0.26141305234222956,0.26173492146305466,0.2617524051300566,0.26180271373398206,0.261898964764295,0.26190378481369714,0.2619551150167956,0.2620779383427339,0.26208338722205504,0.26218079965166335,0.2623069177517702,0.2623704474494828,0.26254828274105824,0.2625484350110043,0.26258947850501935,0.26267479523353743,0.26274869237952014,0.26281217883862135,0.262842504071086,0.2629471523265672,0.2629752493669334,0.2631413699185461,0.26319044145925785,0.26322131978024077,0.26324567565631396,0.26328742004495953,0.2633347498399245,0.26338890386151015,0.2634287610095564,0.26352813219451665,0.26353702219696223,0.26355156659452084,0.2636223012890833,0.26365202381400865,0.26366270741404185,0.26373757249483176,0.2637400363547728,0.26382467806323934,0.2638426752715377,0.2638841686550961,0.26390172399188844,0.26402780855629526,0.26408893316220944,0.26409721943210723,0.2641557284306315,0.26416176403474395,0.26420528718005565,0.26430856497697397,0.26438066964722745,0.26445427015885636,0.2645540878614223,0.264633467299404,0.2647133363803833,0.2647956380419217,0.2647985001938627,0.26487105804664657,0.26489003459061977,0.2649548105868452,0.2651221317914201,0.26513249633008,0.26515580003874056,0.26536204195754476,0.26537920716549024,0.2654543068422374,0.26554736663609113,0.26558056002289054,0.26558772653694984,0.2656096713831643,0.26564370020898787,0.26567311983268815,0.2658539992907584,0.2658582503997855,0.2658609842481972,0.26593283434285514,0.2659391554886184,0.26596908112399525,0.2660518781930842,0.266110770007459,0.2662091412588691,0.2662775251252248,0.2663357340119344,0.26634546182766144,0.2663774265483856,0.26638368230715526,0.26659474616843304,0.26660278559717854,0.2666114111366088,0.2667282422579031,0.26686687949762355,0.2668813459124037,0.26696259292627134,0.26699094352807806,0.26706048052101494,0.26715477982846986,0.2674158249941874,0.26755219714252665,0.26755567032013694,0.26772562361536034,0.2680206346036462,0.26811427616510153,0.26812553765446046,0.26815754508054307,0.26831151043460494,0.2686708058940674,0.26869405381931255,0.2687081225028485,0.26871252797965756,0.26876941920186703,0.2688014402799789,0.2688442001074939,0.26894965462618925,0.26895767643921364,0.26897249123729916,0.2690143515460234,0.2691671996886592,0.2691846976500443,0.26920877183795183,0.2692171071191667,0.2692532051151393,0.26931276803119936,0.26932559893344626,0.26935592093376104,0.2694045984553394,0.2694250132266435,0.26952812474792426,0.2695642293648111,0.26956869838627695,0.2695914275416755,0.26959521192787667,0.2696130739389612,0.2696130896113767,0.26963693324403776,0.26965054431049734,0.26966610635978683,0.2697174534523403,0.2697266108710077,0.2697316872876132,0.2697455270987765,0.269811575790313,0.2698572143476791,0.2699369170976676,0.27010319168613833,0.2701885093234473,0.27023241182435487,0.27023513690140366,0.2702767974272496,0.2703269181098272,0.2703382231896574,0.2703940453916338,0.27045735334424986,0.2705126883828683,0.2705265743126432,0.27055674071708596,0.2705913120952194,0.2706061809536936,0.2706146591293021,0.2707026153424029,0.27073403613380836,0.2707504248186122,0.270772099952061,0.27078844341983743,0.2708317197981319,0.2708509328690972,0.27090332550487134,0.27090414588304895,0.27107673639682006,0.2710799985281237,0.2711836346269172,0.2713411481087531,0.27138644541833434,0.27139182210111157,0.2714848682198192,0.27152576742673307,0.27159646090390377,0.27165727729328626,0.2716782987393743,0.2716997043403881,0.27177472641298506,0.2718101407247997,0.2718492191223717,0.2718541727449989,0.2718739358555714,0.27191365792919614,0.2719705450015523,0.27199532295016315,0.272122016323014,0.27224132427025416,0.2722665219962864,0.27234391823702275,0.2724193823427792,0.27249885989567213,0.27259123954233644,0.272654692771947,0.2727320422291201,0.2728638474328807,0.2729628503230453,0.2729653828729675,0.2729856705341973,0.27303431270817274,0.27305074281829633,0.27319642781763676,0.2732603976913419,0.2732643244025974,0.27327997178042296,0.27330966735135026,0.2734037465043576,0.273429477636836,0.27345403765882087,0.2735879716945395,0.2736142112156447,0.27366879557351564,0.27380818083059305,0.27383561772139864,0.27390415933916185,0.2741208645334331,0.2741272166562737,0.27422949303814764,0.27429979730729165,0.2744261321787564,0.2744293913507764,0.274621351911696,0.2747807139380584,0.2748691684735698,0.27490669483547203,0.2752590533861001,0.2754421850851474,0.2755093983652094,0.2755248953791335,0.27554437053353387,0.27567598417371725,0.27578657217278124,0.2757906163062682,0.27607137384603236,0.27622142514603876,0.2762246166656388,0.27650201001692276,0.27693713670144104,0.2772629156390711,0.2775069282331138,0.2775233282154837,0.2777333995616952,0.2785303592988494,0.2789235442755008,0.27901731275475866,0.2794042441724195,0.2796433625403775,0.2799042252496382,0.28000172201582835,0.2800903949598219,0.2801440883390458,0.2804894578340317,0.2806769433496613,0.28073465706805645,0.280779684635444,0.28091550747775895,0.2810786279556565,0.2814274456321947,0.28203314630730003,0.28225599292746556,0.2823883215417635,0.2824824894450361,0.28257549659557923,0.2827050596129724,0.2827493198815414,0.2831999742006427,0.28337165614356563,0.28339674014438726,0.28369813605110583,0.28390252973284724,0.28426675491953546,0.2842701332433756,0.28427720942080065,0.2846087458367468,0.285750342189541,0.28700257875843654,0.2873551241921028,0.2874277292940813,0.2878877147175599,0.2878983185909427,0.2881815909789809,0.28824176901830123,0.2883166031146362,0.28870653576337857,0.2887172833020689,0.2889769322321688,0.28926229869899434,0.2900653575711568,0.29057690764551947,0.29081935665747305,0.2914255964871845,0.29163973574384816,0.29274438790259427,0.29465439912869673,0.2960198422542367,0.2980906783824975,0.30080884440387107,0.3097567115532842,0.32859403368252005,0.3318376220033772],\"yaxis\":\"y\",\"type\":\"scatter\"}],                        {\"template\":{\"data\":{\"histogram2dcontour\":[{\"type\":\"histogram2dcontour\",\"colorbar\":{\"outlinewidth\":0,\"ticks\":\"\"},\"colorscale\":[[0.0,\"#0d0887\"],[0.1111111111111111,\"#46039f\"],[0.2222222222222222,\"#7201a8\"],[0.3333333333333333,\"#9c179e\"],[0.4444444444444444,\"#bd3786\"],[0.5555555555555556,\"#d8576b\"],[0.6666666666666666,\"#ed7953\"],[0.7777777777777778,\"#fb9f3a\"],[0.8888888888888888,\"#fdca26\"],[1.0,\"#f0f921\"]]}],\"choropleth\":[{\"type\":\"choropleth\",\"colorbar\":{\"outlinewidth\":0,\"ticks\":\"\"}}],\"histogram2d\":[{\"type\":\"histogram2d\",\"colorbar\":{\"outlinewidth\":0,\"ticks\":\"\"},\"colorscale\":[[0.0,\"#0d0887\"],[0.1111111111111111,\"#46039f\"],[0.2222222222222222,\"#7201a8\"],[0.3333333333333333,\"#9c179e\"],[0.4444444444444444,\"#bd3786\"],[0.5555555555555556,\"#d8576b\"],[0.6666666666666666,\"#ed7953\"],[0.7777777777777778,\"#fb9f3a\"],[0.8888888888888888,\"#fdca26\"],[1.0,\"#f0f921\"]]}],\"heatmap\":[{\"type\":\"heatmap\",\"colorbar\":{\"outlinewidth\":0,\"ticks\":\"\"},\"colorscale\":[[0.0,\"#0d0887\"],[0.1111111111111111,\"#46039f\"],[0.2222222222222222,\"#7201a8\"],[0.3333333333333333,\"#9c179e\"],[0.4444444444444444,\"#bd3786\"],[0.5555555555555556,\"#d8576b\"],[0.6666666666666666,\"#ed7953\"],[0.7777777777777778,\"#fb9f3a\"],[0.8888888888888888,\"#fdca26\"],[1.0,\"#f0f921\"]]}],\"heatmapgl\":[{\"type\":\"heatmapgl\",\"colorbar\":{\"outlinewidth\":0,\"ticks\":\"\"},\"colorscale\":[[0.0,\"#0d0887\"],[0.1111111111111111,\"#46039f\"],[0.2222222222222222,\"#7201a8\"],[0.3333333333333333,\"#9c179e\"],[0.4444444444444444,\"#bd3786\"],[0.5555555555555556,\"#d8576b\"],[0.6666666666666666,\"#ed7953\"],[0.7777777777777778,\"#fb9f3a\"],[0.8888888888888888,\"#fdca26\"],[1.0,\"#f0f921\"]]}],\"contourcarpet\":[{\"type\":\"contourcarpet\",\"colorbar\":{\"outlinewidth\":0,\"ticks\":\"\"}}],\"contour\":[{\"type\":\"contour\",\"colorbar\":{\"outlinewidth\":0,\"ticks\":\"\"},\"colorscale\":[[0.0,\"#0d0887\"],[0.1111111111111111,\"#46039f\"],[0.2222222222222222,\"#7201a8\"],[0.3333333333333333,\"#9c179e\"],[0.4444444444444444,\"#bd3786\"],[0.5555555555555556,\"#d8576b\"],[0.6666666666666666,\"#ed7953\"],[0.7777777777777778,\"#fb9f3a\"],[0.8888888888888888,\"#fdca26\"],[1.0,\"#f0f921\"]]}],\"surface\":[{\"type\":\"surface\",\"colorbar\":{\"outlinewidth\":0,\"ticks\":\"\"},\"colorscale\":[[0.0,\"#0d0887\"],[0.1111111111111111,\"#46039f\"],[0.2222222222222222,\"#7201a8\"],[0.3333333333333333,\"#9c179e\"],[0.4444444444444444,\"#bd3786\"],[0.5555555555555556,\"#d8576b\"],[0.6666666666666666,\"#ed7953\"],[0.7777777777777778,\"#fb9f3a\"],[0.8888888888888888,\"#fdca26\"],[1.0,\"#f0f921\"]]}],\"mesh3d\":[{\"type\":\"mesh3d\",\"colorbar\":{\"outlinewidth\":0,\"ticks\":\"\"}}],\"scatter\":[{\"fillpattern\":{\"fillmode\":\"overlay\",\"size\":10,\"solidity\":0.2},\"type\":\"scatter\"}],\"parcoords\":[{\"type\":\"parcoords\",\"line\":{\"colorbar\":{\"outlinewidth\":0,\"ticks\":\"\"}}}],\"scatterpolargl\":[{\"type\":\"scatterpolargl\",\"marker\":{\"colorbar\":{\"outlinewidth\":0,\"ticks\":\"\"}}}],\"bar\":[{\"error_x\":{\"color\":\"#2a3f5f\"},\"error_y\":{\"color\":\"#2a3f5f\"},\"marker\":{\"line\":{\"color\":\"#E5ECF6\",\"width\":0.5},\"pattern\":{\"fillmode\":\"overlay\",\"size\":10,\"solidity\":0.2}},\"type\":\"bar\"}],\"scattergeo\":[{\"type\":\"scattergeo\",\"marker\":{\"colorbar\":{\"outlinewidth\":0,\"ticks\":\"\"}}}],\"scatterpolar\":[{\"type\":\"scatterpolar\",\"marker\":{\"colorbar\":{\"outlinewidth\":0,\"ticks\":\"\"}}}],\"histogram\":[{\"marker\":{\"pattern\":{\"fillmode\":\"overlay\",\"size\":10,\"solidity\":0.2}},\"type\":\"histogram\"}],\"scattergl\":[{\"type\":\"scattergl\",\"marker\":{\"colorbar\":{\"outlinewidth\":0,\"ticks\":\"\"}}}],\"scatter3d\":[{\"type\":\"scatter3d\",\"line\":{\"colorbar\":{\"outlinewidth\":0,\"ticks\":\"\"}},\"marker\":{\"colorbar\":{\"outlinewidth\":0,\"ticks\":\"\"}}}],\"scattermapbox\":[{\"type\":\"scattermapbox\",\"marker\":{\"colorbar\":{\"outlinewidth\":0,\"ticks\":\"\"}}}],\"scatterternary\":[{\"type\":\"scatterternary\",\"marker\":{\"colorbar\":{\"outlinewidth\":0,\"ticks\":\"\"}}}],\"scattercarpet\":[{\"type\":\"scattercarpet\",\"marker\":{\"colorbar\":{\"outlinewidth\":0,\"ticks\":\"\"}}}],\"carpet\":[{\"aaxis\":{\"endlinecolor\":\"#2a3f5f\",\"gridcolor\":\"white\",\"linecolor\":\"white\",\"minorgridcolor\":\"white\",\"startlinecolor\":\"#2a3f5f\"},\"baxis\":{\"endlinecolor\":\"#2a3f5f\",\"gridcolor\":\"white\",\"linecolor\":\"white\",\"minorgridcolor\":\"white\",\"startlinecolor\":\"#2a3f5f\"},\"type\":\"carpet\"}],\"table\":[{\"cells\":{\"fill\":{\"color\":\"#EBF0F8\"},\"line\":{\"color\":\"white\"}},\"header\":{\"fill\":{\"color\":\"#C8D4E3\"},\"line\":{\"color\":\"white\"}},\"type\":\"table\"}],\"barpolar\":[{\"marker\":{\"line\":{\"color\":\"#E5ECF6\",\"width\":0.5},\"pattern\":{\"fillmode\":\"overlay\",\"size\":10,\"solidity\":0.2}},\"type\":\"barpolar\"}],\"pie\":[{\"automargin\":true,\"type\":\"pie\"}]},\"layout\":{\"autotypenumbers\":\"strict\",\"colorway\":[\"#636efa\",\"#EF553B\",\"#00cc96\",\"#ab63fa\",\"#FFA15A\",\"#19d3f3\",\"#FF6692\",\"#B6E880\",\"#FF97FF\",\"#FECB52\"],\"font\":{\"color\":\"#2a3f5f\"},\"hovermode\":\"closest\",\"hoverlabel\":{\"align\":\"left\"},\"paper_bgcolor\":\"white\",\"plot_bgcolor\":\"#E5ECF6\",\"polar\":{\"bgcolor\":\"#E5ECF6\",\"angularaxis\":{\"gridcolor\":\"white\",\"linecolor\":\"white\",\"ticks\":\"\"},\"radialaxis\":{\"gridcolor\":\"white\",\"linecolor\":\"white\",\"ticks\":\"\"}},\"ternary\":{\"bgcolor\":\"#E5ECF6\",\"aaxis\":{\"gridcolor\":\"white\",\"linecolor\":\"white\",\"ticks\":\"\"},\"baxis\":{\"gridcolor\":\"white\",\"linecolor\":\"white\",\"ticks\":\"\"},\"caxis\":{\"gridcolor\":\"white\",\"linecolor\":\"white\",\"ticks\":\"\"}},\"coloraxis\":{\"colorbar\":{\"outlinewidth\":0,\"ticks\":\"\"}},\"colorscale\":{\"sequential\":[[0.0,\"#0d0887\"],[0.1111111111111111,\"#46039f\"],[0.2222222222222222,\"#7201a8\"],[0.3333333333333333,\"#9c179e\"],[0.4444444444444444,\"#bd3786\"],[0.5555555555555556,\"#d8576b\"],[0.6666666666666666,\"#ed7953\"],[0.7777777777777778,\"#fb9f3a\"],[0.8888888888888888,\"#fdca26\"],[1.0,\"#f0f921\"]],\"sequentialminus\":[[0.0,\"#0d0887\"],[0.1111111111111111,\"#46039f\"],[0.2222222222222222,\"#7201a8\"],[0.3333333333333333,\"#9c179e\"],[0.4444444444444444,\"#bd3786\"],[0.5555555555555556,\"#d8576b\"],[0.6666666666666666,\"#ed7953\"],[0.7777777777777778,\"#fb9f3a\"],[0.8888888888888888,\"#fdca26\"],[1.0,\"#f0f921\"]],\"diverging\":[[0,\"#8e0152\"],[0.1,\"#c51b7d\"],[0.2,\"#de77ae\"],[0.3,\"#f1b6da\"],[0.4,\"#fde0ef\"],[0.5,\"#f7f7f7\"],[0.6,\"#e6f5d0\"],[0.7,\"#b8e186\"],[0.8,\"#7fbc41\"],[0.9,\"#4d9221\"],[1,\"#276419\"]]},\"xaxis\":{\"gridcolor\":\"white\",\"linecolor\":\"white\",\"ticks\":\"\",\"title\":{\"standoff\":15},\"zerolinecolor\":\"white\",\"automargin\":true,\"zerolinewidth\":2},\"yaxis\":{\"gridcolor\":\"white\",\"linecolor\":\"white\",\"ticks\":\"\",\"title\":{\"standoff\":15},\"zerolinecolor\":\"white\",\"automargin\":true,\"zerolinewidth\":2},\"scene\":{\"xaxis\":{\"backgroundcolor\":\"#E5ECF6\",\"gridcolor\":\"white\",\"linecolor\":\"white\",\"showbackground\":true,\"ticks\":\"\",\"zerolinecolor\":\"white\",\"gridwidth\":2},\"yaxis\":{\"backgroundcolor\":\"#E5ECF6\",\"gridcolor\":\"white\",\"linecolor\":\"white\",\"showbackground\":true,\"ticks\":\"\",\"zerolinecolor\":\"white\",\"gridwidth\":2},\"zaxis\":{\"backgroundcolor\":\"#E5ECF6\",\"gridcolor\":\"white\",\"linecolor\":\"white\",\"showbackground\":true,\"ticks\":\"\",\"zerolinecolor\":\"white\",\"gridwidth\":2}},\"shapedefaults\":{\"line\":{\"color\":\"#2a3f5f\"}},\"annotationdefaults\":{\"arrowcolor\":\"#2a3f5f\",\"arrowhead\":0,\"arrowwidth\":1},\"geo\":{\"bgcolor\":\"white\",\"landcolor\":\"#E5ECF6\",\"subunitcolor\":\"white\",\"showland\":true,\"showlakes\":true,\"lakecolor\":\"white\"},\"title\":{\"x\":0.05},\"mapbox\":{\"style\":\"light\"}}},\"xaxis\":{\"anchor\":\"y\",\"domain\":[0.0,1.0],\"title\":{\"text\":\"x\"}},\"yaxis\":{\"anchor\":\"x\",\"domain\":[0.0,1.0],\"title\":{\"text\":\"y\"}},\"legend\":{\"tracegroupgap\":0},\"margin\":{\"t\":60}},                        {\"responsive\": true}                    ).then(function(){\n",
       "                            \n",
       "var gd = document.getElementById('f215070b-4294-4c6c-82b7-24dfe134cbf3');\n",
       "var x = new MutationObserver(function (mutations, observer) {{\n",
       "        var display = window.getComputedStyle(gd).display;\n",
       "        if (!display || display === 'none') {{\n",
       "            console.log([gd, 'removed!']);\n",
       "            Plotly.purge(gd);\n",
       "            observer.disconnect();\n",
       "        }}\n",
       "}});\n",
       "\n",
       "// Listen for the removal of the full notebook cells\n",
       "var notebookContainer = gd.closest('#notebook-container');\n",
       "if (notebookContainer) {{\n",
       "    x.observe(notebookContainer, {childList: true});\n",
       "}}\n",
       "\n",
       "// Listen for the clearing of the current output cell\n",
       "var outputEl = gd.closest('.output');\n",
       "if (outputEl) {{\n",
       "    x.observe(outputEl, {childList: true});\n",
       "}}\n",
       "\n",
       "                        })                };                });            </script>        </div>"
      ]
     },
     "metadata": {},
     "output_type": "display_data"
    }
   ],
   "source": [
    "from IPython.core.interactiveshell import InteractiveShell\n",
    "InteractiveShell.ast_node_interactivity = \"all\"\n",
    "\n",
    "RF= RandomForestRegressor(n_estimators=500)\n",
    "GB= GradientBoostingRegressor(n_estimators=2000)\n",
    "XG= XGBRegressor(n_estimators=2000)\n",
    "LR =LinearRegression()\n",
    "\n",
    "models = [RF,GB,XG,LR]\n",
    "\n",
    "for model in models: \n",
    "    \n",
    "    model.fit(Xtrain,Ytrain)\n",
    "    Ypred= model.predict(Xtest)\n",
    "    mse= mean_squared_error(Ypred,Ytest)\n",
    "    print(f'mean squared error is {mse}')\n",
    "#     sn.regplot(x=Ypred, y=Ytest.values)\n",
    "#     sn.regplot(x=Ypred,y=Ytest.values, fit_reg=True,color='green', marker='x',ci=100)\n",
    "    fig = px.scatter(x=Ypred, y=Ytest.values, trendline='ols')\n",
    "    fig.show()\n",
    "    "
   ]
  },
  {
   "cell_type": "markdown",
   "id": "17c1d555",
   "metadata": {},
   "source": [
    "## hyperparameter tuning"
   ]
  },
  {
   "cell_type": "code",
   "execution_count": 67,
   "id": "7e221fbd",
   "metadata": {
    "collapsed": true
   },
   "outputs": [],
   "source": [
    "def hyperparameter_tuning(params):\n",
    "    reg = (RandomForestRegressor(**params))\n",
    "    cv = RepeatedKFold(n_splits=5, n_repeats=2,random_state=101)\n",
    "#     acc = cross_validate(reg, Xtrain_norm, Y,scoring='r2', cv=cv)\n",
    "    acc = cross_val_score(reg, Xtrain, Ytrain,scoring=\"neg_mean_squared_error\",cv=5).mean()\n",
    "    error_std = cross_val_score(reg, Xtrain, Ytrain,scoring=\"neg_mean_absolute_percentage_error\",cv=5).std()\n",
    "    \n",
    "    reg.fit(Xtrain,Ytrain)\n",
    "    Y_pred=reg.predict(Xtest)\n",
    "    val_acc= mean_absolute_percentage_error(Ytest,Y_pred)\n",
    "#     mlflow.log_metric('val_error', val_acc)\n",
    "#     metrics = mlflow.sklearn.eval_and_log_metrics(MR, Xtest_norm, Ytest, prefix=\"val_\")\n",
    "    temp={'val_acc':val_acc, 'acc_mean':-acc,'error_std':error_std,'param':params}\n",
    "    res.append(temp)\n",
    "    pd.DataFrame(res).to_csv('./HP_tuning_sep_2n.csv', index=False)\n",
    "#     print(acc)\n",
    "    return {\"loss\": -acc, \"status\": STATUS_OK}"
   ]
  },
  {
   "cell_type": "code",
   "execution_count": 68,
   "id": "3cbb41e9",
   "metadata": {
    "collapsed": true
   },
   "outputs": [],
   "source": [
    "hyperparameter_space = { \"n_estimators\": hp.choice(\"n_estimators\", [100, 200, 300, 400,500,600]),\n",
    "                         \"max_depth\": hp.choice('max_depth',[2,3,4,6]), \n",
    "#                          \"min_child_weight\": hp.choice('min_child_weight',[4,6,8,10,20]),\n",
    "#                          \"subsample\": hp.choice('subsample',[0.5,0.75,0.8,0.9,1]),\n",
    "#                         \"lambda\": hp.choice('lambda',[0.5,0.75, 1, 1.5,2]),\n",
    "#                         \"alpha\": hp.choice('alpha',[0.001, 0.01, 0.1, 0.5,1]),\n",
    "#                         \"eta\": hp.choice('eta',[0.01,0.05,0.1,0.15,0.2])\n",
    "                       }"
   ]
  },
  {
   "cell_type": "code",
   "execution_count": 72,
   "id": "8141012e",
   "metadata": {},
   "outputs": [
    {
     "name": "stdout",
     "output_type": "stream",
     "text": [
      "100%|███████████████████████████| 250/250 [17:44<00:00,  4.26s/trial, best loss: 0.050890046854050255]\n"
     ]
    }
   ],
   "source": [
    "trials = Trials()\n",
    "res=[]\n",
    "argmin = fmin(\n",
    "  fn=hyperparameter_tuning,\n",
    "  space=hyperparameter_space,\n",
    "  algo=tpe.suggest,\n",
    "  max_evals=250,\n",
    "  trials=trials,\n",
    "  verbose=3)"
   ]
  },
  {
   "cell_type": "code",
   "execution_count": 18,
   "id": "928c0e5c",
   "metadata": {
    "collapsed": true
   },
   "outputs": [
    {
     "data": {
      "text/plain": [
       "{'state': 2,\n",
       " 'tid': 222,\n",
       " 'spec': None,\n",
       " 'result': {'loss': 644186750776.7102, 'status': 'ok'},\n",
       " 'misc': {'tid': 222,\n",
       "  'cmd': ('domain_attachment', 'FMinIter_Domain'),\n",
       "  'workdir': None,\n",
       "  'idxs': {'alpha': [222],\n",
       "   'eta': [222],\n",
       "   'lambda': [222],\n",
       "   'max_depth': [222],\n",
       "   'min_child_weight': [222],\n",
       "   'n_estimators': [222],\n",
       "   'subsample': [222]},\n",
       "  'vals': {'alpha': [0],\n",
       "   'eta': [4],\n",
       "   'lambda': [0],\n",
       "   'max_depth': [3],\n",
       "   'min_child_weight': [3],\n",
       "   'n_estimators': [5],\n",
       "   'subsample': [0]}},\n",
       " 'exp_key': None,\n",
       " 'owner': None,\n",
       " 'version': 0,\n",
       " 'book_time': datetime.datetime(2022, 12, 21, 5, 43, 35, 980000),\n",
       " 'refresh_time': datetime.datetime(2022, 12, 21, 5, 43, 45, 503000)}"
      ]
     },
     "execution_count": 18,
     "metadata": {},
     "output_type": "execute_result"
    }
   ],
   "source": [
    "trials.best_trial"
   ]
  },
  {
   "cell_type": "code",
   "execution_count": null,
   "id": "8b99bd0a",
   "metadata": {
    "collapsed": true
   },
   "outputs": [],
   "source": []
  }
 ],
 "metadata": {
  "kernelspec": {
   "display_name": "Python 3 (ipykernel)",
   "language": "python",
   "name": "python3"
  },
  "language_info": {
   "codemirror_mode": {
    "name": "ipython",
    "version": 3
   },
   "file_extension": ".py",
   "mimetype": "text/x-python",
   "name": "python",
   "nbconvert_exporter": "python",
   "pygments_lexer": "ipython3",
   "version": "3.9.7"
  }
 },
 "nbformat": 4,
 "nbformat_minor": 5
}
